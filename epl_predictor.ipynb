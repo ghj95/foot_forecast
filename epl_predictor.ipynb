{
 "cells": [
  {
   "cell_type": "markdown",
   "metadata": {},
   "source": [
    "# Prédicteur du résultat des matchs de la Premier League"
   ]
  },
  {
   "cell_type": "markdown",
   "metadata": {},
   "source": [
    "## Import de librairies et des données"
   ]
  },
  {
   "cell_type": "markdown",
   "metadata": {},
   "source": [
    "La librairie `pandas` sera utilisée pour l'analyse et la manipulation de données"
   ]
  },
  {
   "cell_type": "code",
   "execution_count": 43,
   "metadata": {},
   "outputs": [],
   "source": [
    "import pandas as pd"
   ]
  },
  {
   "cell_type": "markdown",
   "metadata": {},
   "source": [
    "Import du `.csv` des données de match sous la forme d'un en tant que *data frame* en considérant la première rangée comme titres des colonnes"
   ]
  },
  {
   "cell_type": "code",
   "execution_count": 44,
   "metadata": {},
   "outputs": [],
   "source": [
    "matchs = pd.read_csv('epl_2015-2025.csv')"
   ]
  },
  {
   "cell_type": "markdown",
   "metadata": {},
   "source": [
    "## Nettoyer les données"
   ]
  },
  {
   "cell_type": "markdown",
   "metadata": {},
   "source": [
    "### Renommer les noms de variables et valeurs"
   ]
  },
  {
   "cell_type": "markdown",
   "metadata": {},
   "source": [
    "En analysant la taille des données, on remarque $23$ variables différentes et $3690$ observations totales\n",
    "\n",
    "Les significations des noms de variables sont explicités dans le fichier `column_def.txt`, il sera important de les modifier au sein du dataframe pour faciliter la compréhension"
   ]
  },
  {
   "cell_type": "code",
   "execution_count": 45,
   "metadata": {},
   "outputs": [
    {
     "name": "stdout",
     "output_type": "stream",
     "text": [
      "(3691, 23)\n",
      "Index(['Date', 'Season', 'HomeTeam', 'AwayTeam', 'FTHG', 'FTAG', 'FTR', 'HTHG',\n",
      "       'HTAG', 'HTR', 'Referee', 'HS', 'AS', 'HST', 'AST', 'HF', 'AF', 'HC',\n",
      "       'AC', 'HY', 'AY', 'HR', 'AR'],\n",
      "      dtype='object')\n"
     ]
    }
   ],
   "source": [
    "print(matchs.shape)\n",
    "print(matchs.columns)"
   ]
  },
  {
   "cell_type": "markdown",
   "metadata": {},
   "source": [
    "Les noms des variables sont changés à l'aide de la fonction `.rename` et l'argument `inplace=True` pour modifier le *data frame* existant"
   ]
  },
  {
   "cell_type": "code",
   "execution_count": 46,
   "metadata": {},
   "outputs": [],
   "source": [
    "matchs.rename(columns={'HomeTeam':'Domicile',\n",
    "                        'AwayTeam':'Exterieur',\n",
    "                        'FTR':'Resultat',\n",
    "                        'HTR':'Resultat (mi-temps)',\n",
    "                        'FTHG':'Buts domicile', \n",
    "                        'FTAG':'Buts exterieur',\n",
    "                        'HTHG':'But domicile (mi-temps)',\n",
    "                        'HTAG':'But exterieur (mi-temps)',\n",
    "                        'HS':'Tirs domicile',\n",
    "                        'AS':'Tirs exterieur',\n",
    "                        'HST':'Tirs cadres domicile',\n",
    "                        'HST':'Tirs cadres domicile',\n",
    "                        'AST':'Tirs cadres exterieur',\n",
    "                        'HF':'Fautes domicile',\n",
    "                        'AF':'Fautes exterieur',\n",
    "                        'HC':'Corners domicile',\n",
    "                        'AC':'Corners exterieur',\n",
    "                        'HY':'Cartons jaunes domicile',\n",
    "                        'AY':'Cartons jaunes exterieur',\n",
    "                        'HR':'Cartons rouges domicile',\n",
    "                        'AR':'Cartons rouges exterieur',\n",
    "                        'Referee':'Arbitre',\n",
    "                        'Season':'Saison'\n",
    "                        }, inplace=True)"
   ]
  },
  {
   "cell_type": "markdown",
   "metadata": {},
   "source": [
    "Une fois les noms de colonnes modifiés, on peut maintenant mieux visualiser les données au sein du *data frame* en appellant la méthode `df.head()`"
   ]
  },
  {
   "cell_type": "code",
   "execution_count": 47,
   "metadata": {},
   "outputs": [
    {
     "data": {
      "text/html": [
       "<div>\n",
       "<style scoped>\n",
       "    .dataframe tbody tr th:only-of-type {\n",
       "        vertical-align: middle;\n",
       "    }\n",
       "\n",
       "    .dataframe tbody tr th {\n",
       "        vertical-align: top;\n",
       "    }\n",
       "\n",
       "    .dataframe thead th {\n",
       "        text-align: right;\n",
       "    }\n",
       "</style>\n",
       "<table border=\"1\" class=\"dataframe\">\n",
       "  <thead>\n",
       "    <tr style=\"text-align: right;\">\n",
       "      <th></th>\n",
       "      <th>Date</th>\n",
       "      <th>Saison</th>\n",
       "      <th>Domicile</th>\n",
       "      <th>Exterieur</th>\n",
       "      <th>Buts domicile</th>\n",
       "      <th>Buts exterieur</th>\n",
       "      <th>Resultat</th>\n",
       "      <th>But domicile (mi-temps)</th>\n",
       "      <th>But exterieur (mi-temps)</th>\n",
       "      <th>Resultat (mi-temps)</th>\n",
       "      <th>...</th>\n",
       "      <th>Tirs cadres domicile</th>\n",
       "      <th>Tirs cadres exterieur</th>\n",
       "      <th>Fautes domicile</th>\n",
       "      <th>Fautes exterieur</th>\n",
       "      <th>Corners domicile</th>\n",
       "      <th>Corners exterieur</th>\n",
       "      <th>Cartons jaunes domicile</th>\n",
       "      <th>Cartons jaunes exterieur</th>\n",
       "      <th>Cartons rouges domicile</th>\n",
       "      <th>Cartons rouges exterieur</th>\n",
       "    </tr>\n",
       "  </thead>\n",
       "  <tbody>\n",
       "    <tr>\n",
       "      <th>0</th>\n",
       "      <td>08/08/2015</td>\n",
       "      <td>2015-2016</td>\n",
       "      <td>Bournemouth</td>\n",
       "      <td>Aston Villa</td>\n",
       "      <td>0</td>\n",
       "      <td>1</td>\n",
       "      <td>A</td>\n",
       "      <td>0</td>\n",
       "      <td>0</td>\n",
       "      <td>D</td>\n",
       "      <td>...</td>\n",
       "      <td>2</td>\n",
       "      <td>3</td>\n",
       "      <td>13</td>\n",
       "      <td>13</td>\n",
       "      <td>6</td>\n",
       "      <td>3</td>\n",
       "      <td>3</td>\n",
       "      <td>4</td>\n",
       "      <td>0</td>\n",
       "      <td>0</td>\n",
       "    </tr>\n",
       "    <tr>\n",
       "      <th>1</th>\n",
       "      <td>08/08/2015</td>\n",
       "      <td>2015-2016</td>\n",
       "      <td>Chelsea</td>\n",
       "      <td>Swansea</td>\n",
       "      <td>2</td>\n",
       "      <td>2</td>\n",
       "      <td>D</td>\n",
       "      <td>2</td>\n",
       "      <td>1</td>\n",
       "      <td>H</td>\n",
       "      <td>...</td>\n",
       "      <td>3</td>\n",
       "      <td>10</td>\n",
       "      <td>15</td>\n",
       "      <td>16</td>\n",
       "      <td>4</td>\n",
       "      <td>8</td>\n",
       "      <td>1</td>\n",
       "      <td>3</td>\n",
       "      <td>1</td>\n",
       "      <td>0</td>\n",
       "    </tr>\n",
       "    <tr>\n",
       "      <th>2</th>\n",
       "      <td>08/08/2015</td>\n",
       "      <td>2015-2016</td>\n",
       "      <td>Everton</td>\n",
       "      <td>Watford</td>\n",
       "      <td>2</td>\n",
       "      <td>2</td>\n",
       "      <td>D</td>\n",
       "      <td>0</td>\n",
       "      <td>1</td>\n",
       "      <td>A</td>\n",
       "      <td>...</td>\n",
       "      <td>5</td>\n",
       "      <td>5</td>\n",
       "      <td>7</td>\n",
       "      <td>13</td>\n",
       "      <td>8</td>\n",
       "      <td>2</td>\n",
       "      <td>1</td>\n",
       "      <td>2</td>\n",
       "      <td>0</td>\n",
       "      <td>0</td>\n",
       "    </tr>\n",
       "    <tr>\n",
       "      <th>3</th>\n",
       "      <td>08/08/2015</td>\n",
       "      <td>2015-2016</td>\n",
       "      <td>Leicester</td>\n",
       "      <td>Sunderland</td>\n",
       "      <td>4</td>\n",
       "      <td>2</td>\n",
       "      <td>H</td>\n",
       "      <td>3</td>\n",
       "      <td>0</td>\n",
       "      <td>H</td>\n",
       "      <td>...</td>\n",
       "      <td>8</td>\n",
       "      <td>5</td>\n",
       "      <td>13</td>\n",
       "      <td>17</td>\n",
       "      <td>6</td>\n",
       "      <td>3</td>\n",
       "      <td>2</td>\n",
       "      <td>4</td>\n",
       "      <td>0</td>\n",
       "      <td>0</td>\n",
       "    </tr>\n",
       "    <tr>\n",
       "      <th>4</th>\n",
       "      <td>08/08/2015</td>\n",
       "      <td>2015-2016</td>\n",
       "      <td>Man United</td>\n",
       "      <td>Tottenham</td>\n",
       "      <td>1</td>\n",
       "      <td>0</td>\n",
       "      <td>H</td>\n",
       "      <td>1</td>\n",
       "      <td>0</td>\n",
       "      <td>H</td>\n",
       "      <td>...</td>\n",
       "      <td>1</td>\n",
       "      <td>4</td>\n",
       "      <td>12</td>\n",
       "      <td>12</td>\n",
       "      <td>1</td>\n",
       "      <td>2</td>\n",
       "      <td>2</td>\n",
       "      <td>3</td>\n",
       "      <td>0</td>\n",
       "      <td>0</td>\n",
       "    </tr>\n",
       "  </tbody>\n",
       "</table>\n",
       "<p>5 rows × 23 columns</p>\n",
       "</div>"
      ],
      "text/plain": [
       "         Date     Saison     Domicile    Exterieur  Buts domicile  \\\n",
       "0  08/08/2015  2015-2016  Bournemouth  Aston Villa              0   \n",
       "1  08/08/2015  2015-2016      Chelsea      Swansea              2   \n",
       "2  08/08/2015  2015-2016      Everton      Watford              2   \n",
       "3  08/08/2015  2015-2016    Leicester   Sunderland              4   \n",
       "4  08/08/2015  2015-2016   Man United    Tottenham              1   \n",
       "\n",
       "   Buts exterieur Resultat  But domicile (mi-temps)  But exterieur (mi-temps)  \\\n",
       "0               1        A                        0                         0   \n",
       "1               2        D                        2                         1   \n",
       "2               2        D                        0                         1   \n",
       "3               2        H                        3                         0   \n",
       "4               0        H                        1                         0   \n",
       "\n",
       "  Resultat (mi-temps)  ... Tirs cadres domicile  Tirs cadres exterieur  \\\n",
       "0                   D  ...                    2                      3   \n",
       "1                   H  ...                    3                     10   \n",
       "2                   A  ...                    5                      5   \n",
       "3                   H  ...                    8                      5   \n",
       "4                   H  ...                    1                      4   \n",
       "\n",
       "   Fautes domicile  Fautes exterieur  Corners domicile  Corners exterieur  \\\n",
       "0               13                13                 6                  3   \n",
       "1               15                16                 4                  8   \n",
       "2                7                13                 8                  2   \n",
       "3               13                17                 6                  3   \n",
       "4               12                12                 1                  2   \n",
       "\n",
       "   Cartons jaunes domicile  Cartons jaunes exterieur  Cartons rouges domicile  \\\n",
       "0                        3                         4                        0   \n",
       "1                        1                         3                        1   \n",
       "2                        1                         2                        0   \n",
       "3                        2                         4                        0   \n",
       "4                        2                         3                        0   \n",
       "\n",
       "   Cartons rouges exterieur  \n",
       "0                         0  \n",
       "1                         0  \n",
       "2                         0  \n",
       "3                         0  \n",
       "4                         0  \n",
       "\n",
       "[5 rows x 23 columns]"
      ]
     },
     "execution_count": 47,
     "metadata": {},
     "output_type": "execute_result"
    }
   ],
   "source": [
    "matchs.head()"
   ]
  },
  {
   "cell_type": "markdown",
   "metadata": {},
   "source": [
    "On peut maintenant remplacer les données des colonnes `Resultat` et `Resultat (mi-temps)` par des noms plus explicites dans le buts de faciliter l'analyse à l'aide de la méthode `df.map()`"
   ]
  },
  {
   "cell_type": "code",
   "execution_count": 48,
   "metadata": {},
   "outputs": [],
   "source": [
    "map_resultat = {'H':'Victoire domicile', 'D':'Nul', 'A':'Victoire exterieur'}\n",
    "matchs['Resultat'] = matchs['Resultat'].map(map_resultat)\n",
    "matchs['Resultat (mi-temps)'] = matchs['Resultat (mi-temps)'].map(map_resultat)"
   ]
  },
  {
   "cell_type": "code",
   "execution_count": 49,
   "metadata": {},
   "outputs": [
    {
     "name": "stdout",
     "output_type": "stream",
     "text": [
      "0       Victoire exterieur\n",
      "1                      Nul\n",
      "2                      Nul\n",
      "3        Victoire domicile\n",
      "4        Victoire domicile\n",
      "               ...        \n",
      "3686     Victoire domicile\n",
      "3687                   Nul\n",
      "3688    Victoire exterieur\n",
      "3689     Victoire domicile\n",
      "3690     Victoire domicile\n",
      "Name: Resultat, Length: 3691, dtype: object\n"
     ]
    }
   ],
   "source": [
    "print(matchs['Resultat'])"
   ]
  },
  {
   "cell_type": "markdown",
   "metadata": {},
   "source": [
    "### Faire du *feature engineering* sur les variables"
   ]
  },
  {
   "cell_type": "markdown",
   "metadata": {},
   "source": [
    "Dans le but d'avoir un modèle capable de prédire le plus efficacement possible les résultats futurs, il est important de penser et créer différentes variables qui permettraient d'estimer le mieux possible la variable cible du modèle, représentée dans ce cas-ci par le résultat du match (Victoire domicile, Victoire extérieur)\n",
    "\n",
    "Également, pour que nos données puissent être passées à travers différents algorithmes dans le but de prédire les résultats futurs, on doit s'assurer que le type des variables concernées soit des `float`, `int`, `datetime` ou des variables catégorielles\n",
    "\n",
    "En appellant `pd.info()` on peut voir que la première colonne à modifier serait `Date` pour la mettre en format `datetime` en appellant `pd.to_datetime()`"
   ]
  },
  {
   "cell_type": "code",
   "execution_count": 50,
   "metadata": {},
   "outputs": [
    {
     "name": "stdout",
     "output_type": "stream",
     "text": [
      "<class 'pandas.core.frame.DataFrame'>\n",
      "RangeIndex: 3691 entries, 0 to 3690\n",
      "Data columns (total 23 columns):\n",
      " #   Column                    Non-Null Count  Dtype \n",
      "---  ------                    --------------  ----- \n",
      " 0   Date                      3691 non-null   object\n",
      " 1   Saison                    3691 non-null   object\n",
      " 2   Domicile                  3691 non-null   object\n",
      " 3   Exterieur                 3691 non-null   object\n",
      " 4   Buts domicile             3691 non-null   int64 \n",
      " 5   Buts exterieur            3691 non-null   int64 \n",
      " 6   Resultat                  3691 non-null   object\n",
      " 7   But domicile (mi-temps)   3691 non-null   int64 \n",
      " 8   But exterieur (mi-temps)  3691 non-null   int64 \n",
      " 9   Resultat (mi-temps)       3691 non-null   object\n",
      " 10  Arbitre                   3691 non-null   object\n",
      " 11  Tirs domicile             3691 non-null   int64 \n",
      " 12  Tirs exterieur            3691 non-null   int64 \n",
      " 13  Tirs cadres domicile      3691 non-null   int64 \n",
      " 14  Tirs cadres exterieur     3691 non-null   int64 \n",
      " 15  Fautes domicile           3691 non-null   int64 \n",
      " 16  Fautes exterieur          3691 non-null   int64 \n",
      " 17  Corners domicile          3691 non-null   int64 \n",
      " 18  Corners exterieur         3691 non-null   int64 \n",
      " 19  Cartons jaunes domicile   3691 non-null   int64 \n",
      " 20  Cartons jaunes exterieur  3691 non-null   int64 \n",
      " 21  Cartons rouges domicile   3691 non-null   int64 \n",
      " 22  Cartons rouges exterieur  3691 non-null   int64 \n",
      "dtypes: int64(16), object(7)\n",
      "memory usage: 663.4+ KB\n",
      "None\n"
     ]
    }
   ],
   "source": [
    "print(matchs.info())"
   ]
  },
  {
   "cell_type": "markdown",
   "metadata": {},
   "source": [
    "#### Transformer le format des dates"
   ]
  },
  {
   "cell_type": "markdown",
   "metadata": {},
   "source": [
    "En apellant `pd.to_datetime()` on obtient une erreur en raison des rangées de $381$ à $760$ qui sont formattées de la manière `%Y-%m-%d` au lieu de `%d/%m/%Y` tel qu'accepté par la méthode\n",
    "\n",
    "Nous devons regarder de plus près pour voir ce qui cause l'erreur et pouvoir y remédier"
   ]
  },
  {
   "cell_type": "code",
   "execution_count": 51,
   "metadata": {},
   "outputs": [
    {
     "name": "stdout",
     "output_type": "stream",
     "text": [
      "380    2013-08-16\n",
      "381    2013-08-16\n",
      "382    2013-08-16\n",
      "383    2013-08-16\n",
      "384    2013-08-16\n",
      "          ...    \n",
      "754    2021-05-17\n",
      "755    2021-05-17\n",
      "756    2021-05-17\n",
      "757    2021-05-17\n",
      "758    2021-05-17\n",
      "Name: Date, Length: 379, dtype: object\n"
     ]
    }
   ],
   "source": [
    "print(matchs['Date'][380:759])"
   ]
  },
  {
   "cell_type": "markdown",
   "metadata": {},
   "source": [
    "##### Rectifier les dates erronnées"
   ]
  },
  {
   "cell_type": "markdown",
   "metadata": {},
   "source": [
    "En analysant les résultats obtenus, on s'apperçoit que de nombreuses dates ont été enregistrées de manière erronnée ce qui fausse l'information au sein du *data frame*\n",
    "\n",
    "En recherchant en ligne les résultat du match correspondant à l'entrée $2013-08-16$ opposant les équipes `Burnley` et `Swansea` $(0-1)$, on s'apperçoit qu'il a réellement eu lieu à la date $13/08/2016$\n",
    "\n",
    "C'est le même cas pour les entrées suivantes: par exemple lors du cas du match correspondant à l'entrée $2021-05-17$ opposant les équipes `Watford` et `Man City` $(5-1)$, qui a réellement eu lieu à la date $21/05/2017$\n",
    "\n",
    "On doit donc créer un script afin de pouvoir modifier ces rangées pour les transformer par la suite, celui-ci devra inverser les chiffres représentant les années avec ceux représentant les jours et remplacer les `-` avec des `/`"
   ]
  },
  {
   "cell_type": "code",
   "execution_count": 52,
   "metadata": {},
   "outputs": [],
   "source": [
    "# on itère à travers une liste de la longueur des rangées contenant des dates fautives\n",
    "for i in range(380, 760):                                     \n",
    "    # on spécifie qu'on itère à travers la colonne Date du data frame\n",
    "    row = matchs['Date'][i]                                   \n",
    "    # on extrait les valeurs de l'année qui représenteront les jours ex: (20XX-05-17) -> (XX/05/2017)\n",
    "    jour = row[2:4]                                           \n",
    "    # on extrait les valeurs du mois qui resteront les mêmes ex: (2021-XX-17) -> (21/XX/2017)\n",
    "    mois = row[5:7]                                           \n",
    "    # on extrait les valeurs des jours qui deviendront les dernières valeurs des années ex: (2021-05-XX) -> (21/05/20XX)\n",
    "    annee = row[-2:]                                          \n",
    "    # on combine maintenant les valeurs relevés en remplaçant les - avec des / pour correspondre au format datetime et on les remplace au sein de la colonne\n",
    "    matchs.loc[i, 'Date'] = f'{jour}/{mois}/20{annee}'        "
   ]
  },
  {
   "cell_type": "code",
   "execution_count": 53,
   "metadata": {},
   "outputs": [
    {
     "name": "stdout",
     "output_type": "stream",
     "text": [
      "380    13/08/2016\n",
      "381    13/08/2016\n",
      "382    13/08/2016\n",
      "383    13/08/2016\n",
      "384    13/08/2016\n",
      "          ...    \n",
      "755    21/05/2017\n",
      "756    21/05/2017\n",
      "757    21/05/2017\n",
      "758    21/05/2017\n",
      "759    21/05/2017\n",
      "Name: Date, Length: 380, dtype: object\n"
     ]
    }
   ],
   "source": [
    "print(matchs['Date'][380:760])"
   ]
  },
  {
   "cell_type": "markdown",
   "metadata": {},
   "source": [
    "On observe donc que les dates sont maintenant correctes et peuvent donc être converties avec `pd.to_datetime()` en précisant l'argument `dayfirst=True`"
   ]
  },
  {
   "cell_type": "code",
   "execution_count": 54,
   "metadata": {},
   "outputs": [],
   "source": [
    "matchs['Date'] = pd.to_datetime(matchs['Date'], dayfirst=True)"
   ]
  },
  {
   "cell_type": "markdown",
   "metadata": {},
   "source": [
    "Avec les dates, on peut maintenant créer d'autres variables représentant les jours et les mois de la semaine, pour évaluer si certaines équipes jouent mieux ou moins bien durant certaines jours ou certains mois de l'année"
   ]
  },
  {
   "cell_type": "code",
   "execution_count": 55,
   "metadata": {},
   "outputs": [],
   "source": [
    "matchs['JoursSemaine'] = matchs['Date'].dt.day_of_week\n",
    "matchs['Mois'] = matchs['Date'].dt.month"
   ]
  },
  {
   "cell_type": "markdown",
   "metadata": {},
   "source": [
    "#### Représenter les saisons"
   ]
  },
  {
   "cell_type": "markdown",
   "metadata": {},
   "source": [
    "Pour ce qui en est de la variable saison on peut choisir de la transformer en `int` en considérant l'année de début de chaque saison. \n",
    "Par exemple, la saison $2015-2016$ deviendra $2015$, $2016-2017$ deviendra $2016$ et ainsi de suite\n",
    "\n",
    "Pour ce faire, on `str.split` avec `-` et on convertit la colonne en type `int`"
   ]
  },
  {
   "cell_type": "code",
   "execution_count": 56,
   "metadata": {},
   "outputs": [],
   "source": [
    "matchs['AnneeSaison'] = matchs['Saison'].str.split('-').str[0].astype(int)"
   ]
  },
  {
   "cell_type": "markdown",
   "metadata": {},
   "source": [
    "À partir de cette nouvelle variable, on peut maintenant créer la variable `SemaineSaison` visant à déterminer la semaine de la saison à laquelle le match a eu lieu, certaines équipes performant mieux au début, au milieu ou à la fin de la saison\n",
    "\n",
    "Pour ce faire, on associe dans `JoursSaison` le nombre de jours depuis le début de la saison $(5$ $août)$ et on divise par la suite cette colonne par $7$ pour obtenir la semaine de la saison durant laquelle l'équipe a joué"
   ]
  },
  {
   "cell_type": "code",
   "execution_count": 57,
   "metadata": {},
   "outputs": [],
   "source": [
    "# fonction anonyme calculant le nombre de jours écoulés depuis le 5 août pour chaque saison\n",
    "matchs['JoursSaison'] = matchs.apply(lambda x: (x['Date'] - pd.Timestamp(year=x['AnneeSaison'], month=8, day=5)).days, axis=1)      \n",
    "# on ajoute 1 ici pour faire commencer la fonction à la semaine 1 comme sont typiquement affichés les matchs\n",
    "matchs['SemaineSaison'] = matchs['JoursSaison'] // 7 + 1                                                                            "
   ]
  },
  {
   "cell_type": "markdown",
   "metadata": {},
   "source": [
    "#### Représenter la valeur cible du modèle"
   ]
  },
  {
   "cell_type": "markdown",
   "metadata": {},
   "source": [
    "Pour les bienfaits du modèle et dans le but d'améliorer ses performances, nous avons décidé de comptabiliser les matchs nuls comme des défaites car les matchs nuls sont excessivement difficiles à prédire dans le contexte de l'analytique sportive.\n",
    "\n",
    "Les colonnes `Resultat` et `Resultat (mi-temps)` peuvent être réassignés dans une colonne catégorielle pour représenter $1$ dans le cas d'une victoire à domicile et $0$ dans le cas d'une victoire à l'extérieur. On utilise donc `df.map` une nouvelle fois pour réassigner ces valeurs. La valeur cible de notre modèle sera donc représentée par la colonne `Cible`, indiquant si l'équipe a gagné, perdu ou a égalisé. C'est la valeur que l'on cherchera à prédire à l'aide du reste des variables\n",
    "\n",
    "Dans le cadre de la présente modélisation, nous avons choisi de ne pas inclure l'arbitre comme variable au modèle, pas besoin de devoir ainsi convertir cette variable spécifique"
   ]
  },
  {
   "cell_type": "code",
   "execution_count": 58,
   "metadata": {},
   "outputs": [],
   "source": [
    "map_resultat_cat = {'Victoire exterieur':'0', 'Nul':'0', 'Victoire domicile':'1'}\n",
    "matchs['Cible'] = (matchs['Resultat'].map(map_resultat_cat)).astype('int')\n",
    "matchs['ResultatMT'] = (matchs['Resultat (mi-temps)'].map(map_resultat_cat)).astype('int')"
   ]
  },
  {
   "cell_type": "markdown",
   "metadata": {},
   "source": [
    "#### Représenter les équipes"
   ]
  },
  {
   "cell_type": "markdown",
   "metadata": {},
   "source": [
    "Les valeurs des équipes dans le *data frame* sont présentement des strings et ne peuvent pas être considérées comme des intrants au modèle. Il est nécessaire de les encoder en utilisant un code numérique à l'aide de la méthode `.cat.codes` de pandas. Par le fait même, on s'assure donc que le même code soit utilisé par les équipes domicile et celles à l'extérieur\n",
    "\n",
    "Le code sera déterminé par odre alpabétique, *Arsenal* se verra donc associéee au code $0$, *Aston Villa* au code $1$ et ainsi de suite"
   ]
  },
  {
   "cell_type": "markdown",
   "metadata": {},
   "source": [
    "On crée premièrement un nouveau *data frame* contenant les valeurs uniques des équipes"
   ]
  },
  {
   "cell_type": "code",
   "execution_count": 59,
   "metadata": {},
   "outputs": [],
   "source": [
    "# on combine dans une liste les deux colonnes des équipes en conservant les valeurs uniques pour éviter le dédoublement\n",
    "equipes = pd.concat([matchs['Domicile'], matchs['Exterieur']]).unique()             \n",
    "# transformer la liste en data frame\n",
    "equipes_df = pd.DataFrame({'Equipe':equipes})                                       "
   ]
  },
  {
   "cell_type": "markdown",
   "metadata": {},
   "source": [
    "On associe par la suite un code numérique à chacune des équipes"
   ]
  },
  {
   "cell_type": "code",
   "execution_count": 60,
   "metadata": {},
   "outputs": [],
   "source": [
    "# on convertit en catégorie et on utilise cat.codes pour associer un code numérique à chaque équipe\n",
    "equipes_df['CodeEquipe'] = equipes_df['Equipe'].astype('category').cat.codes            \n",
    "# on crée un dictionnaire pour pouvoir mapper les noms d'équipe aux différents codes\n",
    "code_equipe = dict(zip(equipes_df['Equipe'], equipes_df['CodeEquipe']))                 \n",
    "\n",
    "# avec map on peut maintenant associer un code à chaque équipe du data frame original\n",
    "matchs['DomicileCode'] = matchs['Domicile'].map(code_equipe)                            \n",
    "matchs['ExterieurCode'] = matchs['Exterieur'].map(code_equipe)"
   ]
  },
  {
   "cell_type": "markdown",
   "metadata": {},
   "source": [
    "#### Représenter les performances des équipes"
   ]
  },
  {
   "cell_type": "markdown",
   "metadata": {},
   "source": [
    "Il faut maintenant une manière de pouvoir évaluer la performance récente des équipes ou leur forme car il s'agit souvent d'un bon estimateur de ses résultats suivants. Une équipe venant de gagner plusieurs matchs consécutifs et qui est donc en bonne forme a généralement plus de confiance et cohésion et les points accumullés dans les matchs récents reflètent également les ajustements tactiques, le conditionnement des joueurs, leur moral et l'élan ainsi que les stratégies de l'équipe\n",
    "\n",
    "On créera donc une fonction `stats_equipe` qui consulte les 5 matchs les plus récents pour chaque équipe et attribue $3$ points pour une victoire, $1$ point pour un match nul et $0$ pour une défaite\n",
    "\n",
    "On calculera également les statistiques de buts des équipes depuis le début de la saison sous la forme d'une moyenne qui mesurerait la moyenne de buts marqués et encaissés par match. Ces métriques nous permettront par la suite d'établir des différentiels qui déduisent le nombre de buts encaissés du nombre de buts marqués dans le but d'essayer d'en déduire la performance future des équipes"
   ]
  },
  {
   "cell_type": "code",
   "execution_count": 61,
   "metadata": {},
   "outputs": [],
   "source": [
    "def stats_equipe(matchs):                      \n",
    "    matchs = matchs.sort_values('Date')                 # on trie les données par date\n",
    "    \n",
    "    matchs['DomicileForme'] = 0                         # on initialise deux colonnes ou seront stockés les points de forme\n",
    "    matchs['ExterieurForme'] = 0\n",
    "\n",
    "    # on initialise les colonnes où seront stockées les statistiques de but\n",
    "    colonnes_buts = [\n",
    "    'DomicileAvgButsMarques_Home', 'DomicileAvgButsEncaisses_Home',     \n",
    "    'DomicileAvgButsMarques_Away', 'DomicileAvgButsEncaisses_Away',\n",
    "    'ExterieurAvgButsMarques_Home', 'ExterieurAvgButsEncaisses_Home',\n",
    "    'ExterieurAvgButsMarques_Away', 'ExterieurAvgButsEncaisses_Away']\n",
    "\n",
    "    for col in colonnes_buts:\n",
    "        matchs[col] = 0.0\n",
    "\n",
    "    for i in range(len(matchs)):                        # on itère à travers les matchs\n",
    "        match_eval = matchs.iloc[i]                     # on stocke les information du match évalué dans la variable match_eval\n",
    "        equipe_domicile = match_eval['DomicileCode']\n",
    "        equipe_exterieur = match_eval['ExterieurCode']\n",
    "        date_match = match_eval['Date']\n",
    "        saison_match = match_eval['AnneeSaison']\n",
    "\n",
    "        # pour l'équipe à domicile la fonction trouve tous les matchs antérieurs à la date du match actuel où l'équipe a joué et les trie par date décroissante en consérvant les 5 plus récents\n",
    "        prec_domicile_5 = matchs[(matchs['Date'] < date_match) &\n",
    "                               ((matchs['DomicileCode'] == equipe_domicile) | (matchs['ExterieurCode'] == equipe_domicile))]\n",
    "        prec_domicile_5 = prec_domicile_5.sort_values('Date', ascending=False).head(5)\n",
    "        \n",
    "        # pour l'équipe à domicile la fonction trouve tous les matchs antérieurs depuis le début de la saison où l'équipe a joué et les triepar date décroissante\n",
    "        prec_domicile_saison = matchs[(matchs['Date'] < date_match) & (matchs['AnneeSaison'] == saison_match) &\n",
    "                               ((matchs['DomicileCode'] == equipe_domicile) | (matchs['ExterieurCode'] == equipe_domicile))]\n",
    "        \n",
    "        # même processus pour l'équipe à l'extérieur\n",
    "        prec_exterieur_5 = matchs[(matchs['Date'] < date_match) & \n",
    "                                ((matchs['DomicileCode'] == equipe_exterieur) | (matchs['ExterieurCode'] == equipe_exterieur))]\n",
    "        prec_exterieur_5 = prec_exterieur_5.sort_values('Date', ascending=False).head(5)\n",
    "\n",
    "        prec_exterieur_saison = matchs[(matchs['Date'] < date_match) & (matchs['AnneeSaison'] == saison_match) & \n",
    "                                ((matchs['DomicileCode'] == equipe_exterieur) | (matchs['ExterieurCode'] == equipe_exterieur))]\n",
    "\n",
    "        # calcul des points de forme pour l'équipe à domicile\n",
    "        # on initialise la variable qui comptera le nombre de points récoltés à domicile\n",
    "        points_domicile = 0\n",
    "        for j in range(len(prec_domicile_5)):             # on itère à travers les matchs précédents\n",
    "            match_prec = prec_domicile_5.iloc[j]          # on stocke les informations de chaque itération du match précédant dans la variable match_prec\n",
    "            # on itére à travers les 5 derniers matchs et on ajoute 1 point pour chaque victoire à domicile ou à l'extérieur\n",
    "            if match_prec['DomicileCode'] == equipe_domicile and match_prec['Cible'] == 1:\n",
    "                points_domicile += 1\n",
    "            elif match_prec['ExterieurCode'] == equipe_domicile and match_prec['Cible'] == 0:\n",
    "                points_domicile += 1\n",
    "\n",
    "        # on répète la même procédure pour l'équipe à l'extérieur\n",
    "        points_exterieur = 0\n",
    "        for l in range(len(prec_exterieur_5)):          \n",
    "            match_prec = prec_exterieur_5.iloc[l]          \n",
    "            if match_prec['DomicileCode'] == equipe_exterieur and match_prec['Cible'] == 1:\n",
    "                points_exterieur += 1\n",
    "            elif match_prec['ExterieurCode'] == equipe_exterieur and match_prec['Cible'] == 0:\n",
    "                points_exterieur += 1\n",
    "       \n",
    "        # on met à jour les colonnes récoltant le total des points à domicile et à l'extérieur\n",
    "        matchs.at[i, 'DomicileForme'] = points_domicile\n",
    "        matchs.at[i, 'ExterieurForme'] = points_exterieur    \n",
    "\n",
    "        # calcul des statistiques de buts pour l'équipe à domicile\n",
    "        dom_home_matches = prec_domicile_saison[prec_domicile_saison['DomicileCode'] == equipe_domicile]\n",
    "        dom_away_matches = prec_domicile_saison[prec_domicile_saison['ExterieurCode'] == equipe_domicile]\n",
    "        \n",
    "        # calcul des statistiques de buts pour l'équipe à l'exterieur\n",
    "        ext_home_matches = prec_exterieur_saison[prec_exterieur_saison['DomicileCode'] == equipe_exterieur]\n",
    "        ext_away_matches = prec_exterieur_saison[prec_exterieur_saison['ExterieurCode'] == equipe_exterieur]\n",
    "\n",
    "        # calcul des moyennes de buts pour l'équipe à domicile\n",
    "        if len(dom_home_matches) > 0:\n",
    "            matchs.at[i, 'DomicileAvgButsMarques_Home'] = dom_home_matches['Buts domicile'].mean()\n",
    "            matchs.at[i, 'DomicileAvgButsEncaisses_Home'] = dom_home_matches['Buts exterieur'].mean()\n",
    "        \n",
    "        if len(dom_away_matches) > 0:\n",
    "            matchs.at[i, 'DomicileAvgButsMarques_Away'] = dom_away_matches['Buts exterieur'].mean()\n",
    "            matchs.at[i, 'DomicileAvgButsEncaisses_Away'] = dom_away_matches['Buts domicile'].mean()\n",
    "        \n",
    "        # calculs des moyennes de buts pour l'équipe extérieur  \n",
    "        if len(ext_home_matches) > 0:\n",
    "            matchs.at[i, 'ExterieurAvgButsMarques_Home'] = ext_home_matches['Buts domicile'].mean()\n",
    "            matchs.at[i, 'ExterieurAvgButsEncaisses_Home'] = ext_home_matches['Buts exterieur'].mean()\n",
    "        \n",
    "        if len(ext_away_matches) > 0:\n",
    "            matchs.at[i, 'ExterieurAvgButsMarques_Away'] = ext_away_matches['Buts exterieur'].mean()\n",
    "            matchs.at[i, 'ExterieurAvgButsEncaisses_Away'] = ext_away_matches['Buts domicile'].mean()\n",
    "    \n",
    "    # on crée une nouvelle colonne récoltant la différence entre les points de forme à domicile et à l'extérieur\n",
    "    matchs['DiffForme'] = matchs['DomicileForme'] - matchs['ExterieurForme']\n",
    "\n",
    "    # on crée de nouvelles colonnes récoltant la différence des performance de buts entre l'équipe à domicile et celle à l'extérieur\n",
    "    # on fait cela en calculant le différentiel de buts, représentant la différence entre la moyenne de buts marqués et la moyenne de buts encaissés\n",
    "    matchs['DiffButsDomicile'] = matchs['DomicileAvgButsMarques_Home'] - matchs['DomicileAvgButsEncaisses_Home']\n",
    "    matchs['DiffButsExterieur'] = matchs['ExterieurAvgButsMarques_Away'] - matchs['ExterieurAvgButsEncaisses_Away']\n",
    "    matchs['DiffButs'] = matchs['DiffButsDomicile'] - matchs['DiffButsExterieur']\n",
    "    matchs['DiffButsGlobal'] = ((matchs['DomicileAvgButsMarques_Home'] - matchs['DomicileAvgButsEncaisses_Home'] +\n",
    "                          matchs['DomicileAvgButsMarques_Away'] - matchs['DomicileAvgButsEncaisses_Away']) - \n",
    "                          (matchs['ExterieurAvgButsMarques_Home'] - matchs['ExterieurAvgButsEncaisses_Home'] +\n",
    "                          matchs['ExterieurAvgButsMarques_Away'] - matchs['ExterieurAvgButsEncaisses_Away'])) \n",
    "    return matchs"
   ]
  },
  {
   "cell_type": "markdown",
   "metadata": {},
   "source": [
    "On peut maintenant appliquer la fonction créée au *data frame* original et stocker le nouveau *data frame* dans la variable `matchs_features`"
   ]
  },
  {
   "cell_type": "code",
   "execution_count": 62,
   "metadata": {},
   "outputs": [],
   "source": [
    "matchs_stats = stats_equipe(matchs)"
   ]
  },
  {
   "cell_type": "markdown",
   "metadata": {},
   "source": [
    "#### Représenter l'historique des face-à-face précédents"
   ]
  },
  {
   "cell_type": "markdown",
   "metadata": {},
   "source": [
    "L'historique des confrontations directes entres deux équipes s'agit également d'un indicateur clé en ce qui concerne leur performance future s'ils avaient à s'affronter à nouveau.\n",
    "\n",
    "On créera donc une fonction `faf_equipes` (face-à-face) qui canalyse l'historique des confrontations directes entre deux équipes pour créer des caractéristiques utiles à la prédiction"
   ]
  },
  {
   "cell_type": "code",
   "execution_count": 63,
   "metadata": {},
   "outputs": [],
   "source": [
    "def faf_equipes(matchs):\n",
    "    matchs = matchs.sort_values('Date')                 # on trie les données par date\n",
    "    matchs['FAF_VictoiresDomicile'] = 0                 # on initialise deux colonnes ou seront stockés les victoires en face-à-face\n",
    "    matchs['FAF_VictoiresExterieur'] = 0\n",
    "\n",
    "    for i in range(len(matchs)):\n",
    "        match_eval = matchs.iloc[i]                     # on stocke les information du match évalué dans la variable match_eval\n",
    "        equipe_domicile = match_eval['DomicileCode']\n",
    "        equipe_exterieur = match_eval['ExterieurCode']\n",
    "        date_match = match_eval['Date']\n",
    "\n",
    "        # on cherche à travers tous les matchs précédent la date du match évalué pour stocker dans prec_faf les matchs ou les deux équipes ont joué l'une contre l'autre\n",
    "        prec_faf = matchs[(matchs['Date'] < date_match) & \n",
    "                    (((matchs['DomicileCode'] == equipe_domicile) & (matchs['ExterieurCode'] == equipe_exterieur)) | \n",
    "                    ((matchs['DomicileCode'] == equipe_exterieur) & (matchs['ExterieurCode'] == equipe_domicile)))]\n",
    "\n",
    "        # calcul du nombre de victoires et de matchs nuls lors des face-à-face\n",
    "        # on initialise les variables qui vont compter les victoires lors des faces-à-faces\n",
    "        victoires_domicile = 0\n",
    "        victoires_exterieur = 0\n",
    "        \n",
    "        for j in range(len(prec_faf)):                  # on itère à travers les matchs précédents\n",
    "            faf = prec_faf.iloc[j]                      # on stocke les informations de chaque itération du match précédant dans la variable faf\n",
    "            # on commence par itérer à travers le cas où l'équipe à évaluer (Domicile) a joué un face-à-face également à domicile\n",
    "            if faf['DomicileCode'] == equipe_domicile: \n",
    "                # on augmente la variable victoire_domicile dans l'éventualité où l'équipe à évaluer a gagné\n",
    "                if faf['Cible'] == 1:\n",
    "                    victoires_domicile += 1\n",
    "                # on augmente la variable victoire_extérieur dans l'éventualité où l'équipe à évaluer a perdu\n",
    "                elif faf['Cible'] == 0:\n",
    "                    victoires_exterieur += 1\n",
    "            # on répète la même procédure dans le cas où l'équipe à évaluer a joué un face-à-face à l'extérieur\n",
    "            elif faf['DomicileCode'] == equipe_exterieur: \n",
    "                if faf['Cible'] == 1:\n",
    "                    victoires_exterieur += 1\n",
    "                elif faf['Cible'] == 0:\n",
    "                    victoires_domicile += 1\n",
    "        \n",
    "        # on met à jour les colonnes récoltant le total des victoires et matchs nuls en face-à-face\n",
    "        matchs.at[i, 'FAF_VictoiresDomicile'] = victoires_domicile\n",
    "        matchs.at[i, 'FAF_VictoiresExterieur'] = victoires_exterieur\n",
    "    \n",
    "    return matchs"
   ]
  },
  {
   "cell_type": "code",
   "execution_count": 64,
   "metadata": {},
   "outputs": [],
   "source": [
    "matchs_features = faf_equipes(matchs_stats)"
   ]
  },
  {
   "cell_type": "markdown",
   "metadata": {},
   "source": [
    "En analysant les données récoltées par les fonctions, on s'apperçoit que pour les $191$ premiers matchs, les données de forme des équipes et de face-à-face ont souvent des valeurs de $0$ car les équipes n'ont pas encore toutes jouées leur premier match et n'ont pas encore fait face a chacun des adversaires de la ligue\n",
    "\n",
    "Afin de ne pas fausser le modèle, nous allons exclure ces premiers matchs du jeu de données utilisé pour la prédiction. On utilise la méthode `.reset_index` pour réindexer le *data frame* en indiquant avec `drop=True` de ne pas conserver les anciens indices"
   ]
  },
  {
   "cell_type": "code",
   "execution_count": 65,
   "metadata": {},
   "outputs": [],
   "source": [
    "matchs_features = matchs_features.sort_values('Date').iloc[192:].reset_index(drop=True)"
   ]
  },
  {
   "cell_type": "code",
   "execution_count": 66,
   "metadata": {},
   "outputs": [],
   "source": [
    "# vals = [\n",
    "#     'Date', 'DomicileCode', 'Domicile', 'ExterieurCode', 'Exterieur', \n",
    "#     'DomicileForme', 'ExterieurForme', 'DiffForme', 'FAF_VictoiresDomicile', \n",
    "#     'FAF_VictoiresExterieur', 'SemaineSaison', 'Mois', 'AnneeSaison',\n",
    "#     'DomicileAvgButsMarques_Home', 'DomicileAvgButsEncaisses_Home',\n",
    "#     'DomicileAvgButsMarques_Away', 'DomicileAvgButsEncaisses_Away',\n",
    "#     'ExterieurAvgButsMarques_Home', 'ExterieurAvgButsEncaisses_Home',\n",
    "#     'ExterieurAvgButsMarques_Away', 'ExterieurAvgButsEncaisses_Away', \n",
    "#     'DiffButsDomicile', 'DiffButsExterieur', 'DiffButs', 'DiffButsGlobal',\n",
    "#     'Cible',\n",
    "# ]\n",
    "\n",
    "# matchs_features[vals].to_csv('vals_nodraw.csv')"
   ]
  },
  {
   "cell_type": "markdown",
   "metadata": {},
   "source": [
    "Les variables et le jeu de données que nous allons utiliser pour la prédiction sont maintenants prêtes a être utilisées comme intrants au modèle"
   ]
  },
  {
   "cell_type": "markdown",
   "metadata": {},
   "source": [
    "## Créer le modèle prédictif"
   ]
  },
  {
   "cell_type": "markdown",
   "metadata": {},
   "source": [
    "On importe les librairies `scikit-learn` et `xgboost` pour utiliser leurs algorithmes prédictifs et pour analyser les résultats obtenus. Nous allons utiliser l'algorithme de classification du *extreme gradient boosting (XGBoost)* dans le cadre de ce projet pour son efficacité auprès de données non-linéaires et son utilisation fréquente en analytique sportive"
   ]
  },
  {
   "cell_type": "code",
   "execution_count": 67,
   "metadata": {},
   "outputs": [],
   "source": [
    "import xgboost as xgb"
   ]
  },
  {
   "cell_type": "markdown",
   "metadata": {},
   "source": [
    "### Définir les groupes d'entraînement et de test"
   ]
  },
  {
   "cell_type": "markdown",
   "metadata": {},
   "source": [
    "On sépare les données d'entraînement et les données de test selon un $80/20$ split dans le cas présent. Pour ce jeu de données, il est important de les séparer de façon chronologique comme il s'agit de données temporelles. Les données ont déjà été ordonnées selon la date au moment de d'extraire les $192$ premières"
   ]
  },
  {
   "cell_type": "code",
   "execution_count": 68,
   "metadata": {},
   "outputs": [
    {
     "name": "stdout",
     "output_type": "stream",
     "text": [
      "Période d'entraînement: 2016-01-02 00:00:00 à 2023-04-30 00:00:00\n",
      "Période de test: 2023-04-30 00:00:00 à 2025-02-27 00:00:00\n"
     ]
    }
   ],
   "source": [
    "split = int(len(matchs_features) * 0.8)                      # on définit un point de coupure (dans ce cas-ci 80% d'entraînement pour 20% de test)\n",
    "train = matchs_features.iloc[:split]                         # on sépare en données d'entraînement\n",
    "test = matchs_features.iloc[split:]                          # et en données de test\n",
    "\n",
    "print(f\"Période d'entraînement: {train['Date'].min()} à {train['Date'].max()}\")         # on imprime les dates d'entraînement et de test à titre de référence\n",
    "print(f\"Période de test: {test['Date'].min()} à {test['Date'].max()}\")"
   ]
  },
  {
   "cell_type": "markdown",
   "metadata": {},
   "source": [
    "On définit maintenant les variables explicatives et la variable cible allant être utilisées par le modèle parmi celles créées plus tôt. En testant différentes combinaisons de variables explicatives, la suivante permet d'obtenir la meilleure performance du modèle"
   ]
  },
  {
   "cell_type": "code",
   "execution_count": 69,
   "metadata": {},
   "outputs": [],
   "source": [
    "# variables explicatives provenant du feature engineering qui serviront à prédire la variable cible\n",
    "features = [\n",
    "    'DomicileCode', 'ExterieurCode', 'DomicileForme',\n",
    "    'ExterieurForme', 'DiffForme', 'FAF_VictoiresDomicile', \n",
    "    'FAF_VictoiresExterieur', 'SemaineSaison', 'Mois', 'AnneeSaison',\n",
    "    'DomicileAvgButsMarques_Home', 'DomicileAvgButsEncaisses_Home',\n",
    "    'DomicileAvgButsMarques_Away', 'DomicileAvgButsEncaisses_Away',\n",
    "    'ExterieurAvgButsMarques_Home', 'ExterieurAvgButsEncaisses_Home',\n",
    "    'ExterieurAvgButsMarques_Away', 'ExterieurAvgButsEncaisses_Away',\n",
    "    'DiffButsDomicile', 'DiffButsExterieur', 'DiffButsGlobal'\n",
    "    #'DiffButs',\n",
    "]\n",
    "\n",
    "# variable cible représentant les résultats de chacun des matchs évalués (0: Victoire extérieur, 1: Victoire domicile)\n",
    "target = ['Cible']"
   ]
  },
  {
   "cell_type": "markdown",
   "metadata": {},
   "source": [
    "On peut maintenant préparer les données d'entraînement et de test"
   ]
  },
  {
   "cell_type": "code",
   "execution_count": 70,
   "metadata": {},
   "outputs": [],
   "source": [
    "X_train = train[features]\n",
    "y_train = train[target]\n",
    "X_test = test[features]\n",
    "y_test = test[target]"
   ]
  },
  {
   "cell_type": "markdown",
   "metadata": {},
   "source": [
    "On peut valider la proportion de la variable cible au sein des ensembles d'entraînement et de test en utilisant la méthode `.value_counts` tout en comptant le nombre de matchs utilisés pour l'entraînement et le test en créant deux *data frames* respectifs"
   ]
  },
  {
   "cell_type": "code",
   "execution_count": 71,
   "metadata": {},
   "outputs": [
    {
     "name": "stdout",
     "output_type": "stream",
     "text": [
      "Distribution des classes:\n",
      "\n",
      "Ensemble d'entraînement:\n",
      "       Nombre de matchs  Pourcentage\n",
      "Cible                               \n",
      "0                  1541    55.055377\n",
      "1                  1258    44.944623\n",
      "\n",
      "Total : 2799 matchs\n",
      "\n",
      "Ensemble de test:\n",
      "       Nombre de matchs  Pourcentage\n",
      "Cible                               \n",
      "0                   390    55.714286\n",
      "1                   310    44.285714\n",
      "\n",
      "Total : 700 matchs\n"
     ]
    }
   ],
   "source": [
    "print(\"Distribution des classes:\")\n",
    "print(\"\\nEnsemble d'entraînement:\")\n",
    "train_dist = pd.DataFrame({\n",
    "    'Nombre de matchs': y_train.value_counts().sort_index(),\n",
    "    'Pourcentage': y_train.value_counts(normalize=True).sort_index() * 100\n",
    "})\n",
    "print(train_dist)\n",
    "print(f'\\nTotal : {len(y_train)} matchs')\n",
    "\n",
    "print(\"\\nEnsemble de test:\")\n",
    "test_dist = pd.DataFrame({\n",
    "    'Nombre de matchs': y_test.value_counts().sort_index(),\n",
    "    'Pourcentage': y_test.value_counts(normalize=True).sort_index() * 100\n",
    "})\n",
    "print(test_dist)\n",
    "print(f'\\nTotal : {len(y_test)} matchs')"
   ]
  },
  {
   "cell_type": "markdown",
   "metadata": {},
   "source": [
    "### Optimiser les hyperparamètres du modèle XGBoost"
   ]
  },
  {
   "cell_type": "markdown",
   "metadata": {},
   "source": [
    "Dans le but d'optimiser le mieux possibles les nombreux paramètres du modèle *XGBoost* nous allons utiliser le *RandomSearch*. En précisant une liste de paramètres initiaux, la méthode va tenter par processus d'essai-erreur d'essayer d'utiliser différentes combinaisons dans le but de maximiser le score du modèle prédictif\n",
    "\n",
    "Pour utiliser cette méthode, on importe `RandomizedSearchCV` au depuis la librairie `sklearn`."
   ]
  },
  {
   "cell_type": "code",
   "execution_count": 72,
   "metadata": {},
   "outputs": [],
   "source": [
    "from sklearn.model_selection import RandomizedSearchCV"
   ]
  },
  {
   "cell_type": "markdown",
   "metadata": {},
   "source": [
    "On peut maintenant utiliser le *RandomSearch* d'une manière similaire en spécifiant des paramètres initiaux qui seront par la suite optimisés\n",
    "\n",
    "Comme le *RandomSearch* est beaucoup moins demandant en terme de resources computationnelles que d'autres méthodes d'optimisation d'hyperparamètres, on peut préciser davantages de paramètres et d'itérations. Les paramètres initiaux ci-bas ont été trouvés à l'aide du modèle d'IA *Claude 3.7 Sonnet*, en lui précisant de l'information sur le jeu de données, la tâche de classification à résoudre et la composition des classes dans les données d'entraînement"
   ]
  },
  {
   "cell_type": "code",
   "execution_count": 73,
   "metadata": {},
   "outputs": [],
   "source": [
    "# param_distribution = {\n",
    "#     # Tree structure parameters\n",
    "#     'n_estimators': [500, 1000, 1500, 2000],\n",
    "#     'max_depth': [4, 6, 8, 10, 12],\n",
    "#     'min_child_weight': [1, 3, 5, 7],\n",
    "    \n",
    "#     # Regularization parameters\n",
    "#     'learning_rate': [0.01, 0.03, 0.05, 0.1, 0.15],\n",
    "#     'gamma': [0, 0.05, 0.1, 0.2, 0.3],\n",
    "#     'reg_alpha': [0, 0.1, 0.5, 1.0],\n",
    "#     'reg_lambda': [0.1, 1.0, 5.0, 10.0],\n",
    "    \n",
    "#     # Subsampling parameters\n",
    "#     'subsample': [0.7, 0.8, 0.9, 1.0],\n",
    "#     'colsample_bytree': [0.5, 0.6, 0.7, 0.8, 0.9],\n",
    "#     'colsample_bylevel': [0.7, 0.8, 0.9, 1.0],\n",
    "    \n",
    "#     # Class imbalance handling\n",
    "#     'scale_pos_weight': [1.0, 1.1, 1.2, 1.225]  # Based on your 55/45 class imbalance\n",
    "# }\n",
    "\n",
    "# # Other fixed parameters\n",
    "# fixed_params = {\n",
    "#     'objective': 'binary:logistic',\n",
    "#     'eval_metric': 'auc',      # AUC is better for imbalanced classification\n",
    "#     'tree_method': 'hist',     # For faster computation\n",
    "#     'use_label_encoder': False # Avoid warnings\n",
    "# }"
   ]
  },
  {
   "cell_type": "code",
   "execution_count": 74,
   "metadata": {},
   "outputs": [
    {
     "name": "stdout",
     "output_type": "stream",
     "text": [
      "Fitting 5 folds for each of 100 candidates, totalling 500 fits\n"
     ]
    },
    {
     "name": "stderr",
     "output_type": "stream",
     "text": [
      "/Users/gab/Desktop/school/hec_w25/python/projet/.venv/lib/python3.11/site-packages/xgboost/training.py:183: UserWarning: [16:33:01] WARNING: /Users/runner/work/xgboost/xgboost/src/learner.cc:738: \n",
      "Parameters: { \"use_label_encoder\" } are not used.\n",
      "\n",
      "  bst.update(dtrain, iteration=i, fobj=obj)\n",
      "/Users/gab/Desktop/school/hec_w25/python/projet/.venv/lib/python3.11/site-packages/xgboost/training.py:183: UserWarning: [16:33:01] WARNING: /Users/runner/work/xgboost/xgboost/src/learner.cc:738: \n",
      "Parameters: { \"use_label_encoder\" } are not used.\n",
      "\n",
      "  bst.update(dtrain, iteration=i, fobj=obj)\n",
      "/Users/gab/Desktop/school/hec_w25/python/projet/.venv/lib/python3.11/site-packages/xgboost/training.py:183: UserWarning: [16:33:01] WARNING: /Users/runner/work/xgboost/xgboost/src/learner.cc:738: \n",
      "Parameters: { \"use_label_encoder\" } are not used.\n",
      "\n",
      "  bst.update(dtrain, iteration=i, fobj=obj)\n",
      "/Users/gab/Desktop/school/hec_w25/python/projet/.venv/lib/python3.11/site-packages/xgboost/training.py:183: UserWarning: [16:33:01] WARNING: /Users/runner/work/xgboost/xgboost/src/learner.cc:738: \n",
      "Parameters: { \"use_label_encoder\" } are not used.\n",
      "\n",
      "  bst.update(dtrain, iteration=i, fobj=obj)\n",
      "/Users/gab/Desktop/school/hec_w25/python/projet/.venv/lib/python3.11/site-packages/xgboost/training.py:183: UserWarning: [16:33:01] WARNING: /Users/runner/work/xgboost/xgboost/src/learner.cc:738: \n",
      "Parameters: { \"use_label_encoder\" } are not used.\n",
      "\n",
      "  bst.update(dtrain, iteration=i, fobj=obj)\n",
      "/Users/gab/Desktop/school/hec_w25/python/projet/.venv/lib/python3.11/site-packages/xgboost/training.py:183: UserWarning: [16:33:01] WARNING: /Users/runner/work/xgboost/xgboost/src/learner.cc:738: \n",
      "Parameters: { \"use_label_encoder\" } are not used.\n",
      "\n",
      "  bst.update(dtrain, iteration=i, fobj=obj)\n",
      "/Users/gab/Desktop/school/hec_w25/python/projet/.venv/lib/python3.11/site-packages/xgboost/training.py:183: UserWarning: [16:33:01] WARNING: /Users/runner/work/xgboost/xgboost/src/learner.cc:738: \n",
      "Parameters: { \"use_label_encoder\" } are not used.\n",
      "\n",
      "  bst.update(dtrain, iteration=i, fobj=obj)\n",
      "/Users/gab/Desktop/school/hec_w25/python/projet/.venv/lib/python3.11/site-packages/xgboost/training.py:183: UserWarning: [16:33:01] WARNING: /Users/runner/work/xgboost/xgboost/src/learner.cc:738: \n",
      "Parameters: { \"use_label_encoder\" } are not used.\n",
      "\n",
      "  bst.update(dtrain, iteration=i, fobj=obj)\n"
     ]
    },
    {
     "name": "stdout",
     "output_type": "stream",
     "text": [
      "[CV 1/5] END colsample_bylevel=0.9, colsample_bytree=0.7, gamma=0.2, learning_rate=0.15, max_depth=12, min_child_weight=3, n_estimators=500, reg_alpha=0.1, reg_lambda=5.0, scale_pos_weight=1.2, subsample=0.9;, score=0.593 total time=   0.5s\n",
      "[CV 2/5] END colsample_bylevel=0.9, colsample_bytree=0.7, gamma=0.2, learning_rate=0.15, max_depth=12, min_child_weight=3, n_estimators=500, reg_alpha=0.1, reg_lambda=5.0, scale_pos_weight=1.2, subsample=0.9;, score=0.615 total time=   0.5s\n",
      "[CV 3/5] END colsample_bylevel=0.9, colsample_bytree=0.7, gamma=0.2, learning_rate=0.15, max_depth=12, min_child_weight=3, n_estimators=500, reg_alpha=0.1, reg_lambda=5.0, scale_pos_weight=1.2, subsample=0.9;, score=0.522 total time=   0.6s\n"
     ]
    },
    {
     "name": "stderr",
     "output_type": "stream",
     "text": [
      "/Users/gab/Desktop/school/hec_w25/python/projet/.venv/lib/python3.11/site-packages/xgboost/training.py:183: UserWarning: [16:33:01] WARNING: /Users/runner/work/xgboost/xgboost/src/learner.cc:738: \n",
      "Parameters: { \"use_label_encoder\" } are not used.\n",
      "\n",
      "  bst.update(dtrain, iteration=i, fobj=obj)\n",
      "/Users/gab/Desktop/school/hec_w25/python/projet/.venv/lib/python3.11/site-packages/xgboost/training.py:183: UserWarning: [16:33:01] WARNING: /Users/runner/work/xgboost/xgboost/src/learner.cc:738: \n",
      "Parameters: { \"use_label_encoder\" } are not used.\n",
      "\n",
      "  bst.update(dtrain, iteration=i, fobj=obj)\n",
      "/Users/gab/Desktop/school/hec_w25/python/projet/.venv/lib/python3.11/site-packages/xgboost/training.py:183: UserWarning: [16:33:01] WARNING: /Users/runner/work/xgboost/xgboost/src/learner.cc:738: \n",
      "Parameters: { \"use_label_encoder\" } are not used.\n",
      "\n",
      "  bst.update(dtrain, iteration=i, fobj=obj)\n"
     ]
    },
    {
     "name": "stdout",
     "output_type": "stream",
     "text": [
      "[CV 4/5] END colsample_bylevel=0.9, colsample_bytree=0.7, gamma=0.2, learning_rate=0.15, max_depth=12, min_child_weight=3, n_estimators=500, reg_alpha=0.1, reg_lambda=5.0, scale_pos_weight=1.2, subsample=0.9;, score=0.578 total time=   0.4s\n",
      "[CV 5/5] END colsample_bylevel=0.9, colsample_bytree=0.7, gamma=0.2, learning_rate=0.15, max_depth=12, min_child_weight=3, n_estimators=500, reg_alpha=0.1, reg_lambda=5.0, scale_pos_weight=1.2, subsample=0.9;, score=0.621 total time=   0.4s\n",
      "[CV 1/5] END colsample_bylevel=1.0, colsample_bytree=0.9, gamma=0.2, learning_rate=0.05, max_depth=6, min_child_weight=3, n_estimators=500, reg_alpha=0.1, reg_lambda=0.1, scale_pos_weight=1.1, subsample=1.0;, score=0.608 total time=   0.4s\n",
      "[CV 4/5] END colsample_bylevel=0.9, colsample_bytree=0.7, gamma=0.1, learning_rate=0.1, max_depth=10, min_child_weight=1, n_estimators=2000, reg_alpha=0.1, reg_lambda=1.0, scale_pos_weight=1.225, subsample=0.7;, score=0.589 total time=   1.2s\n",
      "[CV 1/5] END colsample_bylevel=0.9, colsample_bytree=0.7, gamma=0.1, learning_rate=0.1, max_depth=10, min_child_weight=1, n_estimators=2000, reg_alpha=0.1, reg_lambda=1.0, scale_pos_weight=1.225, subsample=0.7;, score=0.589 total time=   1.2s\n"
     ]
    },
    {
     "name": "stderr",
     "output_type": "stream",
     "text": [
      "/Users/gab/Desktop/school/hec_w25/python/projet/.venv/lib/python3.11/site-packages/xgboost/training.py:183: UserWarning: [16:33:02] WARNING: /Users/runner/work/xgboost/xgboost/src/learner.cc:738: \n",
      "Parameters: { \"use_label_encoder\" } are not used.\n",
      "\n",
      "  bst.update(dtrain, iteration=i, fobj=obj)\n",
      "/Users/gab/Desktop/school/hec_w25/python/projet/.venv/lib/python3.11/site-packages/xgboost/training.py:183: UserWarning: [16:33:02] WARNING: /Users/runner/work/xgboost/xgboost/src/learner.cc:738: \n",
      "Parameters: { \"use_label_encoder\" } are not used.\n",
      "\n",
      "  bst.update(dtrain, iteration=i, fobj=obj)\n",
      "/Users/gab/Desktop/school/hec_w25/python/projet/.venv/lib/python3.11/site-packages/xgboost/training.py:183: UserWarning: [16:33:02] WARNING: /Users/runner/work/xgboost/xgboost/src/learner.cc:738: \n",
      "Parameters: { \"use_label_encoder\" } are not used.\n",
      "\n",
      "  bst.update(dtrain, iteration=i, fobj=obj)\n",
      "/Users/gab/Desktop/school/hec_w25/python/projet/.venv/lib/python3.11/site-packages/xgboost/training.py:183: UserWarning: [16:33:02] WARNING: /Users/runner/work/xgboost/xgboost/src/learner.cc:738: \n",
      "Parameters: { \"use_label_encoder\" } are not used.\n",
      "\n",
      "  bst.update(dtrain, iteration=i, fobj=obj)\n",
      "/Users/gab/Desktop/school/hec_w25/python/projet/.venv/lib/python3.11/site-packages/xgboost/training.py:183: UserWarning: [16:33:02] WARNING: /Users/runner/work/xgboost/xgboost/src/learner.cc:738: \n",
      "Parameters: { \"use_label_encoder\" } are not used.\n",
      "\n",
      "  bst.update(dtrain, iteration=i, fobj=obj)\n"
     ]
    },
    {
     "name": "stdout",
     "output_type": "stream",
     "text": [
      "[CV 2/5] END colsample_bylevel=0.9, colsample_bytree=0.7, gamma=0.1, learning_rate=0.1, max_depth=10, min_child_weight=1, n_estimators=2000, reg_alpha=0.1, reg_lambda=1.0, scale_pos_weight=1.225, subsample=0.7;, score=0.609 total time=   1.3s\n",
      "[CV 3/5] END colsample_bylevel=0.9, colsample_bytree=0.7, gamma=0.1, learning_rate=0.1, max_depth=10, min_child_weight=1, n_estimators=2000, reg_alpha=0.1, reg_lambda=1.0, scale_pos_weight=1.225, subsample=0.7;, score=0.528 total time=   1.3s\n",
      "[CV 5/5] END colsample_bylevel=0.9, colsample_bytree=0.7, gamma=0.1, learning_rate=0.1, max_depth=10, min_child_weight=1, n_estimators=2000, reg_alpha=0.1, reg_lambda=1.0, scale_pos_weight=1.225, subsample=0.7;, score=0.634 total time=   1.3s\n",
      "[CV 2/5] END colsample_bylevel=1.0, colsample_bytree=0.9, gamma=0.2, learning_rate=0.05, max_depth=6, min_child_weight=3, n_estimators=500, reg_alpha=0.1, reg_lambda=0.1, scale_pos_weight=1.1, subsample=1.0;, score=0.597 total time=   0.3s\n",
      "[CV 3/5] END colsample_bylevel=1.0, colsample_bytree=0.9, gamma=0.2, learning_rate=0.05, max_depth=6, min_child_weight=3, n_estimators=500, reg_alpha=0.1, reg_lambda=0.1, scale_pos_weight=1.1, subsample=1.0;, score=0.513 total time=   0.4s\n"
     ]
    },
    {
     "name": "stderr",
     "output_type": "stream",
     "text": [
      "/Users/gab/Desktop/school/hec_w25/python/projet/.venv/lib/python3.11/site-packages/xgboost/training.py:183: UserWarning: [16:33:02] WARNING: /Users/runner/work/xgboost/xgboost/src/learner.cc:738: \n",
      "Parameters: { \"use_label_encoder\" } are not used.\n",
      "\n",
      "  bst.update(dtrain, iteration=i, fobj=obj)\n",
      "/Users/gab/Desktop/school/hec_w25/python/projet/.venv/lib/python3.11/site-packages/xgboost/training.py:183: UserWarning: [16:33:02] WARNING: /Users/runner/work/xgboost/xgboost/src/learner.cc:738: \n",
      "Parameters: { \"use_label_encoder\" } are not used.\n",
      "\n",
      "  bst.update(dtrain, iteration=i, fobj=obj)\n",
      "/Users/gab/Desktop/school/hec_w25/python/projet/.venv/lib/python3.11/site-packages/xgboost/training.py:183: UserWarning: [16:33:02] WARNING: /Users/runner/work/xgboost/xgboost/src/learner.cc:738: \n",
      "Parameters: { \"use_label_encoder\" } are not used.\n",
      "\n",
      "  bst.update(dtrain, iteration=i, fobj=obj)\n",
      "/Users/gab/Desktop/school/hec_w25/python/projet/.venv/lib/python3.11/site-packages/xgboost/training.py:183: UserWarning: [16:33:02] WARNING: /Users/runner/work/xgboost/xgboost/src/learner.cc:738: \n",
      "Parameters: { \"use_label_encoder\" } are not used.\n",
      "\n",
      "  bst.update(dtrain, iteration=i, fobj=obj)\n",
      "/Users/gab/Desktop/school/hec_w25/python/projet/.venv/lib/python3.11/site-packages/xgboost/training.py:183: UserWarning: [16:33:02] WARNING: /Users/runner/work/xgboost/xgboost/src/learner.cc:738: \n",
      "Parameters: { \"use_label_encoder\" } are not used.\n",
      "\n",
      "  bst.update(dtrain, iteration=i, fobj=obj)\n",
      "/Users/gab/Desktop/school/hec_w25/python/projet/.venv/lib/python3.11/site-packages/xgboost/training.py:183: UserWarning: [16:33:02] WARNING: /Users/runner/work/xgboost/xgboost/src/learner.cc:738: \n",
      "Parameters: { \"use_label_encoder\" } are not used.\n",
      "\n",
      "  bst.update(dtrain, iteration=i, fobj=obj)\n",
      "/Users/gab/Desktop/school/hec_w25/python/projet/.venv/lib/python3.11/site-packages/xgboost/training.py:183: UserWarning: [16:33:02] WARNING: /Users/runner/work/xgboost/xgboost/src/learner.cc:738: \n",
      "Parameters: { \"use_label_encoder\" } are not used.\n",
      "\n",
      "  bst.update(dtrain, iteration=i, fobj=obj)\n"
     ]
    },
    {
     "name": "stdout",
     "output_type": "stream",
     "text": [
      "[CV 4/5] END colsample_bylevel=1.0, colsample_bytree=0.9, gamma=0.2, learning_rate=0.05, max_depth=6, min_child_weight=3, n_estimators=500, reg_alpha=0.1, reg_lambda=0.1, scale_pos_weight=1.1, subsample=1.0;, score=0.568 total time=   0.4s\n",
      "[CV 5/5] END colsample_bylevel=1.0, colsample_bytree=0.9, gamma=0.2, learning_rate=0.05, max_depth=6, min_child_weight=3, n_estimators=500, reg_alpha=0.1, reg_lambda=0.1, scale_pos_weight=1.1, subsample=1.0;, score=0.645 total time=   0.3s\n",
      "[CV 2/5] END colsample_bylevel=0.7, colsample_bytree=0.9, gamma=0.05, learning_rate=0.15, max_depth=4, min_child_weight=5, n_estimators=500, reg_alpha=0.1, reg_lambda=10.0, scale_pos_weight=1.2, subsample=0.8;, score=0.607 total time=   0.2s\n",
      "[CV 1/5] END colsample_bylevel=0.7, colsample_bytree=0.9, gamma=0.05, learning_rate=0.15, max_depth=4, min_child_weight=5, n_estimators=500, reg_alpha=0.1, reg_lambda=10.0, scale_pos_weight=1.2, subsample=0.8;, score=0.588 total time=   0.3s\n",
      "[CV 3/5] END colsample_bylevel=0.7, colsample_bytree=0.9, gamma=0.05, learning_rate=0.15, max_depth=4, min_child_weight=5, n_estimators=500, reg_alpha=0.1, reg_lambda=10.0, scale_pos_weight=1.2, subsample=0.8;, score=0.528 total time=   0.3s\n"
     ]
    },
    {
     "name": "stderr",
     "output_type": "stream",
     "text": [
      "/Users/gab/Desktop/school/hec_w25/python/projet/.venv/lib/python3.11/site-packages/xgboost/training.py:183: UserWarning: [16:33:02] WARNING: /Users/runner/work/xgboost/xgboost/src/learner.cc:738: \n",
      "Parameters: { \"use_label_encoder\" } are not used.\n",
      "\n",
      "  bst.update(dtrain, iteration=i, fobj=obj)\n",
      "/Users/gab/Desktop/school/hec_w25/python/projet/.venv/lib/python3.11/site-packages/xgboost/training.py:183: UserWarning: [16:33:02] WARNING: /Users/runner/work/xgboost/xgboost/src/learner.cc:738: \n",
      "Parameters: { \"use_label_encoder\" } are not used.\n",
      "\n",
      "  bst.update(dtrain, iteration=i, fobj=obj)\n",
      "/Users/gab/Desktop/school/hec_w25/python/projet/.venv/lib/python3.11/site-packages/xgboost/training.py:183: UserWarning: [16:33:02] WARNING: /Users/runner/work/xgboost/xgboost/src/learner.cc:738: \n",
      "Parameters: { \"use_label_encoder\" } are not used.\n",
      "\n",
      "  bst.update(dtrain, iteration=i, fobj=obj)\n"
     ]
    },
    {
     "name": "stdout",
     "output_type": "stream",
     "text": [
      "[CV 1/5] END colsample_bylevel=0.8, colsample_bytree=0.8, gamma=0.1, learning_rate=0.01, max_depth=4, min_child_weight=7, n_estimators=1500, reg_alpha=0.5, reg_lambda=10.0, scale_pos_weight=1.225, subsample=0.7;, score=0.597 total time=   0.7s\n",
      "[CV 4/5] END colsample_bylevel=0.8, colsample_bytree=0.8, gamma=0.1, learning_rate=0.01, max_depth=4, min_child_weight=7, n_estimators=1500, reg_alpha=0.5, reg_lambda=10.0, scale_pos_weight=1.225, subsample=0.7;, score=0.607 total time=   0.7s\n",
      "[CV 2/5] END colsample_bylevel=0.8, colsample_bytree=0.8, gamma=0.1, learning_rate=0.01, max_depth=4, min_child_weight=7, n_estimators=1500, reg_alpha=0.5, reg_lambda=10.0, scale_pos_weight=1.225, subsample=0.7;, score=0.655 total time=   0.8s\n",
      "[CV 5/5] END colsample_bylevel=0.7, colsample_bytree=0.9, gamma=0.05, learning_rate=0.15, max_depth=4, min_child_weight=5, n_estimators=500, reg_alpha=0.1, reg_lambda=10.0, scale_pos_weight=1.2, subsample=0.8;, score=0.620 total time=   0.3s\n",
      "[CV 4/5] END colsample_bylevel=0.7, colsample_bytree=0.9, gamma=0.05, learning_rate=0.15, max_depth=4, min_child_weight=5, n_estimators=500, reg_alpha=0.1, reg_lambda=10.0, scale_pos_weight=1.2, subsample=0.8;, score=0.581 total time=   0.3s\n",
      "[CV 3/5] END colsample_bylevel=0.8, colsample_bytree=0.8, gamma=0.1, learning_rate=0.01, max_depth=4, min_child_weight=7, n_estimators=1500, reg_alpha=0.5, reg_lambda=10.0, scale_pos_weight=1.225, subsample=0.7;, score=0.552 total time=   0.8s\n",
      "[CV 5/5] END colsample_bylevel=0.8, colsample_bytree=0.8, gamma=0.1, learning_rate=0.01, max_depth=4, min_child_weight=7, n_estimators=1500, reg_alpha=0.5, reg_lambda=10.0, scale_pos_weight=1.225, subsample=0.7;, score=0.666 total time=   0.8s\n"
     ]
    },
    {
     "name": "stderr",
     "output_type": "stream",
     "text": [
      "/Users/gab/Desktop/school/hec_w25/python/projet/.venv/lib/python3.11/site-packages/xgboost/training.py:183: UserWarning: [16:33:03] WARNING: /Users/runner/work/xgboost/xgboost/src/learner.cc:738: \n",
      "Parameters: { \"use_label_encoder\" } are not used.\n",
      "\n",
      "  bst.update(dtrain, iteration=i, fobj=obj)\n",
      "/Users/gab/Desktop/school/hec_w25/python/projet/.venv/lib/python3.11/site-packages/xgboost/training.py:183: UserWarning: [16:33:03] WARNING: /Users/runner/work/xgboost/xgboost/src/learner.cc:738: \n",
      "Parameters: { \"use_label_encoder\" } are not used.\n",
      "\n",
      "  bst.update(dtrain, iteration=i, fobj=obj)\n",
      "/Users/gab/Desktop/school/hec_w25/python/projet/.venv/lib/python3.11/site-packages/xgboost/training.py:183: UserWarning: [16:33:03] WARNING: /Users/runner/work/xgboost/xgboost/src/learner.cc:738: \n",
      "Parameters: { \"use_label_encoder\" } are not used.\n",
      "\n",
      "  bst.update(dtrain, iteration=i, fobj=obj)\n",
      "/Users/gab/Desktop/school/hec_w25/python/projet/.venv/lib/python3.11/site-packages/xgboost/training.py:183: UserWarning: [16:33:03] WARNING: /Users/runner/work/xgboost/xgboost/src/learner.cc:738: \n",
      "Parameters: { \"use_label_encoder\" } are not used.\n",
      "\n",
      "  bst.update(dtrain, iteration=i, fobj=obj)\n",
      "/Users/gab/Desktop/school/hec_w25/python/projet/.venv/lib/python3.11/site-packages/xgboost/training.py:183: UserWarning: [16:33:03] WARNING: /Users/runner/work/xgboost/xgboost/src/learner.cc:738: \n",
      "Parameters: { \"use_label_encoder\" } are not used.\n",
      "\n",
      "  bst.update(dtrain, iteration=i, fobj=obj)\n",
      "/Users/gab/Desktop/school/hec_w25/python/projet/.venv/lib/python3.11/site-packages/xgboost/training.py:183: UserWarning: [16:33:03] WARNING: /Users/runner/work/xgboost/xgboost/src/learner.cc:738: \n",
      "Parameters: { \"use_label_encoder\" } are not used.\n",
      "\n",
      "  bst.update(dtrain, iteration=i, fobj=obj)\n",
      "/Users/gab/Desktop/school/hec_w25/python/projet/.venv/lib/python3.11/site-packages/xgboost/training.py:183: UserWarning: [16:33:03] WARNING: /Users/runner/work/xgboost/xgboost/src/learner.cc:738: \n",
      "Parameters: { \"use_label_encoder\" } are not used.\n",
      "\n",
      "  bst.update(dtrain, iteration=i, fobj=obj)\n"
     ]
    },
    {
     "name": "stdout",
     "output_type": "stream",
     "text": [
      "[CV 1/5] END colsample_bylevel=1.0, colsample_bytree=0.9, gamma=0.1, learning_rate=0.03, max_depth=6, min_child_weight=3, n_estimators=500, reg_alpha=1.0, reg_lambda=1.0, scale_pos_weight=1.1, subsample=0.9;, score=0.598 total time=   0.7s\n",
      "[CV 1/5] END colsample_bylevel=1.0, colsample_bytree=0.8, gamma=0.2, learning_rate=0.01, max_depth=4, min_child_weight=3, n_estimators=1000, reg_alpha=1.0, reg_lambda=0.1, scale_pos_weight=1.2, subsample=0.9;, score=0.617 total time=   0.5s\n",
      "[CV 4/5] END colsample_bylevel=1.0, colsample_bytree=0.9, gamma=0.1, learning_rate=0.03, max_depth=6, min_child_weight=3, n_estimators=500, reg_alpha=1.0, reg_lambda=1.0, scale_pos_weight=1.1, subsample=0.9;, score=0.572 total time=   0.6s\n",
      "[CV 5/5] END colsample_bylevel=1.0, colsample_bytree=0.9, gamma=0.1, learning_rate=0.03, max_depth=6, min_child_weight=3, n_estimators=500, reg_alpha=1.0, reg_lambda=1.0, scale_pos_weight=1.1, subsample=0.9;, score=0.649 total time=   0.6s\n",
      "[CV 3/5] END colsample_bylevel=1.0, colsample_bytree=0.9, gamma=0.1, learning_rate=0.03, max_depth=6, min_child_weight=3, n_estimators=500, reg_alpha=1.0, reg_lambda=1.0, scale_pos_weight=1.1, subsample=0.9;, score=0.521 total time=   0.6s\n",
      "[CV 2/5] END colsample_bylevel=1.0, colsample_bytree=0.9, gamma=0.1, learning_rate=0.03, max_depth=6, min_child_weight=3, n_estimators=500, reg_alpha=1.0, reg_lambda=1.0, scale_pos_weight=1.1, subsample=0.9;, score=0.621 total time=   0.7s\n"
     ]
    },
    {
     "name": "stderr",
     "output_type": "stream",
     "text": [
      "/Users/gab/Desktop/school/hec_w25/python/projet/.venv/lib/python3.11/site-packages/xgboost/training.py:183: UserWarning: [16:33:03] WARNING: /Users/runner/work/xgboost/xgboost/src/learner.cc:738: \n",
      "Parameters: { \"use_label_encoder\" } are not used.\n",
      "\n",
      "  bst.update(dtrain, iteration=i, fobj=obj)\n",
      "/Users/gab/Desktop/school/hec_w25/python/projet/.venv/lib/python3.11/site-packages/xgboost/training.py:183: UserWarning: [16:33:03] WARNING: /Users/runner/work/xgboost/xgboost/src/learner.cc:738: \n",
      "Parameters: { \"use_label_encoder\" } are not used.\n",
      "\n",
      "  bst.update(dtrain, iteration=i, fobj=obj)\n",
      "/Users/gab/Desktop/school/hec_w25/python/projet/.venv/lib/python3.11/site-packages/xgboost/training.py:183: UserWarning: [16:33:03] WARNING: /Users/runner/work/xgboost/xgboost/src/learner.cc:738: \n",
      "Parameters: { \"use_label_encoder\" } are not used.\n",
      "\n",
      "  bst.update(dtrain, iteration=i, fobj=obj)\n",
      "/Users/gab/Desktop/school/hec_w25/python/projet/.venv/lib/python3.11/site-packages/xgboost/training.py:183: UserWarning: [16:33:03] WARNING: /Users/runner/work/xgboost/xgboost/src/learner.cc:738: \n",
      "Parameters: { \"use_label_encoder\" } are not used.\n",
      "\n",
      "  bst.update(dtrain, iteration=i, fobj=obj)\n",
      "/Users/gab/Desktop/school/hec_w25/python/projet/.venv/lib/python3.11/site-packages/xgboost/training.py:183: UserWarning: [16:33:03] WARNING: /Users/runner/work/xgboost/xgboost/src/learner.cc:738: \n",
      "Parameters: { \"use_label_encoder\" } are not used.\n",
      "\n",
      "  bst.update(dtrain, iteration=i, fobj=obj)\n",
      "/Users/gab/Desktop/school/hec_w25/python/projet/.venv/lib/python3.11/site-packages/xgboost/training.py:183: UserWarning: [16:33:03] WARNING: /Users/runner/work/xgboost/xgboost/src/learner.cc:738: \n",
      "Parameters: { \"use_label_encoder\" } are not used.\n",
      "\n",
      "  bst.update(dtrain, iteration=i, fobj=obj)\n"
     ]
    },
    {
     "name": "stdout",
     "output_type": "stream",
     "text": [
      "[CV 2/5] END colsample_bylevel=1.0, colsample_bytree=0.8, gamma=0.2, learning_rate=0.01, max_depth=4, min_child_weight=3, n_estimators=1000, reg_alpha=1.0, reg_lambda=0.1, scale_pos_weight=1.2, subsample=0.9;, score=0.635 total time=   0.6s\n",
      "[CV 3/5] END colsample_bylevel=1.0, colsample_bytree=0.8, gamma=0.2, learning_rate=0.01, max_depth=4, min_child_weight=3, n_estimators=1000, reg_alpha=1.0, reg_lambda=0.1, scale_pos_weight=1.2, subsample=0.9;, score=0.527 total time=   0.6s\n"
     ]
    },
    {
     "name": "stderr",
     "output_type": "stream",
     "text": [
      "/Users/gab/Desktop/school/hec_w25/python/projet/.venv/lib/python3.11/site-packages/xgboost/training.py:183: UserWarning: [16:33:03] WARNING: /Users/runner/work/xgboost/xgboost/src/learner.cc:738: \n",
      "Parameters: { \"use_label_encoder\" } are not used.\n",
      "\n",
      "  bst.update(dtrain, iteration=i, fobj=obj)\n",
      "/Users/gab/Desktop/school/hec_w25/python/projet/.venv/lib/python3.11/site-packages/xgboost/training.py:183: UserWarning: [16:33:04] WARNING: /Users/runner/work/xgboost/xgboost/src/learner.cc:738: \n",
      "Parameters: { \"use_label_encoder\" } are not used.\n",
      "\n",
      "  bst.update(dtrain, iteration=i, fobj=obj)\n"
     ]
    },
    {
     "name": "stdout",
     "output_type": "stream",
     "text": [
      "[CV 4/5] END colsample_bylevel=1.0, colsample_bytree=0.8, gamma=0.2, learning_rate=0.01, max_depth=4, min_child_weight=3, n_estimators=1000, reg_alpha=1.0, reg_lambda=0.1, scale_pos_weight=1.2, subsample=0.9;, score=0.575 total time=   0.6s\n",
      "[CV 5/5] END colsample_bylevel=1.0, colsample_bytree=0.8, gamma=0.2, learning_rate=0.01, max_depth=4, min_child_weight=3, n_estimators=1000, reg_alpha=1.0, reg_lambda=0.1, scale_pos_weight=1.2, subsample=0.9;, score=0.662 total time=   0.5s\n"
     ]
    },
    {
     "name": "stderr",
     "output_type": "stream",
     "text": [
      "/Users/gab/Desktop/school/hec_w25/python/projet/.venv/lib/python3.11/site-packages/xgboost/training.py:183: UserWarning: [16:33:04] WARNING: /Users/runner/work/xgboost/xgboost/src/learner.cc:738: \n",
      "Parameters: { \"use_label_encoder\" } are not used.\n",
      "\n",
      "  bst.update(dtrain, iteration=i, fobj=obj)\n",
      "/Users/gab/Desktop/school/hec_w25/python/projet/.venv/lib/python3.11/site-packages/xgboost/training.py:183: UserWarning: [16:33:04] WARNING: /Users/runner/work/xgboost/xgboost/src/learner.cc:738: \n",
      "Parameters: { \"use_label_encoder\" } are not used.\n",
      "\n",
      "  bst.update(dtrain, iteration=i, fobj=obj)\n"
     ]
    },
    {
     "name": "stdout",
     "output_type": "stream",
     "text": [
      "[CV 1/5] END colsample_bylevel=0.9, colsample_bytree=0.9, gamma=0, learning_rate=0.03, max_depth=10, min_child_weight=7, n_estimators=1000, reg_alpha=0.1, reg_lambda=10.0, scale_pos_weight=1.1, subsample=0.7;, score=0.590 total time=   1.1s\n",
      "[CV 2/5] END colsample_bylevel=0.9, colsample_bytree=0.9, gamma=0, learning_rate=0.03, max_depth=10, min_child_weight=7, n_estimators=1000, reg_alpha=0.1, reg_lambda=10.0, scale_pos_weight=1.1, subsample=0.7;, score=0.626 total time=   1.2s\n",
      "[CV 4/5] END colsample_bylevel=0.9, colsample_bytree=0.9, gamma=0, learning_rate=0.03, max_depth=10, min_child_weight=7, n_estimators=1000, reg_alpha=0.1, reg_lambda=10.0, scale_pos_weight=1.1, subsample=0.7;, score=0.604 total time=   1.1s\n",
      "[CV 3/5] END colsample_bylevel=0.9, colsample_bytree=0.9, gamma=0, learning_rate=0.03, max_depth=10, min_child_weight=7, n_estimators=1000, reg_alpha=0.1, reg_lambda=10.0, scale_pos_weight=1.1, subsample=0.7;, score=0.551 total time=   1.2s\n",
      "[CV 5/5] END colsample_bylevel=0.9, colsample_bytree=0.9, gamma=0, learning_rate=0.03, max_depth=10, min_child_weight=7, n_estimators=1000, reg_alpha=0.1, reg_lambda=10.0, scale_pos_weight=1.1, subsample=0.7;, score=0.633 total time=   1.2s\n"
     ]
    },
    {
     "name": "stderr",
     "output_type": "stream",
     "text": [
      "/Users/gab/Desktop/school/hec_w25/python/projet/.venv/lib/python3.11/site-packages/xgboost/training.py:183: UserWarning: [16:33:04] WARNING: /Users/runner/work/xgboost/xgboost/src/learner.cc:738: \n",
      "Parameters: { \"use_label_encoder\" } are not used.\n",
      "\n",
      "  bst.update(dtrain, iteration=i, fobj=obj)\n",
      "/Users/gab/Desktop/school/hec_w25/python/projet/.venv/lib/python3.11/site-packages/xgboost/training.py:183: UserWarning: [16:33:05] WARNING: /Users/runner/work/xgboost/xgboost/src/learner.cc:738: \n",
      "Parameters: { \"use_label_encoder\" } are not used.\n",
      "\n",
      "  bst.update(dtrain, iteration=i, fobj=obj)\n",
      "/Users/gab/Desktop/school/hec_w25/python/projet/.venv/lib/python3.11/site-packages/xgboost/training.py:183: UserWarning: [16:33:05] WARNING: /Users/runner/work/xgboost/xgboost/src/learner.cc:738: \n",
      "Parameters: { \"use_label_encoder\" } are not used.\n",
      "\n",
      "  bst.update(dtrain, iteration=i, fobj=obj)\n",
      "/Users/gab/Desktop/school/hec_w25/python/projet/.venv/lib/python3.11/site-packages/xgboost/training.py:183: UserWarning: [16:33:05] WARNING: /Users/runner/work/xgboost/xgboost/src/learner.cc:738: \n",
      "Parameters: { \"use_label_encoder\" } are not used.\n",
      "\n",
      "  bst.update(dtrain, iteration=i, fobj=obj)\n",
      "/Users/gab/Desktop/school/hec_w25/python/projet/.venv/lib/python3.11/site-packages/xgboost/training.py:183: UserWarning: [16:33:05] WARNING: /Users/runner/work/xgboost/xgboost/src/learner.cc:738: \n",
      "Parameters: { \"use_label_encoder\" } are not used.\n",
      "\n",
      "  bst.update(dtrain, iteration=i, fobj=obj)\n"
     ]
    },
    {
     "name": "stdout",
     "output_type": "stream",
     "text": [
      "[CV 2/5] END colsample_bylevel=1.0, colsample_bytree=0.8, gamma=0.3, learning_rate=0.01, max_depth=4, min_child_weight=5, n_estimators=2000, reg_alpha=0.1, reg_lambda=5.0, scale_pos_weight=1.1, subsample=1.0;, score=0.623 total time=   1.0s\n",
      "[CV 1/5] END colsample_bylevel=1.0, colsample_bytree=0.8, gamma=0.3, learning_rate=0.01, max_depth=4, min_child_weight=5, n_estimators=2000, reg_alpha=0.1, reg_lambda=5.0, scale_pos_weight=1.1, subsample=1.0;, score=0.611 total time=   1.3s\n",
      "[CV 1/5] END colsample_bylevel=0.8, colsample_bytree=0.8, gamma=0.2, learning_rate=0.1, max_depth=6, min_child_weight=7, n_estimators=1500, reg_alpha=0.5, reg_lambda=1.0, scale_pos_weight=1.1, subsample=1.0;, score=0.607 total time=   0.4s[CV 3/5] END colsample_bylevel=1.0, colsample_bytree=0.8, gamma=0.3, learning_rate=0.01, max_depth=4, min_child_weight=5, n_estimators=2000, reg_alpha=0.1, reg_lambda=5.0, scale_pos_weight=1.1, subsample=1.0;, score=0.525 total time=   1.1s\n",
      "\n",
      "[CV 2/5] END colsample_bylevel=0.8, colsample_bytree=0.8, gamma=0.2, learning_rate=0.1, max_depth=6, min_child_weight=7, n_estimators=1500, reg_alpha=0.5, reg_lambda=1.0, scale_pos_weight=1.1, subsample=1.0;, score=0.616 total time=   0.4s\n"
     ]
    },
    {
     "name": "stderr",
     "output_type": "stream",
     "text": [
      "/Users/gab/Desktop/school/hec_w25/python/projet/.venv/lib/python3.11/site-packages/xgboost/training.py:183: UserWarning: [16:33:05] WARNING: /Users/runner/work/xgboost/xgboost/src/learner.cc:738: \n",
      "Parameters: { \"use_label_encoder\" } are not used.\n",
      "\n",
      "  bst.update(dtrain, iteration=i, fobj=obj)\n",
      "/Users/gab/Desktop/school/hec_w25/python/projet/.venv/lib/python3.11/site-packages/xgboost/training.py:183: UserWarning: [16:33:05] WARNING: /Users/runner/work/xgboost/xgboost/src/learner.cc:738: \n",
      "Parameters: { \"use_label_encoder\" } are not used.\n",
      "\n",
      "  bst.update(dtrain, iteration=i, fobj=obj)\n",
      "/Users/gab/Desktop/school/hec_w25/python/projet/.venv/lib/python3.11/site-packages/xgboost/training.py:183: UserWarning: [16:33:05] WARNING: /Users/runner/work/xgboost/xgboost/src/learner.cc:738: \n",
      "Parameters: { \"use_label_encoder\" } are not used.\n",
      "\n",
      "  bst.update(dtrain, iteration=i, fobj=obj)\n",
      "/Users/gab/Desktop/school/hec_w25/python/projet/.venv/lib/python3.11/site-packages/xgboost/training.py:183: UserWarning: [16:33:05] WARNING: /Users/runner/work/xgboost/xgboost/src/learner.cc:738: \n",
      "Parameters: { \"use_label_encoder\" } are not used.\n",
      "\n",
      "  bst.update(dtrain, iteration=i, fobj=obj)\n",
      "/Users/gab/Desktop/school/hec_w25/python/projet/.venv/lib/python3.11/site-packages/xgboost/training.py:183: UserWarning: [16:33:05] WARNING: /Users/runner/work/xgboost/xgboost/src/learner.cc:738: \n",
      "Parameters: { \"use_label_encoder\" } are not used.\n",
      "\n",
      "  bst.update(dtrain, iteration=i, fobj=obj)\n"
     ]
    },
    {
     "name": "stdout",
     "output_type": "stream",
     "text": [
      "[CV 3/5] END colsample_bylevel=0.8, colsample_bytree=0.8, gamma=0.2, learning_rate=0.1, max_depth=6, min_child_weight=7, n_estimators=1500, reg_alpha=0.5, reg_lambda=1.0, scale_pos_weight=1.1, subsample=1.0;, score=0.527 total time=   0.4s\n",
      "[CV 4/5] END colsample_bylevel=0.8, colsample_bytree=0.8, gamma=0.2, learning_rate=0.1, max_depth=6, min_child_weight=7, n_estimators=1500, reg_alpha=0.5, reg_lambda=1.0, scale_pos_weight=1.1, subsample=1.0;, score=0.581 total time=   0.3s\n",
      "[CV 5/5] END colsample_bylevel=0.8, colsample_bytree=0.8, gamma=0.2, learning_rate=0.1, max_depth=6, min_child_weight=7, n_estimators=1500, reg_alpha=0.5, reg_lambda=1.0, scale_pos_weight=1.1, subsample=1.0;, score=0.650 total time=   0.3s\n"
     ]
    },
    {
     "name": "stderr",
     "output_type": "stream",
     "text": [
      "/Users/gab/Desktop/school/hec_w25/python/projet/.venv/lib/python3.11/site-packages/xgboost/training.py:183: UserWarning: [16:33:05] WARNING: /Users/runner/work/xgboost/xgboost/src/learner.cc:738: \n",
      "Parameters: { \"use_label_encoder\" } are not used.\n",
      "\n",
      "  bst.update(dtrain, iteration=i, fobj=obj)\n",
      "/Users/gab/Desktop/school/hec_w25/python/projet/.venv/lib/python3.11/site-packages/xgboost/training.py:183: UserWarning: [16:33:05] WARNING: /Users/runner/work/xgboost/xgboost/src/learner.cc:738: \n",
      "Parameters: { \"use_label_encoder\" } are not used.\n",
      "\n",
      "  bst.update(dtrain, iteration=i, fobj=obj)\n",
      "/Users/gab/Desktop/school/hec_w25/python/projet/.venv/lib/python3.11/site-packages/xgboost/training.py:183: UserWarning: [16:33:05] WARNING: /Users/runner/work/xgboost/xgboost/src/learner.cc:738: \n",
      "Parameters: { \"use_label_encoder\" } are not used.\n",
      "\n",
      "  bst.update(dtrain, iteration=i, fobj=obj)\n"
     ]
    },
    {
     "name": "stdout",
     "output_type": "stream",
     "text": [
      "[CV 4/5] END colsample_bylevel=1.0, colsample_bytree=0.8, gamma=0.3, learning_rate=0.01, max_depth=4, min_child_weight=5, n_estimators=2000, reg_alpha=0.1, reg_lambda=5.0, scale_pos_weight=1.1, subsample=1.0;, score=0.570 total time=   1.0s\n",
      "[CV 5/5] END colsample_bylevel=1.0, colsample_bytree=0.8, gamma=0.3, learning_rate=0.01, max_depth=4, min_child_weight=5, n_estimators=2000, reg_alpha=0.1, reg_lambda=5.0, scale_pos_weight=1.1, subsample=1.0;, score=0.640 total time=   1.1s\n"
     ]
    },
    {
     "name": "stderr",
     "output_type": "stream",
     "text": [
      "/Users/gab/Desktop/school/hec_w25/python/projet/.venv/lib/python3.11/site-packages/xgboost/training.py:183: UserWarning: [16:33:06] WARNING: /Users/runner/work/xgboost/xgboost/src/learner.cc:738: \n",
      "Parameters: { \"use_label_encoder\" } are not used.\n",
      "\n",
      "  bst.update(dtrain, iteration=i, fobj=obj)\n",
      "/Users/gab/Desktop/school/hec_w25/python/projet/.venv/lib/python3.11/site-packages/xgboost/training.py:183: UserWarning: [16:33:06] WARNING: /Users/runner/work/xgboost/xgboost/src/learner.cc:738: \n",
      "Parameters: { \"use_label_encoder\" } are not used.\n",
      "\n",
      "  bst.update(dtrain, iteration=i, fobj=obj)\n"
     ]
    },
    {
     "name": "stdout",
     "output_type": "stream",
     "text": [
      "[CV 1/5] END colsample_bylevel=0.9, colsample_bytree=0.9, gamma=0.1, learning_rate=0.03, max_depth=8, min_child_weight=7, n_estimators=1000, reg_alpha=0, reg_lambda=10.0, scale_pos_weight=1.1, subsample=0.7;, score=0.591 total time=   1.1s\n"
     ]
    },
    {
     "name": "stderr",
     "output_type": "stream",
     "text": [
      "/Users/gab/Desktop/school/hec_w25/python/projet/.venv/lib/python3.11/site-packages/xgboost/training.py:183: UserWarning: [16:33:06] WARNING: /Users/runner/work/xgboost/xgboost/src/learner.cc:738: \n",
      "Parameters: { \"use_label_encoder\" } are not used.\n",
      "\n",
      "  bst.update(dtrain, iteration=i, fobj=obj)\n"
     ]
    },
    {
     "name": "stdout",
     "output_type": "stream",
     "text": [
      "[CV 2/5] END colsample_bylevel=0.9, colsample_bytree=0.9, gamma=0.1, learning_rate=0.03, max_depth=8, min_child_weight=7, n_estimators=1000, reg_alpha=0, reg_lambda=10.0, scale_pos_weight=1.1, subsample=0.7;, score=0.629 total time=   1.2s\n",
      "[CV 3/5] END colsample_bylevel=0.9, colsample_bytree=0.9, gamma=0.1, learning_rate=0.03, max_depth=8, min_child_weight=7, n_estimators=1000, reg_alpha=0, reg_lambda=10.0, scale_pos_weight=1.1, subsample=0.7;, score=0.548 total time=   1.2s\n"
     ]
    },
    {
     "name": "stderr",
     "output_type": "stream",
     "text": [
      "/Users/gab/Desktop/school/hec_w25/python/projet/.venv/lib/python3.11/site-packages/xgboost/training.py:183: UserWarning: [16:33:07] WARNING: /Users/runner/work/xgboost/xgboost/src/learner.cc:738: \n",
      "Parameters: { \"use_label_encoder\" } are not used.\n",
      "\n",
      "  bst.update(dtrain, iteration=i, fobj=obj)\n",
      "/Users/gab/Desktop/school/hec_w25/python/projet/.venv/lib/python3.11/site-packages/xgboost/training.py:183: UserWarning: [16:33:07] WARNING: /Users/runner/work/xgboost/xgboost/src/learner.cc:738: \n",
      "Parameters: { \"use_label_encoder\" } are not used.\n",
      "\n",
      "  bst.update(dtrain, iteration=i, fobj=obj)\n"
     ]
    },
    {
     "name": "stdout",
     "output_type": "stream",
     "text": [
      "[CV 4/5] END colsample_bylevel=0.9, colsample_bytree=0.9, gamma=0.1, learning_rate=0.03, max_depth=8, min_child_weight=7, n_estimators=1000, reg_alpha=0, reg_lambda=10.0, scale_pos_weight=1.1, subsample=0.7;, score=0.602 total time=   1.2s\n",
      "[CV 1/5] END colsample_bylevel=0.8, colsample_bytree=0.9, gamma=0.2, learning_rate=0.1, max_depth=6, min_child_weight=1, n_estimators=2000, reg_alpha=0, reg_lambda=0.1, scale_pos_weight=1.0, subsample=0.8;, score=0.607 total time=   0.7s\n",
      "[CV 3/5] END colsample_bylevel=0.8, colsample_bytree=0.8, gamma=0.3, learning_rate=0.01, max_depth=12, min_child_weight=3, n_estimators=1500, reg_alpha=0.5, reg_lambda=1.0, scale_pos_weight=1.1, subsample=0.8;, score=0.527 total time=   2.7s\n",
      "[CV 2/5] END colsample_bylevel=0.8, colsample_bytree=0.8, gamma=0.3, learning_rate=0.01, max_depth=12, min_child_weight=3, n_estimators=1500, reg_alpha=0.5, reg_lambda=1.0, scale_pos_weight=1.1, subsample=0.8;, score=0.623 total time=   2.8s\n"
     ]
    },
    {
     "name": "stderr",
     "output_type": "stream",
     "text": [
      "/Users/gab/Desktop/school/hec_w25/python/projet/.venv/lib/python3.11/site-packages/xgboost/training.py:183: UserWarning: [16:33:08] WARNING: /Users/runner/work/xgboost/xgboost/src/learner.cc:738: \n",
      "Parameters: { \"use_label_encoder\" } are not used.\n",
      "\n",
      "  bst.update(dtrain, iteration=i, fobj=obj)\n",
      "/Users/gab/Desktop/school/hec_w25/python/projet/.venv/lib/python3.11/site-packages/xgboost/training.py:183: UserWarning: [16:33:08] WARNING: /Users/runner/work/xgboost/xgboost/src/learner.cc:738: \n",
      "Parameters: { \"use_label_encoder\" } are not used.\n",
      "\n",
      "  bst.update(dtrain, iteration=i, fobj=obj)\n",
      "/Users/gab/Desktop/school/hec_w25/python/projet/.venv/lib/python3.11/site-packages/xgboost/training.py:183: UserWarning: [16:33:08] WARNING: /Users/runner/work/xgboost/xgboost/src/learner.cc:738: \n",
      "Parameters: { \"use_label_encoder\" } are not used.\n",
      "\n",
      "  bst.update(dtrain, iteration=i, fobj=obj)\n",
      "/Users/gab/Desktop/school/hec_w25/python/projet/.venv/lib/python3.11/site-packages/xgboost/training.py:183: UserWarning: [16:33:08] WARNING: /Users/runner/work/xgboost/xgboost/src/learner.cc:738: \n",
      "Parameters: { \"use_label_encoder\" } are not used.\n",
      "\n",
      "  bst.update(dtrain, iteration=i, fobj=obj)\n"
     ]
    },
    {
     "name": "stdout",
     "output_type": "stream",
     "text": [
      "[CV 1/5] END colsample_bylevel=0.8, colsample_bytree=0.8, gamma=0.3, learning_rate=0.01, max_depth=12, min_child_weight=3, n_estimators=1500, reg_alpha=0.5, reg_lambda=1.0, scale_pos_weight=1.1, subsample=0.8;, score=0.601 total time=   3.0s\n",
      "[CV 5/5] END colsample_bylevel=0.8, colsample_bytree=0.8, gamma=0.3, learning_rate=0.01, max_depth=12, min_child_weight=3, n_estimators=1500, reg_alpha=0.5, reg_lambda=1.0, scale_pos_weight=1.1, subsample=0.8;, score=0.656 total time=   2.8s\n",
      "[CV 4/5] END colsample_bylevel=0.8, colsample_bytree=0.8, gamma=0.3, learning_rate=0.01, max_depth=12, min_child_weight=3, n_estimators=1500, reg_alpha=0.5, reg_lambda=1.0, scale_pos_weight=1.1, subsample=0.8;, score=0.587 total time=   2.9s\n",
      "[CV 5/5] END colsample_bylevel=0.9, colsample_bytree=0.9, gamma=0.1, learning_rate=0.03, max_depth=8, min_child_weight=7, n_estimators=1000, reg_alpha=0, reg_lambda=10.0, scale_pos_weight=1.1, subsample=0.7;, score=0.638 total time=   1.3s\n"
     ]
    },
    {
     "name": "stderr",
     "output_type": "stream",
     "text": [
      "/Users/gab/Desktop/school/hec_w25/python/projet/.venv/lib/python3.11/site-packages/xgboost/training.py:183: UserWarning: [16:33:08] WARNING: /Users/runner/work/xgboost/xgboost/src/learner.cc:738: \n",
      "Parameters: { \"use_label_encoder\" } are not used.\n",
      "\n",
      "  bst.update(dtrain, iteration=i, fobj=obj)\n",
      "/Users/gab/Desktop/school/hec_w25/python/projet/.venv/lib/python3.11/site-packages/xgboost/training.py:183: UserWarning: [16:33:08] WARNING: /Users/runner/work/xgboost/xgboost/src/learner.cc:738: \n",
      "Parameters: { \"use_label_encoder\" } are not used.\n",
      "\n",
      "  bst.update(dtrain, iteration=i, fobj=obj)\n",
      "/Users/gab/Desktop/school/hec_w25/python/projet/.venv/lib/python3.11/site-packages/xgboost/training.py:183: UserWarning: [16:33:08] WARNING: /Users/runner/work/xgboost/xgboost/src/learner.cc:738: \n",
      "Parameters: { \"use_label_encoder\" } are not used.\n",
      "\n",
      "  bst.update(dtrain, iteration=i, fobj=obj)\n",
      "/Users/gab/Desktop/school/hec_w25/python/projet/.venv/lib/python3.11/site-packages/xgboost/training.py:183: UserWarning: [16:33:08] WARNING: /Users/runner/work/xgboost/xgboost/src/learner.cc:738: \n",
      "Parameters: { \"use_label_encoder\" } are not used.\n",
      "\n",
      "  bst.update(dtrain, iteration=i, fobj=obj)\n"
     ]
    },
    {
     "name": "stdout",
     "output_type": "stream",
     "text": [
      "[CV 2/5] END colsample_bylevel=0.8, colsample_bytree=0.9, gamma=0.2, learning_rate=0.1, max_depth=6, min_child_weight=1, n_estimators=2000, reg_alpha=0, reg_lambda=0.1, scale_pos_weight=1.0, subsample=0.8;, score=0.600 total time=   0.7s\n",
      "[CV 4/5] END colsample_bylevel=0.8, colsample_bytree=0.9, gamma=0.2, learning_rate=0.1, max_depth=6, min_child_weight=1, n_estimators=2000, reg_alpha=0, reg_lambda=0.1, scale_pos_weight=1.0, subsample=0.8;, score=0.547 total time=   0.7s\n"
     ]
    },
    {
     "name": "stderr",
     "output_type": "stream",
     "text": [
      "/Users/gab/Desktop/school/hec_w25/python/projet/.venv/lib/python3.11/site-packages/xgboost/training.py:183: UserWarning: [16:33:08] WARNING: /Users/runner/work/xgboost/xgboost/src/learner.cc:738: \n",
      "Parameters: { \"use_label_encoder\" } are not used.\n",
      "\n",
      "  bst.update(dtrain, iteration=i, fobj=obj)\n",
      "/Users/gab/Desktop/school/hec_w25/python/projet/.venv/lib/python3.11/site-packages/xgboost/training.py:183: UserWarning: [16:33:08] WARNING: /Users/runner/work/xgboost/xgboost/src/learner.cc:738: \n",
      "Parameters: { \"use_label_encoder\" } are not used.\n",
      "\n",
      "  bst.update(dtrain, iteration=i, fobj=obj)\n"
     ]
    },
    {
     "name": "stdout",
     "output_type": "stream",
     "text": [
      "[CV 3/5] END colsample_bylevel=0.8, colsample_bytree=0.9, gamma=0.2, learning_rate=0.1, max_depth=6, min_child_weight=1, n_estimators=2000, reg_alpha=0, reg_lambda=0.1, scale_pos_weight=1.0, subsample=0.8;, score=0.511 total time=   0.9s\n",
      "[CV 5/5] END colsample_bylevel=0.8, colsample_bytree=0.9, gamma=0.2, learning_rate=0.1, max_depth=6, min_child_weight=1, n_estimators=2000, reg_alpha=0, reg_lambda=0.1, scale_pos_weight=1.0, subsample=0.8;, score=0.637 total time=   0.7s\n",
      "[CV 1/5] END colsample_bylevel=0.7, colsample_bytree=0.8, gamma=0.1, learning_rate=0.03, max_depth=6, min_child_weight=3, n_estimators=1000, reg_alpha=1.0, reg_lambda=5.0, scale_pos_weight=1.2, subsample=1.0;, score=0.595 total time=   0.7s\n",
      "[CV 2/5] END colsample_bylevel=0.7, colsample_bytree=0.8, gamma=0.1, learning_rate=0.03, max_depth=6, min_child_weight=3, n_estimators=1000, reg_alpha=1.0, reg_lambda=5.0, scale_pos_weight=1.2, subsample=1.0;, score=0.632 total time=   0.7s\n"
     ]
    },
    {
     "name": "stderr",
     "output_type": "stream",
     "text": [
      "/Users/gab/Desktop/school/hec_w25/python/projet/.venv/lib/python3.11/site-packages/xgboost/training.py:183: UserWarning: [16:33:08] WARNING: /Users/runner/work/xgboost/xgboost/src/learner.cc:738: \n",
      "Parameters: { \"use_label_encoder\" } are not used.\n",
      "\n",
      "  bst.update(dtrain, iteration=i, fobj=obj)\n",
      "/Users/gab/Desktop/school/hec_w25/python/projet/.venv/lib/python3.11/site-packages/xgboost/training.py:183: UserWarning: [16:33:08] WARNING: /Users/runner/work/xgboost/xgboost/src/learner.cc:738: \n",
      "Parameters: { \"use_label_encoder\" } are not used.\n",
      "\n",
      "  bst.update(dtrain, iteration=i, fobj=obj)\n",
      "/Users/gab/Desktop/school/hec_w25/python/projet/.venv/lib/python3.11/site-packages/xgboost/training.py:183: UserWarning: [16:33:09] WARNING: /Users/runner/work/xgboost/xgboost/src/learner.cc:738: \n",
      "Parameters: { \"use_label_encoder\" } are not used.\n",
      "\n",
      "  bst.update(dtrain, iteration=i, fobj=obj)\n",
      "/Users/gab/Desktop/school/hec_w25/python/projet/.venv/lib/python3.11/site-packages/xgboost/training.py:183: UserWarning: [16:33:09] WARNING: /Users/runner/work/xgboost/xgboost/src/learner.cc:738: \n",
      "Parameters: { \"use_label_encoder\" } are not used.\n",
      "\n",
      "  bst.update(dtrain, iteration=i, fobj=obj)\n"
     ]
    },
    {
     "name": "stdout",
     "output_type": "stream",
     "text": [
      "[CV 3/5] END colsample_bylevel=0.7, colsample_bytree=0.8, gamma=0.1, learning_rate=0.03, max_depth=6, min_child_weight=3, n_estimators=1000, reg_alpha=1.0, reg_lambda=5.0, scale_pos_weight=1.2, subsample=1.0;, score=0.521 total time=   0.7s\n",
      "[CV 5/5] END colsample_bylevel=0.7, colsample_bytree=0.8, gamma=0.1, learning_rate=0.03, max_depth=6, min_child_weight=3, n_estimators=1000, reg_alpha=1.0, reg_lambda=5.0, scale_pos_weight=1.2, subsample=1.0;, score=0.638 total time=   0.7s\n"
     ]
    },
    {
     "name": "stderr",
     "output_type": "stream",
     "text": [
      "/Users/gab/Desktop/school/hec_w25/python/projet/.venv/lib/python3.11/site-packages/xgboost/training.py:183: UserWarning: [16:33:09] WARNING: /Users/runner/work/xgboost/xgboost/src/learner.cc:738: \n",
      "Parameters: { \"use_label_encoder\" } are not used.\n",
      "\n",
      "  bst.update(dtrain, iteration=i, fobj=obj)\n",
      "/Users/gab/Desktop/school/hec_w25/python/projet/.venv/lib/python3.11/site-packages/xgboost/training.py:183: UserWarning: [16:33:09] WARNING: /Users/runner/work/xgboost/xgboost/src/learner.cc:738: \n",
      "Parameters: { \"use_label_encoder\" } are not used.\n",
      "\n",
      "  bst.update(dtrain, iteration=i, fobj=obj)\n"
     ]
    },
    {
     "name": "stdout",
     "output_type": "stream",
     "text": [
      "[CV 4/5] END colsample_bylevel=0.7, colsample_bytree=0.8, gamma=0.1, learning_rate=0.03, max_depth=6, min_child_weight=3, n_estimators=1000, reg_alpha=1.0, reg_lambda=5.0, scale_pos_weight=1.2, subsample=1.0;, score=0.580 total time=   0.8s\n"
     ]
    },
    {
     "name": "stderr",
     "output_type": "stream",
     "text": [
      "/Users/gab/Desktop/school/hec_w25/python/projet/.venv/lib/python3.11/site-packages/xgboost/training.py:183: UserWarning: [16:33:09] WARNING: /Users/runner/work/xgboost/xgboost/src/learner.cc:738: \n",
      "Parameters: { \"use_label_encoder\" } are not used.\n",
      "\n",
      "  bst.update(dtrain, iteration=i, fobj=obj)\n"
     ]
    },
    {
     "name": "stdout",
     "output_type": "stream",
     "text": [
      "[CV 1/5] END colsample_bylevel=0.8, colsample_bytree=0.8, gamma=0.3, learning_rate=0.01, max_depth=10, min_child_weight=7, n_estimators=1000, reg_alpha=0.5, reg_lambda=1.0, scale_pos_weight=1.225, subsample=0.8;, score=0.599 total time=   1.2s\n",
      "[CV 1/5] END colsample_bylevel=0.9, colsample_bytree=0.6, gamma=0.2, learning_rate=0.1, max_depth=12, min_child_weight=5, n_estimators=2000, reg_alpha=0, reg_lambda=5.0, scale_pos_weight=1.1, subsample=0.8;, score=0.599 total time=   1.0s\n"
     ]
    },
    {
     "name": "stderr",
     "output_type": "stream",
     "text": [
      "/Users/gab/Desktop/school/hec_w25/python/projet/.venv/lib/python3.11/site-packages/xgboost/training.py:183: UserWarning: [16:33:10] WARNING: /Users/runner/work/xgboost/xgboost/src/learner.cc:738: \n",
      "Parameters: { \"use_label_encoder\" } are not used.\n",
      "\n",
      "  bst.update(dtrain, iteration=i, fobj=obj)\n",
      "/Users/gab/Desktop/school/hec_w25/python/projet/.venv/lib/python3.11/site-packages/xgboost/training.py:183: UserWarning: [16:33:10] WARNING: /Users/runner/work/xgboost/xgboost/src/learner.cc:738: \n",
      "Parameters: { \"use_label_encoder\" } are not used.\n",
      "\n",
      "  bst.update(dtrain, iteration=i, fobj=obj)\n"
     ]
    },
    {
     "name": "stdout",
     "output_type": "stream",
     "text": [
      "[CV 2/5] END colsample_bylevel=0.8, colsample_bytree=0.8, gamma=0.3, learning_rate=0.01, max_depth=10, min_child_weight=7, n_estimators=1000, reg_alpha=0.5, reg_lambda=1.0, scale_pos_weight=1.225, subsample=0.8;, score=0.638 total time=   1.4s\n",
      "[CV 2/5] END colsample_bylevel=0.9, colsample_bytree=0.6, gamma=0.2, learning_rate=0.1, max_depth=12, min_child_weight=5, n_estimators=2000, reg_alpha=0, reg_lambda=5.0, scale_pos_weight=1.1, subsample=0.8;, score=0.599 total time=   1.0s\n",
      "[CV 3/5] END colsample_bylevel=0.9, colsample_bytree=0.6, gamma=0.2, learning_rate=0.1, max_depth=12, min_child_weight=5, n_estimators=2000, reg_alpha=0, reg_lambda=5.0, scale_pos_weight=1.1, subsample=0.8;, score=0.529 total time=   1.0s\n",
      "[CV 5/5] END colsample_bylevel=0.8, colsample_bytree=0.8, gamma=0.3, learning_rate=0.01, max_depth=10, min_child_weight=7, n_estimators=1000, reg_alpha=0.5, reg_lambda=1.0, scale_pos_weight=1.225, subsample=0.8;, score=0.653 total time=   1.3s\n",
      "[CV 3/5] END colsample_bylevel=0.8, colsample_bytree=0.8, gamma=0.3, learning_rate=0.01, max_depth=10, min_child_weight=7, n_estimators=1000, reg_alpha=0.5, reg_lambda=1.0, scale_pos_weight=1.225, subsample=0.8;, score=0.533 total time=   1.5s\n"
     ]
    },
    {
     "name": "stderr",
     "output_type": "stream",
     "text": [
      "/Users/gab/Desktop/school/hec_w25/python/projet/.venv/lib/python3.11/site-packages/xgboost/training.py:183: UserWarning: [16:33:10] WARNING: /Users/runner/work/xgboost/xgboost/src/learner.cc:738: \n",
      "Parameters: { \"use_label_encoder\" } are not used.\n",
      "\n",
      "  bst.update(dtrain, iteration=i, fobj=obj)\n",
      "/Users/gab/Desktop/school/hec_w25/python/projet/.venv/lib/python3.11/site-packages/xgboost/training.py:183: UserWarning: [16:33:10] WARNING: /Users/runner/work/xgboost/xgboost/src/learner.cc:738: \n",
      "Parameters: { \"use_label_encoder\" } are not used.\n",
      "\n",
      "  bst.update(dtrain, iteration=i, fobj=obj)\n",
      "/Users/gab/Desktop/school/hec_w25/python/projet/.venv/lib/python3.11/site-packages/xgboost/training.py:183: UserWarning: [16:33:10] WARNING: /Users/runner/work/xgboost/xgboost/src/learner.cc:738: \n",
      "Parameters: { \"use_label_encoder\" } are not used.\n",
      "\n",
      "  bst.update(dtrain, iteration=i, fobj=obj)\n",
      "/Users/gab/Desktop/school/hec_w25/python/projet/.venv/lib/python3.11/site-packages/xgboost/training.py:183: UserWarning: [16:33:10] WARNING: /Users/runner/work/xgboost/xgboost/src/learner.cc:738: \n",
      "Parameters: { \"use_label_encoder\" } are not used.\n",
      "\n",
      "  bst.update(dtrain, iteration=i, fobj=obj)\n",
      "/Users/gab/Desktop/school/hec_w25/python/projet/.venv/lib/python3.11/site-packages/xgboost/training.py:183: UserWarning: [16:33:10] WARNING: /Users/runner/work/xgboost/xgboost/src/learner.cc:738: \n",
      "Parameters: { \"use_label_encoder\" } are not used.\n",
      "\n",
      "  bst.update(dtrain, iteration=i, fobj=obj)\n"
     ]
    },
    {
     "name": "stdout",
     "output_type": "stream",
     "text": [
      "[CV 4/5] END colsample_bylevel=0.8, colsample_bytree=0.8, gamma=0.3, learning_rate=0.01, max_depth=10, min_child_weight=7, n_estimators=1000, reg_alpha=0.5, reg_lambda=1.0, scale_pos_weight=1.225, subsample=0.8;, score=0.599 total time=   1.5s\n"
     ]
    },
    {
     "name": "stderr",
     "output_type": "stream",
     "text": [
      "/Users/gab/Desktop/school/hec_w25/python/projet/.venv/lib/python3.11/site-packages/xgboost/training.py:183: UserWarning: [16:33:10] WARNING: /Users/runner/work/xgboost/xgboost/src/learner.cc:738: \n",
      "Parameters: { \"use_label_encoder\" } are not used.\n",
      "\n",
      "  bst.update(dtrain, iteration=i, fobj=obj)\n"
     ]
    },
    {
     "name": "stdout",
     "output_type": "stream",
     "text": [
      "[CV 1/5] END colsample_bylevel=0.8, colsample_bytree=0.6, gamma=0.1, learning_rate=0.1, max_depth=6, min_child_weight=5, n_estimators=1000, reg_alpha=0.5, reg_lambda=0.1, scale_pos_weight=1.0, subsample=0.8;, score=0.598 total time=   0.5s\n",
      "[CV 2/5] END colsample_bylevel=0.8, colsample_bytree=0.6, gamma=0.1, learning_rate=0.1, max_depth=6, min_child_weight=5, n_estimators=1000, reg_alpha=0.5, reg_lambda=0.1, scale_pos_weight=1.0, subsample=0.8;, score=0.618 total time=   0.5s\n",
      "[CV 4/5] END colsample_bylevel=0.9, colsample_bytree=0.6, gamma=0.2, learning_rate=0.1, max_depth=12, min_child_weight=5, n_estimators=2000, reg_alpha=0, reg_lambda=5.0, scale_pos_weight=1.1, subsample=0.8;, score=0.592 total time=   0.9s\n",
      "[CV 1/5] END colsample_bylevel=1.0, colsample_bytree=0.7, gamma=0.3, learning_rate=0.1, max_depth=6, min_child_weight=3, n_estimators=500, reg_alpha=0.5, reg_lambda=10.0, scale_pos_weight=1.225, subsample=1.0;, score=0.611 total time=   0.4s\n",
      "[CV 3/5] END colsample_bylevel=0.8, colsample_bytree=0.6, gamma=0.1, learning_rate=0.1, max_depth=6, min_child_weight=5, n_estimators=1000, reg_alpha=0.5, reg_lambda=0.1, scale_pos_weight=1.0, subsample=0.8;, score=0.526 total time=   0.6s\n",
      "[CV 5/5] END colsample_bylevel=0.9, colsample_bytree=0.6, gamma=0.2, learning_rate=0.1, max_depth=12, min_child_weight=5, n_estimators=2000, reg_alpha=0, reg_lambda=5.0, scale_pos_weight=1.1, subsample=0.8;, score=0.625 total time=   0.8s\n",
      "[CV 4/5] END colsample_bylevel=0.8, colsample_bytree=0.6, gamma=0.1, learning_rate=0.1, max_depth=6, min_child_weight=5, n_estimators=1000, reg_alpha=0.5, reg_lambda=0.1, scale_pos_weight=1.0, subsample=0.8;, score=0.590 total time=   0.5s\n"
     ]
    },
    {
     "name": "stderr",
     "output_type": "stream",
     "text": [
      "/Users/gab/Desktop/school/hec_w25/python/projet/.venv/lib/python3.11/site-packages/xgboost/training.py:183: UserWarning: [16:33:10] WARNING: /Users/runner/work/xgboost/xgboost/src/learner.cc:738: \n",
      "Parameters: { \"use_label_encoder\" } are not used.\n",
      "\n",
      "  bst.update(dtrain, iteration=i, fobj=obj)\n",
      "/Users/gab/Desktop/school/hec_w25/python/projet/.venv/lib/python3.11/site-packages/xgboost/training.py:183: UserWarning: [16:33:10] WARNING: /Users/runner/work/xgboost/xgboost/src/learner.cc:738: \n",
      "Parameters: { \"use_label_encoder\" } are not used.\n",
      "\n",
      "  bst.update(dtrain, iteration=i, fobj=obj)\n",
      "/Users/gab/Desktop/school/hec_w25/python/projet/.venv/lib/python3.11/site-packages/xgboost/training.py:183: UserWarning: [16:33:10] WARNING: /Users/runner/work/xgboost/xgboost/src/learner.cc:738: \n",
      "Parameters: { \"use_label_encoder\" } are not used.\n",
      "\n",
      "  bst.update(dtrain, iteration=i, fobj=obj)\n",
      "/Users/gab/Desktop/school/hec_w25/python/projet/.venv/lib/python3.11/site-packages/xgboost/training.py:183: UserWarning: [16:33:10] WARNING: /Users/runner/work/xgboost/xgboost/src/learner.cc:738: \n",
      "Parameters: { \"use_label_encoder\" } are not used.\n",
      "\n",
      "  bst.update(dtrain, iteration=i, fobj=obj)\n",
      "/Users/gab/Desktop/school/hec_w25/python/projet/.venv/lib/python3.11/site-packages/xgboost/training.py:183: UserWarning: [16:33:10] WARNING: /Users/runner/work/xgboost/xgboost/src/learner.cc:738: \n",
      "Parameters: { \"use_label_encoder\" } are not used.\n",
      "\n",
      "  bst.update(dtrain, iteration=i, fobj=obj)\n",
      "/Users/gab/Desktop/school/hec_w25/python/projet/.venv/lib/python3.11/site-packages/xgboost/training.py:183: UserWarning: [16:33:10] WARNING: /Users/runner/work/xgboost/xgboost/src/learner.cc:738: \n",
      "Parameters: { \"use_label_encoder\" } are not used.\n",
      "\n",
      "  bst.update(dtrain, iteration=i, fobj=obj)\n",
      "/Users/gab/Desktop/school/hec_w25/python/projet/.venv/lib/python3.11/site-packages/xgboost/training.py:183: UserWarning: [16:33:10] WARNING: /Users/runner/work/xgboost/xgboost/src/learner.cc:738: \n",
      "Parameters: { \"use_label_encoder\" } are not used.\n",
      "\n",
      "  bst.update(dtrain, iteration=i, fobj=obj)\n"
     ]
    },
    {
     "name": "stdout",
     "output_type": "stream",
     "text": [
      "[CV 2/5] END colsample_bylevel=1.0, colsample_bytree=0.7, gamma=0.3, learning_rate=0.1, max_depth=6, min_child_weight=3, n_estimators=500, reg_alpha=0.5, reg_lambda=10.0, scale_pos_weight=1.225, subsample=1.0;, score=0.624 total time=   0.2s\n",
      "[CV 3/5] END colsample_bylevel=1.0, colsample_bytree=0.7, gamma=0.3, learning_rate=0.1, max_depth=6, min_child_weight=3, n_estimators=500, reg_alpha=0.5, reg_lambda=10.0, scale_pos_weight=1.225, subsample=1.0;, score=0.525 total time=   0.2s\n",
      "[CV 4/5] END colsample_bylevel=1.0, colsample_bytree=0.7, gamma=0.3, learning_rate=0.1, max_depth=6, min_child_weight=3, n_estimators=500, reg_alpha=0.5, reg_lambda=10.0, scale_pos_weight=1.225, subsample=1.0;, score=0.573 total time=   0.2s\n",
      "[CV 5/5] END colsample_bylevel=0.8, colsample_bytree=0.6, gamma=0.1, learning_rate=0.1, max_depth=6, min_child_weight=5, n_estimators=1000, reg_alpha=0.5, reg_lambda=0.1, scale_pos_weight=1.0, subsample=0.8;, score=0.630 total time=   0.7s\n"
     ]
    },
    {
     "name": "stderr",
     "output_type": "stream",
     "text": [
      "/Users/gab/Desktop/school/hec_w25/python/projet/.venv/lib/python3.11/site-packages/xgboost/training.py:183: UserWarning: [16:33:11] WARNING: /Users/runner/work/xgboost/xgboost/src/learner.cc:738: \n",
      "Parameters: { \"use_label_encoder\" } are not used.\n",
      "\n",
      "  bst.update(dtrain, iteration=i, fobj=obj)\n",
      "/Users/gab/Desktop/school/hec_w25/python/projet/.venv/lib/python3.11/site-packages/xgboost/training.py:183: UserWarning: [16:33:11] WARNING: /Users/runner/work/xgboost/xgboost/src/learner.cc:738: \n",
      "Parameters: { \"use_label_encoder\" } are not used.\n",
      "\n",
      "  bst.update(dtrain, iteration=i, fobj=obj)\n",
      "/Users/gab/Desktop/school/hec_w25/python/projet/.venv/lib/python3.11/site-packages/xgboost/training.py:183: UserWarning: [16:33:11] WARNING: /Users/runner/work/xgboost/xgboost/src/learner.cc:738: \n",
      "Parameters: { \"use_label_encoder\" } are not used.\n",
      "\n",
      "  bst.update(dtrain, iteration=i, fobj=obj)\n",
      "/Users/gab/Desktop/school/hec_w25/python/projet/.venv/lib/python3.11/site-packages/xgboost/training.py:183: UserWarning: [16:33:11] WARNING: /Users/runner/work/xgboost/xgboost/src/learner.cc:738: \n",
      "Parameters: { \"use_label_encoder\" } are not used.\n",
      "\n",
      "  bst.update(dtrain, iteration=i, fobj=obj)\n"
     ]
    },
    {
     "name": "stdout",
     "output_type": "stream",
     "text": [
      "[CV 5/5] END colsample_bylevel=1.0, colsample_bytree=0.7, gamma=0.3, learning_rate=0.1, max_depth=6, min_child_weight=3, n_estimators=500, reg_alpha=0.5, reg_lambda=10.0, scale_pos_weight=1.225, subsample=1.0;, score=0.649 total time=   0.4s\n"
     ]
    },
    {
     "name": "stderr",
     "output_type": "stream",
     "text": [
      "/Users/gab/Desktop/school/hec_w25/python/projet/.venv/lib/python3.11/site-packages/xgboost/training.py:183: UserWarning: [16:33:11] WARNING: /Users/runner/work/xgboost/xgboost/src/learner.cc:738: \n",
      "Parameters: { \"use_label_encoder\" } are not used.\n",
      "\n",
      "  bst.update(dtrain, iteration=i, fobj=obj)\n"
     ]
    },
    {
     "name": "stdout",
     "output_type": "stream",
     "text": [
      "[CV 1/5] END colsample_bylevel=0.7, colsample_bytree=0.7, gamma=0.1, learning_rate=0.03, max_depth=10, min_child_weight=3, n_estimators=500, reg_alpha=0.5, reg_lambda=5.0, scale_pos_weight=1.0, subsample=0.7;, score=0.585 total time=   0.7s\n",
      "[CV 1/5] END colsample_bylevel=0.7, colsample_bytree=0.5, gamma=0.05, learning_rate=0.01, max_depth=4, min_child_weight=1, n_estimators=2000, reg_alpha=0.5, reg_lambda=10.0, scale_pos_weight=1.2, subsample=1.0;, score=0.628 total time=   0.9s\n",
      "[CV 2/5] END colsample_bylevel=0.7, colsample_bytree=0.7, gamma=0.1, learning_rate=0.03, max_depth=10, min_child_weight=3, n_estimators=500, reg_alpha=0.5, reg_lambda=5.0, scale_pos_weight=1.0, subsample=0.7;, score=0.629 total time=   0.7s\n",
      "[CV 2/5] END colsample_bylevel=0.7, colsample_bytree=0.5, gamma=0.05, learning_rate=0.01, max_depth=4, min_child_weight=1, n_estimators=2000, reg_alpha=0.5, reg_lambda=10.0, scale_pos_weight=1.2, subsample=1.0;, score=0.641 total time=   0.9s\n",
      "[CV 4/5] END colsample_bylevel=0.7, colsample_bytree=0.5, gamma=0.05, learning_rate=0.01, max_depth=4, min_child_weight=1, n_estimators=2000, reg_alpha=0.5, reg_lambda=10.0, scale_pos_weight=1.2, subsample=1.0;, score=0.571 total time=   0.9s\n",
      "[CV 5/5] END colsample_bylevel=0.7, colsample_bytree=0.5, gamma=0.05, learning_rate=0.01, max_depth=4, min_child_weight=1, n_estimators=2000, reg_alpha=0.5, reg_lambda=10.0, scale_pos_weight=1.2, subsample=1.0;, score=0.661 total time=   0.9s"
     ]
    },
    {
     "name": "stderr",
     "output_type": "stream",
     "text": [
      "/Users/gab/Desktop/school/hec_w25/python/projet/.venv/lib/python3.11/site-packages/xgboost/training.py:183: UserWarning: [16:33:11] WARNING: /Users/runner/work/xgboost/xgboost/src/learner.cc:738: \n",
      "Parameters: { \"use_label_encoder\" } are not used.\n",
      "\n",
      "  bst.update(dtrain, iteration=i, fobj=obj)\n",
      "/Users/gab/Desktop/school/hec_w25/python/projet/.venv/lib/python3.11/site-packages/xgboost/training.py:183: UserWarning: [16:33:11] WARNING: /Users/runner/work/xgboost/xgboost/src/learner.cc:738: \n",
      "Parameters: { \"use_label_encoder\" } are not used.\n",
      "\n",
      "  bst.update(dtrain, iteration=i, fobj=obj)\n",
      "/Users/gab/Desktop/school/hec_w25/python/projet/.venv/lib/python3.11/site-packages/xgboost/training.py:183: UserWarning: [16:33:11] WARNING: /Users/runner/work/xgboost/xgboost/src/learner.cc:738: \n",
      "Parameters: { \"use_label_encoder\" } are not used.\n",
      "\n",
      "  bst.update(dtrain, iteration=i, fobj=obj)\n",
      "/Users/gab/Desktop/school/hec_w25/python/projet/.venv/lib/python3.11/site-packages/xgboost/training.py:183: UserWarning: [16:33:11] WARNING: /Users/runner/work/xgboost/xgboost/src/learner.cc:738: \n",
      "Parameters: { \"use_label_encoder\" } are not used.\n",
      "\n",
      "  bst.update(dtrain, iteration=i, fobj=obj)\n",
      "/Users/gab/Desktop/school/hec_w25/python/projet/.venv/lib/python3.11/site-packages/xgboost/training.py:183: UserWarning: [16:33:11] WARNING: /Users/runner/work/xgboost/xgboost/src/learner.cc:738: \n",
      "Parameters: { \"use_label_encoder\" } are not used.\n",
      "\n",
      "  bst.update(dtrain, iteration=i, fobj=obj)\n"
     ]
    },
    {
     "name": "stdout",
     "output_type": "stream",
     "text": [
      "\n",
      "[CV 3/5] END colsample_bylevel=0.7, colsample_bytree=0.5, gamma=0.05, learning_rate=0.01, max_depth=4, min_child_weight=1, n_estimators=2000, reg_alpha=0.5, reg_lambda=10.0, scale_pos_weight=1.2, subsample=1.0;, score=0.526 total time=   1.0s\n",
      "[CV 3/5] END colsample_bylevel=0.7, colsample_bytree=0.7, gamma=0.1, learning_rate=0.03, max_depth=10, min_child_weight=3, n_estimators=500, reg_alpha=0.5, reg_lambda=5.0, scale_pos_weight=1.0, subsample=0.7;, score=0.524 total time=   0.7s\n"
     ]
    },
    {
     "name": "stderr",
     "output_type": "stream",
     "text": [
      "/Users/gab/Desktop/school/hec_w25/python/projet/.venv/lib/python3.11/site-packages/xgboost/training.py:183: UserWarning: [16:33:12] WARNING: /Users/runner/work/xgboost/xgboost/src/learner.cc:738: \n",
      "Parameters: { \"use_label_encoder\" } are not used.\n",
      "\n",
      "  bst.update(dtrain, iteration=i, fobj=obj)\n",
      "/Users/gab/Desktop/school/hec_w25/python/projet/.venv/lib/python3.11/site-packages/xgboost/training.py:183: UserWarning: [16:33:12] WARNING: /Users/runner/work/xgboost/xgboost/src/learner.cc:738: \n",
      "Parameters: { \"use_label_encoder\" } are not used.\n",
      "\n",
      "  bst.update(dtrain, iteration=i, fobj=obj)\n",
      "/Users/gab/Desktop/school/hec_w25/python/projet/.venv/lib/python3.11/site-packages/xgboost/training.py:183: UserWarning: [16:33:12] WARNING: /Users/runner/work/xgboost/xgboost/src/learner.cc:738: \n",
      "Parameters: { \"use_label_encoder\" } are not used.\n",
      "\n",
      "  bst.update(dtrain, iteration=i, fobj=obj)\n"
     ]
    },
    {
     "name": "stdout",
     "output_type": "stream",
     "text": [
      "[CV 4/5] END colsample_bylevel=0.7, colsample_bytree=0.7, gamma=0.1, learning_rate=0.03, max_depth=10, min_child_weight=3, n_estimators=500, reg_alpha=0.5, reg_lambda=5.0, scale_pos_weight=1.0, subsample=0.7;, score=0.592 total time=   0.8s\n",
      "[CV 5/5] END colsample_bylevel=0.7, colsample_bytree=0.7, gamma=0.1, learning_rate=0.03, max_depth=10, min_child_weight=3, n_estimators=500, reg_alpha=0.5, reg_lambda=5.0, scale_pos_weight=1.0, subsample=0.7;, score=0.652 total time=   0.8s\n"
     ]
    },
    {
     "name": "stderr",
     "output_type": "stream",
     "text": [
      "/Users/gab/Desktop/school/hec_w25/python/projet/.venv/lib/python3.11/site-packages/xgboost/training.py:183: UserWarning: [16:33:12] WARNING: /Users/runner/work/xgboost/xgboost/src/learner.cc:738: \n",
      "Parameters: { \"use_label_encoder\" } are not used.\n",
      "\n",
      "  bst.update(dtrain, iteration=i, fobj=obj)\n",
      "/Users/gab/Desktop/school/hec_w25/python/projet/.venv/lib/python3.11/site-packages/xgboost/training.py:183: UserWarning: [16:33:12] WARNING: /Users/runner/work/xgboost/xgboost/src/learner.cc:738: \n",
      "Parameters: { \"use_label_encoder\" } are not used.\n",
      "\n",
      "  bst.update(dtrain, iteration=i, fobj=obj)\n"
     ]
    },
    {
     "name": "stdout",
     "output_type": "stream",
     "text": [
      "[CV 1/5] END colsample_bylevel=1.0, colsample_bytree=0.9, gamma=0, learning_rate=0.05, max_depth=10, min_child_weight=7, n_estimators=1000, reg_alpha=0, reg_lambda=10.0, scale_pos_weight=1.2, subsample=0.8;, score=0.597 total time=   1.2s\n",
      "[CV 2/5] END colsample_bylevel=1.0, colsample_bytree=0.9, gamma=0, learning_rate=0.05, max_depth=10, min_child_weight=7, n_estimators=1000, reg_alpha=0, reg_lambda=10.0, scale_pos_weight=1.2, subsample=0.8;, score=0.628 total time=   1.2s\n",
      "[CV 3/5] END colsample_bylevel=1.0, colsample_bytree=0.9, gamma=0, learning_rate=0.05, max_depth=10, min_child_weight=7, n_estimators=1000, reg_alpha=0, reg_lambda=10.0, scale_pos_weight=1.2, subsample=0.8;, score=0.537 total time=   1.4s\n",
      "[CV 1/5] END colsample_bylevel=0.9, colsample_bytree=0.6, gamma=0, learning_rate=0.03, max_depth=10, min_child_weight=1, n_estimators=500, reg_alpha=0, reg_lambda=1.0, scale_pos_weight=1.1, subsample=0.8;, score=0.604 total time=   1.2s\n",
      "[CV 5/5] END colsample_bylevel=1.0, colsample_bytree=0.9, gamma=0, learning_rate=0.05, max_depth=10, min_child_weight=7, n_estimators=1000, reg_alpha=0, reg_lambda=10.0, scale_pos_weight=1.2, subsample=0.8;, score=0.629 total time=   1.2s\n"
     ]
    },
    {
     "name": "stderr",
     "output_type": "stream",
     "text": [
      "/Users/gab/Desktop/school/hec_w25/python/projet/.venv/lib/python3.11/site-packages/xgboost/training.py:183: UserWarning: [16:33:13] WARNING: /Users/runner/work/xgboost/xgboost/src/learner.cc:738: \n",
      "Parameters: { \"use_label_encoder\" } are not used.\n",
      "\n",
      "  bst.update(dtrain, iteration=i, fobj=obj)\n",
      "/Users/gab/Desktop/school/hec_w25/python/projet/.venv/lib/python3.11/site-packages/xgboost/training.py:183: UserWarning: [16:33:13] WARNING: /Users/runner/work/xgboost/xgboost/src/learner.cc:738: \n",
      "Parameters: { \"use_label_encoder\" } are not used.\n",
      "\n",
      "  bst.update(dtrain, iteration=i, fobj=obj)\n"
     ]
    },
    {
     "name": "stdout",
     "output_type": "stream",
     "text": [
      "[CV 4/5] END colsample_bylevel=1.0, colsample_bytree=0.9, gamma=0, learning_rate=0.05, max_depth=10, min_child_weight=7, n_estimators=1000, reg_alpha=0, reg_lambda=10.0, scale_pos_weight=1.2, subsample=0.8;, score=0.606 total time=   1.3s\n"
     ]
    },
    {
     "name": "stderr",
     "output_type": "stream",
     "text": [
      "/Users/gab/Desktop/school/hec_w25/python/projet/.venv/lib/python3.11/site-packages/xgboost/training.py:183: UserWarning: [16:33:13] WARNING: /Users/runner/work/xgboost/xgboost/src/learner.cc:738: \n",
      "Parameters: { \"use_label_encoder\" } are not used.\n",
      "\n",
      "  bst.update(dtrain, iteration=i, fobj=obj)\n",
      "/Users/gab/Desktop/school/hec_w25/python/projet/.venv/lib/python3.11/site-packages/xgboost/training.py:183: UserWarning: [16:33:13] WARNING: /Users/runner/work/xgboost/xgboost/src/learner.cc:738: \n",
      "Parameters: { \"use_label_encoder\" } are not used.\n",
      "\n",
      "  bst.update(dtrain, iteration=i, fobj=obj)\n",
      "/Users/gab/Desktop/school/hec_w25/python/projet/.venv/lib/python3.11/site-packages/xgboost/training.py:183: UserWarning: [16:33:13] WARNING: /Users/runner/work/xgboost/xgboost/src/learner.cc:738: \n",
      "Parameters: { \"use_label_encoder\" } are not used.\n",
      "\n",
      "  bst.update(dtrain, iteration=i, fobj=obj)\n",
      "/Users/gab/Desktop/school/hec_w25/python/projet/.venv/lib/python3.11/site-packages/xgboost/training.py:183: UserWarning: [16:33:13] WARNING: /Users/runner/work/xgboost/xgboost/src/learner.cc:738: \n",
      "Parameters: { \"use_label_encoder\" } are not used.\n",
      "\n",
      "  bst.update(dtrain, iteration=i, fobj=obj)\n"
     ]
    },
    {
     "name": "stdout",
     "output_type": "stream",
     "text": [
      "[CV 2/5] END colsample_bylevel=1.0, colsample_bytree=0.8, gamma=0.3, learning_rate=0.1, max_depth=8, min_child_weight=1, n_estimators=1500, reg_alpha=1.0, reg_lambda=5.0, scale_pos_weight=1.2, subsample=1.0;, score=0.631 total time=   0.5s\n",
      "[CV 1/5] END colsample_bylevel=1.0, colsample_bytree=0.8, gamma=0.3, learning_rate=0.1, max_depth=8, min_child_weight=1, n_estimators=1500, reg_alpha=1.0, reg_lambda=5.0, scale_pos_weight=1.2, subsample=1.0;, score=0.603 total time=   0.5s\n",
      "[CV 4/5] END colsample_bylevel=1.0, colsample_bytree=0.8, gamma=0.3, learning_rate=0.1, max_depth=8, min_child_weight=1, n_estimators=1500, reg_alpha=1.0, reg_lambda=5.0, scale_pos_weight=1.2, subsample=1.0;, score=0.560 total time=   0.5s\n",
      "[CV 3/5] END colsample_bylevel=0.9, colsample_bytree=0.6, gamma=0, learning_rate=0.03, max_depth=10, min_child_weight=1, n_estimators=500, reg_alpha=0, reg_lambda=1.0, scale_pos_weight=1.1, subsample=0.8;, score=0.512 total time=   1.3s\n",
      "[CV 3/5] END colsample_bylevel=1.0, colsample_bytree=0.8, gamma=0.3, learning_rate=0.1, max_depth=8, min_child_weight=1, n_estimators=1500, reg_alpha=1.0, reg_lambda=5.0, scale_pos_weight=1.2, subsample=1.0;, score=0.516 total time=   0.6s\n",
      "[CV 2/5] END colsample_bylevel=0.9, colsample_bytree=0.6, gamma=0, learning_rate=0.03, max_depth=10, min_child_weight=1, n_estimators=500, reg_alpha=0, reg_lambda=1.0, scale_pos_weight=1.1, subsample=0.8;, score=0.623 total time=   1.3s\n"
     ]
    },
    {
     "name": "stderr",
     "output_type": "stream",
     "text": [
      "/Users/gab/Desktop/school/hec_w25/python/projet/.venv/lib/python3.11/site-packages/xgboost/training.py:183: UserWarning: [16:33:13] WARNING: /Users/runner/work/xgboost/xgboost/src/learner.cc:738: \n",
      "Parameters: { \"use_label_encoder\" } are not used.\n",
      "\n",
      "  bst.update(dtrain, iteration=i, fobj=obj)\n",
      "/Users/gab/Desktop/school/hec_w25/python/projet/.venv/lib/python3.11/site-packages/xgboost/training.py:183: UserWarning: [16:33:13] WARNING: /Users/runner/work/xgboost/xgboost/src/learner.cc:738: \n",
      "Parameters: { \"use_label_encoder\" } are not used.\n",
      "\n",
      "  bst.update(dtrain, iteration=i, fobj=obj)\n",
      "/Users/gab/Desktop/school/hec_w25/python/projet/.venv/lib/python3.11/site-packages/xgboost/training.py:183: UserWarning: [16:33:13] WARNING: /Users/runner/work/xgboost/xgboost/src/learner.cc:738: \n",
      "Parameters: { \"use_label_encoder\" } are not used.\n",
      "\n",
      "  bst.update(dtrain, iteration=i, fobj=obj)\n",
      "/Users/gab/Desktop/school/hec_w25/python/projet/.venv/lib/python3.11/site-packages/xgboost/training.py:183: UserWarning: [16:33:13] WARNING: /Users/runner/work/xgboost/xgboost/src/learner.cc:738: \n",
      "Parameters: { \"use_label_encoder\" } are not used.\n",
      "\n",
      "  bst.update(dtrain, iteration=i, fobj=obj)\n",
      "/Users/gab/Desktop/school/hec_w25/python/projet/.venv/lib/python3.11/site-packages/xgboost/training.py:183: UserWarning: [16:33:13] WARNING: /Users/runner/work/xgboost/xgboost/src/learner.cc:738: \n",
      "Parameters: { \"use_label_encoder\" } are not used.\n",
      "\n",
      "  bst.update(dtrain, iteration=i, fobj=obj)\n",
      "/Users/gab/Desktop/school/hec_w25/python/projet/.venv/lib/python3.11/site-packages/xgboost/training.py:183: UserWarning: [16:33:13] WARNING: /Users/runner/work/xgboost/xgboost/src/learner.cc:738: \n",
      "Parameters: { \"use_label_encoder\" } are not used.\n",
      "\n",
      "  bst.update(dtrain, iteration=i, fobj=obj)\n"
     ]
    },
    {
     "name": "stdout",
     "output_type": "stream",
     "text": [
      "[CV 5/5] END colsample_bylevel=1.0, colsample_bytree=0.8, gamma=0.3, learning_rate=0.1, max_depth=8, min_child_weight=1, n_estimators=1500, reg_alpha=1.0, reg_lambda=5.0, scale_pos_weight=1.2, subsample=1.0;, score=0.632 total time=   0.5s\n",
      "[CV 5/5] END colsample_bylevel=0.9, colsample_bytree=0.6, gamma=0, learning_rate=0.03, max_depth=10, min_child_weight=1, n_estimators=500, reg_alpha=0, reg_lambda=1.0, scale_pos_weight=1.1, subsample=0.8;, score=0.659 total time=   1.2s\n",
      "[CV 4/5] END colsample_bylevel=0.9, colsample_bytree=0.6, gamma=0, learning_rate=0.03, max_depth=10, min_child_weight=1, n_estimators=500, reg_alpha=0, reg_lambda=1.0, scale_pos_weight=1.1, subsample=0.8;, score=0.578 total time=   1.2s\n"
     ]
    },
    {
     "name": "stderr",
     "output_type": "stream",
     "text": [
      "/Users/gab/Desktop/school/hec_w25/python/projet/.venv/lib/python3.11/site-packages/xgboost/training.py:183: UserWarning: [16:33:14] WARNING: /Users/runner/work/xgboost/xgboost/src/learner.cc:738: \n",
      "Parameters: { \"use_label_encoder\" } are not used.\n",
      "\n",
      "  bst.update(dtrain, iteration=i, fobj=obj)\n",
      "/Users/gab/Desktop/school/hec_w25/python/projet/.venv/lib/python3.11/site-packages/xgboost/training.py:183: UserWarning: [16:33:14] WARNING: /Users/runner/work/xgboost/xgboost/src/learner.cc:738: \n",
      "Parameters: { \"use_label_encoder\" } are not used.\n",
      "\n",
      "  bst.update(dtrain, iteration=i, fobj=obj)\n",
      "/Users/gab/Desktop/school/hec_w25/python/projet/.venv/lib/python3.11/site-packages/xgboost/training.py:183: UserWarning: [16:33:14] WARNING: /Users/runner/work/xgboost/xgboost/src/learner.cc:738: \n",
      "Parameters: { \"use_label_encoder\" } are not used.\n",
      "\n",
      "  bst.update(dtrain, iteration=i, fobj=obj)\n"
     ]
    },
    {
     "name": "stdout",
     "output_type": "stream",
     "text": [
      "[CV 1/5] END colsample_bylevel=1.0, colsample_bytree=0.8, gamma=0, learning_rate=0.15, max_depth=6, min_child_weight=7, n_estimators=1500, reg_alpha=0, reg_lambda=10.0, scale_pos_weight=1.0, subsample=0.7;, score=0.585 total time=   1.0s\n",
      "[CV 3/5] END colsample_bylevel=1.0, colsample_bytree=0.8, gamma=0, learning_rate=0.15, max_depth=6, min_child_weight=7, n_estimators=1500, reg_alpha=0, reg_lambda=10.0, scale_pos_weight=1.0, subsample=0.7;, score=0.540 total time=   1.0s\n"
     ]
    },
    {
     "name": "stderr",
     "output_type": "stream",
     "text": [
      "/Users/gab/Desktop/school/hec_w25/python/projet/.venv/lib/python3.11/site-packages/xgboost/training.py:183: UserWarning: [16:33:14] WARNING: /Users/runner/work/xgboost/xgboost/src/learner.cc:738: \n",
      "Parameters: { \"use_label_encoder\" } are not used.\n",
      "\n",
      "  bst.update(dtrain, iteration=i, fobj=obj)\n",
      "/Users/gab/Desktop/school/hec_w25/python/projet/.venv/lib/python3.11/site-packages/xgboost/training.py:183: UserWarning: [16:33:14] WARNING: /Users/runner/work/xgboost/xgboost/src/learner.cc:738: \n",
      "Parameters: { \"use_label_encoder\" } are not used.\n",
      "\n",
      "  bst.update(dtrain, iteration=i, fobj=obj)\n"
     ]
    },
    {
     "name": "stdout",
     "output_type": "stream",
     "text": [
      "[CV 5/5] END colsample_bylevel=1.0, colsample_bytree=0.8, gamma=0, learning_rate=0.15, max_depth=6, min_child_weight=7, n_estimators=1500, reg_alpha=0, reg_lambda=10.0, scale_pos_weight=1.0, subsample=0.7;, score=0.626 total time=   1.1s\n",
      "[CV 2/5] END colsample_bylevel=1.0, colsample_bytree=0.8, gamma=0, learning_rate=0.15, max_depth=6, min_child_weight=7, n_estimators=1500, reg_alpha=0, reg_lambda=10.0, scale_pos_weight=1.0, subsample=0.7;, score=0.603 total time=   1.2s\n",
      "[CV 4/5] END colsample_bylevel=1.0, colsample_bytree=0.8, gamma=0, learning_rate=0.15, max_depth=6, min_child_weight=7, n_estimators=1500, reg_alpha=0, reg_lambda=10.0, scale_pos_weight=1.0, subsample=0.7;, score=0.606 total time=   1.1s\n"
     ]
    },
    {
     "name": "stderr",
     "output_type": "stream",
     "text": [
      "/Users/gab/Desktop/school/hec_w25/python/projet/.venv/lib/python3.11/site-packages/xgboost/training.py:183: UserWarning: [16:33:15] WARNING: /Users/runner/work/xgboost/xgboost/src/learner.cc:738: \n",
      "Parameters: { \"use_label_encoder\" } are not used.\n",
      "\n",
      "  bst.update(dtrain, iteration=i, fobj=obj)\n",
      "/Users/gab/Desktop/school/hec_w25/python/projet/.venv/lib/python3.11/site-packages/xgboost/training.py:183: UserWarning: [16:33:15] WARNING: /Users/runner/work/xgboost/xgboost/src/learner.cc:738: \n",
      "Parameters: { \"use_label_encoder\" } are not used.\n",
      "\n",
      "  bst.update(dtrain, iteration=i, fobj=obj)\n",
      "/Users/gab/Desktop/school/hec_w25/python/projet/.venv/lib/python3.11/site-packages/xgboost/training.py:183: UserWarning: [16:33:15] WARNING: /Users/runner/work/xgboost/xgboost/src/learner.cc:738: \n",
      "Parameters: { \"use_label_encoder\" } are not used.\n",
      "\n",
      "  bst.update(dtrain, iteration=i, fobj=obj)\n"
     ]
    },
    {
     "name": "stdout",
     "output_type": "stream",
     "text": [
      "[CV 2/5] END colsample_bylevel=0.9, colsample_bytree=0.6, gamma=0.3, learning_rate=0.1, max_depth=8, min_child_weight=5, n_estimators=1000, reg_alpha=1.0, reg_lambda=10.0, scale_pos_weight=1.225, subsample=0.9;, score=0.623 total time=   0.5s\n",
      "[CV 1/5] END colsample_bylevel=0.9, colsample_bytree=0.6, gamma=0.3, learning_rate=0.1, max_depth=8, min_child_weight=5, n_estimators=1000, reg_alpha=1.0, reg_lambda=10.0, scale_pos_weight=1.225, subsample=0.9;, score=0.599 total time=   0.6s\n",
      "[CV 3/5] END colsample_bylevel=0.9, colsample_bytree=0.6, gamma=0.3, learning_rate=0.1, max_depth=8, min_child_weight=5, n_estimators=1000, reg_alpha=1.0, reg_lambda=10.0, scale_pos_weight=1.225, subsample=0.9;, score=0.534 total time=   0.6s\n"
     ]
    },
    {
     "name": "stderr",
     "output_type": "stream",
     "text": [
      "/Users/gab/Desktop/school/hec_w25/python/projet/.venv/lib/python3.11/site-packages/xgboost/training.py:183: UserWarning: [16:33:15] WARNING: /Users/runner/work/xgboost/xgboost/src/learner.cc:738: \n",
      "Parameters: { \"use_label_encoder\" } are not used.\n",
      "\n",
      "  bst.update(dtrain, iteration=i, fobj=obj)\n",
      "/Users/gab/Desktop/school/hec_w25/python/projet/.venv/lib/python3.11/site-packages/xgboost/training.py:183: UserWarning: [16:33:15] WARNING: /Users/runner/work/xgboost/xgboost/src/learner.cc:738: \n",
      "Parameters: { \"use_label_encoder\" } are not used.\n",
      "\n",
      "  bst.update(dtrain, iteration=i, fobj=obj)\n",
      "/Users/gab/Desktop/school/hec_w25/python/projet/.venv/lib/python3.11/site-packages/xgboost/training.py:183: UserWarning: [16:33:15] WARNING: /Users/runner/work/xgboost/xgboost/src/learner.cc:738: \n",
      "Parameters: { \"use_label_encoder\" } are not used.\n",
      "\n",
      "  bst.update(dtrain, iteration=i, fobj=obj)\n"
     ]
    },
    {
     "name": "stdout",
     "output_type": "stream",
     "text": [
      "[CV 4/5] END colsample_bylevel=0.9, colsample_bytree=0.6, gamma=0.3, learning_rate=0.1, max_depth=8, min_child_weight=5, n_estimators=1000, reg_alpha=1.0, reg_lambda=10.0, scale_pos_weight=1.225, subsample=0.9;, score=0.581 total time=   0.5s\n"
     ]
    },
    {
     "name": "stderr",
     "output_type": "stream",
     "text": [
      "/Users/gab/Desktop/school/hec_w25/python/projet/.venv/lib/python3.11/site-packages/xgboost/training.py:183: UserWarning: [16:33:16] WARNING: /Users/runner/work/xgboost/xgboost/src/learner.cc:738: \n",
      "Parameters: { \"use_label_encoder\" } are not used.\n",
      "\n",
      "  bst.update(dtrain, iteration=i, fobj=obj)\n"
     ]
    },
    {
     "name": "stdout",
     "output_type": "stream",
     "text": [
      "[CV 5/5] END colsample_bylevel=0.9, colsample_bytree=0.6, gamma=0.3, learning_rate=0.1, max_depth=8, min_child_weight=5, n_estimators=1000, reg_alpha=1.0, reg_lambda=10.0, scale_pos_weight=1.225, subsample=0.9;, score=0.635 total time=   0.7s\n",
      "[CV 1/5] END colsample_bylevel=0.9, colsample_bytree=0.6, gamma=0.05, learning_rate=0.01, max_depth=8, min_child_weight=1, n_estimators=1000, reg_alpha=1.0, reg_lambda=1.0, scale_pos_weight=1.2, subsample=0.9;, score=0.610 total time=   2.2s\n",
      "[CV 3/5] END colsample_bylevel=0.9, colsample_bytree=0.6, gamma=0.05, learning_rate=0.01, max_depth=8, min_child_weight=1, n_estimators=1000, reg_alpha=1.0, reg_lambda=1.0, scale_pos_weight=1.2, subsample=0.9;, score=0.518 total time=   2.1s\n"
     ]
    },
    {
     "name": "stderr",
     "output_type": "stream",
     "text": [
      "/Users/gab/Desktop/school/hec_w25/python/projet/.venv/lib/python3.11/site-packages/xgboost/training.py:183: UserWarning: [16:33:16] WARNING: /Users/runner/work/xgboost/xgboost/src/learner.cc:738: \n",
      "Parameters: { \"use_label_encoder\" } are not used.\n",
      "\n",
      "  bst.update(dtrain, iteration=i, fobj=obj)\n",
      "/Users/gab/Desktop/school/hec_w25/python/projet/.venv/lib/python3.11/site-packages/xgboost/training.py:183: UserWarning: [16:33:16] WARNING: /Users/runner/work/xgboost/xgboost/src/learner.cc:738: \n",
      "Parameters: { \"use_label_encoder\" } are not used.\n",
      "\n",
      "  bst.update(dtrain, iteration=i, fobj=obj)\n",
      "/Users/gab/Desktop/school/hec_w25/python/projet/.venv/lib/python3.11/site-packages/xgboost/training.py:183: UserWarning: [16:33:16] WARNING: /Users/runner/work/xgboost/xgboost/src/learner.cc:738: \n",
      "Parameters: { \"use_label_encoder\" } are not used.\n",
      "\n",
      "  bst.update(dtrain, iteration=i, fobj=obj)\n"
     ]
    },
    {
     "name": "stdout",
     "output_type": "stream",
     "text": [
      "[CV 2/5] END colsample_bylevel=0.9, colsample_bytree=0.6, gamma=0.05, learning_rate=0.01, max_depth=8, min_child_weight=1, n_estimators=1000, reg_alpha=1.0, reg_lambda=1.0, scale_pos_weight=1.2, subsample=0.9;, score=0.627 total time=   2.4s\n"
     ]
    },
    {
     "name": "stderr",
     "output_type": "stream",
     "text": [
      "/Users/gab/Desktop/school/hec_w25/python/projet/.venv/lib/python3.11/site-packages/xgboost/training.py:183: UserWarning: [16:33:16] WARNING: /Users/runner/work/xgboost/xgboost/src/learner.cc:738: \n",
      "Parameters: { \"use_label_encoder\" } are not used.\n",
      "\n",
      "  bst.update(dtrain, iteration=i, fobj=obj)\n"
     ]
    },
    {
     "name": "stdout",
     "output_type": "stream",
     "text": [
      "[CV 4/5] END colsample_bylevel=0.9, colsample_bytree=0.6, gamma=0.05, learning_rate=0.01, max_depth=8, min_child_weight=1, n_estimators=1000, reg_alpha=1.0, reg_lambda=1.0, scale_pos_weight=1.2, subsample=0.9;, score=0.585 total time=   2.2s\n"
     ]
    },
    {
     "name": "stderr",
     "output_type": "stream",
     "text": [
      "/Users/gab/Desktop/school/hec_w25/python/projet/.venv/lib/python3.11/site-packages/xgboost/training.py:183: UserWarning: [16:33:17] WARNING: /Users/runner/work/xgboost/xgboost/src/learner.cc:738: \n",
      "Parameters: { \"use_label_encoder\" } are not used.\n",
      "\n",
      "  bst.update(dtrain, iteration=i, fobj=obj)\n"
     ]
    },
    {
     "name": "stdout",
     "output_type": "stream",
     "text": [
      "[CV 5/5] END colsample_bylevel=0.9, colsample_bytree=0.6, gamma=0.05, learning_rate=0.01, max_depth=8, min_child_weight=1, n_estimators=1000, reg_alpha=1.0, reg_lambda=1.0, scale_pos_weight=1.2, subsample=0.9;, score=0.653 total time=   2.7s\n"
     ]
    },
    {
     "name": "stderr",
     "output_type": "stream",
     "text": [
      "/Users/gab/Desktop/school/hec_w25/python/projet/.venv/lib/python3.11/site-packages/xgboost/training.py:183: UserWarning: [16:33:17] WARNING: /Users/runner/work/xgboost/xgboost/src/learner.cc:738: \n",
      "Parameters: { \"use_label_encoder\" } are not used.\n",
      "\n",
      "  bst.update(dtrain, iteration=i, fobj=obj)\n"
     ]
    },
    {
     "name": "stdout",
     "output_type": "stream",
     "text": [
      "[CV 1/5] END colsample_bylevel=0.8, colsample_bytree=0.9, gamma=0.05, learning_rate=0.01, max_depth=8, min_child_weight=5, n_estimators=1500, reg_alpha=0.5, reg_lambda=10.0, scale_pos_weight=1.2, subsample=1.0;, score=0.602 total time=   2.2s\n"
     ]
    },
    {
     "name": "stderr",
     "output_type": "stream",
     "text": [
      "/Users/gab/Desktop/school/hec_w25/python/projet/.venv/lib/python3.11/site-packages/xgboost/training.py:183: UserWarning: [16:33:17] WARNING: /Users/runner/work/xgboost/xgboost/src/learner.cc:738: \n",
      "Parameters: { \"use_label_encoder\" } are not used.\n",
      "\n",
      "  bst.update(dtrain, iteration=i, fobj=obj)\n"
     ]
    },
    {
     "name": "stdout",
     "output_type": "stream",
     "text": [
      "[CV 2/5] END colsample_bylevel=0.8, colsample_bytree=0.9, gamma=0.05, learning_rate=0.01, max_depth=8, min_child_weight=5, n_estimators=1500, reg_alpha=0.5, reg_lambda=10.0, scale_pos_weight=1.2, subsample=1.0;, score=0.627 total time=   2.3s\n",
      "[CV 1/5] END colsample_bylevel=1.0, colsample_bytree=0.9, gamma=0.05, learning_rate=0.05, max_depth=12, min_child_weight=3, n_estimators=2000, reg_alpha=0, reg_lambda=0.1, scale_pos_weight=1.225, subsample=0.9;, score=0.589 total time=   1.8s\n",
      "[CV 3/5] END colsample_bylevel=0.8, colsample_bytree=0.9, gamma=0.05, learning_rate=0.01, max_depth=8, min_child_weight=5, n_estimators=1500, reg_alpha=0.5, reg_lambda=10.0, scale_pos_weight=1.2, subsample=1.0;, score=0.516 total time=   2.3s\n"
     ]
    },
    {
     "name": "stderr",
     "output_type": "stream",
     "text": [
      "/Users/gab/Desktop/school/hec_w25/python/projet/.venv/lib/python3.11/site-packages/xgboost/training.py:183: UserWarning: [16:33:18] WARNING: /Users/runner/work/xgboost/xgboost/src/learner.cc:738: \n",
      "Parameters: { \"use_label_encoder\" } are not used.\n",
      "\n",
      "  bst.update(dtrain, iteration=i, fobj=obj)\n",
      "/Users/gab/Desktop/school/hec_w25/python/projet/.venv/lib/python3.11/site-packages/xgboost/training.py:183: UserWarning: [16:33:18] WARNING: /Users/runner/work/xgboost/xgboost/src/learner.cc:738: \n",
      "Parameters: { \"use_label_encoder\" } are not used.\n",
      "\n",
      "  bst.update(dtrain, iteration=i, fobj=obj)\n",
      "/Users/gab/Desktop/school/hec_w25/python/projet/.venv/lib/python3.11/site-packages/xgboost/training.py:183: UserWarning: [16:33:18] WARNING: /Users/runner/work/xgboost/xgboost/src/learner.cc:738: \n",
      "Parameters: { \"use_label_encoder\" } are not used.\n",
      "\n",
      "  bst.update(dtrain, iteration=i, fobj=obj)\n"
     ]
    },
    {
     "name": "stdout",
     "output_type": "stream",
     "text": [
      "[CV 4/5] END colsample_bylevel=0.8, colsample_bytree=0.9, gamma=0.05, learning_rate=0.01, max_depth=8, min_child_weight=5, n_estimators=1500, reg_alpha=0.5, reg_lambda=10.0, scale_pos_weight=1.2, subsample=1.0;, score=0.574 total time=   2.3s\n",
      "[CV 2/5] END colsample_bylevel=1.0, colsample_bytree=0.9, gamma=0.05, learning_rate=0.05, max_depth=12, min_child_weight=3, n_estimators=2000, reg_alpha=0, reg_lambda=0.1, scale_pos_weight=1.225, subsample=0.9;, score=0.605 total time=   1.8s\n"
     ]
    },
    {
     "name": "stderr",
     "output_type": "stream",
     "text": [
      "/Users/gab/Desktop/school/hec_w25/python/projet/.venv/lib/python3.11/site-packages/xgboost/training.py:183: UserWarning: [16:33:18] WARNING: /Users/runner/work/xgboost/xgboost/src/learner.cc:738: \n",
      "Parameters: { \"use_label_encoder\" } are not used.\n",
      "\n",
      "  bst.update(dtrain, iteration=i, fobj=obj)\n",
      "/Users/gab/Desktop/school/hec_w25/python/projet/.venv/lib/python3.11/site-packages/xgboost/training.py:183: UserWarning: [16:33:18] WARNING: /Users/runner/work/xgboost/xgboost/src/learner.cc:738: \n",
      "Parameters: { \"use_label_encoder\" } are not used.\n",
      "\n",
      "  bst.update(dtrain, iteration=i, fobj=obj)\n"
     ]
    },
    {
     "name": "stdout",
     "output_type": "stream",
     "text": [
      "[CV 5/5] END colsample_bylevel=0.8, colsample_bytree=0.9, gamma=0.05, learning_rate=0.01, max_depth=8, min_child_weight=5, n_estimators=1500, reg_alpha=0.5, reg_lambda=10.0, scale_pos_weight=1.2, subsample=1.0;, score=0.638 total time=   2.6s\n"
     ]
    },
    {
     "name": "stderr",
     "output_type": "stream",
     "text": [
      "/Users/gab/Desktop/school/hec_w25/python/projet/.venv/lib/python3.11/site-packages/xgboost/training.py:183: UserWarning: [16:33:19] WARNING: /Users/runner/work/xgboost/xgboost/src/learner.cc:738: \n",
      "Parameters: { \"use_label_encoder\" } are not used.\n",
      "\n",
      "  bst.update(dtrain, iteration=i, fobj=obj)\n"
     ]
    },
    {
     "name": "stdout",
     "output_type": "stream",
     "text": [
      "[CV 3/5] END colsample_bylevel=1.0, colsample_bytree=0.9, gamma=0.05, learning_rate=0.05, max_depth=12, min_child_weight=3, n_estimators=2000, reg_alpha=0, reg_lambda=0.1, scale_pos_weight=1.225, subsample=0.9;, score=0.511 total time=   1.9s\n"
     ]
    },
    {
     "name": "stderr",
     "output_type": "stream",
     "text": [
      "/Users/gab/Desktop/school/hec_w25/python/projet/.venv/lib/python3.11/site-packages/xgboost/training.py:183: UserWarning: [16:33:19] WARNING: /Users/runner/work/xgboost/xgboost/src/learner.cc:738: \n",
      "Parameters: { \"use_label_encoder\" } are not used.\n",
      "\n",
      "  bst.update(dtrain, iteration=i, fobj=obj)\n"
     ]
    },
    {
     "name": "stdout",
     "output_type": "stream",
     "text": [
      "[CV 4/5] END colsample_bylevel=1.0, colsample_bytree=0.9, gamma=0.05, learning_rate=0.05, max_depth=12, min_child_weight=3, n_estimators=2000, reg_alpha=0, reg_lambda=0.1, scale_pos_weight=1.225, subsample=0.9;, score=0.593 total time=   1.9s\n",
      "[CV 1/5] END colsample_bylevel=0.8, colsample_bytree=0.6, gamma=0.05, learning_rate=0.15, max_depth=12, min_child_weight=5, n_estimators=2000, reg_alpha=0.5, reg_lambda=10.0, scale_pos_weight=1.225, subsample=0.8;, score=0.579 total time=   1.4s\n",
      "[CV 2/5] END colsample_bylevel=0.8, colsample_bytree=0.6, gamma=0.05, learning_rate=0.15, max_depth=12, min_child_weight=5, n_estimators=2000, reg_alpha=0.5, reg_lambda=10.0, scale_pos_weight=1.225, subsample=0.8;, score=0.607 total time=   1.3s\n",
      "[CV 3/5] END colsample_bylevel=0.8, colsample_bytree=0.6, gamma=0.05, learning_rate=0.15, max_depth=12, min_child_weight=5, n_estimators=2000, reg_alpha=0.5, reg_lambda=10.0, scale_pos_weight=1.225, subsample=0.8;, score=0.532 total time=   1.3s\n"
     ]
    },
    {
     "name": "stderr",
     "output_type": "stream",
     "text": [
      "/Users/gab/Desktop/school/hec_w25/python/projet/.venv/lib/python3.11/site-packages/xgboost/training.py:183: UserWarning: [16:33:19] WARNING: /Users/runner/work/xgboost/xgboost/src/learner.cc:738: \n",
      "Parameters: { \"use_label_encoder\" } are not used.\n",
      "\n",
      "  bst.update(dtrain, iteration=i, fobj=obj)\n",
      "/Users/gab/Desktop/school/hec_w25/python/projet/.venv/lib/python3.11/site-packages/xgboost/training.py:183: UserWarning: [16:33:19] WARNING: /Users/runner/work/xgboost/xgboost/src/learner.cc:738: \n",
      "Parameters: { \"use_label_encoder\" } are not used.\n",
      "\n",
      "  bst.update(dtrain, iteration=i, fobj=obj)\n",
      "/Users/gab/Desktop/school/hec_w25/python/projet/.venv/lib/python3.11/site-packages/xgboost/training.py:183: UserWarning: [16:33:19] WARNING: /Users/runner/work/xgboost/xgboost/src/learner.cc:738: \n",
      "Parameters: { \"use_label_encoder\" } are not used.\n",
      "\n",
      "  bst.update(dtrain, iteration=i, fobj=obj)\n",
      "/Users/gab/Desktop/school/hec_w25/python/projet/.venv/lib/python3.11/site-packages/xgboost/training.py:183: UserWarning: [16:33:20] WARNING: /Users/runner/work/xgboost/xgboost/src/learner.cc:738: \n",
      "Parameters: { \"use_label_encoder\" } are not used.\n",
      "\n",
      "  bst.update(dtrain, iteration=i, fobj=obj)\n"
     ]
    },
    {
     "name": "stdout",
     "output_type": "stream",
     "text": [
      "[CV 1/5] END colsample_bylevel=0.7, colsample_bytree=0.5, gamma=0, learning_rate=0.15, max_depth=4, min_child_weight=5, n_estimators=1500, reg_alpha=0.5, reg_lambda=5.0, scale_pos_weight=1.225, subsample=0.9;, score=0.592 total time=   0.5s\n",
      "[CV 4/5] END colsample_bylevel=0.8, colsample_bytree=0.6, gamma=0.05, learning_rate=0.15, max_depth=12, min_child_weight=5, n_estimators=2000, reg_alpha=0.5, reg_lambda=10.0, scale_pos_weight=1.225, subsample=0.8;, score=0.598 total time=   1.3s\n"
     ]
    },
    {
     "name": "stderr",
     "output_type": "stream",
     "text": [
      "/Users/gab/Desktop/school/hec_w25/python/projet/.venv/lib/python3.11/site-packages/xgboost/training.py:183: UserWarning: [16:33:20] WARNING: /Users/runner/work/xgboost/xgboost/src/learner.cc:738: \n",
      "Parameters: { \"use_label_encoder\" } are not used.\n",
      "\n",
      "  bst.update(dtrain, iteration=i, fobj=obj)\n",
      "/Users/gab/Desktop/school/hec_w25/python/projet/.venv/lib/python3.11/site-packages/xgboost/training.py:183: UserWarning: [16:33:20] WARNING: /Users/runner/work/xgboost/xgboost/src/learner.cc:738: \n",
      "Parameters: { \"use_label_encoder\" } are not used.\n",
      "\n",
      "  bst.update(dtrain, iteration=i, fobj=obj)\n"
     ]
    },
    {
     "name": "stdout",
     "output_type": "stream",
     "text": [
      "[CV 5/5] END colsample_bylevel=1.0, colsample_bytree=0.9, gamma=0.05, learning_rate=0.05, max_depth=12, min_child_weight=3, n_estimators=2000, reg_alpha=0, reg_lambda=0.1, scale_pos_weight=1.225, subsample=0.9;, score=0.636 total time=   2.0s\n",
      "[CV 5/5] END colsample_bylevel=0.8, colsample_bytree=0.6, gamma=0.05, learning_rate=0.15, max_depth=12, min_child_weight=5, n_estimators=2000, reg_alpha=0.5, reg_lambda=10.0, scale_pos_weight=1.225, subsample=0.8;, score=0.626 total time=   1.4s\n",
      "[CV 2/5] END colsample_bylevel=0.7, colsample_bytree=0.5, gamma=0, learning_rate=0.15, max_depth=4, min_child_weight=5, n_estimators=1500, reg_alpha=0.5, reg_lambda=5.0, scale_pos_weight=1.225, subsample=0.9;, score=0.602 total time=   0.6s\n",
      "[CV 3/5] END colsample_bylevel=0.7, colsample_bytree=0.5, gamma=0, learning_rate=0.15, max_depth=4, min_child_weight=5, n_estimators=1500, reg_alpha=0.5, reg_lambda=5.0, scale_pos_weight=1.225, subsample=0.9;, score=0.516 total time=   0.7s\n",
      "[CV 4/5] END colsample_bylevel=0.7, colsample_bytree=0.5, gamma=0, learning_rate=0.15, max_depth=4, min_child_weight=5, n_estimators=1500, reg_alpha=0.5, reg_lambda=5.0, scale_pos_weight=1.225, subsample=0.9;, score=0.591 total time=   0.7s\n"
     ]
    },
    {
     "name": "stderr",
     "output_type": "stream",
     "text": [
      "/Users/gab/Desktop/school/hec_w25/python/projet/.venv/lib/python3.11/site-packages/xgboost/training.py:183: UserWarning: [16:33:20] WARNING: /Users/runner/work/xgboost/xgboost/src/learner.cc:738: \n",
      "Parameters: { \"use_label_encoder\" } are not used.\n",
      "\n",
      "  bst.update(dtrain, iteration=i, fobj=obj)\n",
      "/Users/gab/Desktop/school/hec_w25/python/projet/.venv/lib/python3.11/site-packages/xgboost/training.py:183: UserWarning: [16:33:20] WARNING: /Users/runner/work/xgboost/xgboost/src/learner.cc:738: \n",
      "Parameters: { \"use_label_encoder\" } are not used.\n",
      "\n",
      "  bst.update(dtrain, iteration=i, fobj=obj)\n",
      "/Users/gab/Desktop/school/hec_w25/python/projet/.venv/lib/python3.11/site-packages/xgboost/training.py:183: UserWarning: [16:33:20] WARNING: /Users/runner/work/xgboost/xgboost/src/learner.cc:738: \n",
      "Parameters: { \"use_label_encoder\" } are not used.\n",
      "\n",
      "  bst.update(dtrain, iteration=i, fobj=obj)\n",
      "/Users/gab/Desktop/school/hec_w25/python/projet/.venv/lib/python3.11/site-packages/xgboost/training.py:183: UserWarning: [16:33:20] WARNING: /Users/runner/work/xgboost/xgboost/src/learner.cc:738: \n",
      "Parameters: { \"use_label_encoder\" } are not used.\n",
      "\n",
      "  bst.update(dtrain, iteration=i, fobj=obj)\n",
      "/Users/gab/Desktop/school/hec_w25/python/projet/.venv/lib/python3.11/site-packages/xgboost/training.py:183: UserWarning: [16:33:20] WARNING: /Users/runner/work/xgboost/xgboost/src/learner.cc:738: \n",
      "Parameters: { \"use_label_encoder\" } are not used.\n",
      "\n",
      "  bst.update(dtrain, iteration=i, fobj=obj)\n"
     ]
    },
    {
     "name": "stdout",
     "output_type": "stream",
     "text": [
      "[CV 5/5] END colsample_bylevel=0.7, colsample_bytree=0.5, gamma=0, learning_rate=0.15, max_depth=4, min_child_weight=5, n_estimators=1500, reg_alpha=0.5, reg_lambda=5.0, scale_pos_weight=1.225, subsample=0.9;, score=0.623 total time=   0.7s\n"
     ]
    },
    {
     "name": "stderr",
     "output_type": "stream",
     "text": [
      "/Users/gab/Desktop/school/hec_w25/python/projet/.venv/lib/python3.11/site-packages/xgboost/training.py:183: UserWarning: [16:33:20] WARNING: /Users/runner/work/xgboost/xgboost/src/learner.cc:738: \n",
      "Parameters: { \"use_label_encoder\" } are not used.\n",
      "\n",
      "  bst.update(dtrain, iteration=i, fobj=obj)\n"
     ]
    },
    {
     "name": "stdout",
     "output_type": "stream",
     "text": [
      "[CV 1/5] END colsample_bylevel=0.9, colsample_bytree=0.5, gamma=0, learning_rate=0.03, max_depth=6, min_child_weight=5, n_estimators=2000, reg_alpha=0.5, reg_lambda=10.0, scale_pos_weight=1.225, subsample=0.8;, score=0.598 total time=   1.6s\n",
      "[CV 2/5] END colsample_bylevel=0.9, colsample_bytree=0.5, gamma=0, learning_rate=0.03, max_depth=6, min_child_weight=5, n_estimators=2000, reg_alpha=0.5, reg_lambda=10.0, scale_pos_weight=1.225, subsample=0.8;, score=0.618 total time=   1.6s\n"
     ]
    },
    {
     "name": "stderr",
     "output_type": "stream",
     "text": [
      "/Users/gab/Desktop/school/hec_w25/python/projet/.venv/lib/python3.11/site-packages/xgboost/training.py:183: UserWarning: [16:33:21] WARNING: /Users/runner/work/xgboost/xgboost/src/learner.cc:738: \n",
      "Parameters: { \"use_label_encoder\" } are not used.\n",
      "\n",
      "  bst.update(dtrain, iteration=i, fobj=obj)\n",
      "/Users/gab/Desktop/school/hec_w25/python/projet/.venv/lib/python3.11/site-packages/xgboost/training.py:183: UserWarning: [16:33:21] WARNING: /Users/runner/work/xgboost/xgboost/src/learner.cc:738: \n",
      "Parameters: { \"use_label_encoder\" } are not used.\n",
      "\n",
      "  bst.update(dtrain, iteration=i, fobj=obj)\n"
     ]
    },
    {
     "name": "stdout",
     "output_type": "stream",
     "text": [
      "[CV 3/5] END colsample_bylevel=0.9, colsample_bytree=0.5, gamma=0, learning_rate=0.03, max_depth=6, min_child_weight=5, n_estimators=2000, reg_alpha=0.5, reg_lambda=10.0, scale_pos_weight=1.225, subsample=0.8;, score=0.533 total time=   1.5s\n",
      "[CV 4/5] END colsample_bylevel=0.9, colsample_bytree=0.5, gamma=0, learning_rate=0.03, max_depth=6, min_child_weight=5, n_estimators=2000, reg_alpha=0.5, reg_lambda=10.0, scale_pos_weight=1.225, subsample=0.8;, score=0.601 total time=   1.6s\n",
      "[CV 5/5] END colsample_bylevel=0.9, colsample_bytree=0.5, gamma=0, learning_rate=0.03, max_depth=6, min_child_weight=5, n_estimators=2000, reg_alpha=0.5, reg_lambda=10.0, scale_pos_weight=1.225, subsample=0.8;, score=0.631 total time=   1.7s\n"
     ]
    },
    {
     "name": "stderr",
     "output_type": "stream",
     "text": [
      "/Users/gab/Desktop/school/hec_w25/python/projet/.venv/lib/python3.11/site-packages/xgboost/training.py:183: UserWarning: [16:33:21] WARNING: /Users/runner/work/xgboost/xgboost/src/learner.cc:738: \n",
      "Parameters: { \"use_label_encoder\" } are not used.\n",
      "\n",
      "  bst.update(dtrain, iteration=i, fobj=obj)\n",
      "/Users/gab/Desktop/school/hec_w25/python/projet/.venv/lib/python3.11/site-packages/xgboost/training.py:183: UserWarning: [16:33:22] WARNING: /Users/runner/work/xgboost/xgboost/src/learner.cc:738: \n",
      "Parameters: { \"use_label_encoder\" } are not used.\n",
      "\n",
      "  bst.update(dtrain, iteration=i, fobj=obj)\n",
      "/Users/gab/Desktop/school/hec_w25/python/projet/.venv/lib/python3.11/site-packages/xgboost/training.py:183: UserWarning: [16:33:22] WARNING: /Users/runner/work/xgboost/xgboost/src/learner.cc:738: \n",
      "Parameters: { \"use_label_encoder\" } are not used.\n",
      "\n",
      "  bst.update(dtrain, iteration=i, fobj=obj)\n"
     ]
    },
    {
     "name": "stdout",
     "output_type": "stream",
     "text": [
      "[CV 2/5] END colsample_bylevel=1.0, colsample_bytree=0.6, gamma=0, learning_rate=0.05, max_depth=8, min_child_weight=3, n_estimators=1000, reg_alpha=1.0, reg_lambda=10.0, scale_pos_weight=1.2, subsample=0.7;, score=0.619 total time=   1.3s\n",
      "[CV 1/5] END colsample_bylevel=1.0, colsample_bytree=0.6, gamma=0, learning_rate=0.05, max_depth=8, min_child_weight=3, n_estimators=1000, reg_alpha=1.0, reg_lambda=10.0, scale_pos_weight=1.2, subsample=0.7;, score=0.585 total time=   1.5s\n",
      "[CV 3/5] END colsample_bylevel=0.7, colsample_bytree=0.8, gamma=0.3, learning_rate=0.01, max_depth=8, min_child_weight=1, n_estimators=1500, reg_alpha=0, reg_lambda=10.0, scale_pos_weight=1.0, subsample=0.9;, score=0.517 total time=   2.9s\n"
     ]
    },
    {
     "name": "stderr",
     "output_type": "stream",
     "text": [
      "/Users/gab/Desktop/school/hec_w25/python/projet/.venv/lib/python3.11/site-packages/xgboost/training.py:183: UserWarning: [16:33:23] WARNING: /Users/runner/work/xgboost/xgboost/src/learner.cc:738: \n",
      "Parameters: { \"use_label_encoder\" } are not used.\n",
      "\n",
      "  bst.update(dtrain, iteration=i, fobj=obj)\n",
      "/Users/gab/Desktop/school/hec_w25/python/projet/.venv/lib/python3.11/site-packages/xgboost/training.py:183: UserWarning: [16:33:23] WARNING: /Users/runner/work/xgboost/xgboost/src/learner.cc:738: \n",
      "Parameters: { \"use_label_encoder\" } are not used.\n",
      "\n",
      "  bst.update(dtrain, iteration=i, fobj=obj)\n",
      "/Users/gab/Desktop/school/hec_w25/python/projet/.venv/lib/python3.11/site-packages/xgboost/training.py:183: UserWarning: [16:33:23] WARNING: /Users/runner/work/xgboost/xgboost/src/learner.cc:738: \n",
      "Parameters: { \"use_label_encoder\" } are not used.\n",
      "\n",
      "  bst.update(dtrain, iteration=i, fobj=obj)\n"
     ]
    },
    {
     "name": "stdout",
     "output_type": "stream",
     "text": [
      "[CV 2/5] END colsample_bylevel=0.7, colsample_bytree=0.8, gamma=0.3, learning_rate=0.01, max_depth=8, min_child_weight=1, n_estimators=1500, reg_alpha=0, reg_lambda=10.0, scale_pos_weight=1.0, subsample=0.9;, score=0.628 total time=   3.1s\n",
      "[CV 1/5] END colsample_bylevel=0.7, colsample_bytree=0.8, gamma=0.3, learning_rate=0.01, max_depth=8, min_child_weight=1, n_estimators=1500, reg_alpha=0, reg_lambda=10.0, scale_pos_weight=1.0, subsample=0.9;, score=0.604 total time=   3.1s\n",
      "[CV 3/5] END colsample_bylevel=1.0, colsample_bytree=0.6, gamma=0, learning_rate=0.05, max_depth=8, min_child_weight=3, n_estimators=1000, reg_alpha=1.0, reg_lambda=10.0, scale_pos_weight=1.2, subsample=0.7;, score=0.538 total time=   1.6s\n"
     ]
    },
    {
     "name": "stderr",
     "output_type": "stream",
     "text": [
      "/Users/gab/Desktop/school/hec_w25/python/projet/.venv/lib/python3.11/site-packages/xgboost/training.py:183: UserWarning: [16:33:23] WARNING: /Users/runner/work/xgboost/xgboost/src/learner.cc:738: \n",
      "Parameters: { \"use_label_encoder\" } are not used.\n",
      "\n",
      "  bst.update(dtrain, iteration=i, fobj=obj)\n",
      "/Users/gab/Desktop/school/hec_w25/python/projet/.venv/lib/python3.11/site-packages/xgboost/training.py:183: UserWarning: [16:33:23] WARNING: /Users/runner/work/xgboost/xgboost/src/learner.cc:738: \n",
      "Parameters: { \"use_label_encoder\" } are not used.\n",
      "\n",
      "  bst.update(dtrain, iteration=i, fobj=obj)\n",
      "/Users/gab/Desktop/school/hec_w25/python/projet/.venv/lib/python3.11/site-packages/xgboost/training.py:183: UserWarning: [16:33:23] WARNING: /Users/runner/work/xgboost/xgboost/src/learner.cc:738: \n",
      "Parameters: { \"use_label_encoder\" } are not used.\n",
      "\n",
      "  bst.update(dtrain, iteration=i, fobj=obj)\n"
     ]
    },
    {
     "name": "stdout",
     "output_type": "stream",
     "text": [
      "[CV 1/5] END colsample_bylevel=0.7, colsample_bytree=0.9, gamma=0.2, learning_rate=0.1, max_depth=8, min_child_weight=7, n_estimators=1000, reg_alpha=1.0, reg_lambda=5.0, scale_pos_weight=1.1, subsample=0.7;, score=0.587 total time=   0.8s\n",
      "[CV 3/5] END colsample_bylevel=0.7, colsample_bytree=0.9, gamma=0.2, learning_rate=0.1, max_depth=8, min_child_weight=7, n_estimators=1000, reg_alpha=1.0, reg_lambda=5.0, scale_pos_weight=1.1, subsample=0.7;, score=0.531 total time=   0.8s\n",
      "[CV 2/5] END colsample_bylevel=0.7, colsample_bytree=0.9, gamma=0.2, learning_rate=0.1, max_depth=8, min_child_weight=7, n_estimators=1000, reg_alpha=1.0, reg_lambda=5.0, scale_pos_weight=1.1, subsample=0.7;, score=0.614 total time=   0.8s\n",
      "[CV 4/5] END colsample_bylevel=0.7, colsample_bytree=0.8, gamma=0.3, learning_rate=0.01, max_depth=8, min_child_weight=1, n_estimators=1500, reg_alpha=0, reg_lambda=10.0, scale_pos_weight=1.0, subsample=0.9;, score=0.579 total time=   2.9s\n",
      "[CV 4/5] END colsample_bylevel=0.7, colsample_bytree=0.9, gamma=0.2, learning_rate=0.1, max_depth=8, min_child_weight=7, n_estimators=1000, reg_alpha=1.0, reg_lambda=5.0, scale_pos_weight=1.1, subsample=0.7;, score=0.604 total time=   0.8s\n"
     ]
    },
    {
     "name": "stderr",
     "output_type": "stream",
     "text": [
      "/Users/gab/Desktop/school/hec_w25/python/projet/.venv/lib/python3.11/site-packages/xgboost/training.py:183: UserWarning: [16:33:24] WARNING: /Users/runner/work/xgboost/xgboost/src/learner.cc:738: \n",
      "Parameters: { \"use_label_encoder\" } are not used.\n",
      "\n",
      "  bst.update(dtrain, iteration=i, fobj=obj)\n",
      "/Users/gab/Desktop/school/hec_w25/python/projet/.venv/lib/python3.11/site-packages/xgboost/training.py:183: UserWarning: [16:33:24] WARNING: /Users/runner/work/xgboost/xgboost/src/learner.cc:738: \n",
      "Parameters: { \"use_label_encoder\" } are not used.\n",
      "\n",
      "  bst.update(dtrain, iteration=i, fobj=obj)\n",
      "/Users/gab/Desktop/school/hec_w25/python/projet/.venv/lib/python3.11/site-packages/xgboost/training.py:183: UserWarning: [16:33:24] WARNING: /Users/runner/work/xgboost/xgboost/src/learner.cc:738: \n",
      "Parameters: { \"use_label_encoder\" } are not used.\n",
      "\n",
      "  bst.update(dtrain, iteration=i, fobj=obj)\n",
      "/Users/gab/Desktop/school/hec_w25/python/projet/.venv/lib/python3.11/site-packages/xgboost/training.py:183: UserWarning: [16:33:24] WARNING: /Users/runner/work/xgboost/xgboost/src/learner.cc:738: \n",
      "Parameters: { \"use_label_encoder\" } are not used.\n",
      "\n",
      "  bst.update(dtrain, iteration=i, fobj=obj)\n",
      "/Users/gab/Desktop/school/hec_w25/python/projet/.venv/lib/python3.11/site-packages/xgboost/training.py:183: UserWarning: [16:33:24] WARNING: /Users/runner/work/xgboost/xgboost/src/learner.cc:738: \n",
      "Parameters: { \"use_label_encoder\" } are not used.\n",
      "\n",
      "  bst.update(dtrain, iteration=i, fobj=obj)\n"
     ]
    },
    {
     "name": "stdout",
     "output_type": "stream",
     "text": [
      "[CV 4/5] END colsample_bylevel=1.0, colsample_bytree=0.6, gamma=0, learning_rate=0.05, max_depth=8, min_child_weight=3, n_estimators=1000, reg_alpha=1.0, reg_lambda=10.0, scale_pos_weight=1.2, subsample=0.7;, score=0.602 total time=   1.4s\n",
      "[CV 5/5] END colsample_bylevel=0.7, colsample_bytree=0.8, gamma=0.3, learning_rate=0.01, max_depth=8, min_child_weight=1, n_estimators=1500, reg_alpha=0, reg_lambda=10.0, scale_pos_weight=1.0, subsample=0.9;, score=0.644 total time=   3.1s\n",
      "[CV 5/5] END colsample_bylevel=1.0, colsample_bytree=0.6, gamma=0, learning_rate=0.05, max_depth=8, min_child_weight=3, n_estimators=1000, reg_alpha=1.0, reg_lambda=10.0, scale_pos_weight=1.2, subsample=0.7;, score=0.631 total time=   1.4s\n"
     ]
    },
    {
     "name": "stderr",
     "output_type": "stream",
     "text": [
      "/Users/gab/Desktop/school/hec_w25/python/projet/.venv/lib/python3.11/site-packages/xgboost/training.py:183: UserWarning: [16:33:24] WARNING: /Users/runner/work/xgboost/xgboost/src/learner.cc:738: \n",
      "Parameters: { \"use_label_encoder\" } are not used.\n",
      "\n",
      "  bst.update(dtrain, iteration=i, fobj=obj)\n",
      "/Users/gab/Desktop/school/hec_w25/python/projet/.venv/lib/python3.11/site-packages/xgboost/training.py:183: UserWarning: [16:33:24] WARNING: /Users/runner/work/xgboost/xgboost/src/learner.cc:738: \n",
      "Parameters: { \"use_label_encoder\" } are not used.\n",
      "\n",
      "  bst.update(dtrain, iteration=i, fobj=obj)\n",
      "/Users/gab/Desktop/school/hec_w25/python/projet/.venv/lib/python3.11/site-packages/xgboost/training.py:183: UserWarning: [16:33:24] WARNING: /Users/runner/work/xgboost/xgboost/src/learner.cc:738: \n",
      "Parameters: { \"use_label_encoder\" } are not used.\n",
      "\n",
      "  bst.update(dtrain, iteration=i, fobj=obj)\n"
     ]
    },
    {
     "name": "stdout",
     "output_type": "stream",
     "text": [
      "[CV 5/5] END colsample_bylevel=0.7, colsample_bytree=0.9, gamma=0.2, learning_rate=0.1, max_depth=8, min_child_weight=7, n_estimators=1000, reg_alpha=1.0, reg_lambda=5.0, scale_pos_weight=1.1, subsample=0.7;, score=0.625 total time=   0.8s\n"
     ]
    },
    {
     "name": "stderr",
     "output_type": "stream",
     "text": [
      "/Users/gab/Desktop/school/hec_w25/python/projet/.venv/lib/python3.11/site-packages/xgboost/training.py:183: UserWarning: [16:33:25] WARNING: /Users/runner/work/xgboost/xgboost/src/learner.cc:738: \n",
      "Parameters: { \"use_label_encoder\" } are not used.\n",
      "\n",
      "  bst.update(dtrain, iteration=i, fobj=obj)\n"
     ]
    },
    {
     "name": "stdout",
     "output_type": "stream",
     "text": [
      "[CV 1/5] END colsample_bylevel=0.8, colsample_bytree=0.5, gamma=0.05, learning_rate=0.01, max_depth=4, min_child_weight=1, n_estimators=1500, reg_alpha=0.5, reg_lambda=0.1, scale_pos_weight=1.1, subsample=0.9;, score=0.615 total time=   0.8s\n",
      "[CV 2/5] END colsample_bylevel=0.8, colsample_bytree=0.5, gamma=0.05, learning_rate=0.01, max_depth=4, min_child_weight=1, n_estimators=1500, reg_alpha=0.5, reg_lambda=0.1, scale_pos_weight=1.1, subsample=0.9;, score=0.628 total time=   0.8s\n"
     ]
    },
    {
     "name": "stderr",
     "output_type": "stream",
     "text": [
      "/Users/gab/Desktop/school/hec_w25/python/projet/.venv/lib/python3.11/site-packages/xgboost/training.py:183: UserWarning: [16:33:25] WARNING: /Users/runner/work/xgboost/xgboost/src/learner.cc:738: \n",
      "Parameters: { \"use_label_encoder\" } are not used.\n",
      "\n",
      "  bst.update(dtrain, iteration=i, fobj=obj)\n",
      "/Users/gab/Desktop/school/hec_w25/python/projet/.venv/lib/python3.11/site-packages/xgboost/training.py:183: UserWarning: [16:33:25] WARNING: /Users/runner/work/xgboost/xgboost/src/learner.cc:738: \n",
      "Parameters: { \"use_label_encoder\" } are not used.\n",
      "\n",
      "  bst.update(dtrain, iteration=i, fobj=obj)\n"
     ]
    },
    {
     "name": "stdout",
     "output_type": "stream",
     "text": [
      "[CV 3/5] END colsample_bylevel=0.8, colsample_bytree=0.5, gamma=0.05, learning_rate=0.01, max_depth=4, min_child_weight=1, n_estimators=1500, reg_alpha=0.5, reg_lambda=0.1, scale_pos_weight=1.1, subsample=0.9;, score=0.523 total time=   0.7s\n"
     ]
    },
    {
     "name": "stderr",
     "output_type": "stream",
     "text": [
      "/Users/gab/Desktop/school/hec_w25/python/projet/.venv/lib/python3.11/site-packages/xgboost/training.py:183: UserWarning: [16:33:25] WARNING: /Users/runner/work/xgboost/xgboost/src/learner.cc:738: \n",
      "Parameters: { \"use_label_encoder\" } are not used.\n",
      "\n",
      "  bst.update(dtrain, iteration=i, fobj=obj)\n"
     ]
    },
    {
     "name": "stdout",
     "output_type": "stream",
     "text": [
      "[CV 2/5] END colsample_bylevel=1.0, colsample_bytree=0.7, gamma=0.1, learning_rate=0.01, max_depth=6, min_child_weight=7, n_estimators=2000, reg_alpha=0, reg_lambda=10.0, scale_pos_weight=1.0, subsample=0.9;, score=0.639 total time=   1.7s\n",
      "[CV 4/5] END colsample_bylevel=1.0, colsample_bytree=0.7, gamma=0.1, learning_rate=0.01, max_depth=6, min_child_weight=7, n_estimators=2000, reg_alpha=0, reg_lambda=10.0, scale_pos_weight=1.0, subsample=0.9;, score=0.597 total time=   1.7s\n",
      "[CV 1/5] END colsample_bylevel=1.0, colsample_bytree=0.7, gamma=0.1, learning_rate=0.01, max_depth=6, min_child_weight=7, n_estimators=2000, reg_alpha=0, reg_lambda=10.0, scale_pos_weight=1.0, subsample=0.9;, score=0.604 total time=   1.9s\n"
     ]
    },
    {
     "name": "stderr",
     "output_type": "stream",
     "text": [
      "/Users/gab/Desktop/school/hec_w25/python/projet/.venv/lib/python3.11/site-packages/xgboost/training.py:183: UserWarning: [16:33:26] WARNING: /Users/runner/work/xgboost/xgboost/src/learner.cc:738: \n",
      "Parameters: { \"use_label_encoder\" } are not used.\n",
      "\n",
      "  bst.update(dtrain, iteration=i, fobj=obj)\n",
      "/Users/gab/Desktop/school/hec_w25/python/projet/.venv/lib/python3.11/site-packages/xgboost/training.py:183: UserWarning: [16:33:26] WARNING: /Users/runner/work/xgboost/xgboost/src/learner.cc:738: \n",
      "Parameters: { \"use_label_encoder\" } are not used.\n",
      "\n",
      "  bst.update(dtrain, iteration=i, fobj=obj)\n",
      "/Users/gab/Desktop/school/hec_w25/python/projet/.venv/lib/python3.11/site-packages/xgboost/training.py:183: UserWarning: [16:33:26] WARNING: /Users/runner/work/xgboost/xgboost/src/learner.cc:738: \n",
      "Parameters: { \"use_label_encoder\" } are not used.\n",
      "\n",
      "  bst.update(dtrain, iteration=i, fobj=obj)\n"
     ]
    },
    {
     "name": "stdout",
     "output_type": "stream",
     "text": [
      "[CV 4/5] END colsample_bylevel=0.8, colsample_bytree=0.5, gamma=0.05, learning_rate=0.01, max_depth=4, min_child_weight=1, n_estimators=1500, reg_alpha=0.5, reg_lambda=0.1, scale_pos_weight=1.1, subsample=0.9;, score=0.563 total time=   0.8s\n",
      "[CV 3/5] END colsample_bylevel=1.0, colsample_bytree=0.7, gamma=0.1, learning_rate=0.01, max_depth=6, min_child_weight=7, n_estimators=2000, reg_alpha=0, reg_lambda=10.0, scale_pos_weight=1.0, subsample=0.9;, score=0.540 total time=   2.0s\n"
     ]
    },
    {
     "name": "stderr",
     "output_type": "stream",
     "text": [
      "/Users/gab/Desktop/school/hec_w25/python/projet/.venv/lib/python3.11/site-packages/xgboost/training.py:183: UserWarning: [16:33:26] WARNING: /Users/runner/work/xgboost/xgboost/src/learner.cc:738: \n",
      "Parameters: { \"use_label_encoder\" } are not used.\n",
      "\n",
      "  bst.update(dtrain, iteration=i, fobj=obj)\n",
      "/Users/gab/Desktop/school/hec_w25/python/projet/.venv/lib/python3.11/site-packages/xgboost/training.py:183: UserWarning: [16:33:26] WARNING: /Users/runner/work/xgboost/xgboost/src/learner.cc:738: \n",
      "Parameters: { \"use_label_encoder\" } are not used.\n",
      "\n",
      "  bst.update(dtrain, iteration=i, fobj=obj)\n"
     ]
    },
    {
     "name": "stdout",
     "output_type": "stream",
     "text": [
      "[CV 5/5] END colsample_bylevel=0.8, colsample_bytree=0.5, gamma=0.05, learning_rate=0.01, max_depth=4, min_child_weight=1, n_estimators=1500, reg_alpha=0.5, reg_lambda=0.1, scale_pos_weight=1.1, subsample=0.9;, score=0.664 total time=   1.0s\n",
      "[CV 5/5] END colsample_bylevel=1.0, colsample_bytree=0.7, gamma=0.1, learning_rate=0.01, max_depth=6, min_child_weight=7, n_estimators=2000, reg_alpha=0, reg_lambda=10.0, scale_pos_weight=1.0, subsample=0.9;, score=0.651 total time=   2.0s\n",
      "[CV 1/5] END colsample_bylevel=0.9, colsample_bytree=0.5, gamma=0.2, learning_rate=0.1, max_depth=8, min_child_weight=5, n_estimators=2000, reg_alpha=0.1, reg_lambda=0.1, scale_pos_weight=1.2, subsample=0.7;, score=0.587 total time=   0.9s\n"
     ]
    },
    {
     "name": "stderr",
     "output_type": "stream",
     "text": [
      "/Users/gab/Desktop/school/hec_w25/python/projet/.venv/lib/python3.11/site-packages/xgboost/training.py:183: UserWarning: [16:33:26] WARNING: /Users/runner/work/xgboost/xgboost/src/learner.cc:738: \n",
      "Parameters: { \"use_label_encoder\" } are not used.\n",
      "\n",
      "  bst.update(dtrain, iteration=i, fobj=obj)\n",
      "/Users/gab/Desktop/school/hec_w25/python/projet/.venv/lib/python3.11/site-packages/xgboost/training.py:183: UserWarning: [16:33:26] WARNING: /Users/runner/work/xgboost/xgboost/src/learner.cc:738: \n",
      "Parameters: { \"use_label_encoder\" } are not used.\n",
      "\n",
      "  bst.update(dtrain, iteration=i, fobj=obj)\n",
      "/Users/gab/Desktop/school/hec_w25/python/projet/.venv/lib/python3.11/site-packages/xgboost/training.py:183: UserWarning: [16:33:26] WARNING: /Users/runner/work/xgboost/xgboost/src/learner.cc:738: \n",
      "Parameters: { \"use_label_encoder\" } are not used.\n",
      "\n",
      "  bst.update(dtrain, iteration=i, fobj=obj)\n"
     ]
    },
    {
     "name": "stdout",
     "output_type": "stream",
     "text": [
      "[CV 2/5] END colsample_bylevel=0.9, colsample_bytree=0.5, gamma=0.2, learning_rate=0.1, max_depth=8, min_child_weight=5, n_estimators=2000, reg_alpha=0.1, reg_lambda=0.1, scale_pos_weight=1.2, subsample=0.7;, score=0.612 total time=   0.9s\n",
      "[CV 1/5] END colsample_bylevel=0.9, colsample_bytree=0.7, gamma=0.3, learning_rate=0.15, max_depth=6, min_child_weight=3, n_estimators=1000, reg_alpha=0, reg_lambda=1.0, scale_pos_weight=1.0, subsample=0.8;, score=0.594 total time=   0.5s\n",
      "[CV 3/5] END colsample_bylevel=0.9, colsample_bytree=0.5, gamma=0.2, learning_rate=0.1, max_depth=8, min_child_weight=5, n_estimators=2000, reg_alpha=0.1, reg_lambda=0.1, scale_pos_weight=1.2, subsample=0.7;, score=0.537 total time=   1.0s\n",
      "[CV 2/5] END colsample_bylevel=0.9, colsample_bytree=0.7, gamma=0.3, learning_rate=0.15, max_depth=6, min_child_weight=3, n_estimators=1000, reg_alpha=0, reg_lambda=1.0, scale_pos_weight=1.0, subsample=0.8;, score=0.589 total time=   0.5s\n"
     ]
    },
    {
     "name": "stderr",
     "output_type": "stream",
     "text": [
      "/Users/gab/Desktop/school/hec_w25/python/projet/.venv/lib/python3.11/site-packages/xgboost/training.py:183: UserWarning: [16:33:27] WARNING: /Users/runner/work/xgboost/xgboost/src/learner.cc:738: \n",
      "Parameters: { \"use_label_encoder\" } are not used.\n",
      "\n",
      "  bst.update(dtrain, iteration=i, fobj=obj)\n",
      "/Users/gab/Desktop/school/hec_w25/python/projet/.venv/lib/python3.11/site-packages/xgboost/training.py:183: UserWarning: [16:33:27] WARNING: /Users/runner/work/xgboost/xgboost/src/learner.cc:738: \n",
      "Parameters: { \"use_label_encoder\" } are not used.\n",
      "\n",
      "  bst.update(dtrain, iteration=i, fobj=obj)\n",
      "/Users/gab/Desktop/school/hec_w25/python/projet/.venv/lib/python3.11/site-packages/xgboost/training.py:183: UserWarning: [16:33:27] WARNING: /Users/runner/work/xgboost/xgboost/src/learner.cc:738: \n",
      "Parameters: { \"use_label_encoder\" } are not used.\n",
      "\n",
      "  bst.update(dtrain, iteration=i, fobj=obj)\n",
      "/Users/gab/Desktop/school/hec_w25/python/projet/.venv/lib/python3.11/site-packages/xgboost/training.py:183: UserWarning: [16:33:27] WARNING: /Users/runner/work/xgboost/xgboost/src/learner.cc:738: \n",
      "Parameters: { \"use_label_encoder\" } are not used.\n",
      "\n",
      "  bst.update(dtrain, iteration=i, fobj=obj)\n"
     ]
    },
    {
     "name": "stdout",
     "output_type": "stream",
     "text": [
      "[CV 4/5] END colsample_bylevel=0.9, colsample_bytree=0.7, gamma=0.3, learning_rate=0.15, max_depth=6, min_child_weight=3, n_estimators=1000, reg_alpha=0, reg_lambda=1.0, scale_pos_weight=1.0, subsample=0.8;, score=0.595 total time=   0.5s\n",
      "[CV 3/5] END colsample_bylevel=0.9, colsample_bytree=0.7, gamma=0.3, learning_rate=0.15, max_depth=6, min_child_weight=3, n_estimators=1000, reg_alpha=0, reg_lambda=1.0, scale_pos_weight=1.0, subsample=0.8;, score=0.524 total time=   0.5s\n",
      "[CV 4/5] END colsample_bylevel=0.9, colsample_bytree=0.5, gamma=0.2, learning_rate=0.1, max_depth=8, min_child_weight=5, n_estimators=2000, reg_alpha=0.1, reg_lambda=0.1, scale_pos_weight=1.2, subsample=0.7;, score=0.588 total time=   1.1s\n",
      "[CV 5/5] END colsample_bylevel=0.9, colsample_bytree=0.5, gamma=0.2, learning_rate=0.1, max_depth=8, min_child_weight=5, n_estimators=2000, reg_alpha=0.1, reg_lambda=0.1, scale_pos_weight=1.2, subsample=0.7;, score=0.636 total time=   0.9s\n"
     ]
    },
    {
     "name": "stderr",
     "output_type": "stream",
     "text": [
      "/Users/gab/Desktop/school/hec_w25/python/projet/.venv/lib/python3.11/site-packages/xgboost/training.py:183: UserWarning: [16:33:27] WARNING: /Users/runner/work/xgboost/xgboost/src/learner.cc:738: \n",
      "Parameters: { \"use_label_encoder\" } are not used.\n",
      "\n",
      "  bst.update(dtrain, iteration=i, fobj=obj)\n",
      "/Users/gab/Desktop/school/hec_w25/python/projet/.venv/lib/python3.11/site-packages/xgboost/training.py:183: UserWarning: [16:33:27] WARNING: /Users/runner/work/xgboost/xgboost/src/learner.cc:738: \n",
      "Parameters: { \"use_label_encoder\" } are not used.\n",
      "\n",
      "  bst.update(dtrain, iteration=i, fobj=obj)\n",
      "/Users/gab/Desktop/school/hec_w25/python/projet/.venv/lib/python3.11/site-packages/xgboost/training.py:183: UserWarning: [16:33:27] WARNING: /Users/runner/work/xgboost/xgboost/src/learner.cc:738: \n",
      "Parameters: { \"use_label_encoder\" } are not used.\n",
      "\n",
      "  bst.update(dtrain, iteration=i, fobj=obj)\n",
      "/Users/gab/Desktop/school/hec_w25/python/projet/.venv/lib/python3.11/site-packages/xgboost/training.py:183: UserWarning: [16:33:27] WARNING: /Users/runner/work/xgboost/xgboost/src/learner.cc:738: \n",
      "Parameters: { \"use_label_encoder\" } are not used.\n",
      "\n",
      "  bst.update(dtrain, iteration=i, fobj=obj)\n"
     ]
    },
    {
     "name": "stdout",
     "output_type": "stream",
     "text": [
      "[CV 5/5] END colsample_bylevel=0.9, colsample_bytree=0.7, gamma=0.3, learning_rate=0.15, max_depth=6, min_child_weight=3, n_estimators=1000, reg_alpha=0, reg_lambda=1.0, scale_pos_weight=1.0, subsample=0.8;, score=0.643 total time=   0.5s\n"
     ]
    },
    {
     "name": "stderr",
     "output_type": "stream",
     "text": [
      "/Users/gab/Desktop/school/hec_w25/python/projet/.venv/lib/python3.11/site-packages/xgboost/training.py:183: UserWarning: [16:33:27] WARNING: /Users/runner/work/xgboost/xgboost/src/learner.cc:738: \n",
      "Parameters: { \"use_label_encoder\" } are not used.\n",
      "\n",
      "  bst.update(dtrain, iteration=i, fobj=obj)\n"
     ]
    },
    {
     "name": "stdout",
     "output_type": "stream",
     "text": [
      "[CV 1/5] END colsample_bylevel=0.8, colsample_bytree=0.6, gamma=0.2, learning_rate=0.01, max_depth=6, min_child_weight=5, n_estimators=1000, reg_alpha=0, reg_lambda=10.0, scale_pos_weight=1.2, subsample=1.0;, score=0.611 total time=   0.9s\n",
      "[CV 2/5] END colsample_bylevel=0.8, colsample_bytree=0.6, gamma=0.2, learning_rate=0.01, max_depth=6, min_child_weight=5, n_estimators=1000, reg_alpha=0, reg_lambda=10.0, scale_pos_weight=1.2, subsample=1.0;, score=0.649 total time=   0.9s\n",
      "[CV 3/5] END colsample_bylevel=0.8, colsample_bytree=0.6, gamma=0.2, learning_rate=0.01, max_depth=6, min_child_weight=5, n_estimators=1000, reg_alpha=0, reg_lambda=10.0, scale_pos_weight=1.2, subsample=1.0;, score=0.527 total time=   0.9s\n"
     ]
    },
    {
     "name": "stderr",
     "output_type": "stream",
     "text": [
      "/Users/gab/Desktop/school/hec_w25/python/projet/.venv/lib/python3.11/site-packages/xgboost/training.py:183: UserWarning: [16:33:28] WARNING: /Users/runner/work/xgboost/xgboost/src/learner.cc:738: \n",
      "Parameters: { \"use_label_encoder\" } are not used.\n",
      "\n",
      "  bst.update(dtrain, iteration=i, fobj=obj)\n",
      "/Users/gab/Desktop/school/hec_w25/python/projet/.venv/lib/python3.11/site-packages/xgboost/training.py:183: UserWarning: [16:33:28] WARNING: /Users/runner/work/xgboost/xgboost/src/learner.cc:738: \n",
      "Parameters: { \"use_label_encoder\" } are not used.\n",
      "\n",
      "  bst.update(dtrain, iteration=i, fobj=obj)\n",
      "/Users/gab/Desktop/school/hec_w25/python/projet/.venv/lib/python3.11/site-packages/xgboost/training.py:183: UserWarning: [16:33:28] WARNING: /Users/runner/work/xgboost/xgboost/src/learner.cc:738: \n",
      "Parameters: { \"use_label_encoder\" } are not used.\n",
      "\n",
      "  bst.update(dtrain, iteration=i, fobj=obj)\n"
     ]
    },
    {
     "name": "stdout",
     "output_type": "stream",
     "text": [
      "[CV 1/5] END colsample_bylevel=0.8, colsample_bytree=0.6, gamma=0.2, learning_rate=0.01, max_depth=6, min_child_weight=5, n_estimators=500, reg_alpha=0, reg_lambda=0.1, scale_pos_weight=1.225, subsample=0.8;, score=0.614 total time=   0.4s\n",
      "[CV 1/5] END colsample_bylevel=0.8, colsample_bytree=0.6, gamma=0.2, learning_rate=0.03, max_depth=12, min_child_weight=1, n_estimators=1500, reg_alpha=0.1, reg_lambda=1.0, scale_pos_weight=1.2, subsample=0.7;, score=0.598 total time=   1.8s\n",
      "[CV 2/5] END colsample_bylevel=0.8, colsample_bytree=0.6, gamma=0.2, learning_rate=0.03, max_depth=12, min_child_weight=1, n_estimators=1500, reg_alpha=0.1, reg_lambda=1.0, scale_pos_weight=1.2, subsample=0.7;, score=0.618 total time=   1.8s\n"
     ]
    },
    {
     "name": "stderr",
     "output_type": "stream",
     "text": [
      "/Users/gab/Desktop/school/hec_w25/python/projet/.venv/lib/python3.11/site-packages/xgboost/training.py:183: UserWarning: [16:33:28] WARNING: /Users/runner/work/xgboost/xgboost/src/learner.cc:738: \n",
      "Parameters: { \"use_label_encoder\" } are not used.\n",
      "\n",
      "  bst.update(dtrain, iteration=i, fobj=obj)\n",
      "/Users/gab/Desktop/school/hec_w25/python/projet/.venv/lib/python3.11/site-packages/xgboost/training.py:183: UserWarning: [16:33:28] WARNING: /Users/runner/work/xgboost/xgboost/src/learner.cc:738: \n",
      "Parameters: { \"use_label_encoder\" } are not used.\n",
      "\n",
      "  bst.update(dtrain, iteration=i, fobj=obj)\n",
      "/Users/gab/Desktop/school/hec_w25/python/projet/.venv/lib/python3.11/site-packages/xgboost/training.py:183: UserWarning: [16:33:29] WARNING: /Users/runner/work/xgboost/xgboost/src/learner.cc:738: \n",
      "Parameters: { \"use_label_encoder\" } are not used.\n",
      "\n",
      "  bst.update(dtrain, iteration=i, fobj=obj)\n",
      "/Users/gab/Desktop/school/hec_w25/python/projet/.venv/lib/python3.11/site-packages/xgboost/training.py:183: UserWarning: [16:33:29] WARNING: /Users/runner/work/xgboost/xgboost/src/learner.cc:738: \n",
      "Parameters: { \"use_label_encoder\" } are not used.\n",
      "\n",
      "  bst.update(dtrain, iteration=i, fobj=obj)\n"
     ]
    },
    {
     "name": "stdout",
     "output_type": "stream",
     "text": [
      "[CV 3/5] END colsample_bylevel=0.8, colsample_bytree=0.6, gamma=0.2, learning_rate=0.03, max_depth=12, min_child_weight=1, n_estimators=1500, reg_alpha=0.1, reg_lambda=1.0, scale_pos_weight=1.2, subsample=0.7;, score=0.511 total time=   1.9s\n",
      "[CV 5/5] END colsample_bylevel=0.8, colsample_bytree=0.6, gamma=0.2, learning_rate=0.03, max_depth=12, min_child_weight=1, n_estimators=1500, reg_alpha=0.1, reg_lambda=1.0, scale_pos_weight=1.2, subsample=0.7;, score=0.645 total time=   1.9s\n",
      "[CV 4/5] END colsample_bylevel=0.8, colsample_bytree=0.6, gamma=0.2, learning_rate=0.01, max_depth=6, min_child_weight=5, n_estimators=1000, reg_alpha=0, reg_lambda=10.0, scale_pos_weight=1.2, subsample=1.0;, score=0.573 total time=   0.8s\n",
      "[CV 4/5] END colsample_bylevel=0.8, colsample_bytree=0.6, gamma=0.2, learning_rate=0.03, max_depth=12, min_child_weight=1, n_estimators=1500, reg_alpha=0.1, reg_lambda=1.0, scale_pos_weight=1.2, subsample=0.7;, score=0.586 total time=   2.0s\n",
      "[CV 5/5] END colsample_bylevel=0.8, colsample_bytree=0.6, gamma=0.2, learning_rate=0.01, max_depth=6, min_child_weight=5, n_estimators=1000, reg_alpha=0, reg_lambda=10.0, scale_pos_weight=1.2, subsample=1.0;, score=0.652 total time=   0.9s\n"
     ]
    },
    {
     "name": "stderr",
     "output_type": "stream",
     "text": [
      "/Users/gab/Desktop/school/hec_w25/python/projet/.venv/lib/python3.11/site-packages/xgboost/training.py:183: UserWarning: [16:33:29] WARNING: /Users/runner/work/xgboost/xgboost/src/learner.cc:738: \n",
      "Parameters: { \"use_label_encoder\" } are not used.\n",
      "\n",
      "  bst.update(dtrain, iteration=i, fobj=obj)\n",
      "/Users/gab/Desktop/school/hec_w25/python/projet/.venv/lib/python3.11/site-packages/xgboost/training.py:183: UserWarning: [16:33:29] WARNING: /Users/runner/work/xgboost/xgboost/src/learner.cc:738: \n",
      "Parameters: { \"use_label_encoder\" } are not used.\n",
      "\n",
      "  bst.update(dtrain, iteration=i, fobj=obj)\n",
      "/Users/gab/Desktop/school/hec_w25/python/projet/.venv/lib/python3.11/site-packages/xgboost/training.py:183: UserWarning: [16:33:29] WARNING: /Users/runner/work/xgboost/xgboost/src/learner.cc:738: \n",
      "Parameters: { \"use_label_encoder\" } are not used.\n",
      "\n",
      "  bst.update(dtrain, iteration=i, fobj=obj)\n",
      "/Users/gab/Desktop/school/hec_w25/python/projet/.venv/lib/python3.11/site-packages/xgboost/training.py:183: UserWarning: [16:33:29] WARNING: /Users/runner/work/xgboost/xgboost/src/learner.cc:738: \n",
      "Parameters: { \"use_label_encoder\" } are not used.\n",
      "\n",
      "  bst.update(dtrain, iteration=i, fobj=obj)\n",
      "/Users/gab/Desktop/school/hec_w25/python/projet/.venv/lib/python3.11/site-packages/xgboost/training.py:183: UserWarning: [16:33:29] WARNING: /Users/runner/work/xgboost/xgboost/src/learner.cc:738: \n",
      "Parameters: { \"use_label_encoder\" } are not used.\n",
      "\n",
      "  bst.update(dtrain, iteration=i, fobj=obj)\n",
      "/Users/gab/Desktop/school/hec_w25/python/projet/.venv/lib/python3.11/site-packages/xgboost/training.py:183: UserWarning: [16:33:29] WARNING: /Users/runner/work/xgboost/xgboost/src/learner.cc:738: \n",
      "Parameters: { \"use_label_encoder\" } are not used.\n",
      "\n",
      "  bst.update(dtrain, iteration=i, fobj=obj)\n",
      "/Users/gab/Desktop/school/hec_w25/python/projet/.venv/lib/python3.11/site-packages/xgboost/training.py:183: UserWarning: [16:33:29] WARNING: /Users/runner/work/xgboost/xgboost/src/learner.cc:738: \n",
      "Parameters: { \"use_label_encoder\" } are not used.\n",
      "\n",
      "  bst.update(dtrain, iteration=i, fobj=obj)\n"
     ]
    },
    {
     "name": "stdout",
     "output_type": "stream",
     "text": [
      "[CV 2/5] END colsample_bylevel=0.8, colsample_bytree=0.6, gamma=0.2, learning_rate=0.01, max_depth=6, min_child_weight=5, n_estimators=500, reg_alpha=0, reg_lambda=0.1, scale_pos_weight=1.225, subsample=0.8;, score=0.640 total time=   0.4s\n",
      "[CV 3/5] END colsample_bylevel=0.8, colsample_bytree=0.6, gamma=0.2, learning_rate=0.01, max_depth=6, min_child_weight=5, n_estimators=500, reg_alpha=0, reg_lambda=0.1, scale_pos_weight=1.225, subsample=0.8;, score=0.528 total time=   0.4s\n",
      "[CV 4/5] END colsample_bylevel=0.8, colsample_bytree=0.6, gamma=0.2, learning_rate=0.01, max_depth=6, min_child_weight=5, n_estimators=500, reg_alpha=0, reg_lambda=0.1, scale_pos_weight=1.225, subsample=0.8;, score=0.588 total time=   0.3s\n",
      "[CV 5/5] END colsample_bylevel=0.8, colsample_bytree=0.6, gamma=0.2, learning_rate=0.01, max_depth=6, min_child_weight=5, n_estimators=500, reg_alpha=0, reg_lambda=0.1, scale_pos_weight=1.225, subsample=0.8;, score=0.668 total time=   0.5s\n"
     ]
    },
    {
     "name": "stderr",
     "output_type": "stream",
     "text": [
      "/Users/gab/Desktop/school/hec_w25/python/projet/.venv/lib/python3.11/site-packages/xgboost/training.py:183: UserWarning: [16:33:29] WARNING: /Users/runner/work/xgboost/xgboost/src/learner.cc:738: \n",
      "Parameters: { \"use_label_encoder\" } are not used.\n",
      "\n",
      "  bst.update(dtrain, iteration=i, fobj=obj)\n"
     ]
    },
    {
     "name": "stdout",
     "output_type": "stream",
     "text": [
      "[CV 1/5] END colsample_bylevel=0.7, colsample_bytree=0.7, gamma=0.3, learning_rate=0.03, max_depth=8, min_child_weight=7, n_estimators=1000, reg_alpha=0.1, reg_lambda=1.0, scale_pos_weight=1.2, subsample=0.8;, score=0.594 total time=   0.9s\n",
      "[CV 2/5] END colsample_bylevel=0.7, colsample_bytree=0.7, gamma=0.3, learning_rate=0.03, max_depth=8, min_child_weight=7, n_estimators=1000, reg_alpha=0.1, reg_lambda=1.0, scale_pos_weight=1.2, subsample=0.8;, score=0.614 total time=   0.9s\n",
      "[CV 4/5] END colsample_bylevel=0.7, colsample_bytree=0.7, gamma=0.3, learning_rate=0.03, max_depth=8, min_child_weight=7, n_estimators=1000, reg_alpha=0.1, reg_lambda=1.0, scale_pos_weight=1.2, subsample=0.8;, score=0.598 total time=   0.9s\n",
      "[CV 2/5] END colsample_bylevel=0.7, colsample_bytree=0.5, gamma=0, learning_rate=0.1, max_depth=6, min_child_weight=5, n_estimators=1500, reg_alpha=0, reg_lambda=10.0, scale_pos_weight=1.1, subsample=0.7;, score=0.607 total time=   0.9s\n",
      "[CV 3/5] END colsample_bylevel=0.7, colsample_bytree=0.7, gamma=0.3, learning_rate=0.03, max_depth=8, min_child_weight=7, n_estimators=1000, reg_alpha=0.1, reg_lambda=1.0, scale_pos_weight=1.2, subsample=0.8;, score=0.523 total time=   1.0s\n"
     ]
    },
    {
     "name": "stderr",
     "output_type": "stream",
     "text": [
      "/Users/gab/Desktop/school/hec_w25/python/projet/.venv/lib/python3.11/site-packages/xgboost/training.py:183: UserWarning: [16:33:30] WARNING: /Users/runner/work/xgboost/xgboost/src/learner.cc:738: \n",
      "Parameters: { \"use_label_encoder\" } are not used.\n",
      "\n",
      "  bst.update(dtrain, iteration=i, fobj=obj)\n",
      "/Users/gab/Desktop/school/hec_w25/python/projet/.venv/lib/python3.11/site-packages/xgboost/training.py:183: UserWarning: [16:33:30] WARNING: /Users/runner/work/xgboost/xgboost/src/learner.cc:738: \n",
      "Parameters: { \"use_label_encoder\" } are not used.\n",
      "\n",
      "  bst.update(dtrain, iteration=i, fobj=obj)\n",
      "/Users/gab/Desktop/school/hec_w25/python/projet/.venv/lib/python3.11/site-packages/xgboost/training.py:183: UserWarning: [16:33:30] WARNING: /Users/runner/work/xgboost/xgboost/src/learner.cc:738: \n",
      "Parameters: { \"use_label_encoder\" } are not used.\n",
      "\n",
      "  bst.update(dtrain, iteration=i, fobj=obj)\n",
      "/Users/gab/Desktop/school/hec_w25/python/projet/.venv/lib/python3.11/site-packages/xgboost/training.py:183: UserWarning: [16:33:30] WARNING: /Users/runner/work/xgboost/xgboost/src/learner.cc:738: \n",
      "Parameters: { \"use_label_encoder\" } are not used.\n",
      "\n",
      "  bst.update(dtrain, iteration=i, fobj=obj)\n",
      "/Users/gab/Desktop/school/hec_w25/python/projet/.venv/lib/python3.11/site-packages/xgboost/training.py:183: UserWarning: [16:33:30] WARNING: /Users/runner/work/xgboost/xgboost/src/learner.cc:738: \n",
      "Parameters: { \"use_label_encoder\" } are not used.\n",
      "\n",
      "  bst.update(dtrain, iteration=i, fobj=obj)\n"
     ]
    },
    {
     "name": "stdout",
     "output_type": "stream",
     "text": [
      "[CV 1/5] END colsample_bylevel=0.7, colsample_bytree=0.5, gamma=0, learning_rate=0.1, max_depth=6, min_child_weight=5, n_estimators=1500, reg_alpha=0, reg_lambda=10.0, scale_pos_weight=1.1, subsample=0.7;, score=0.591 total time=   1.1s\n",
      "[CV 5/5] END colsample_bylevel=0.7, colsample_bytree=0.7, gamma=0.3, learning_rate=0.03, max_depth=8, min_child_weight=7, n_estimators=1000, reg_alpha=0.1, reg_lambda=1.0, scale_pos_weight=1.2, subsample=0.8;, score=0.650 total time=   1.1s\n"
     ]
    },
    {
     "name": "stderr",
     "output_type": "stream",
     "text": [
      "/Users/gab/Desktop/school/hec_w25/python/projet/.venv/lib/python3.11/site-packages/xgboost/training.py:183: UserWarning: [16:33:30] WARNING: /Users/runner/work/xgboost/xgboost/src/learner.cc:738: \n",
      "Parameters: { \"use_label_encoder\" } are not used.\n",
      "\n",
      "  bst.update(dtrain, iteration=i, fobj=obj)\n",
      "/Users/gab/Desktop/school/hec_w25/python/projet/.venv/lib/python3.11/site-packages/xgboost/training.py:183: UserWarning: [16:33:30] WARNING: /Users/runner/work/xgboost/xgboost/src/learner.cc:738: \n",
      "Parameters: { \"use_label_encoder\" } are not used.\n",
      "\n",
      "  bst.update(dtrain, iteration=i, fobj=obj)\n"
     ]
    },
    {
     "name": "stdout",
     "output_type": "stream",
     "text": [
      "[CV 3/5] END colsample_bylevel=0.7, colsample_bytree=0.5, gamma=0, learning_rate=0.1, max_depth=6, min_child_weight=5, n_estimators=1500, reg_alpha=0, reg_lambda=10.0, scale_pos_weight=1.1, subsample=0.7;, score=0.530 total time=   1.2s\n",
      "[CV 1/5] END colsample_bylevel=0.7, colsample_bytree=0.8, gamma=0.1, learning_rate=0.15, max_depth=4, min_child_weight=5, n_estimators=2000, reg_alpha=0.5, reg_lambda=0.1, scale_pos_weight=1.0, subsample=0.8;, score=0.582 total time=   0.8s\n"
     ]
    },
    {
     "name": "stderr",
     "output_type": "stream",
     "text": [
      "/Users/gab/Desktop/school/hec_w25/python/projet/.venv/lib/python3.11/site-packages/xgboost/training.py:183: UserWarning: [16:33:30] WARNING: /Users/runner/work/xgboost/xgboost/src/learner.cc:738: \n",
      "Parameters: { \"use_label_encoder\" } are not used.\n",
      "\n",
      "  bst.update(dtrain, iteration=i, fobj=obj)\n",
      "/Users/gab/Desktop/school/hec_w25/python/projet/.venv/lib/python3.11/site-packages/xgboost/training.py:183: UserWarning: [16:33:30] WARNING: /Users/runner/work/xgboost/xgboost/src/learner.cc:738: \n",
      "Parameters: { \"use_label_encoder\" } are not used.\n",
      "\n",
      "  bst.update(dtrain, iteration=i, fobj=obj)\n",
      "/Users/gab/Desktop/school/hec_w25/python/projet/.venv/lib/python3.11/site-packages/xgboost/training.py:183: UserWarning: [16:33:31] WARNING: /Users/runner/work/xgboost/xgboost/src/learner.cc:738: \n",
      "Parameters: { \"use_label_encoder\" } are not used.\n",
      "\n",
      "  bst.update(dtrain, iteration=i, fobj=obj)\n",
      "/Users/gab/Desktop/school/hec_w25/python/projet/.venv/lib/python3.11/site-packages/xgboost/training.py:183: UserWarning: [16:33:31] WARNING: /Users/runner/work/xgboost/xgboost/src/learner.cc:738: \n",
      "Parameters: { \"use_label_encoder\" } are not used.\n",
      "\n",
      "  bst.update(dtrain, iteration=i, fobj=obj)\n",
      "/Users/gab/Desktop/school/hec_w25/python/projet/.venv/lib/python3.11/site-packages/xgboost/training.py:183: UserWarning: [16:33:31] WARNING: /Users/runner/work/xgboost/xgboost/src/learner.cc:738: \n",
      "Parameters: { \"use_label_encoder\" } are not used.\n",
      "\n",
      "  bst.update(dtrain, iteration=i, fobj=obj)\n",
      "/Users/gab/Desktop/school/hec_w25/python/projet/.venv/lib/python3.11/site-packages/xgboost/training.py:183: UserWarning: [16:33:31] WARNING: /Users/runner/work/xgboost/xgboost/src/learner.cc:738: \n",
      "Parameters: { \"use_label_encoder\" } are not used.\n",
      "\n",
      "  bst.update(dtrain, iteration=i, fobj=obj)\n",
      "/Users/gab/Desktop/school/hec_w25/python/projet/.venv/lib/python3.11/site-packages/xgboost/training.py:183: UserWarning: [16:33:31] WARNING: /Users/runner/work/xgboost/xgboost/src/learner.cc:738: \n",
      "Parameters: { \"use_label_encoder\" } are not used.\n",
      "\n",
      "  bst.update(dtrain, iteration=i, fobj=obj)\n"
     ]
    },
    {
     "name": "stdout",
     "output_type": "stream",
     "text": [
      "[CV 3/5] END colsample_bylevel=0.7, colsample_bytree=0.8, gamma=0.1, learning_rate=0.15, max_depth=4, min_child_weight=5, n_estimators=2000, reg_alpha=0.5, reg_lambda=0.1, scale_pos_weight=1.0, subsample=0.8;, score=0.521 total time=   0.8s\n",
      "[CV 2/5] END colsample_bylevel=0.7, colsample_bytree=0.8, gamma=0.1, learning_rate=0.15, max_depth=4, min_child_weight=5, n_estimators=2000, reg_alpha=0.5, reg_lambda=0.1, scale_pos_weight=1.0, subsample=0.8;, score=0.594 total time=   0.8s\n",
      "[CV 1/5] END colsample_bylevel=0.8, colsample_bytree=0.5, gamma=0.05, learning_rate=0.15, max_depth=4, min_child_weight=3, n_estimators=1000, reg_alpha=0.1, reg_lambda=1.0, scale_pos_weight=1.0, subsample=1.0;, score=0.604 total time=   0.3s\n",
      "[CV 5/5] END colsample_bylevel=0.7, colsample_bytree=0.5, gamma=0, learning_rate=0.1, max_depth=6, min_child_weight=5, n_estimators=1500, reg_alpha=0, reg_lambda=10.0, scale_pos_weight=1.1, subsample=0.7;, score=0.615 total time=   1.1s\n",
      "[CV 4/5] END colsample_bylevel=0.7, colsample_bytree=0.5, gamma=0, learning_rate=0.1, max_depth=6, min_child_weight=5, n_estimators=1500, reg_alpha=0, reg_lambda=10.0, scale_pos_weight=1.1, subsample=0.7;, score=0.600 total time=   1.1s\n",
      "[CV 5/5] END colsample_bylevel=0.7, colsample_bytree=0.8, gamma=0.1, learning_rate=0.15, max_depth=4, min_child_weight=5, n_estimators=2000, reg_alpha=0.5, reg_lambda=0.1, scale_pos_weight=1.0, subsample=0.8;, score=0.611 total time=   0.7s\n",
      "[CV 4/5] END colsample_bylevel=0.7, colsample_bytree=0.8, gamma=0.1, learning_rate=0.15, max_depth=4, min_child_weight=5, n_estimators=2000, reg_alpha=0.5, reg_lambda=0.1, scale_pos_weight=1.0, subsample=0.8;, score=0.578 total time=   0.8s\n"
     ]
    },
    {
     "name": "stderr",
     "output_type": "stream",
     "text": [
      "/Users/gab/Desktop/school/hec_w25/python/projet/.venv/lib/python3.11/site-packages/xgboost/training.py:183: UserWarning: [16:33:31] WARNING: /Users/runner/work/xgboost/xgboost/src/learner.cc:738: \n",
      "Parameters: { \"use_label_encoder\" } are not used.\n",
      "\n",
      "  bst.update(dtrain, iteration=i, fobj=obj)\n",
      "/Users/gab/Desktop/school/hec_w25/python/projet/.venv/lib/python3.11/site-packages/xgboost/training.py:183: UserWarning: [16:33:31] WARNING: /Users/runner/work/xgboost/xgboost/src/learner.cc:738: \n",
      "Parameters: { \"use_label_encoder\" } are not used.\n",
      "\n",
      "  bst.update(dtrain, iteration=i, fobj=obj)\n",
      "/Users/gab/Desktop/school/hec_w25/python/projet/.venv/lib/python3.11/site-packages/xgboost/training.py:183: UserWarning: [16:33:31] WARNING: /Users/runner/work/xgboost/xgboost/src/learner.cc:738: \n",
      "Parameters: { \"use_label_encoder\" } are not used.\n",
      "\n",
      "  bst.update(dtrain, iteration=i, fobj=obj)\n",
      "/Users/gab/Desktop/school/hec_w25/python/projet/.venv/lib/python3.11/site-packages/xgboost/training.py:183: UserWarning: [16:33:31] WARNING: /Users/runner/work/xgboost/xgboost/src/learner.cc:738: \n",
      "Parameters: { \"use_label_encoder\" } are not used.\n",
      "\n",
      "  bst.update(dtrain, iteration=i, fobj=obj)\n"
     ]
    },
    {
     "name": "stdout",
     "output_type": "stream",
     "text": [
      "[CV 2/5] END colsample_bylevel=0.8, colsample_bytree=0.5, gamma=0.05, learning_rate=0.15, max_depth=4, min_child_weight=3, n_estimators=1000, reg_alpha=0.1, reg_lambda=1.0, scale_pos_weight=1.0, subsample=1.0;, score=0.597 total time=   0.4s\n",
      "[CV 4/5] END colsample_bylevel=0.8, colsample_bytree=0.5, gamma=0.05, learning_rate=0.15, max_depth=4, min_child_weight=3, n_estimators=1000, reg_alpha=0.1, reg_lambda=1.0, scale_pos_weight=1.0, subsample=1.0;, score=0.573 total time=   0.3s\n",
      "[CV 3/5] END colsample_bylevel=0.8, colsample_bytree=0.5, gamma=0.05, learning_rate=0.15, max_depth=4, min_child_weight=3, n_estimators=1000, reg_alpha=0.1, reg_lambda=1.0, scale_pos_weight=1.0, subsample=1.0;, score=0.516 total time=   0.4s\n",
      "[CV 5/5] END colsample_bylevel=0.8, colsample_bytree=0.5, gamma=0.05, learning_rate=0.15, max_depth=4, min_child_weight=3, n_estimators=1000, reg_alpha=0.1, reg_lambda=1.0, scale_pos_weight=1.0, subsample=1.0;, score=0.626 total time=   0.4s\n",
      "[CV 2/5] END colsample_bylevel=0.8, colsample_bytree=0.7, gamma=0.3, learning_rate=0.1, max_depth=4, min_child_weight=3, n_estimators=1000, reg_alpha=1.0, reg_lambda=0.1, scale_pos_weight=1.1, subsample=0.9;, score=0.602 total time=   0.4s\n"
     ]
    },
    {
     "name": "stderr",
     "output_type": "stream",
     "text": [
      "/Users/gab/Desktop/school/hec_w25/python/projet/.venv/lib/python3.11/site-packages/xgboost/training.py:183: UserWarning: [16:33:31] WARNING: /Users/runner/work/xgboost/xgboost/src/learner.cc:738: \n",
      "Parameters: { \"use_label_encoder\" } are not used.\n",
      "\n",
      "  bst.update(dtrain, iteration=i, fobj=obj)\n",
      "/Users/gab/Desktop/school/hec_w25/python/projet/.venv/lib/python3.11/site-packages/xgboost/training.py:183: UserWarning: [16:33:31] WARNING: /Users/runner/work/xgboost/xgboost/src/learner.cc:738: \n",
      "Parameters: { \"use_label_encoder\" } are not used.\n",
      "\n",
      "  bst.update(dtrain, iteration=i, fobj=obj)\n",
      "/Users/gab/Desktop/school/hec_w25/python/projet/.venv/lib/python3.11/site-packages/xgboost/training.py:183: UserWarning: [16:33:31] WARNING: /Users/runner/work/xgboost/xgboost/src/learner.cc:738: \n",
      "Parameters: { \"use_label_encoder\" } are not used.\n",
      "\n",
      "  bst.update(dtrain, iteration=i, fobj=obj)\n",
      "/Users/gab/Desktop/school/hec_w25/python/projet/.venv/lib/python3.11/site-packages/xgboost/training.py:183: UserWarning: [16:33:31] WARNING: /Users/runner/work/xgboost/xgboost/src/learner.cc:738: \n",
      "Parameters: { \"use_label_encoder\" } are not used.\n",
      "\n",
      "  bst.update(dtrain, iteration=i, fobj=obj)\n",
      "/Users/gab/Desktop/school/hec_w25/python/projet/.venv/lib/python3.11/site-packages/xgboost/training.py:183: UserWarning: [16:33:31] WARNING: /Users/runner/work/xgboost/xgboost/src/learner.cc:738: \n",
      "Parameters: { \"use_label_encoder\" } are not used.\n",
      "\n",
      "  bst.update(dtrain, iteration=i, fobj=obj)\n",
      "/Users/gab/Desktop/school/hec_w25/python/projet/.venv/lib/python3.11/site-packages/xgboost/training.py:183: UserWarning: [16:33:31] WARNING: /Users/runner/work/xgboost/xgboost/src/learner.cc:738: \n",
      "Parameters: { \"use_label_encoder\" } are not used.\n",
      "\n",
      "  bst.update(dtrain, iteration=i, fobj=obj)\n"
     ]
    },
    {
     "name": "stdout",
     "output_type": "stream",
     "text": [
      "[CV 1/5] END colsample_bylevel=0.8, colsample_bytree=0.7, gamma=0.3, learning_rate=0.1, max_depth=4, min_child_weight=3, n_estimators=1000, reg_alpha=1.0, reg_lambda=0.1, scale_pos_weight=1.1, subsample=0.9;, score=0.617 total time=   0.4s\n",
      "[CV 4/5] END colsample_bylevel=0.8, colsample_bytree=0.7, gamma=0.3, learning_rate=0.1, max_depth=4, min_child_weight=3, n_estimators=1000, reg_alpha=1.0, reg_lambda=0.1, scale_pos_weight=1.1, subsample=0.9;, score=0.572 total time=   0.4s\n",
      "[CV 3/5] END colsample_bylevel=0.8, colsample_bytree=0.7, gamma=0.3, learning_rate=0.1, max_depth=4, min_child_weight=3, n_estimators=1000, reg_alpha=1.0, reg_lambda=0.1, scale_pos_weight=1.1, subsample=0.9;, score=0.519 total time=   0.4s\n",
      "[CV 5/5] END colsample_bylevel=0.8, colsample_bytree=0.7, gamma=0.3, learning_rate=0.1, max_depth=4, min_child_weight=3, n_estimators=1000, reg_alpha=1.0, reg_lambda=0.1, scale_pos_weight=1.1, subsample=0.9;, score=0.619 total time=   0.4s\n"
     ]
    },
    {
     "name": "stderr",
     "output_type": "stream",
     "text": [
      "/Users/gab/Desktop/school/hec_w25/python/projet/.venv/lib/python3.11/site-packages/xgboost/training.py:183: UserWarning: [16:33:31] WARNING: /Users/runner/work/xgboost/xgboost/src/learner.cc:738: \n",
      "Parameters: { \"use_label_encoder\" } are not used.\n",
      "\n",
      "  bst.update(dtrain, iteration=i, fobj=obj)\n"
     ]
    },
    {
     "name": "stdout",
     "output_type": "stream",
     "text": [
      "[CV 1/5] END colsample_bylevel=0.8, colsample_bytree=0.9, gamma=0.2, learning_rate=0.15, max_depth=4, min_child_weight=1, n_estimators=2000, reg_alpha=0, reg_lambda=0.1, scale_pos_weight=1.1, subsample=1.0;, score=0.604 total time=   0.5s\n",
      "[CV 2/5] END colsample_bylevel=0.8, colsample_bytree=0.9, gamma=0.2, learning_rate=0.15, max_depth=4, min_child_weight=1, n_estimators=2000, reg_alpha=0, reg_lambda=0.1, scale_pos_weight=1.1, subsample=1.0;, score=0.592 total time=   0.5s\n",
      "[CV 4/5] END colsample_bylevel=0.8, colsample_bytree=0.5, gamma=0.05, learning_rate=0.01, max_depth=6, min_child_weight=7, n_estimators=1000, reg_alpha=0.5, reg_lambda=5.0, scale_pos_weight=1.2, subsample=1.0;, score=0.588 total time=   0.7s\n",
      "[CV 3/5] END colsample_bylevel=0.8, colsample_bytree=0.5, gamma=0.05, learning_rate=0.01, max_depth=6, min_child_weight=7, n_estimators=1000, reg_alpha=0.5, reg_lambda=5.0, scale_pos_weight=1.2, subsample=1.0;, score=0.530 total time=   0.7s\n",
      "[CV 2/5] END colsample_bylevel=0.8, colsample_bytree=0.5, gamma=0.05, learning_rate=0.01, max_depth=6, min_child_weight=7, n_estimators=1000, reg_alpha=0.5, reg_lambda=5.0, scale_pos_weight=1.2, subsample=1.0;, score=0.652 total time=   0.8s\n",
      "[CV 3/5] END colsample_bylevel=0.8, colsample_bytree=0.9, gamma=0.2, learning_rate=0.15, max_depth=4, min_child_weight=1, n_estimators=2000, reg_alpha=0, reg_lambda=0.1, scale_pos_weight=1.1, subsample=1.0;, score=0.512 total time=   0.5s\n"
     ]
    },
    {
     "name": "stderr",
     "output_type": "stream",
     "text": [
      "/Users/gab/Desktop/school/hec_w25/python/projet/.venv/lib/python3.11/site-packages/xgboost/training.py:183: UserWarning: [16:33:32] WARNING: /Users/runner/work/xgboost/xgboost/src/learner.cc:738: \n",
      "Parameters: { \"use_label_encoder\" } are not used.\n",
      "\n",
      "  bst.update(dtrain, iteration=i, fobj=obj)\n",
      "/Users/gab/Desktop/school/hec_w25/python/projet/.venv/lib/python3.11/site-packages/xgboost/training.py:183: UserWarning: [16:33:32] WARNING: /Users/runner/work/xgboost/xgboost/src/learner.cc:738: \n",
      "Parameters: { \"use_label_encoder\" } are not used.\n",
      "\n",
      "  bst.update(dtrain, iteration=i, fobj=obj)\n",
      "/Users/gab/Desktop/school/hec_w25/python/projet/.venv/lib/python3.11/site-packages/xgboost/training.py:183: UserWarning: [16:33:32] WARNING: /Users/runner/work/xgboost/xgboost/src/learner.cc:738: \n",
      "Parameters: { \"use_label_encoder\" } are not used.\n",
      "\n",
      "  bst.update(dtrain, iteration=i, fobj=obj)\n",
      "/Users/gab/Desktop/school/hec_w25/python/projet/.venv/lib/python3.11/site-packages/xgboost/training.py:183: UserWarning: [16:33:32] WARNING: /Users/runner/work/xgboost/xgboost/src/learner.cc:738: \n",
      "Parameters: { \"use_label_encoder\" } are not used.\n",
      "\n",
      "  bst.update(dtrain, iteration=i, fobj=obj)\n",
      "/Users/gab/Desktop/school/hec_w25/python/projet/.venv/lib/python3.11/site-packages/xgboost/training.py:183: UserWarning: [16:33:32] WARNING: /Users/runner/work/xgboost/xgboost/src/learner.cc:738: \n",
      "Parameters: { \"use_label_encoder\" } are not used.\n",
      "\n",
      "  bst.update(dtrain, iteration=i, fobj=obj)\n",
      "/Users/gab/Desktop/school/hec_w25/python/projet/.venv/lib/python3.11/site-packages/xgboost/training.py:183: UserWarning: [16:33:32] WARNING: /Users/runner/work/xgboost/xgboost/src/learner.cc:738: \n",
      "Parameters: { \"use_label_encoder\" } are not used.\n",
      "\n",
      "  bst.update(dtrain, iteration=i, fobj=obj)\n"
     ]
    },
    {
     "name": "stdout",
     "output_type": "stream",
     "text": [
      "[CV 1/5] END colsample_bylevel=0.8, colsample_bytree=0.5, gamma=0.05, learning_rate=0.01, max_depth=6, min_child_weight=7, n_estimators=1000, reg_alpha=0.5, reg_lambda=5.0, scale_pos_weight=1.2, subsample=1.0;, score=0.617 total time=   0.9s\n",
      "[CV 5/5] END colsample_bylevel=0.8, colsample_bytree=0.5, gamma=0.05, learning_rate=0.01, max_depth=6, min_child_weight=7, n_estimators=1000, reg_alpha=0.5, reg_lambda=5.0, scale_pos_weight=1.2, subsample=1.0;, score=0.662 total time=   0.8s\n"
     ]
    },
    {
     "name": "stderr",
     "output_type": "stream",
     "text": [
      "/Users/gab/Desktop/school/hec_w25/python/projet/.venv/lib/python3.11/site-packages/xgboost/training.py:183: UserWarning: [16:33:32] WARNING: /Users/runner/work/xgboost/xgboost/src/learner.cc:738: \n",
      "Parameters: { \"use_label_encoder\" } are not used.\n",
      "\n",
      "  bst.update(dtrain, iteration=i, fobj=obj)\n",
      "/Users/gab/Desktop/school/hec_w25/python/projet/.venv/lib/python3.11/site-packages/xgboost/training.py:183: UserWarning: [16:33:32] WARNING: /Users/runner/work/xgboost/xgboost/src/learner.cc:738: \n",
      "Parameters: { \"use_label_encoder\" } are not used.\n",
      "\n",
      "  bst.update(dtrain, iteration=i, fobj=obj)\n"
     ]
    },
    {
     "name": "stdout",
     "output_type": "stream",
     "text": [
      "[CV 5/5] END colsample_bylevel=0.8, colsample_bytree=0.9, gamma=0.2, learning_rate=0.15, max_depth=4, min_child_weight=1, n_estimators=2000, reg_alpha=0, reg_lambda=0.1, scale_pos_weight=1.1, subsample=1.0;, score=0.650 total time=   0.5s\n",
      "[CV 4/5] END colsample_bylevel=0.8, colsample_bytree=0.9, gamma=0.2, learning_rate=0.15, max_depth=4, min_child_weight=1, n_estimators=2000, reg_alpha=0, reg_lambda=0.1, scale_pos_weight=1.1, subsample=1.0;, score=0.546 total time=   0.5s\n"
     ]
    },
    {
     "name": "stderr",
     "output_type": "stream",
     "text": [
      "/Users/gab/Desktop/school/hec_w25/python/projet/.venv/lib/python3.11/site-packages/xgboost/training.py:183: UserWarning: [16:33:32] WARNING: /Users/runner/work/xgboost/xgboost/src/learner.cc:738: \n",
      "Parameters: { \"use_label_encoder\" } are not used.\n",
      "\n",
      "  bst.update(dtrain, iteration=i, fobj=obj)\n",
      "/Users/gab/Desktop/school/hec_w25/python/projet/.venv/lib/python3.11/site-packages/xgboost/training.py:183: UserWarning: [16:33:32] WARNING: /Users/runner/work/xgboost/xgboost/src/learner.cc:738: \n",
      "Parameters: { \"use_label_encoder\" } are not used.\n",
      "\n",
      "  bst.update(dtrain, iteration=i, fobj=obj)\n"
     ]
    },
    {
     "name": "stdout",
     "output_type": "stream",
     "text": [
      "[CV 1/5] END colsample_bylevel=0.7, colsample_bytree=0.8, gamma=0.2, learning_rate=0.03, max_depth=6, min_child_weight=7, n_estimators=500, reg_alpha=0.1, reg_lambda=1.0, scale_pos_weight=1.0, subsample=0.7;, score=0.607 total time=   0.4s\n"
     ]
    },
    {
     "name": "stderr",
     "output_type": "stream",
     "text": [
      "/Users/gab/Desktop/school/hec_w25/python/projet/.venv/lib/python3.11/site-packages/xgboost/training.py:183: UserWarning: [16:33:32] WARNING: /Users/runner/work/xgboost/xgboost/src/learner.cc:738: \n",
      "Parameters: { \"use_label_encoder\" } are not used.\n",
      "\n",
      "  bst.update(dtrain, iteration=i, fobj=obj)\n",
      "/Users/gab/Desktop/school/hec_w25/python/projet/.venv/lib/python3.11/site-packages/xgboost/training.py:183: UserWarning: [16:33:33] WARNING: /Users/runner/work/xgboost/xgboost/src/learner.cc:738: \n",
      "Parameters: { \"use_label_encoder\" } are not used.\n",
      "\n",
      "  bst.update(dtrain, iteration=i, fobj=obj)\n",
      "/Users/gab/Desktop/school/hec_w25/python/projet/.venv/lib/python3.11/site-packages/xgboost/training.py:183: UserWarning: [16:33:33] WARNING: /Users/runner/work/xgboost/xgboost/src/learner.cc:738: \n",
      "Parameters: { \"use_label_encoder\" } are not used.\n",
      "\n",
      "  bst.update(dtrain, iteration=i, fobj=obj)\n"
     ]
    },
    {
     "name": "stdout",
     "output_type": "stream",
     "text": [
      "[CV 2/5] END colsample_bylevel=0.7, colsample_bytree=0.8, gamma=0.2, learning_rate=0.03, max_depth=6, min_child_weight=7, n_estimators=500, reg_alpha=0.1, reg_lambda=1.0, scale_pos_weight=1.0, subsample=0.7;, score=0.637 total time=   0.4s\n",
      "[CV 3/5] END colsample_bylevel=0.7, colsample_bytree=0.8, gamma=0.2, learning_rate=0.03, max_depth=6, min_child_weight=7, n_estimators=500, reg_alpha=0.1, reg_lambda=1.0, scale_pos_weight=1.0, subsample=0.7;, score=0.549 total time=   0.4s\n",
      "[CV 4/5] END colsample_bylevel=0.7, colsample_bytree=0.8, gamma=0.2, learning_rate=0.03, max_depth=6, min_child_weight=7, n_estimators=500, reg_alpha=0.1, reg_lambda=1.0, scale_pos_weight=1.0, subsample=0.7;, score=0.599 total time=   0.4s\n",
      "[CV 4/5] END colsample_bylevel=0.9, colsample_bytree=0.7, gamma=0.1, learning_rate=0.05, max_depth=8, min_child_weight=1, n_estimators=500, reg_alpha=0, reg_lambda=5.0, scale_pos_weight=1.0, subsample=0.9;, score=0.578 total time=   1.0s\n",
      "[CV 2/5] END colsample_bylevel=0.9, colsample_bytree=0.7, gamma=0.1, learning_rate=0.05, max_depth=8, min_child_weight=1, n_estimators=500, reg_alpha=0, reg_lambda=5.0, scale_pos_weight=1.0, subsample=0.9;, score=0.609 total time=   1.0s\n",
      "[CV 3/5] END colsample_bylevel=0.9, colsample_bytree=0.7, gamma=0.1, learning_rate=0.05, max_depth=8, min_child_weight=1, n_estimators=500, reg_alpha=0, reg_lambda=5.0, scale_pos_weight=1.0, subsample=0.9;, score=0.511 total time=   1.0s\n",
      "[CV 1/5] END colsample_bylevel=0.9, colsample_bytree=0.7, gamma=0.1, learning_rate=0.05, max_depth=8, min_child_weight=1, n_estimators=500, reg_alpha=0, reg_lambda=5.0, scale_pos_weight=1.0, subsample=0.9;, score=0.595 total time=   1.1s\n"
     ]
    },
    {
     "name": "stderr",
     "output_type": "stream",
     "text": [
      "/Users/gab/Desktop/school/hec_w25/python/projet/.venv/lib/python3.11/site-packages/xgboost/training.py:183: UserWarning: [16:33:33] WARNING: /Users/runner/work/xgboost/xgboost/src/learner.cc:738: \n",
      "Parameters: { \"use_label_encoder\" } are not used.\n",
      "\n",
      "  bst.update(dtrain, iteration=i, fobj=obj)\n",
      "/Users/gab/Desktop/school/hec_w25/python/projet/.venv/lib/python3.11/site-packages/xgboost/training.py:183: UserWarning: [16:33:33] WARNING: /Users/runner/work/xgboost/xgboost/src/learner.cc:738: \n",
      "Parameters: { \"use_label_encoder\" } are not used.\n",
      "\n",
      "  bst.update(dtrain, iteration=i, fobj=obj)\n",
      "/Users/gab/Desktop/school/hec_w25/python/projet/.venv/lib/python3.11/site-packages/xgboost/training.py:183: UserWarning: [16:33:33] WARNING: /Users/runner/work/xgboost/xgboost/src/learner.cc:738: \n",
      "Parameters: { \"use_label_encoder\" } are not used.\n",
      "\n",
      "  bst.update(dtrain, iteration=i, fobj=obj)\n",
      "/Users/gab/Desktop/school/hec_w25/python/projet/.venv/lib/python3.11/site-packages/xgboost/training.py:183: UserWarning: [16:33:33] WARNING: /Users/runner/work/xgboost/xgboost/src/learner.cc:738: \n",
      "Parameters: { \"use_label_encoder\" } are not used.\n",
      "\n",
      "  bst.update(dtrain, iteration=i, fobj=obj)\n",
      "/Users/gab/Desktop/school/hec_w25/python/projet/.venv/lib/python3.11/site-packages/xgboost/training.py:183: UserWarning: [16:33:33] WARNING: /Users/runner/work/xgboost/xgboost/src/learner.cc:738: \n",
      "Parameters: { \"use_label_encoder\" } are not used.\n",
      "\n",
      "  bst.update(dtrain, iteration=i, fobj=obj)\n"
     ]
    },
    {
     "name": "stdout",
     "output_type": "stream",
     "text": [
      "[CV 5/5] END colsample_bylevel=0.9, colsample_bytree=0.7, gamma=0.1, learning_rate=0.05, max_depth=8, min_child_weight=1, n_estimators=500, reg_alpha=0, reg_lambda=5.0, scale_pos_weight=1.0, subsample=0.9;, score=0.637 total time=   1.1s\n",
      "[CV 5/5] END colsample_bylevel=0.7, colsample_bytree=0.8, gamma=0.2, learning_rate=0.03, max_depth=6, min_child_weight=7, n_estimators=500, reg_alpha=0.1, reg_lambda=1.0, scale_pos_weight=1.0, subsample=0.7;, score=0.652 total time=   0.4s\n"
     ]
    },
    {
     "name": "stderr",
     "output_type": "stream",
     "text": [
      "/Users/gab/Desktop/school/hec_w25/python/projet/.venv/lib/python3.11/site-packages/xgboost/training.py:183: UserWarning: [16:33:33] WARNING: /Users/runner/work/xgboost/xgboost/src/learner.cc:738: \n",
      "Parameters: { \"use_label_encoder\" } are not used.\n",
      "\n",
      "  bst.update(dtrain, iteration=i, fobj=obj)\n",
      "/Users/gab/Desktop/school/hec_w25/python/projet/.venv/lib/python3.11/site-packages/xgboost/training.py:183: UserWarning: [16:33:33] WARNING: /Users/runner/work/xgboost/xgboost/src/learner.cc:738: \n",
      "Parameters: { \"use_label_encoder\" } are not used.\n",
      "\n",
      "  bst.update(dtrain, iteration=i, fobj=obj)\n"
     ]
    },
    {
     "name": "stdout",
     "output_type": "stream",
     "text": [
      "[CV 1/5] END colsample_bylevel=1.0, colsample_bytree=0.9, gamma=0.3, learning_rate=0.03, max_depth=4, min_child_weight=7, n_estimators=2000, reg_alpha=0.1, reg_lambda=5.0, scale_pos_weight=1.1, subsample=1.0;, score=0.602 total time=   0.7s\n",
      "[CV 3/5] END colsample_bylevel=1.0, colsample_bytree=0.9, gamma=0.3, learning_rate=0.03, max_depth=4, min_child_weight=7, n_estimators=2000, reg_alpha=0.1, reg_lambda=5.0, scale_pos_weight=1.1, subsample=1.0;, score=0.532 total time=   0.7s\n"
     ]
    },
    {
     "name": "stderr",
     "output_type": "stream",
     "text": [
      "/Users/gab/Desktop/school/hec_w25/python/projet/.venv/lib/python3.11/site-packages/xgboost/training.py:183: UserWarning: [16:33:33] WARNING: /Users/runner/work/xgboost/xgboost/src/learner.cc:738: \n",
      "Parameters: { \"use_label_encoder\" } are not used.\n",
      "\n",
      "  bst.update(dtrain, iteration=i, fobj=obj)\n",
      "/Users/gab/Desktop/school/hec_w25/python/projet/.venv/lib/python3.11/site-packages/xgboost/training.py:183: UserWarning: [16:33:34] WARNING: /Users/runner/work/xgboost/xgboost/src/learner.cc:738: \n",
      "Parameters: { \"use_label_encoder\" } are not used.\n",
      "\n",
      "  bst.update(dtrain, iteration=i, fobj=obj)\n",
      "/Users/gab/Desktop/school/hec_w25/python/projet/.venv/lib/python3.11/site-packages/xgboost/training.py:183: UserWarning: [16:33:34] WARNING: /Users/runner/work/xgboost/xgboost/src/learner.cc:738: \n",
      "Parameters: { \"use_label_encoder\" } are not used.\n",
      "\n",
      "  bst.update(dtrain, iteration=i, fobj=obj)\n"
     ]
    },
    {
     "name": "stdout",
     "output_type": "stream",
     "text": [
      "[CV 2/5] END colsample_bylevel=1.0, colsample_bytree=0.9, gamma=0.3, learning_rate=0.03, max_depth=4, min_child_weight=7, n_estimators=2000, reg_alpha=0.1, reg_lambda=5.0, scale_pos_weight=1.1, subsample=1.0;, score=0.630 total time=   0.8s\n",
      "[CV 4/5] END colsample_bylevel=1.0, colsample_bytree=0.9, gamma=0.3, learning_rate=0.03, max_depth=4, min_child_weight=7, n_estimators=2000, reg_alpha=0.1, reg_lambda=5.0, scale_pos_weight=1.1, subsample=1.0;, score=0.579 total time=   0.8s\n",
      "[CV 1/5] END colsample_bylevel=0.9, colsample_bytree=0.7, gamma=0.05, learning_rate=0.01, max_depth=4, min_child_weight=7, n_estimators=1000, reg_alpha=0.5, reg_lambda=0.1, scale_pos_weight=1.0, subsample=1.0;, score=0.615 total time=   0.6s\n"
     ]
    },
    {
     "name": "stderr",
     "output_type": "stream",
     "text": [
      "/Users/gab/Desktop/school/hec_w25/python/projet/.venv/lib/python3.11/site-packages/xgboost/training.py:183: UserWarning: [16:33:34] WARNING: /Users/runner/work/xgboost/xgboost/src/learner.cc:738: \n",
      "Parameters: { \"use_label_encoder\" } are not used.\n",
      "\n",
      "  bst.update(dtrain, iteration=i, fobj=obj)\n",
      "/Users/gab/Desktop/school/hec_w25/python/projet/.venv/lib/python3.11/site-packages/xgboost/training.py:183: UserWarning: [16:33:34] WARNING: /Users/runner/work/xgboost/xgboost/src/learner.cc:738: \n",
      "Parameters: { \"use_label_encoder\" } are not used.\n",
      "\n",
      "  bst.update(dtrain, iteration=i, fobj=obj)\n"
     ]
    },
    {
     "name": "stdout",
     "output_type": "stream",
     "text": [
      "[CV 5/5] END colsample_bylevel=1.0, colsample_bytree=0.9, gamma=0.3, learning_rate=0.03, max_depth=4, min_child_weight=7, n_estimators=2000, reg_alpha=0.1, reg_lambda=5.0, scale_pos_weight=1.1, subsample=1.0;, score=0.636 total time=   1.0s\n"
     ]
    },
    {
     "name": "stderr",
     "output_type": "stream",
     "text": [
      "/Users/gab/Desktop/school/hec_w25/python/projet/.venv/lib/python3.11/site-packages/xgboost/training.py:183: UserWarning: [16:33:35] WARNING: /Users/runner/work/xgboost/xgboost/src/learner.cc:738: \n",
      "Parameters: { \"use_label_encoder\" } are not used.\n",
      "\n",
      "  bst.update(dtrain, iteration=i, fobj=obj)\n"
     ]
    },
    {
     "name": "stdout",
     "output_type": "stream",
     "text": [
      "[CV 2/5] END colsample_bylevel=0.9, colsample_bytree=0.7, gamma=0.05, learning_rate=0.01, max_depth=4, min_child_weight=7, n_estimators=1000, reg_alpha=0.5, reg_lambda=0.1, scale_pos_weight=1.0, subsample=1.0;, score=0.642 total time=   0.7s\n",
      "[CV 3/5] END colsample_bylevel=0.9, colsample_bytree=0.7, gamma=0.05, learning_rate=0.01, max_depth=4, min_child_weight=7, n_estimators=1000, reg_alpha=0.5, reg_lambda=0.1, scale_pos_weight=1.0, subsample=1.0;, score=0.535 total time=   0.8s\n"
     ]
    },
    {
     "name": "stderr",
     "output_type": "stream",
     "text": [
      "/Users/gab/Desktop/school/hec_w25/python/projet/.venv/lib/python3.11/site-packages/xgboost/training.py:183: UserWarning: [16:33:35] WARNING: /Users/runner/work/xgboost/xgboost/src/learner.cc:738: \n",
      "Parameters: { \"use_label_encoder\" } are not used.\n",
      "\n",
      "  bst.update(dtrain, iteration=i, fobj=obj)\n",
      "/Users/gab/Desktop/school/hec_w25/python/projet/.venv/lib/python3.11/site-packages/xgboost/training.py:183: UserWarning: [16:33:35] WARNING: /Users/runner/work/xgboost/xgboost/src/learner.cc:738: \n",
      "Parameters: { \"use_label_encoder\" } are not used.\n",
      "\n",
      "  bst.update(dtrain, iteration=i, fobj=obj)\n"
     ]
    },
    {
     "name": "stdout",
     "output_type": "stream",
     "text": [
      "[CV 1/5] END colsample_bylevel=0.8, colsample_bytree=0.8, gamma=0, learning_rate=0.05, max_depth=12, min_child_weight=3, n_estimators=2000, reg_alpha=0.5, reg_lambda=5.0, scale_pos_weight=1.0, subsample=1.0;, score=0.588 total time=   2.9s\n",
      "[CV 4/5] END colsample_bylevel=0.9, colsample_bytree=0.7, gamma=0.05, learning_rate=0.01, max_depth=4, min_child_weight=7, n_estimators=1000, reg_alpha=0.5, reg_lambda=0.1, scale_pos_weight=1.0, subsample=1.0;, score=0.587 total time=   0.8s\n"
     ]
    },
    {
     "name": "stderr",
     "output_type": "stream",
     "text": [
      "/Users/gab/Desktop/school/hec_w25/python/projet/.venv/lib/python3.11/site-packages/xgboost/training.py:183: UserWarning: [16:33:35] WARNING: /Users/runner/work/xgboost/xgboost/src/learner.cc:738: \n",
      "Parameters: { \"use_label_encoder\" } are not used.\n",
      "\n",
      "  bst.update(dtrain, iteration=i, fobj=obj)\n",
      "/Users/gab/Desktop/school/hec_w25/python/projet/.venv/lib/python3.11/site-packages/xgboost/training.py:183: UserWarning: [16:33:35] WARNING: /Users/runner/work/xgboost/xgboost/src/learner.cc:738: \n",
      "Parameters: { \"use_label_encoder\" } are not used.\n",
      "\n",
      "  bst.update(dtrain, iteration=i, fobj=obj)\n"
     ]
    },
    {
     "name": "stdout",
     "output_type": "stream",
     "text": [
      "[CV 5/5] END colsample_bylevel=0.9, colsample_bytree=0.7, gamma=0.05, learning_rate=0.01, max_depth=4, min_child_weight=7, n_estimators=1000, reg_alpha=0.5, reg_lambda=0.1, scale_pos_weight=1.0, subsample=1.0;, score=0.655 total time=   0.6s\n",
      "[CV 5/5] END colsample_bylevel=0.8, colsample_bytree=0.8, gamma=0, learning_rate=0.05, max_depth=12, min_child_weight=3, n_estimators=2000, reg_alpha=0.5, reg_lambda=5.0, scale_pos_weight=1.0, subsample=1.0;, score=0.623 total time=   2.9s\n",
      "[CV 3/5] END colsample_bylevel=0.8, colsample_bytree=0.8, gamma=0, learning_rate=0.05, max_depth=12, min_child_weight=3, n_estimators=2000, reg_alpha=0.5, reg_lambda=5.0, scale_pos_weight=1.0, subsample=1.0;, score=0.527 total time=   3.0s\n",
      "[CV 2/5] END colsample_bylevel=0.8, colsample_bytree=0.8, gamma=0, learning_rate=0.05, max_depth=12, min_child_weight=3, n_estimators=2000, reg_alpha=0.5, reg_lambda=5.0, scale_pos_weight=1.0, subsample=1.0;, score=0.620 total time=   3.0s\n"
     ]
    },
    {
     "name": "stderr",
     "output_type": "stream",
     "text": [
      "/Users/gab/Desktop/school/hec_w25/python/projet/.venv/lib/python3.11/site-packages/xgboost/training.py:183: UserWarning: [16:33:36] WARNING: /Users/runner/work/xgboost/xgboost/src/learner.cc:738: \n",
      "Parameters: { \"use_label_encoder\" } are not used.\n",
      "\n",
      "  bst.update(dtrain, iteration=i, fobj=obj)\n",
      "/Users/gab/Desktop/school/hec_w25/python/projet/.venv/lib/python3.11/site-packages/xgboost/training.py:183: UserWarning: [16:33:36] WARNING: /Users/runner/work/xgboost/xgboost/src/learner.cc:738: \n",
      "Parameters: { \"use_label_encoder\" } are not used.\n",
      "\n",
      "  bst.update(dtrain, iteration=i, fobj=obj)\n",
      "/Users/gab/Desktop/school/hec_w25/python/projet/.venv/lib/python3.11/site-packages/xgboost/training.py:183: UserWarning: [16:33:36] WARNING: /Users/runner/work/xgboost/xgboost/src/learner.cc:738: \n",
      "Parameters: { \"use_label_encoder\" } are not used.\n",
      "\n",
      "  bst.update(dtrain, iteration=i, fobj=obj)\n",
      "/Users/gab/Desktop/school/hec_w25/python/projet/.venv/lib/python3.11/site-packages/xgboost/training.py:183: UserWarning: [16:33:36] WARNING: /Users/runner/work/xgboost/xgboost/src/learner.cc:738: \n",
      "Parameters: { \"use_label_encoder\" } are not used.\n",
      "\n",
      "  bst.update(dtrain, iteration=i, fobj=obj)\n"
     ]
    },
    {
     "name": "stdout",
     "output_type": "stream",
     "text": [
      "[CV 4/5] END colsample_bylevel=0.8, colsample_bytree=0.8, gamma=0, learning_rate=0.05, max_depth=12, min_child_weight=3, n_estimators=2000, reg_alpha=0.5, reg_lambda=5.0, scale_pos_weight=1.0, subsample=1.0;, score=0.585 total time=   3.2s\n",
      "[CV 1/5] END colsample_bylevel=0.7, colsample_bytree=0.9, gamma=0.1, learning_rate=0.05, max_depth=8, min_child_weight=7, n_estimators=1000, reg_alpha=0.5, reg_lambda=0.1, scale_pos_weight=1.1, subsample=0.8;, score=0.590 total time=   1.0s\n"
     ]
    },
    {
     "name": "stderr",
     "output_type": "stream",
     "text": [
      "/Users/gab/Desktop/school/hec_w25/python/projet/.venv/lib/python3.11/site-packages/xgboost/training.py:183: UserWarning: [16:33:36] WARNING: /Users/runner/work/xgboost/xgboost/src/learner.cc:738: \n",
      "Parameters: { \"use_label_encoder\" } are not used.\n",
      "\n",
      "  bst.update(dtrain, iteration=i, fobj=obj)\n",
      "/Users/gab/Desktop/school/hec_w25/python/projet/.venv/lib/python3.11/site-packages/xgboost/training.py:183: UserWarning: [16:33:36] WARNING: /Users/runner/work/xgboost/xgboost/src/learner.cc:738: \n",
      "Parameters: { \"use_label_encoder\" } are not used.\n",
      "\n",
      "  bst.update(dtrain, iteration=i, fobj=obj)\n"
     ]
    },
    {
     "name": "stdout",
     "output_type": "stream",
     "text": [
      "[CV 3/5] END colsample_bylevel=0.7, colsample_bytree=0.9, gamma=0.1, learning_rate=0.05, max_depth=8, min_child_weight=7, n_estimators=1000, reg_alpha=0.5, reg_lambda=0.1, scale_pos_weight=1.1, subsample=0.8;, score=0.521 total time=   0.9s\n",
      "[CV 2/5] END colsample_bylevel=0.7, colsample_bytree=0.9, gamma=0.1, learning_rate=0.05, max_depth=8, min_child_weight=7, n_estimators=1000, reg_alpha=0.5, reg_lambda=0.1, scale_pos_weight=1.1, subsample=0.8;, score=0.614 total time=   1.0s\n"
     ]
    },
    {
     "name": "stderr",
     "output_type": "stream",
     "text": [
      "/Users/gab/Desktop/school/hec_w25/python/projet/.venv/lib/python3.11/site-packages/xgboost/training.py:183: UserWarning: [16:33:36] WARNING: /Users/runner/work/xgboost/xgboost/src/learner.cc:738: \n",
      "Parameters: { \"use_label_encoder\" } are not used.\n",
      "\n",
      "  bst.update(dtrain, iteration=i, fobj=obj)\n",
      "/Users/gab/Desktop/school/hec_w25/python/projet/.venv/lib/python3.11/site-packages/xgboost/training.py:183: UserWarning: [16:33:36] WARNING: /Users/runner/work/xgboost/xgboost/src/learner.cc:738: \n",
      "Parameters: { \"use_label_encoder\" } are not used.\n",
      "\n",
      "  bst.update(dtrain, iteration=i, fobj=obj)\n"
     ]
    },
    {
     "name": "stdout",
     "output_type": "stream",
     "text": [
      "[CV 4/5] END colsample_bylevel=0.7, colsample_bytree=0.9, gamma=0.1, learning_rate=0.05, max_depth=8, min_child_weight=7, n_estimators=1000, reg_alpha=0.5, reg_lambda=0.1, scale_pos_weight=1.1, subsample=0.8;, score=0.604 total time=   1.0s\n",
      "[CV 5/5] END colsample_bylevel=0.7, colsample_bytree=0.9, gamma=0.1, learning_rate=0.05, max_depth=8, min_child_weight=7, n_estimators=1000, reg_alpha=0.5, reg_lambda=0.1, scale_pos_weight=1.1, subsample=0.8;, score=0.631 total time=   1.1s\n"
     ]
    },
    {
     "name": "stderr",
     "output_type": "stream",
     "text": [
      "/Users/gab/Desktop/school/hec_w25/python/projet/.venv/lib/python3.11/site-packages/xgboost/training.py:183: UserWarning: [16:33:37] WARNING: /Users/runner/work/xgboost/xgboost/src/learner.cc:738: \n",
      "Parameters: { \"use_label_encoder\" } are not used.\n",
      "\n",
      "  bst.update(dtrain, iteration=i, fobj=obj)\n",
      "/Users/gab/Desktop/school/hec_w25/python/projet/.venv/lib/python3.11/site-packages/xgboost/training.py:183: UserWarning: [16:33:37] WARNING: /Users/runner/work/xgboost/xgboost/src/learner.cc:738: \n",
      "Parameters: { \"use_label_encoder\" } are not used.\n",
      "\n",
      "  bst.update(dtrain, iteration=i, fobj=obj)\n"
     ]
    },
    {
     "name": "stdout",
     "output_type": "stream",
     "text": [
      "[CV 1/5] END colsample_bylevel=0.9, colsample_bytree=0.5, gamma=0.3, learning_rate=0.03, max_depth=6, min_child_weight=7, n_estimators=2000, reg_alpha=0, reg_lambda=0.1, scale_pos_weight=1.0, subsample=1.0;, score=0.605 total time=   0.8s\n"
     ]
    },
    {
     "name": "stderr",
     "output_type": "stream",
     "text": [
      "/Users/gab/Desktop/school/hec_w25/python/projet/.venv/lib/python3.11/site-packages/xgboost/training.py:183: UserWarning: [16:33:37] WARNING: /Users/runner/work/xgboost/xgboost/src/learner.cc:738: \n",
      "Parameters: { \"use_label_encoder\" } are not used.\n",
      "\n",
      "  bst.update(dtrain, iteration=i, fobj=obj)\n"
     ]
    },
    {
     "name": "stdout",
     "output_type": "stream",
     "text": [
      "[CV 2/5] END colsample_bylevel=0.9, colsample_bytree=0.5, gamma=0.3, learning_rate=0.03, max_depth=6, min_child_weight=7, n_estimators=2000, reg_alpha=0, reg_lambda=0.1, scale_pos_weight=1.0, subsample=1.0;, score=0.644 total time=   0.8s\n",
      "[CV 3/5] END colsample_bylevel=0.9, colsample_bytree=0.5, gamma=0.3, learning_rate=0.03, max_depth=6, min_child_weight=7, n_estimators=2000, reg_alpha=0, reg_lambda=0.1, scale_pos_weight=1.0, subsample=1.0;, score=0.537 total time=   0.8s\n"
     ]
    },
    {
     "name": "stderr",
     "output_type": "stream",
     "text": [
      "/Users/gab/Desktop/school/hec_w25/python/projet/.venv/lib/python3.11/site-packages/xgboost/training.py:183: UserWarning: [16:33:38] WARNING: /Users/runner/work/xgboost/xgboost/src/learner.cc:738: \n",
      "Parameters: { \"use_label_encoder\" } are not used.\n",
      "\n",
      "  bst.update(dtrain, iteration=i, fobj=obj)\n",
      "/Users/gab/Desktop/school/hec_w25/python/projet/.venv/lib/python3.11/site-packages/xgboost/training.py:183: UserWarning: [16:33:38] WARNING: /Users/runner/work/xgboost/xgboost/src/learner.cc:738: \n",
      "Parameters: { \"use_label_encoder\" } are not used.\n",
      "\n",
      "  bst.update(dtrain, iteration=i, fobj=obj)\n"
     ]
    },
    {
     "name": "stdout",
     "output_type": "stream",
     "text": [
      "[CV 4/5] END colsample_bylevel=0.9, colsample_bytree=0.5, gamma=0.3, learning_rate=0.03, max_depth=6, min_child_weight=7, n_estimators=2000, reg_alpha=0, reg_lambda=0.1, scale_pos_weight=1.0, subsample=1.0;, score=0.588 total time=   0.8s\n"
     ]
    },
    {
     "name": "stderr",
     "output_type": "stream",
     "text": [
      "/Users/gab/Desktop/school/hec_w25/python/projet/.venv/lib/python3.11/site-packages/xgboost/training.py:183: UserWarning: [16:33:38] WARNING: /Users/runner/work/xgboost/xgboost/src/learner.cc:738: \n",
      "Parameters: { \"use_label_encoder\" } are not used.\n",
      "\n",
      "  bst.update(dtrain, iteration=i, fobj=obj)\n",
      "/Users/gab/Desktop/school/hec_w25/python/projet/.venv/lib/python3.11/site-packages/xgboost/training.py:183: UserWarning: [16:33:38] WARNING: /Users/runner/work/xgboost/xgboost/src/learner.cc:738: \n",
      "Parameters: { \"use_label_encoder\" } are not used.\n",
      "\n",
      "  bst.update(dtrain, iteration=i, fobj=obj)\n"
     ]
    },
    {
     "name": "stdout",
     "output_type": "stream",
     "text": [
      "[CV 5/5] END colsample_bylevel=0.9, colsample_bytree=0.5, gamma=0.3, learning_rate=0.03, max_depth=6, min_child_weight=7, n_estimators=2000, reg_alpha=0, reg_lambda=0.1, scale_pos_weight=1.0, subsample=1.0;, score=0.647 total time=   0.7s\n",
      "[CV 1/5] END colsample_bylevel=0.8, colsample_bytree=0.7, gamma=0.2, learning_rate=0.01, max_depth=12, min_child_weight=5, n_estimators=1500, reg_alpha=0, reg_lambda=10.0, scale_pos_weight=1.1, subsample=0.8;, score=0.595 total time=   2.6s\n",
      "[CV 2/5] END colsample_bylevel=0.8, colsample_bytree=0.7, gamma=0.2, learning_rate=0.01, max_depth=12, min_child_weight=5, n_estimators=1500, reg_alpha=0, reg_lambda=10.0, scale_pos_weight=1.1, subsample=0.8;, score=0.639 total time=   2.7s\n"
     ]
    },
    {
     "name": "stderr",
     "output_type": "stream",
     "text": [
      "/Users/gab/Desktop/school/hec_w25/python/projet/.venv/lib/python3.11/site-packages/xgboost/training.py:183: UserWarning: [16:33:38] WARNING: /Users/runner/work/xgboost/xgboost/src/learner.cc:738: \n",
      "Parameters: { \"use_label_encoder\" } are not used.\n",
      "\n",
      "  bst.update(dtrain, iteration=i, fobj=obj)\n",
      "/Users/gab/Desktop/school/hec_w25/python/projet/.venv/lib/python3.11/site-packages/xgboost/training.py:183: UserWarning: [16:33:38] WARNING: /Users/runner/work/xgboost/xgboost/src/learner.cc:738: \n",
      "Parameters: { \"use_label_encoder\" } are not used.\n",
      "\n",
      "  bst.update(dtrain, iteration=i, fobj=obj)\n"
     ]
    },
    {
     "name": "stdout",
     "output_type": "stream",
     "text": [
      "[CV 3/5] END colsample_bylevel=0.8, colsample_bytree=0.7, gamma=0.2, learning_rate=0.01, max_depth=12, min_child_weight=5, n_estimators=1500, reg_alpha=0, reg_lambda=10.0, scale_pos_weight=1.1, subsample=0.8;, score=0.535 total time=   2.5s\n",
      "[CV 1/5] END colsample_bylevel=0.9, colsample_bytree=0.5, gamma=0.1, learning_rate=0.15, max_depth=6, min_child_weight=7, n_estimators=2000, reg_alpha=0, reg_lambda=10.0, scale_pos_weight=1.1, subsample=0.8;, score=0.582 total time=   1.0s\n"
     ]
    },
    {
     "name": "stderr",
     "output_type": "stream",
     "text": [
      "/Users/gab/Desktop/school/hec_w25/python/projet/.venv/lib/python3.11/site-packages/xgboost/training.py:183: UserWarning: [16:33:38] WARNING: /Users/runner/work/xgboost/xgboost/src/learner.cc:738: \n",
      "Parameters: { \"use_label_encoder\" } are not used.\n",
      "\n",
      "  bst.update(dtrain, iteration=i, fobj=obj)\n",
      "/Users/gab/Desktop/school/hec_w25/python/projet/.venv/lib/python3.11/site-packages/xgboost/training.py:183: UserWarning: [16:33:39] WARNING: /Users/runner/work/xgboost/xgboost/src/learner.cc:738: \n",
      "Parameters: { \"use_label_encoder\" } are not used.\n",
      "\n",
      "  bst.update(dtrain, iteration=i, fobj=obj)\n"
     ]
    },
    {
     "name": "stdout",
     "output_type": "stream",
     "text": [
      "[CV 4/5] END colsample_bylevel=0.8, colsample_bytree=0.7, gamma=0.2, learning_rate=0.01, max_depth=12, min_child_weight=5, n_estimators=1500, reg_alpha=0, reg_lambda=10.0, scale_pos_weight=1.1, subsample=0.8;, score=0.601 total time=   2.6s\n"
     ]
    },
    {
     "name": "stderr",
     "output_type": "stream",
     "text": [
      "/Users/gab/Desktop/school/hec_w25/python/projet/.venv/lib/python3.11/site-packages/xgboost/training.py:183: UserWarning: [16:33:39] WARNING: /Users/runner/work/xgboost/xgboost/src/learner.cc:738: \n",
      "Parameters: { \"use_label_encoder\" } are not used.\n",
      "\n",
      "  bst.update(dtrain, iteration=i, fobj=obj)\n"
     ]
    },
    {
     "name": "stdout",
     "output_type": "stream",
     "text": [
      "[CV 5/5] END colsample_bylevel=0.8, colsample_bytree=0.7, gamma=0.2, learning_rate=0.01, max_depth=12, min_child_weight=5, n_estimators=1500, reg_alpha=0, reg_lambda=10.0, scale_pos_weight=1.1, subsample=0.8;, score=0.657 total time=   2.7s\n",
      "[CV 2/5] END colsample_bylevel=0.9, colsample_bytree=0.5, gamma=0.1, learning_rate=0.15, max_depth=6, min_child_weight=7, n_estimators=2000, reg_alpha=0, reg_lambda=10.0, scale_pos_weight=1.1, subsample=0.8;, score=0.600 total time=   1.0s\n",
      "[CV 1/5] END colsample_bylevel=0.7, colsample_bytree=0.5, gamma=0.1, learning_rate=0.1, max_depth=6, min_child_weight=3, n_estimators=1000, reg_alpha=1.0, reg_lambda=1.0, scale_pos_weight=1.225, subsample=0.7;, score=0.597 total time=   0.6s\n"
     ]
    },
    {
     "name": "stderr",
     "output_type": "stream",
     "text": [
      "/Users/gab/Desktop/school/hec_w25/python/projet/.venv/lib/python3.11/site-packages/xgboost/training.py:183: UserWarning: [16:33:39] WARNING: /Users/runner/work/xgboost/xgboost/src/learner.cc:738: \n",
      "Parameters: { \"use_label_encoder\" } are not used.\n",
      "\n",
      "  bst.update(dtrain, iteration=i, fobj=obj)\n",
      "/Users/gab/Desktop/school/hec_w25/python/projet/.venv/lib/python3.11/site-packages/xgboost/training.py:183: UserWarning: [16:33:39] WARNING: /Users/runner/work/xgboost/xgboost/src/learner.cc:738: \n",
      "Parameters: { \"use_label_encoder\" } are not used.\n",
      "\n",
      "  bst.update(dtrain, iteration=i, fobj=obj)\n",
      "/Users/gab/Desktop/school/hec_w25/python/projet/.venv/lib/python3.11/site-packages/xgboost/training.py:183: UserWarning: [16:33:39] WARNING: /Users/runner/work/xgboost/xgboost/src/learner.cc:738: \n",
      "Parameters: { \"use_label_encoder\" } are not used.\n",
      "\n",
      "  bst.update(dtrain, iteration=i, fobj=obj)\n"
     ]
    },
    {
     "name": "stdout",
     "output_type": "stream",
     "text": [
      "[CV 3/5] END colsample_bylevel=0.9, colsample_bytree=0.5, gamma=0.1, learning_rate=0.15, max_depth=6, min_child_weight=7, n_estimators=2000, reg_alpha=0, reg_lambda=10.0, scale_pos_weight=1.1, subsample=0.8;, score=0.534 total time=   1.0s\n",
      "[CV 4/5] END colsample_bylevel=0.9, colsample_bytree=0.5, gamma=0.1, learning_rate=0.15, max_depth=6, min_child_weight=7, n_estimators=2000, reg_alpha=0, reg_lambda=10.0, scale_pos_weight=1.1, subsample=0.8;, score=0.600 total time=   1.0s\n",
      "[CV 2/5] END colsample_bylevel=0.7, colsample_bytree=0.5, gamma=0.1, learning_rate=0.1, max_depth=6, min_child_weight=3, n_estimators=1000, reg_alpha=1.0, reg_lambda=1.0, scale_pos_weight=1.225, subsample=0.7;, score=0.596 total time=   0.7s\n",
      "[CV 3/5] END colsample_bylevel=0.7, colsample_bytree=0.5, gamma=0.1, learning_rate=0.1, max_depth=6, min_child_weight=3, n_estimators=1000, reg_alpha=1.0, reg_lambda=1.0, scale_pos_weight=1.225, subsample=0.7;, score=0.517 total time=   0.7s\n",
      "[CV 5/5] END colsample_bylevel=0.9, colsample_bytree=0.5, gamma=0.1, learning_rate=0.15, max_depth=6, min_child_weight=7, n_estimators=2000, reg_alpha=0, reg_lambda=10.0, scale_pos_weight=1.1, subsample=0.8;, score=0.625 total time=   1.0s\n"
     ]
    },
    {
     "name": "stderr",
     "output_type": "stream",
     "text": [
      "/Users/gab/Desktop/school/hec_w25/python/projet/.venv/lib/python3.11/site-packages/xgboost/training.py:183: UserWarning: [16:33:39] WARNING: /Users/runner/work/xgboost/xgboost/src/learner.cc:738: \n",
      "Parameters: { \"use_label_encoder\" } are not used.\n",
      "\n",
      "  bst.update(dtrain, iteration=i, fobj=obj)\n",
      "/Users/gab/Desktop/school/hec_w25/python/projet/.venv/lib/python3.11/site-packages/xgboost/training.py:183: UserWarning: [16:33:39] WARNING: /Users/runner/work/xgboost/xgboost/src/learner.cc:738: \n",
      "Parameters: { \"use_label_encoder\" } are not used.\n",
      "\n",
      "  bst.update(dtrain, iteration=i, fobj=obj)\n",
      "/Users/gab/Desktop/school/hec_w25/python/projet/.venv/lib/python3.11/site-packages/xgboost/training.py:183: UserWarning: [16:33:39] WARNING: /Users/runner/work/xgboost/xgboost/src/learner.cc:738: \n",
      "Parameters: { \"use_label_encoder\" } are not used.\n",
      "\n",
      "  bst.update(dtrain, iteration=i, fobj=obj)\n",
      "/Users/gab/Desktop/school/hec_w25/python/projet/.venv/lib/python3.11/site-packages/xgboost/training.py:183: UserWarning: [16:33:39] WARNING: /Users/runner/work/xgboost/xgboost/src/learner.cc:738: \n",
      "Parameters: { \"use_label_encoder\" } are not used.\n",
      "\n",
      "  bst.update(dtrain, iteration=i, fobj=obj)\n",
      "/Users/gab/Desktop/school/hec_w25/python/projet/.venv/lib/python3.11/site-packages/xgboost/training.py:183: UserWarning: [16:33:39] WARNING: /Users/runner/work/xgboost/xgboost/src/learner.cc:738: \n",
      "Parameters: { \"use_label_encoder\" } are not used.\n",
      "\n",
      "  bst.update(dtrain, iteration=i, fobj=obj)\n"
     ]
    },
    {
     "name": "stdout",
     "output_type": "stream",
     "text": [
      "[CV 5/5] END colsample_bylevel=0.7, colsample_bytree=0.5, gamma=0.1, learning_rate=0.1, max_depth=6, min_child_weight=3, n_estimators=1000, reg_alpha=1.0, reg_lambda=1.0, scale_pos_weight=1.225, subsample=0.7;, score=0.636 total time=   0.6s\n",
      "[CV 4/5] END colsample_bylevel=0.7, colsample_bytree=0.5, gamma=0.1, learning_rate=0.1, max_depth=6, min_child_weight=3, n_estimators=1000, reg_alpha=1.0, reg_lambda=1.0, scale_pos_weight=1.225, subsample=0.7;, score=0.599 total time=   0.8s\n"
     ]
    },
    {
     "name": "stderr",
     "output_type": "stream",
     "text": [
      "/Users/gab/Desktop/school/hec_w25/python/projet/.venv/lib/python3.11/site-packages/xgboost/training.py:183: UserWarning: [16:33:40] WARNING: /Users/runner/work/xgboost/xgboost/src/learner.cc:738: \n",
      "Parameters: { \"use_label_encoder\" } are not used.\n",
      "\n",
      "  bst.update(dtrain, iteration=i, fobj=obj)\n",
      "/Users/gab/Desktop/school/hec_w25/python/projet/.venv/lib/python3.11/site-packages/xgboost/training.py:183: UserWarning: [16:33:40] WARNING: /Users/runner/work/xgboost/xgboost/src/learner.cc:738: \n",
      "Parameters: { \"use_label_encoder\" } are not used.\n",
      "\n",
      "  bst.update(dtrain, iteration=i, fobj=obj)\n"
     ]
    },
    {
     "name": "stdout",
     "output_type": "stream",
     "text": [
      "[CV 1/5] END colsample_bylevel=0.8, colsample_bytree=0.7, gamma=0, learning_rate=0.01, max_depth=4, min_child_weight=1, n_estimators=1500, reg_alpha=0.5, reg_lambda=10.0, scale_pos_weight=1.225, subsample=0.9;, score=0.615 total time=   0.9s\n",
      "[CV 3/5] END colsample_bylevel=0.8, colsample_bytree=0.7, gamma=0, learning_rate=0.01, max_depth=4, min_child_weight=1, n_estimators=1500, reg_alpha=0.5, reg_lambda=10.0, scale_pos_weight=1.225, subsample=0.9;, score=0.528 total time=   0.9s\n",
      "[CV 4/5] END colsample_bylevel=0.8, colsample_bytree=0.7, gamma=0, learning_rate=0.01, max_depth=4, min_child_weight=1, n_estimators=1500, reg_alpha=0.5, reg_lambda=10.0, scale_pos_weight=1.225, subsample=0.9;, score=0.577 total time=   0.9s\n"
     ]
    },
    {
     "name": "stderr",
     "output_type": "stream",
     "text": [
      "/Users/gab/Desktop/school/hec_w25/python/projet/.venv/lib/python3.11/site-packages/xgboost/training.py:183: UserWarning: [16:33:40] WARNING: /Users/runner/work/xgboost/xgboost/src/learner.cc:738: \n",
      "Parameters: { \"use_label_encoder\" } are not used.\n",
      "\n",
      "  bst.update(dtrain, iteration=i, fobj=obj)\n",
      "/Users/gab/Desktop/school/hec_w25/python/projet/.venv/lib/python3.11/site-packages/xgboost/training.py:183: UserWarning: [16:33:40] WARNING: /Users/runner/work/xgboost/xgboost/src/learner.cc:738: \n",
      "Parameters: { \"use_label_encoder\" } are not used.\n",
      "\n",
      "  bst.update(dtrain, iteration=i, fobj=obj)\n",
      "/Users/gab/Desktop/school/hec_w25/python/projet/.venv/lib/python3.11/site-packages/xgboost/training.py:183: UserWarning: [16:33:40] WARNING: /Users/runner/work/xgboost/xgboost/src/learner.cc:738: \n",
      "Parameters: { \"use_label_encoder\" } are not used.\n",
      "\n",
      "  bst.update(dtrain, iteration=i, fobj=obj)\n"
     ]
    },
    {
     "name": "stdout",
     "output_type": "stream",
     "text": [
      "[CV 2/5] END colsample_bylevel=0.8, colsample_bytree=0.7, gamma=0, learning_rate=0.01, max_depth=4, min_child_weight=1, n_estimators=1500, reg_alpha=0.5, reg_lambda=10.0, scale_pos_weight=1.225, subsample=0.9;, score=0.643 total time=   1.1s\n"
     ]
    },
    {
     "name": "stderr",
     "output_type": "stream",
     "text": [
      "/Users/gab/Desktop/school/hec_w25/python/projet/.venv/lib/python3.11/site-packages/xgboost/training.py:183: UserWarning: [16:33:40] WARNING: /Users/runner/work/xgboost/xgboost/src/learner.cc:738: \n",
      "Parameters: { \"use_label_encoder\" } are not used.\n",
      "\n",
      "  bst.update(dtrain, iteration=i, fobj=obj)\n"
     ]
    },
    {
     "name": "stdout",
     "output_type": "stream",
     "text": [
      "[CV 5/5] END colsample_bylevel=0.8, colsample_bytree=0.7, gamma=0, learning_rate=0.01, max_depth=4, min_child_weight=1, n_estimators=1500, reg_alpha=0.5, reg_lambda=10.0, scale_pos_weight=1.225, subsample=0.9;, score=0.659 total time=   1.1s\n"
     ]
    },
    {
     "name": "stderr",
     "output_type": "stream",
     "text": [
      "/Users/gab/Desktop/school/hec_w25/python/projet/.venv/lib/python3.11/site-packages/xgboost/training.py:183: UserWarning: [16:33:41] WARNING: /Users/runner/work/xgboost/xgboost/src/learner.cc:738: \n",
      "Parameters: { \"use_label_encoder\" } are not used.\n",
      "\n",
      "  bst.update(dtrain, iteration=i, fobj=obj)\n"
     ]
    },
    {
     "name": "stdout",
     "output_type": "stream",
     "text": [
      "[CV 1/5] END colsample_bylevel=0.7, colsample_bytree=0.9, gamma=0.1, learning_rate=0.05, max_depth=6, min_child_weight=3, n_estimators=1500, reg_alpha=0, reg_lambda=5.0, scale_pos_weight=1.2, subsample=1.0;, score=0.605 total time=   0.9s\n",
      "[CV 2/5] END colsample_bylevel=0.7, colsample_bytree=0.9, gamma=0.1, learning_rate=0.05, max_depth=6, min_child_weight=3, n_estimators=1500, reg_alpha=0, reg_lambda=5.0, scale_pos_weight=1.2, subsample=1.0;, score=0.608 total time=   0.8s\n"
     ]
    },
    {
     "name": "stderr",
     "output_type": "stream",
     "text": [
      "/Users/gab/Desktop/school/hec_w25/python/projet/.venv/lib/python3.11/site-packages/xgboost/training.py:183: UserWarning: [16:33:41] WARNING: /Users/runner/work/xgboost/xgboost/src/learner.cc:738: \n",
      "Parameters: { \"use_label_encoder\" } are not used.\n",
      "\n",
      "  bst.update(dtrain, iteration=i, fobj=obj)\n",
      "/Users/gab/Desktop/school/hec_w25/python/projet/.venv/lib/python3.11/site-packages/xgboost/training.py:183: UserWarning: [16:33:41] WARNING: /Users/runner/work/xgboost/xgboost/src/learner.cc:738: \n",
      "Parameters: { \"use_label_encoder\" } are not used.\n",
      "\n",
      "  bst.update(dtrain, iteration=i, fobj=obj)\n"
     ]
    },
    {
     "name": "stdout",
     "output_type": "stream",
     "text": [
      "[CV 3/5] END colsample_bylevel=0.7, colsample_bytree=0.9, gamma=0.1, learning_rate=0.05, max_depth=6, min_child_weight=3, n_estimators=1500, reg_alpha=0, reg_lambda=5.0, scale_pos_weight=1.2, subsample=1.0;, score=0.518 total time=   0.9s\n"
     ]
    },
    {
     "name": "stderr",
     "output_type": "stream",
     "text": [
      "/Users/gab/Desktop/school/hec_w25/python/projet/.venv/lib/python3.11/site-packages/xgboost/training.py:183: UserWarning: [16:33:41] WARNING: /Users/runner/work/xgboost/xgboost/src/learner.cc:738: \n",
      "Parameters: { \"use_label_encoder\" } are not used.\n",
      "\n",
      "  bst.update(dtrain, iteration=i, fobj=obj)\n"
     ]
    },
    {
     "name": "stdout",
     "output_type": "stream",
     "text": [
      "[CV 1/5] END colsample_bylevel=1.0, colsample_bytree=0.6, gamma=0.2, learning_rate=0.15, max_depth=6, min_child_weight=1, n_estimators=500, reg_alpha=0.5, reg_lambda=5.0, scale_pos_weight=1.0, subsample=0.8;, score=0.584 total time=   0.5s\n",
      "[CV 4/5] END colsample_bylevel=0.7, colsample_bytree=0.9, gamma=0.1, learning_rate=0.05, max_depth=6, min_child_weight=3, n_estimators=1500, reg_alpha=0, reg_lambda=5.0, scale_pos_weight=1.2, subsample=1.0;, score=0.569 total time=   0.8s\n",
      "[CV 1/5] END colsample_bylevel=0.9, colsample_bytree=0.9, gamma=0.05, learning_rate=0.01, max_depth=8, min_child_weight=5, n_estimators=1500, reg_alpha=1.0, reg_lambda=1.0, scale_pos_weight=1.2, subsample=0.8;, score=0.596 total time=   2.5s\n",
      "[CV 5/5] END colsample_bylevel=0.7, colsample_bytree=0.9, gamma=0.1, learning_rate=0.05, max_depth=6, min_child_weight=3, n_estimators=1500, reg_alpha=0, reg_lambda=5.0, scale_pos_weight=1.2, subsample=1.0;, score=0.624 total time=   0.8s\n"
     ]
    },
    {
     "name": "stderr",
     "output_type": "stream",
     "text": [
      "/Users/gab/Desktop/school/hec_w25/python/projet/.venv/lib/python3.11/site-packages/xgboost/training.py:183: UserWarning: [16:33:42] WARNING: /Users/runner/work/xgboost/xgboost/src/learner.cc:738: \n",
      "Parameters: { \"use_label_encoder\" } are not used.\n",
      "\n",
      "  bst.update(dtrain, iteration=i, fobj=obj)\n",
      "/Users/gab/Desktop/school/hec_w25/python/projet/.venv/lib/python3.11/site-packages/xgboost/training.py:183: UserWarning: [16:33:42] WARNING: /Users/runner/work/xgboost/xgboost/src/learner.cc:738: \n",
      "Parameters: { \"use_label_encoder\" } are not used.\n",
      "\n",
      "  bst.update(dtrain, iteration=i, fobj=obj)\n",
      "/Users/gab/Desktop/school/hec_w25/python/projet/.venv/lib/python3.11/site-packages/xgboost/training.py:183: UserWarning: [16:33:42] WARNING: /Users/runner/work/xgboost/xgboost/src/learner.cc:738: \n",
      "Parameters: { \"use_label_encoder\" } are not used.\n",
      "\n",
      "  bst.update(dtrain, iteration=i, fobj=obj)\n",
      "/Users/gab/Desktop/school/hec_w25/python/projet/.venv/lib/python3.11/site-packages/xgboost/training.py:183: UserWarning: [16:33:42] WARNING: /Users/runner/work/xgboost/xgboost/src/learner.cc:738: \n",
      "Parameters: { \"use_label_encoder\" } are not used.\n",
      "\n",
      "  bst.update(dtrain, iteration=i, fobj=obj)\n"
     ]
    },
    {
     "name": "stdout",
     "output_type": "stream",
     "text": [
      "[CV 3/5] END colsample_bylevel=0.9, colsample_bytree=0.9, gamma=0.05, learning_rate=0.01, max_depth=8, min_child_weight=5, n_estimators=1500, reg_alpha=1.0, reg_lambda=1.0, scale_pos_weight=1.2, subsample=0.8;, score=0.533 total time=   2.3s\n",
      "[CV 2/5] END colsample_bylevel=0.9, colsample_bytree=0.9, gamma=0.05, learning_rate=0.01, max_depth=8, min_child_weight=5, n_estimators=1500, reg_alpha=1.0, reg_lambda=1.0, scale_pos_weight=1.2, subsample=0.8;, score=0.625 total time=   2.6s\n"
     ]
    },
    {
     "name": "stderr",
     "output_type": "stream",
     "text": [
      "/Users/gab/Desktop/school/hec_w25/python/projet/.venv/lib/python3.11/site-packages/xgboost/training.py:183: UserWarning: [16:33:42] WARNING: /Users/runner/work/xgboost/xgboost/src/learner.cc:738: \n",
      "Parameters: { \"use_label_encoder\" } are not used.\n",
      "\n",
      "  bst.update(dtrain, iteration=i, fobj=obj)\n",
      "/Users/gab/Desktop/school/hec_w25/python/projet/.venv/lib/python3.11/site-packages/xgboost/training.py:183: UserWarning: [16:33:42] WARNING: /Users/runner/work/xgboost/xgboost/src/learner.cc:738: \n",
      "Parameters: { \"use_label_encoder\" } are not used.\n",
      "\n",
      "  bst.update(dtrain, iteration=i, fobj=obj)\n"
     ]
    },
    {
     "name": "stdout",
     "output_type": "stream",
     "text": [
      "[CV 3/5] END colsample_bylevel=1.0, colsample_bytree=0.6, gamma=0.2, learning_rate=0.15, max_depth=6, min_child_weight=1, n_estimators=500, reg_alpha=0.5, reg_lambda=5.0, scale_pos_weight=1.0, subsample=0.8;, score=0.530 total time=   0.5s\n",
      "[CV 4/5] END colsample_bylevel=1.0, colsample_bytree=0.6, gamma=0.2, learning_rate=0.15, max_depth=6, min_child_weight=1, n_estimators=500, reg_alpha=0.5, reg_lambda=5.0, scale_pos_weight=1.0, subsample=0.8;, score=0.586 total time=   0.5s\n",
      "[CV 2/5] END colsample_bylevel=1.0, colsample_bytree=0.6, gamma=0.2, learning_rate=0.15, max_depth=6, min_child_weight=1, n_estimators=500, reg_alpha=0.5, reg_lambda=5.0, scale_pos_weight=1.0, subsample=0.8;, score=0.601 total time=   0.5s\n",
      "[CV 5/5] END colsample_bylevel=1.0, colsample_bytree=0.6, gamma=0.2, learning_rate=0.15, max_depth=6, min_child_weight=1, n_estimators=500, reg_alpha=0.5, reg_lambda=5.0, scale_pos_weight=1.0, subsample=0.8;, score=0.626 total time=   0.5s\n",
      "[CV 5/5] END colsample_bylevel=0.9, colsample_bytree=0.9, gamma=0.05, learning_rate=0.01, max_depth=8, min_child_weight=5, n_estimators=1500, reg_alpha=1.0, reg_lambda=1.0, scale_pos_weight=1.2, subsample=0.8;, score=0.646 total time=   2.4s\n"
     ]
    },
    {
     "name": "stderr",
     "output_type": "stream",
     "text": [
      "/Users/gab/Desktop/school/hec_w25/python/projet/.venv/lib/python3.11/site-packages/xgboost/training.py:183: UserWarning: [16:33:42] WARNING: /Users/runner/work/xgboost/xgboost/src/learner.cc:738: \n",
      "Parameters: { \"use_label_encoder\" } are not used.\n",
      "\n",
      "  bst.update(dtrain, iteration=i, fobj=obj)\n",
      "/Users/gab/Desktop/school/hec_w25/python/projet/.venv/lib/python3.11/site-packages/xgboost/training.py:183: UserWarning: [16:33:42] WARNING: /Users/runner/work/xgboost/xgboost/src/learner.cc:738: \n",
      "Parameters: { \"use_label_encoder\" } are not used.\n",
      "\n",
      "  bst.update(dtrain, iteration=i, fobj=obj)\n",
      "/Users/gab/Desktop/school/hec_w25/python/projet/.venv/lib/python3.11/site-packages/xgboost/training.py:183: UserWarning: [16:33:42] WARNING: /Users/runner/work/xgboost/xgboost/src/learner.cc:738: \n",
      "Parameters: { \"use_label_encoder\" } are not used.\n",
      "\n",
      "  bst.update(dtrain, iteration=i, fobj=obj)\n",
      "/Users/gab/Desktop/school/hec_w25/python/projet/.venv/lib/python3.11/site-packages/xgboost/training.py:183: UserWarning: [16:33:43] WARNING: /Users/runner/work/xgboost/xgboost/src/learner.cc:738: \n",
      "Parameters: { \"use_label_encoder\" } are not used.\n",
      "\n",
      "  bst.update(dtrain, iteration=i, fobj=obj)\n",
      "/Users/gab/Desktop/school/hec_w25/python/projet/.venv/lib/python3.11/site-packages/xgboost/training.py:183: UserWarning: [16:33:43] WARNING: /Users/runner/work/xgboost/xgboost/src/learner.cc:738: \n",
      "Parameters: { \"use_label_encoder\" } are not used.\n",
      "\n",
      "  bst.update(dtrain, iteration=i, fobj=obj)\n"
     ]
    },
    {
     "name": "stdout",
     "output_type": "stream",
     "text": [
      "[CV 4/5] END colsample_bylevel=0.9, colsample_bytree=0.9, gamma=0.05, learning_rate=0.01, max_depth=8, min_child_weight=5, n_estimators=1500, reg_alpha=1.0, reg_lambda=1.0, scale_pos_weight=1.2, subsample=0.8;, score=0.592 total time=   2.8s\n",
      "[CV 1/5] END colsample_bylevel=0.8, colsample_bytree=0.5, gamma=0, learning_rate=0.15, max_depth=12, min_child_weight=1, n_estimators=500, reg_alpha=1.0, reg_lambda=0.1, scale_pos_weight=1.2, subsample=0.8;, score=0.591 total time=   0.7s\n"
     ]
    },
    {
     "name": "stderr",
     "output_type": "stream",
     "text": [
      "/Users/gab/Desktop/school/hec_w25/python/projet/.venv/lib/python3.11/site-packages/xgboost/training.py:183: UserWarning: [16:33:43] WARNING: /Users/runner/work/xgboost/xgboost/src/learner.cc:738: \n",
      "Parameters: { \"use_label_encoder\" } are not used.\n",
      "\n",
      "  bst.update(dtrain, iteration=i, fobj=obj)\n",
      "/Users/gab/Desktop/school/hec_w25/python/projet/.venv/lib/python3.11/site-packages/xgboost/training.py:183: UserWarning: [16:33:43] WARNING: /Users/runner/work/xgboost/xgboost/src/learner.cc:738: \n",
      "Parameters: { \"use_label_encoder\" } are not used.\n",
      "\n",
      "  bst.update(dtrain, iteration=i, fobj=obj)\n"
     ]
    },
    {
     "name": "stdout",
     "output_type": "stream",
     "text": [
      "[CV 3/5] END colsample_bylevel=0.8, colsample_bytree=0.5, gamma=0, learning_rate=0.15, max_depth=12, min_child_weight=1, n_estimators=500, reg_alpha=1.0, reg_lambda=0.1, scale_pos_weight=1.2, subsample=0.8;, score=0.521 total time=   0.7s\n",
      "[CV 2/5] END colsample_bylevel=0.8, colsample_bytree=0.5, gamma=0, learning_rate=0.15, max_depth=12, min_child_weight=1, n_estimators=500, reg_alpha=1.0, reg_lambda=0.1, scale_pos_weight=1.2, subsample=0.8;, score=0.619 total time=   0.7s\n",
      "[CV 5/5] END colsample_bylevel=0.8, colsample_bytree=0.5, gamma=0, learning_rate=0.15, max_depth=12, min_child_weight=1, n_estimators=500, reg_alpha=1.0, reg_lambda=0.1, scale_pos_weight=1.2, subsample=0.8;, score=0.630 total time=   0.7s\n",
      "[CV 4/5] END colsample_bylevel=0.8, colsample_bytree=0.5, gamma=0, learning_rate=0.15, max_depth=12, min_child_weight=1, n_estimators=500, reg_alpha=1.0, reg_lambda=0.1, scale_pos_weight=1.2, subsample=0.8;, score=0.570 total time=   0.8s\n"
     ]
    },
    {
     "name": "stderr",
     "output_type": "stream",
     "text": [
      "/Users/gab/Desktop/school/hec_w25/python/projet/.venv/lib/python3.11/site-packages/xgboost/training.py:183: UserWarning: [16:33:43] WARNING: /Users/runner/work/xgboost/xgboost/src/learner.cc:738: \n",
      "Parameters: { \"use_label_encoder\" } are not used.\n",
      "\n",
      "  bst.update(dtrain, iteration=i, fobj=obj)\n",
      "/Users/gab/Desktop/school/hec_w25/python/projet/.venv/lib/python3.11/site-packages/xgboost/training.py:183: UserWarning: [16:33:43] WARNING: /Users/runner/work/xgboost/xgboost/src/learner.cc:738: \n",
      "Parameters: { \"use_label_encoder\" } are not used.\n",
      "\n",
      "  bst.update(dtrain, iteration=i, fobj=obj)\n",
      "/Users/gab/Desktop/school/hec_w25/python/projet/.venv/lib/python3.11/site-packages/xgboost/training.py:183: UserWarning: [16:33:43] WARNING: /Users/runner/work/xgboost/xgboost/src/learner.cc:738: \n",
      "Parameters: { \"use_label_encoder\" } are not used.\n",
      "\n",
      "  bst.update(dtrain, iteration=i, fobj=obj)\n",
      "/Users/gab/Desktop/school/hec_w25/python/projet/.venv/lib/python3.11/site-packages/xgboost/training.py:183: UserWarning: [16:33:43] WARNING: /Users/runner/work/xgboost/xgboost/src/learner.cc:738: \n",
      "Parameters: { \"use_label_encoder\" } are not used.\n",
      "\n",
      "  bst.update(dtrain, iteration=i, fobj=obj)\n"
     ]
    },
    {
     "name": "stdout",
     "output_type": "stream",
     "text": [
      "[CV 1/5] END colsample_bylevel=0.8, colsample_bytree=0.7, gamma=0.05, learning_rate=0.15, max_depth=4, min_child_weight=1, n_estimators=2000, reg_alpha=1.0, reg_lambda=5.0, scale_pos_weight=1.0, subsample=1.0;, score=0.616 total time=   0.6s\n",
      "[CV 2/5] END colsample_bylevel=0.8, colsample_bytree=0.7, gamma=0.05, learning_rate=0.15, max_depth=4, min_child_weight=1, n_estimators=2000, reg_alpha=1.0, reg_lambda=5.0, scale_pos_weight=1.0, subsample=1.0;, score=0.631 total time=   0.6s\n",
      "[CV 1/5] END colsample_bylevel=0.7, colsample_bytree=0.7, gamma=0.1, learning_rate=0.05, max_depth=4, min_child_weight=3, n_estimators=2000, reg_alpha=0.5, reg_lambda=10.0, scale_pos_weight=1.225, subsample=0.8;, score=0.597 total time=   1.3s\n",
      "[CV 3/5] END colsample_bylevel=0.8, colsample_bytree=0.7, gamma=0.05, learning_rate=0.15, max_depth=4, min_child_weight=1, n_estimators=2000, reg_alpha=1.0, reg_lambda=5.0, scale_pos_weight=1.0, subsample=1.0;, score=0.516 total time=   0.6s\n"
     ]
    },
    {
     "name": "stderr",
     "output_type": "stream",
     "text": [
      "/Users/gab/Desktop/school/hec_w25/python/projet/.venv/lib/python3.11/site-packages/xgboost/training.py:183: UserWarning: [16:33:44] WARNING: /Users/runner/work/xgboost/xgboost/src/learner.cc:738: \n",
      "Parameters: { \"use_label_encoder\" } are not used.\n",
      "\n",
      "  bst.update(dtrain, iteration=i, fobj=obj)\n",
      "/Users/gab/Desktop/school/hec_w25/python/projet/.venv/lib/python3.11/site-packages/xgboost/training.py:183: UserWarning: [16:33:44] WARNING: /Users/runner/work/xgboost/xgboost/src/learner.cc:738: \n",
      "Parameters: { \"use_label_encoder\" } are not used.\n",
      "\n",
      "  bst.update(dtrain, iteration=i, fobj=obj)\n",
      "/Users/gab/Desktop/school/hec_w25/python/projet/.venv/lib/python3.11/site-packages/xgboost/training.py:183: UserWarning: [16:33:44] WARNING: /Users/runner/work/xgboost/xgboost/src/learner.cc:738: \n",
      "Parameters: { \"use_label_encoder\" } are not used.\n",
      "\n",
      "  bst.update(dtrain, iteration=i, fobj=obj)\n",
      "/Users/gab/Desktop/school/hec_w25/python/projet/.venv/lib/python3.11/site-packages/xgboost/training.py:183: UserWarning: [16:33:44] WARNING: /Users/runner/work/xgboost/xgboost/src/learner.cc:738: \n",
      "Parameters: { \"use_label_encoder\" } are not used.\n",
      "\n",
      "  bst.update(dtrain, iteration=i, fobj=obj)\n"
     ]
    },
    {
     "name": "stdout",
     "output_type": "stream",
     "text": [
      "[CV 2/5] END colsample_bylevel=0.7, colsample_bytree=0.7, gamma=0.1, learning_rate=0.05, max_depth=4, min_child_weight=3, n_estimators=2000, reg_alpha=0.5, reg_lambda=10.0, scale_pos_weight=1.225, subsample=0.8;, score=0.615 total time=   1.3s\n",
      "[CV 4/5] END colsample_bylevel=0.7, colsample_bytree=0.7, gamma=0.1, learning_rate=0.05, max_depth=4, min_child_weight=3, n_estimators=2000, reg_alpha=0.5, reg_lambda=10.0, scale_pos_weight=1.225, subsample=0.8;, score=0.586 total time=   1.2s\n",
      "[CV 3/5] END colsample_bylevel=0.7, colsample_bytree=0.7, gamma=0.1, learning_rate=0.05, max_depth=4, min_child_weight=3, n_estimators=2000, reg_alpha=0.5, reg_lambda=10.0, scale_pos_weight=1.225, subsample=0.8;, score=0.526 total time=   1.2s\n"
     ]
    },
    {
     "name": "stderr",
     "output_type": "stream",
     "text": [
      "/Users/gab/Desktop/school/hec_w25/python/projet/.venv/lib/python3.11/site-packages/xgboost/training.py:183: UserWarning: [16:33:44] WARNING: /Users/runner/work/xgboost/xgboost/src/learner.cc:738: \n",
      "Parameters: { \"use_label_encoder\" } are not used.\n",
      "\n",
      "  bst.update(dtrain, iteration=i, fobj=obj)\n",
      "/Users/gab/Desktop/school/hec_w25/python/projet/.venv/lib/python3.11/site-packages/xgboost/training.py:183: UserWarning: [16:33:44] WARNING: /Users/runner/work/xgboost/xgboost/src/learner.cc:738: \n",
      "Parameters: { \"use_label_encoder\" } are not used.\n",
      "\n",
      "  bst.update(dtrain, iteration=i, fobj=obj)\n",
      "/Users/gab/Desktop/school/hec_w25/python/projet/.venv/lib/python3.11/site-packages/xgboost/training.py:183: UserWarning: [16:33:44] WARNING: /Users/runner/work/xgboost/xgboost/src/learner.cc:738: \n",
      "Parameters: { \"use_label_encoder\" } are not used.\n",
      "\n",
      "  bst.update(dtrain, iteration=i, fobj=obj)\n"
     ]
    },
    {
     "name": "stdout",
     "output_type": "stream",
     "text": [
      "[CV 4/5] END colsample_bylevel=0.8, colsample_bytree=0.7, gamma=0.05, learning_rate=0.15, max_depth=4, min_child_weight=1, n_estimators=2000, reg_alpha=1.0, reg_lambda=5.0, scale_pos_weight=1.0, subsample=1.0;, score=0.596 total time=   0.6s\n",
      "[CV 5/5] END colsample_bylevel=0.7, colsample_bytree=0.7, gamma=0.1, learning_rate=0.05, max_depth=4, min_child_weight=3, n_estimators=2000, reg_alpha=0.5, reg_lambda=10.0, scale_pos_weight=1.225, subsample=0.8;, score=0.620 total time=   1.2s\n",
      "[CV 1/5] END colsample_bylevel=0.7, colsample_bytree=0.7, gamma=0, learning_rate=0.03, max_depth=4, min_child_weight=5, n_estimators=1000, reg_alpha=0, reg_lambda=0.1, scale_pos_weight=1.225, subsample=0.8;, score=0.599 total time=   0.5s\n",
      "[CV 5/5] END colsample_bylevel=0.8, colsample_bytree=0.7, gamma=0.05, learning_rate=0.15, max_depth=4, min_child_weight=1, n_estimators=2000, reg_alpha=1.0, reg_lambda=5.0, scale_pos_weight=1.0, subsample=1.0;, score=0.636 total time=   0.6s\n",
      "[CV 2/5] END colsample_bylevel=0.7, colsample_bytree=0.7, gamma=0, learning_rate=0.03, max_depth=4, min_child_weight=5, n_estimators=1000, reg_alpha=0, reg_lambda=0.1, scale_pos_weight=1.225, subsample=0.8;, score=0.615 total time=   0.6s\n",
      "[CV 3/5] END colsample_bylevel=0.7, colsample_bytree=0.7, gamma=0, learning_rate=0.03, max_depth=4, min_child_weight=5, n_estimators=1000, reg_alpha=0, reg_lambda=0.1, scale_pos_weight=1.225, subsample=0.8;, score=0.524 total time=   0.5s\n"
     ]
    },
    {
     "name": "stderr",
     "output_type": "stream",
     "text": [
      "/Users/gab/Desktop/school/hec_w25/python/projet/.venv/lib/python3.11/site-packages/xgboost/training.py:183: UserWarning: [16:33:44] WARNING: /Users/runner/work/xgboost/xgboost/src/learner.cc:738: \n",
      "Parameters: { \"use_label_encoder\" } are not used.\n",
      "\n",
      "  bst.update(dtrain, iteration=i, fobj=obj)\n",
      "/Users/gab/Desktop/school/hec_w25/python/projet/.venv/lib/python3.11/site-packages/xgboost/training.py:183: UserWarning: [16:33:44] WARNING: /Users/runner/work/xgboost/xgboost/src/learner.cc:738: \n",
      "Parameters: { \"use_label_encoder\" } are not used.\n",
      "\n",
      "  bst.update(dtrain, iteration=i, fobj=obj)\n",
      "/Users/gab/Desktop/school/hec_w25/python/projet/.venv/lib/python3.11/site-packages/xgboost/training.py:183: UserWarning: [16:33:44] WARNING: /Users/runner/work/xgboost/xgboost/src/learner.cc:738: \n",
      "Parameters: { \"use_label_encoder\" } are not used.\n",
      "\n",
      "  bst.update(dtrain, iteration=i, fobj=obj)\n",
      "/Users/gab/Desktop/school/hec_w25/python/projet/.venv/lib/python3.11/site-packages/xgboost/training.py:183: UserWarning: [16:33:44] WARNING: /Users/runner/work/xgboost/xgboost/src/learner.cc:738: \n",
      "Parameters: { \"use_label_encoder\" } are not used.\n",
      "\n",
      "  bst.update(dtrain, iteration=i, fobj=obj)\n",
      "/Users/gab/Desktop/school/hec_w25/python/projet/.venv/lib/python3.11/site-packages/xgboost/training.py:183: UserWarning: [16:33:44] WARNING: /Users/runner/work/xgboost/xgboost/src/learner.cc:738: \n",
      "Parameters: { \"use_label_encoder\" } are not used.\n",
      "\n",
      "  bst.update(dtrain, iteration=i, fobj=obj)\n",
      "/Users/gab/Desktop/school/hec_w25/python/projet/.venv/lib/python3.11/site-packages/xgboost/training.py:183: UserWarning: [16:33:44] WARNING: /Users/runner/work/xgboost/xgboost/src/learner.cc:738: \n",
      "Parameters: { \"use_label_encoder\" } are not used.\n",
      "\n",
      "  bst.update(dtrain, iteration=i, fobj=obj)\n"
     ]
    },
    {
     "name": "stdout",
     "output_type": "stream",
     "text": [
      "[CV 4/5] END colsample_bylevel=0.7, colsample_bytree=0.7, gamma=0, learning_rate=0.03, max_depth=4, min_child_weight=5, n_estimators=1000, reg_alpha=0, reg_lambda=0.1, scale_pos_weight=1.225, subsample=0.8;, score=0.571 total time=   0.5s\n",
      "[CV 5/5] END colsample_bylevel=0.7, colsample_bytree=0.7, gamma=0, learning_rate=0.03, max_depth=4, min_child_weight=5, n_estimators=1000, reg_alpha=0, reg_lambda=0.1, scale_pos_weight=1.225, subsample=0.8;, score=0.649 total time=   0.5s\n"
     ]
    },
    {
     "name": "stderr",
     "output_type": "stream",
     "text": [
      "/Users/gab/Desktop/school/hec_w25/python/projet/.venv/lib/python3.11/site-packages/xgboost/training.py:183: UserWarning: [16:33:45] WARNING: /Users/runner/work/xgboost/xgboost/src/learner.cc:738: \n",
      "Parameters: { \"use_label_encoder\" } are not used.\n",
      "\n",
      "  bst.update(dtrain, iteration=i, fobj=obj)\n",
      "/Users/gab/Desktop/school/hec_w25/python/projet/.venv/lib/python3.11/site-packages/xgboost/training.py:183: UserWarning: [16:33:45] WARNING: /Users/runner/work/xgboost/xgboost/src/learner.cc:738: \n",
      "Parameters: { \"use_label_encoder\" } are not used.\n",
      "\n",
      "  bst.update(dtrain, iteration=i, fobj=obj)\n"
     ]
    },
    {
     "name": "stdout",
     "output_type": "stream",
     "text": [
      "[CV 2/5] END colsample_bylevel=0.8, colsample_bytree=0.5, gamma=0.3, learning_rate=0.1, max_depth=10, min_child_weight=7, n_estimators=2000, reg_alpha=0.1, reg_lambda=1.0, scale_pos_weight=1.225, subsample=0.9;, score=0.615 total time=   0.7s\n",
      "[CV 1/5] END colsample_bylevel=0.8, colsample_bytree=0.5, gamma=0.3, learning_rate=0.1, max_depth=10, min_child_weight=7, n_estimators=2000, reg_alpha=0.1, reg_lambda=1.0, scale_pos_weight=1.225, subsample=0.9;, score=0.587 total time=   0.7s\n",
      "[CV 3/5] END colsample_bylevel=0.8, colsample_bytree=0.5, gamma=0.3, learning_rate=0.1, max_depth=10, min_child_weight=7, n_estimators=2000, reg_alpha=0.1, reg_lambda=1.0, scale_pos_weight=1.225, subsample=0.9;, score=0.529 total time=   0.7s\n",
      "[CV 4/5] END colsample_bylevel=0.8, colsample_bytree=0.5, gamma=0.3, learning_rate=0.1, max_depth=10, min_child_weight=7, n_estimators=2000, reg_alpha=0.1, reg_lambda=1.0, scale_pos_weight=1.225, subsample=0.9;, score=0.598 total time=   0.7s\n",
      "[CV 5/5] END colsample_bylevel=0.8, colsample_bytree=0.5, gamma=0.3, learning_rate=0.1, max_depth=10, min_child_weight=7, n_estimators=2000, reg_alpha=0.1, reg_lambda=1.0, scale_pos_weight=1.225, subsample=0.9;, score=0.618 total time=   0.7s\n"
     ]
    },
    {
     "name": "stderr",
     "output_type": "stream",
     "text": [
      "/Users/gab/Desktop/school/hec_w25/python/projet/.venv/lib/python3.11/site-packages/xgboost/training.py:183: UserWarning: [16:33:45] WARNING: /Users/runner/work/xgboost/xgboost/src/learner.cc:738: \n",
      "Parameters: { \"use_label_encoder\" } are not used.\n",
      "\n",
      "  bst.update(dtrain, iteration=i, fobj=obj)\n",
      "/Users/gab/Desktop/school/hec_w25/python/projet/.venv/lib/python3.11/site-packages/xgboost/training.py:183: UserWarning: [16:33:45] WARNING: /Users/runner/work/xgboost/xgboost/src/learner.cc:738: \n",
      "Parameters: { \"use_label_encoder\" } are not used.\n",
      "\n",
      "  bst.update(dtrain, iteration=i, fobj=obj)\n",
      "/Users/gab/Desktop/school/hec_w25/python/projet/.venv/lib/python3.11/site-packages/xgboost/training.py:183: UserWarning: [16:33:45] WARNING: /Users/runner/work/xgboost/xgboost/src/learner.cc:738: \n",
      "Parameters: { \"use_label_encoder\" } are not used.\n",
      "\n",
      "  bst.update(dtrain, iteration=i, fobj=obj)\n",
      "/Users/gab/Desktop/school/hec_w25/python/projet/.venv/lib/python3.11/site-packages/xgboost/training.py:183: UserWarning: [16:33:45] WARNING: /Users/runner/work/xgboost/xgboost/src/learner.cc:738: \n",
      "Parameters: { \"use_label_encoder\" } are not used.\n",
      "\n",
      "  bst.update(dtrain, iteration=i, fobj=obj)\n",
      "/Users/gab/Desktop/school/hec_w25/python/projet/.venv/lib/python3.11/site-packages/xgboost/training.py:183: UserWarning: [16:33:45] WARNING: /Users/runner/work/xgboost/xgboost/src/learner.cc:738: \n",
      "Parameters: { \"use_label_encoder\" } are not used.\n",
      "\n",
      "  bst.update(dtrain, iteration=i, fobj=obj)\n"
     ]
    },
    {
     "name": "stdout",
     "output_type": "stream",
     "text": [
      "[CV 1/5] END colsample_bylevel=1.0, colsample_bytree=0.9, gamma=0.1, learning_rate=0.03, max_depth=12, min_child_weight=7, n_estimators=1000, reg_alpha=0, reg_lambda=0.1, scale_pos_weight=1.225, subsample=0.9;, score=0.595 total time=   1.5s\n",
      "[CV 1/5] END colsample_bylevel=0.7, colsample_bytree=0.6, gamma=0, learning_rate=0.05, max_depth=8, min_child_weight=7, n_estimators=1000, reg_alpha=1.0, reg_lambda=0.1, scale_pos_weight=1.225, subsample=0.8;, score=0.578 total time=   0.9s\n",
      "[CV 2/5] END colsample_bylevel=1.0, colsample_bytree=0.9, gamma=0.1, learning_rate=0.03, max_depth=12, min_child_weight=7, n_estimators=1000, reg_alpha=0, reg_lambda=0.1, scale_pos_weight=1.225, subsample=0.9;, score=0.618 total time=   1.5s\n",
      "[CV 3/5] END colsample_bylevel=1.0, colsample_bytree=0.9, gamma=0.1, learning_rate=0.03, max_depth=12, min_child_weight=7, n_estimators=1000, reg_alpha=0, reg_lambda=0.1, scale_pos_weight=1.225, subsample=0.9;, score=0.522 total time=   1.5s\n",
      "[CV 2/5] END colsample_bylevel=0.7, colsample_bytree=0.6, gamma=0, learning_rate=0.05, max_depth=8, min_child_weight=7, n_estimators=1000, reg_alpha=1.0, reg_lambda=0.1, scale_pos_weight=1.225, subsample=0.8;, score=0.620 total time=   1.0s\n"
     ]
    },
    {
     "name": "stderr",
     "output_type": "stream",
     "text": [
      "/Users/gab/Desktop/school/hec_w25/python/projet/.venv/lib/python3.11/site-packages/xgboost/training.py:183: UserWarning: [16:33:46] WARNING: /Users/runner/work/xgboost/xgboost/src/learner.cc:738: \n",
      "Parameters: { \"use_label_encoder\" } are not used.\n",
      "\n",
      "  bst.update(dtrain, iteration=i, fobj=obj)\n",
      "/Users/gab/Desktop/school/hec_w25/python/projet/.venv/lib/python3.11/site-packages/xgboost/training.py:183: UserWarning: [16:33:46] WARNING: /Users/runner/work/xgboost/xgboost/src/learner.cc:738: \n",
      "Parameters: { \"use_label_encoder\" } are not used.\n",
      "\n",
      "  bst.update(dtrain, iteration=i, fobj=obj)\n",
      "/Users/gab/Desktop/school/hec_w25/python/projet/.venv/lib/python3.11/site-packages/xgboost/training.py:183: UserWarning: [16:33:46] WARNING: /Users/runner/work/xgboost/xgboost/src/learner.cc:738: \n",
      "Parameters: { \"use_label_encoder\" } are not used.\n",
      "\n",
      "  bst.update(dtrain, iteration=i, fobj=obj)\n",
      "/Users/gab/Desktop/school/hec_w25/python/projet/.venv/lib/python3.11/site-packages/xgboost/training.py:183: UserWarning: [16:33:46] WARNING: /Users/runner/work/xgboost/xgboost/src/learner.cc:738: \n",
      "Parameters: { \"use_label_encoder\" } are not used.\n",
      "\n",
      "  bst.update(dtrain, iteration=i, fobj=obj)\n",
      "/Users/gab/Desktop/school/hec_w25/python/projet/.venv/lib/python3.11/site-packages/xgboost/training.py:183: UserWarning: [16:33:46] WARNING: /Users/runner/work/xgboost/xgboost/src/learner.cc:738: \n",
      "Parameters: { \"use_label_encoder\" } are not used.\n",
      "\n",
      "  bst.update(dtrain, iteration=i, fobj=obj)\n"
     ]
    },
    {
     "name": "stdout",
     "output_type": "stream",
     "text": [
      "[CV 3/5] END colsample_bylevel=0.7, colsample_bytree=0.6, gamma=0, learning_rate=0.05, max_depth=8, min_child_weight=7, n_estimators=1000, reg_alpha=1.0, reg_lambda=0.1, scale_pos_weight=1.225, subsample=0.8;, score=0.532 total time=   1.2s\n",
      "[CV 4/5] END colsample_bylevel=1.0, colsample_bytree=0.9, gamma=0.1, learning_rate=0.03, max_depth=12, min_child_weight=7, n_estimators=1000, reg_alpha=0, reg_lambda=0.1, scale_pos_weight=1.225, subsample=0.9;, score=0.589 total time=   1.4s\n",
      "[CV 5/5] END colsample_bylevel=1.0, colsample_bytree=0.9, gamma=0.1, learning_rate=0.03, max_depth=12, min_child_weight=7, n_estimators=1000, reg_alpha=0, reg_lambda=0.1, scale_pos_weight=1.225, subsample=0.9;, score=0.638 total time=   1.5s\n"
     ]
    },
    {
     "name": "stderr",
     "output_type": "stream",
     "text": [
      "/Users/gab/Desktop/school/hec_w25/python/projet/.venv/lib/python3.11/site-packages/xgboost/training.py:183: UserWarning: [16:33:46] WARNING: /Users/runner/work/xgboost/xgboost/src/learner.cc:738: \n",
      "Parameters: { \"use_label_encoder\" } are not used.\n",
      "\n",
      "  bst.update(dtrain, iteration=i, fobj=obj)\n",
      "/Users/gab/Desktop/school/hec_w25/python/projet/.venv/lib/python3.11/site-packages/xgboost/training.py:183: UserWarning: [16:33:46] WARNING: /Users/runner/work/xgboost/xgboost/src/learner.cc:738: \n",
      "Parameters: { \"use_label_encoder\" } are not used.\n",
      "\n",
      "  bst.update(dtrain, iteration=i, fobj=obj)\n",
      "/Users/gab/Desktop/school/hec_w25/python/projet/.venv/lib/python3.11/site-packages/xgboost/training.py:183: UserWarning: [16:33:47] WARNING: /Users/runner/work/xgboost/xgboost/src/learner.cc:738: \n",
      "Parameters: { \"use_label_encoder\" } are not used.\n",
      "\n",
      "  bst.update(dtrain, iteration=i, fobj=obj)\n"
     ]
    },
    {
     "name": "stdout",
     "output_type": "stream",
     "text": [
      "[CV 5/5] END colsample_bylevel=0.7, colsample_bytree=0.6, gamma=0, learning_rate=0.05, max_depth=8, min_child_weight=7, n_estimators=1000, reg_alpha=1.0, reg_lambda=0.1, scale_pos_weight=1.225, subsample=0.8;, score=0.639 total time=   0.7s\n",
      "[CV 1/5] END colsample_bylevel=0.9, colsample_bytree=0.5, gamma=0.3, learning_rate=0.1, max_depth=6, min_child_weight=3, n_estimators=500, reg_alpha=1.0, reg_lambda=10.0, scale_pos_weight=1.2, subsample=1.0;, score=0.614 total time=   0.2s\n",
      "[CV 4/5] END colsample_bylevel=0.7, colsample_bytree=0.6, gamma=0, learning_rate=0.05, max_depth=8, min_child_weight=7, n_estimators=1000, reg_alpha=1.0, reg_lambda=0.1, scale_pos_weight=1.225, subsample=0.8;, score=0.596 total time=   0.9s\n"
     ]
    },
    {
     "name": "stderr",
     "output_type": "stream",
     "text": [
      "/Users/gab/Desktop/school/hec_w25/python/projet/.venv/lib/python3.11/site-packages/xgboost/training.py:183: UserWarning: [16:33:47] WARNING: /Users/runner/work/xgboost/xgboost/src/learner.cc:738: \n",
      "Parameters: { \"use_label_encoder\" } are not used.\n",
      "\n",
      "  bst.update(dtrain, iteration=i, fobj=obj)\n",
      "/Users/gab/Desktop/school/hec_w25/python/projet/.venv/lib/python3.11/site-packages/xgboost/training.py:183: UserWarning: [16:33:47] WARNING: /Users/runner/work/xgboost/xgboost/src/learner.cc:738: \n",
      "Parameters: { \"use_label_encoder\" } are not used.\n",
      "\n",
      "  bst.update(dtrain, iteration=i, fobj=obj)\n",
      "/Users/gab/Desktop/school/hec_w25/python/projet/.venv/lib/python3.11/site-packages/xgboost/training.py:183: UserWarning: [16:33:47] WARNING: /Users/runner/work/xgboost/xgboost/src/learner.cc:738: \n",
      "Parameters: { \"use_label_encoder\" } are not used.\n",
      "\n",
      "  bst.update(dtrain, iteration=i, fobj=obj)\n"
     ]
    },
    {
     "name": "stdout",
     "output_type": "stream",
     "text": [
      "[CV 2/5] END colsample_bylevel=0.9, colsample_bytree=0.5, gamma=0.3, learning_rate=0.1, max_depth=6, min_child_weight=3, n_estimators=500, reg_alpha=1.0, reg_lambda=10.0, scale_pos_weight=1.2, subsample=1.0;, score=0.649 total time=   0.2s\n",
      "[CV 3/5] END colsample_bylevel=0.9, colsample_bytree=0.5, gamma=0.3, learning_rate=0.1, max_depth=6, min_child_weight=3, n_estimators=500, reg_alpha=1.0, reg_lambda=10.0, scale_pos_weight=1.2, subsample=1.0;, score=0.531 total time=   0.2s\n"
     ]
    },
    {
     "name": "stderr",
     "output_type": "stream",
     "text": [
      "/Users/gab/Desktop/school/hec_w25/python/projet/.venv/lib/python3.11/site-packages/xgboost/training.py:183: UserWarning: [16:33:47] WARNING: /Users/runner/work/xgboost/xgboost/src/learner.cc:738: \n",
      "Parameters: { \"use_label_encoder\" } are not used.\n",
      "\n",
      "  bst.update(dtrain, iteration=i, fobj=obj)\n",
      "/Users/gab/Desktop/school/hec_w25/python/projet/.venv/lib/python3.11/site-packages/xgboost/training.py:183: UserWarning: [16:33:47] WARNING: /Users/runner/work/xgboost/xgboost/src/learner.cc:738: \n",
      "Parameters: { \"use_label_encoder\" } are not used.\n",
      "\n",
      "  bst.update(dtrain, iteration=i, fobj=obj)\n"
     ]
    },
    {
     "name": "stdout",
     "output_type": "stream",
     "text": [
      "[CV 4/5] END colsample_bylevel=0.9, colsample_bytree=0.5, gamma=0.3, learning_rate=0.1, max_depth=6, min_child_weight=3, n_estimators=500, reg_alpha=1.0, reg_lambda=10.0, scale_pos_weight=1.2, subsample=1.0;, score=0.564 total time=   0.2s\n",
      "[CV 5/5] END colsample_bylevel=0.9, colsample_bytree=0.5, gamma=0.3, learning_rate=0.1, max_depth=6, min_child_weight=3, n_estimators=500, reg_alpha=1.0, reg_lambda=10.0, scale_pos_weight=1.2, subsample=1.0;, score=0.655 total time=   0.2s\n"
     ]
    },
    {
     "name": "stderr",
     "output_type": "stream",
     "text": [
      "/Users/gab/Desktop/school/hec_w25/python/projet/.venv/lib/python3.11/site-packages/xgboost/training.py:183: UserWarning: [16:33:47] WARNING: /Users/runner/work/xgboost/xgboost/src/learner.cc:738: \n",
      "Parameters: { \"use_label_encoder\" } are not used.\n",
      "\n",
      "  bst.update(dtrain, iteration=i, fobj=obj)\n",
      "/Users/gab/Desktop/school/hec_w25/python/projet/.venv/lib/python3.11/site-packages/xgboost/training.py:183: UserWarning: [16:33:47] WARNING: /Users/runner/work/xgboost/xgboost/src/learner.cc:738: \n",
      "Parameters: { \"use_label_encoder\" } are not used.\n",
      "\n",
      "  bst.update(dtrain, iteration=i, fobj=obj)\n"
     ]
    },
    {
     "name": "stdout",
     "output_type": "stream",
     "text": [
      "[CV 2/5] END colsample_bylevel=0.8, colsample_bytree=0.5, gamma=0.2, learning_rate=0.01, max_depth=8, min_child_weight=7, n_estimators=1500, reg_alpha=1.0, reg_lambda=1.0, scale_pos_weight=1.1, subsample=0.9;, score=0.639 total time=   1.6s\n",
      "[CV 1/5] END colsample_bylevel=0.8, colsample_bytree=0.5, gamma=0.2, learning_rate=0.01, max_depth=8, min_child_weight=7, n_estimators=1500, reg_alpha=1.0, reg_lambda=1.0, scale_pos_weight=1.1, subsample=0.9;, score=0.602 total time=   1.6s\n",
      "[CV 3/5] END colsample_bylevel=0.8, colsample_bytree=0.5, gamma=0.2, learning_rate=0.01, max_depth=8, min_child_weight=7, n_estimators=1500, reg_alpha=1.0, reg_lambda=1.0, scale_pos_weight=1.1, subsample=0.9;, score=0.538 total time=   1.5s\n"
     ]
    },
    {
     "name": "stderr",
     "output_type": "stream",
     "text": [
      "/Users/gab/Desktop/school/hec_w25/python/projet/.venv/lib/python3.11/site-packages/xgboost/training.py:183: UserWarning: [16:33:48] WARNING: /Users/runner/work/xgboost/xgboost/src/learner.cc:738: \n",
      "Parameters: { \"use_label_encoder\" } are not used.\n",
      "\n",
      "  bst.update(dtrain, iteration=i, fobj=obj)\n",
      "/Users/gab/Desktop/school/hec_w25/python/projet/.venv/lib/python3.11/site-packages/xgboost/training.py:183: UserWarning: [16:33:48] WARNING: /Users/runner/work/xgboost/xgboost/src/learner.cc:738: \n",
      "Parameters: { \"use_label_encoder\" } are not used.\n",
      "\n",
      "  bst.update(dtrain, iteration=i, fobj=obj)\n",
      "/Users/gab/Desktop/school/hec_w25/python/projet/.venv/lib/python3.11/site-packages/xgboost/training.py:183: UserWarning: [16:33:48] WARNING: /Users/runner/work/xgboost/xgboost/src/learner.cc:738: \n",
      "Parameters: { \"use_label_encoder\" } are not used.\n",
      "\n",
      "  bst.update(dtrain, iteration=i, fobj=obj)\n"
     ]
    },
    {
     "name": "stdout",
     "output_type": "stream",
     "text": [
      "[CV 4/5] END colsample_bylevel=0.8, colsample_bytree=0.5, gamma=0.2, learning_rate=0.01, max_depth=8, min_child_weight=7, n_estimators=1500, reg_alpha=1.0, reg_lambda=1.0, scale_pos_weight=1.1, subsample=0.9;, score=0.600 total time=   1.5s\n",
      "[CV 5/5] END colsample_bylevel=0.8, colsample_bytree=0.5, gamma=0.2, learning_rate=0.01, max_depth=8, min_child_weight=7, n_estimators=1500, reg_alpha=1.0, reg_lambda=1.0, scale_pos_weight=1.1, subsample=0.9;, score=0.661 total time=   1.5s\n"
     ]
    },
    {
     "name": "stderr",
     "output_type": "stream",
     "text": [
      "/Users/gab/Desktop/school/hec_w25/python/projet/.venv/lib/python3.11/site-packages/xgboost/training.py:183: UserWarning: [16:33:48] WARNING: /Users/runner/work/xgboost/xgboost/src/learner.cc:738: \n",
      "Parameters: { \"use_label_encoder\" } are not used.\n",
      "\n",
      "  bst.update(dtrain, iteration=i, fobj=obj)\n",
      "/Users/gab/Desktop/school/hec_w25/python/projet/.venv/lib/python3.11/site-packages/xgboost/training.py:183: UserWarning: [16:33:48] WARNING: /Users/runner/work/xgboost/xgboost/src/learner.cc:738: \n",
      "Parameters: { \"use_label_encoder\" } are not used.\n",
      "\n",
      "  bst.update(dtrain, iteration=i, fobj=obj)\n"
     ]
    },
    {
     "name": "stdout",
     "output_type": "stream",
     "text": [
      "[CV 1/5] END colsample_bylevel=0.7, colsample_bytree=0.6, gamma=0.3, learning_rate=0.15, max_depth=4, min_child_weight=7, n_estimators=1500, reg_alpha=0.5, reg_lambda=10.0, scale_pos_weight=1.225, subsample=0.8;, score=0.587 total time=   0.6s\n",
      "[CV 1/5] END colsample_bylevel=1.0, colsample_bytree=0.8, gamma=0.3, learning_rate=0.1, max_depth=10, min_child_weight=1, n_estimators=2000, reg_alpha=1.0, reg_lambda=10.0, scale_pos_weight=1.2, subsample=0.7;, score=0.597 total time=   1.5s\n"
     ]
    },
    {
     "name": "stderr",
     "output_type": "stream",
     "text": [
      "/Users/gab/Desktop/school/hec_w25/python/projet/.venv/lib/python3.11/site-packages/xgboost/training.py:183: UserWarning: [16:33:48] WARNING: /Users/runner/work/xgboost/xgboost/src/learner.cc:738: \n",
      "Parameters: { \"use_label_encoder\" } are not used.\n",
      "\n",
      "  bst.update(dtrain, iteration=i, fobj=obj)\n",
      "/Users/gab/Desktop/school/hec_w25/python/projet/.venv/lib/python3.11/site-packages/xgboost/training.py:183: UserWarning: [16:33:48] WARNING: /Users/runner/work/xgboost/xgboost/src/learner.cc:738: \n",
      "Parameters: { \"use_label_encoder\" } are not used.\n",
      "\n",
      "  bst.update(dtrain, iteration=i, fobj=obj)\n"
     ]
    },
    {
     "name": "stdout",
     "output_type": "stream",
     "text": [
      "[CV 2/5] END colsample_bylevel=0.7, colsample_bytree=0.6, gamma=0.3, learning_rate=0.15, max_depth=4, min_child_weight=7, n_estimators=1500, reg_alpha=0.5, reg_lambda=10.0, scale_pos_weight=1.225, subsample=0.8;, score=0.623 total time=   0.6s\n",
      "[CV 3/5] END colsample_bylevel=0.7, colsample_bytree=0.6, gamma=0.3, learning_rate=0.15, max_depth=4, min_child_weight=7, n_estimators=1500, reg_alpha=0.5, reg_lambda=10.0, scale_pos_weight=1.225, subsample=0.8;, score=0.523 total time=   0.6s\n",
      "[CV 3/5] END colsample_bylevel=1.0, colsample_bytree=0.8, gamma=0.3, learning_rate=0.1, max_depth=10, min_child_weight=1, n_estimators=2000, reg_alpha=1.0, reg_lambda=10.0, scale_pos_weight=1.2, subsample=0.7;, score=0.534 total time=   1.5s\n"
     ]
    },
    {
     "name": "stderr",
     "output_type": "stream",
     "text": [
      "/Users/gab/Desktop/school/hec_w25/python/projet/.venv/lib/python3.11/site-packages/xgboost/training.py:183: UserWarning: [16:33:49] WARNING: /Users/runner/work/xgboost/xgboost/src/learner.cc:738: \n",
      "Parameters: { \"use_label_encoder\" } are not used.\n",
      "\n",
      "  bst.update(dtrain, iteration=i, fobj=obj)\n",
      "/Users/gab/Desktop/school/hec_w25/python/projet/.venv/lib/python3.11/site-packages/xgboost/training.py:183: UserWarning: [16:33:49] WARNING: /Users/runner/work/xgboost/xgboost/src/learner.cc:738: \n",
      "Parameters: { \"use_label_encoder\" } are not used.\n",
      "\n",
      "  bst.update(dtrain, iteration=i, fobj=obj)\n",
      "/Users/gab/Desktop/school/hec_w25/python/projet/.venv/lib/python3.11/site-packages/xgboost/training.py:183: UserWarning: [16:33:49] WARNING: /Users/runner/work/xgboost/xgboost/src/learner.cc:738: \n",
      "Parameters: { \"use_label_encoder\" } are not used.\n",
      "\n",
      "  bst.update(dtrain, iteration=i, fobj=obj)\n"
     ]
    },
    {
     "name": "stdout",
     "output_type": "stream",
     "text": [
      "[CV 2/5] END colsample_bylevel=1.0, colsample_bytree=0.8, gamma=0.3, learning_rate=0.1, max_depth=10, min_child_weight=1, n_estimators=2000, reg_alpha=1.0, reg_lambda=10.0, scale_pos_weight=1.2, subsample=0.7;, score=0.613 total time=   1.7s\n",
      "[CV 4/5] END colsample_bylevel=0.7, colsample_bytree=0.6, gamma=0.3, learning_rate=0.15, max_depth=4, min_child_weight=7, n_estimators=1500, reg_alpha=0.5, reg_lambda=10.0, scale_pos_weight=1.225, subsample=0.8;, score=0.599 total time=   0.6s\n"
     ]
    },
    {
     "name": "stderr",
     "output_type": "stream",
     "text": [
      "/Users/gab/Desktop/school/hec_w25/python/projet/.venv/lib/python3.11/site-packages/xgboost/training.py:183: UserWarning: [16:33:49] WARNING: /Users/runner/work/xgboost/xgboost/src/learner.cc:738: \n",
      "Parameters: { \"use_label_encoder\" } are not used.\n",
      "\n",
      "  bst.update(dtrain, iteration=i, fobj=obj)\n",
      "/Users/gab/Desktop/school/hec_w25/python/projet/.venv/lib/python3.11/site-packages/xgboost/training.py:183: UserWarning: [16:33:49] WARNING: /Users/runner/work/xgboost/xgboost/src/learner.cc:738: \n",
      "Parameters: { \"use_label_encoder\" } are not used.\n",
      "\n",
      "  bst.update(dtrain, iteration=i, fobj=obj)\n"
     ]
    },
    {
     "name": "stdout",
     "output_type": "stream",
     "text": [
      "[CV 5/5] END colsample_bylevel=0.7, colsample_bytree=0.6, gamma=0.3, learning_rate=0.15, max_depth=4, min_child_weight=7, n_estimators=1500, reg_alpha=0.5, reg_lambda=10.0, scale_pos_weight=1.225, subsample=0.8;, score=0.619 total time=   0.6s\n",
      "[CV 2/5] END colsample_bylevel=0.8, colsample_bytree=0.9, gamma=0.05, learning_rate=0.1, max_depth=4, min_child_weight=5, n_estimators=1000, reg_alpha=0, reg_lambda=5.0, scale_pos_weight=1.1, subsample=1.0;, score=0.592 total time=   0.6s\n",
      "[CV 1/5] END colsample_bylevel=0.8, colsample_bytree=0.9, gamma=0.05, learning_rate=0.1, max_depth=4, min_child_weight=5, n_estimators=1000, reg_alpha=0, reg_lambda=5.0, scale_pos_weight=1.1, subsample=1.0;, score=0.596 total time=   0.6s\n",
      "[CV 4/5] END colsample_bylevel=1.0, colsample_bytree=0.8, gamma=0.3, learning_rate=0.1, max_depth=10, min_child_weight=1, n_estimators=2000, reg_alpha=1.0, reg_lambda=10.0, scale_pos_weight=1.2, subsample=0.7;, score=0.604 total time=   1.5s\n",
      "[CV 5/5] END colsample_bylevel=1.0, colsample_bytree=0.8, gamma=0.3, learning_rate=0.1, max_depth=10, min_child_weight=1, n_estimators=2000, reg_alpha=1.0, reg_lambda=10.0, scale_pos_weight=1.2, subsample=0.7;, score=0.631 total time=   1.5s\n",
      "[CV 3/5] END colsample_bylevel=0.8, colsample_bytree=0.9, gamma=0.05, learning_rate=0.1, max_depth=4, min_child_weight=5, n_estimators=1000, reg_alpha=0, reg_lambda=5.0, scale_pos_weight=1.1, subsample=1.0;, score=0.528 total time=   0.6s\n"
     ]
    },
    {
     "name": "stderr",
     "output_type": "stream",
     "text": [
      "/Users/gab/Desktop/school/hec_w25/python/projet/.venv/lib/python3.11/site-packages/xgboost/training.py:183: UserWarning: [16:33:49] WARNING: /Users/runner/work/xgboost/xgboost/src/learner.cc:738: \n",
      "Parameters: { \"use_label_encoder\" } are not used.\n",
      "\n",
      "  bst.update(dtrain, iteration=i, fobj=obj)\n",
      "/Users/gab/Desktop/school/hec_w25/python/projet/.venv/lib/python3.11/site-packages/xgboost/training.py:183: UserWarning: [16:33:49] WARNING: /Users/runner/work/xgboost/xgboost/src/learner.cc:738: \n",
      "Parameters: { \"use_label_encoder\" } are not used.\n",
      "\n",
      "  bst.update(dtrain, iteration=i, fobj=obj)\n",
      "/Users/gab/Desktop/school/hec_w25/python/projet/.venv/lib/python3.11/site-packages/xgboost/training.py:183: UserWarning: [16:33:49] WARNING: /Users/runner/work/xgboost/xgboost/src/learner.cc:738: \n",
      "Parameters: { \"use_label_encoder\" } are not used.\n",
      "\n",
      "  bst.update(dtrain, iteration=i, fobj=obj)\n",
      "/Users/gab/Desktop/school/hec_w25/python/projet/.venv/lib/python3.11/site-packages/xgboost/training.py:183: UserWarning: [16:33:49] WARNING: /Users/runner/work/xgboost/xgboost/src/learner.cc:738: \n",
      "Parameters: { \"use_label_encoder\" } are not used.\n",
      "\n",
      "  bst.update(dtrain, iteration=i, fobj=obj)\n",
      "/Users/gab/Desktop/school/hec_w25/python/projet/.venv/lib/python3.11/site-packages/xgboost/training.py:183: UserWarning: [16:33:49] WARNING: /Users/runner/work/xgboost/xgboost/src/learner.cc:738: \n",
      "Parameters: { \"use_label_encoder\" } are not used.\n",
      "\n",
      "  bst.update(dtrain, iteration=i, fobj=obj)\n",
      "/Users/gab/Desktop/school/hec_w25/python/projet/.venv/lib/python3.11/site-packages/xgboost/training.py:183: UserWarning: [16:33:49] WARNING: /Users/runner/work/xgboost/xgboost/src/learner.cc:738: \n",
      "Parameters: { \"use_label_encoder\" } are not used.\n",
      "\n",
      "  bst.update(dtrain, iteration=i, fobj=obj)\n"
     ]
    },
    {
     "name": "stdout",
     "output_type": "stream",
     "text": [
      "[CV 4/5] END colsample_bylevel=0.8, colsample_bytree=0.9, gamma=0.05, learning_rate=0.1, max_depth=4, min_child_weight=5, n_estimators=1000, reg_alpha=0, reg_lambda=5.0, scale_pos_weight=1.1, subsample=1.0;, score=0.586 total time=   0.6s\n"
     ]
    },
    {
     "name": "stderr",
     "output_type": "stream",
     "text": [
      "/Users/gab/Desktop/school/hec_w25/python/projet/.venv/lib/python3.11/site-packages/xgboost/training.py:183: UserWarning: [16:33:49] WARNING: /Users/runner/work/xgboost/xgboost/src/learner.cc:738: \n",
      "Parameters: { \"use_label_encoder\" } are not used.\n",
      "\n",
      "  bst.update(dtrain, iteration=i, fobj=obj)\n"
     ]
    },
    {
     "name": "stdout",
     "output_type": "stream",
     "text": [
      "[CV 5/5] END colsample_bylevel=0.8, colsample_bytree=0.9, gamma=0.05, learning_rate=0.1, max_depth=4, min_child_weight=5, n_estimators=1000, reg_alpha=0, reg_lambda=5.0, scale_pos_weight=1.1, subsample=1.0;, score=0.612 total time=   0.7s\n",
      "[CV 1/5] END colsample_bylevel=0.8, colsample_bytree=0.6, gamma=0.1, learning_rate=0.15, max_depth=6, min_child_weight=7, n_estimators=1500, reg_alpha=1.0, reg_lambda=1.0, scale_pos_weight=1.1, subsample=0.7;, score=0.593 total time=   0.7s\n"
     ]
    },
    {
     "name": "stderr",
     "output_type": "stream",
     "text": [
      "/Users/gab/Desktop/school/hec_w25/python/projet/.venv/lib/python3.11/site-packages/xgboost/training.py:183: UserWarning: [16:33:50] WARNING: /Users/runner/work/xgboost/xgboost/src/learner.cc:738: \n",
      "Parameters: { \"use_label_encoder\" } are not used.\n",
      "\n",
      "  bst.update(dtrain, iteration=i, fobj=obj)\n",
      "/Users/gab/Desktop/school/hec_w25/python/projet/.venv/lib/python3.11/site-packages/xgboost/training.py:183: UserWarning: [16:33:50] WARNING: /Users/runner/work/xgboost/xgboost/src/learner.cc:738: \n",
      "Parameters: { \"use_label_encoder\" } are not used.\n",
      "\n",
      "  bst.update(dtrain, iteration=i, fobj=obj)\n"
     ]
    },
    {
     "name": "stdout",
     "output_type": "stream",
     "text": [
      "[CV 2/5] END colsample_bylevel=0.8, colsample_bytree=0.6, gamma=0.1, learning_rate=0.15, max_depth=6, min_child_weight=7, n_estimators=1500, reg_alpha=1.0, reg_lambda=1.0, scale_pos_weight=1.1, subsample=0.7;, score=0.608 total time=   0.7s\n",
      "[CV 5/5] END colsample_bylevel=0.8, colsample_bytree=0.6, gamma=0.1, learning_rate=0.15, max_depth=6, min_child_weight=7, n_estimators=1500, reg_alpha=1.0, reg_lambda=1.0, scale_pos_weight=1.1, subsample=0.7;, score=0.610 total time=   0.7s\n",
      "[CV 3/5] END colsample_bylevel=0.8, colsample_bytree=0.6, gamma=0.1, learning_rate=0.15, max_depth=6, min_child_weight=7, n_estimators=1500, reg_alpha=1.0, reg_lambda=1.0, scale_pos_weight=1.1, subsample=0.7;, score=0.533 total time=   0.8s\n",
      "[CV 4/5] END colsample_bylevel=0.8, colsample_bytree=0.6, gamma=0.1, learning_rate=0.15, max_depth=6, min_child_weight=7, n_estimators=1500, reg_alpha=1.0, reg_lambda=1.0, scale_pos_weight=1.1, subsample=0.7;, score=0.590 total time=   0.8s\n"
     ]
    },
    {
     "name": "stderr",
     "output_type": "stream",
     "text": [
      "/Users/gab/Desktop/school/hec_w25/python/projet/.venv/lib/python3.11/site-packages/xgboost/training.py:183: UserWarning: [16:33:50] WARNING: /Users/runner/work/xgboost/xgboost/src/learner.cc:738: \n",
      "Parameters: { \"use_label_encoder\" } are not used.\n",
      "\n",
      "  bst.update(dtrain, iteration=i, fobj=obj)\n",
      "/Users/gab/Desktop/school/hec_w25/python/projet/.venv/lib/python3.11/site-packages/xgboost/training.py:183: UserWarning: [16:33:50] WARNING: /Users/runner/work/xgboost/xgboost/src/learner.cc:738: \n",
      "Parameters: { \"use_label_encoder\" } are not used.\n",
      "\n",
      "  bst.update(dtrain, iteration=i, fobj=obj)\n",
      "/Users/gab/Desktop/school/hec_w25/python/projet/.venv/lib/python3.11/site-packages/xgboost/training.py:183: UserWarning: [16:33:50] WARNING: /Users/runner/work/xgboost/xgboost/src/learner.cc:738: \n",
      "Parameters: { \"use_label_encoder\" } are not used.\n",
      "\n",
      "  bst.update(dtrain, iteration=i, fobj=obj)\n",
      "/Users/gab/Desktop/school/hec_w25/python/projet/.venv/lib/python3.11/site-packages/xgboost/training.py:183: UserWarning: [16:33:50] WARNING: /Users/runner/work/xgboost/xgboost/src/learner.cc:738: \n",
      "Parameters: { \"use_label_encoder\" } are not used.\n",
      "\n",
      "  bst.update(dtrain, iteration=i, fobj=obj)\n"
     ]
    },
    {
     "name": "stdout",
     "output_type": "stream",
     "text": [
      "[CV 3/5] END colsample_bylevel=0.9, colsample_bytree=0.5, gamma=0.05, learning_rate=0.05, max_depth=4, min_child_weight=7, n_estimators=1500, reg_alpha=1.0, reg_lambda=5.0, scale_pos_weight=1.225, subsample=0.7;, score=0.527 total time=   0.7s\n",
      "[CV 1/5] END colsample_bylevel=0.9, colsample_bytree=0.5, gamma=0.05, learning_rate=0.05, max_depth=4, min_child_weight=7, n_estimators=1500, reg_alpha=1.0, reg_lambda=5.0, scale_pos_weight=1.225, subsample=0.7;, score=0.594 total time=   0.8s\n",
      "[CV 2/5] END colsample_bylevel=0.9, colsample_bytree=0.5, gamma=0.05, learning_rate=0.05, max_depth=4, min_child_weight=7, n_estimators=1500, reg_alpha=1.0, reg_lambda=5.0, scale_pos_weight=1.225, subsample=0.7;, score=0.629 total time=   0.9s\n"
     ]
    },
    {
     "name": "stderr",
     "output_type": "stream",
     "text": [
      "/Users/gab/Desktop/school/hec_w25/python/projet/.venv/lib/python3.11/site-packages/xgboost/training.py:183: UserWarning: [16:33:51] WARNING: /Users/runner/work/xgboost/xgboost/src/learner.cc:738: \n",
      "Parameters: { \"use_label_encoder\" } are not used.\n",
      "\n",
      "  bst.update(dtrain, iteration=i, fobj=obj)\n",
      "/Users/gab/Desktop/school/hec_w25/python/projet/.venv/lib/python3.11/site-packages/xgboost/training.py:183: UserWarning: [16:33:51] WARNING: /Users/runner/work/xgboost/xgboost/src/learner.cc:738: \n",
      "Parameters: { \"use_label_encoder\" } are not used.\n",
      "\n",
      "  bst.update(dtrain, iteration=i, fobj=obj)\n",
      "/Users/gab/Desktop/school/hec_w25/python/projet/.venv/lib/python3.11/site-packages/xgboost/training.py:183: UserWarning: [16:33:51] WARNING: /Users/runner/work/xgboost/xgboost/src/learner.cc:738: \n",
      "Parameters: { \"use_label_encoder\" } are not used.\n",
      "\n",
      "  bst.update(dtrain, iteration=i, fobj=obj)\n"
     ]
    },
    {
     "name": "stdout",
     "output_type": "stream",
     "text": [
      "[CV 1/5] END colsample_bylevel=1.0, colsample_bytree=0.6, gamma=0.1, learning_rate=0.01, max_depth=10, min_child_weight=5, n_estimators=1500, reg_alpha=1.0, reg_lambda=0.1, scale_pos_weight=1.225, subsample=1.0;, score=0.588 total time=   2.1s\n",
      "[CV 4/5] END colsample_bylevel=0.9, colsample_bytree=0.5, gamma=0.05, learning_rate=0.05, max_depth=4, min_child_weight=7, n_estimators=1500, reg_alpha=1.0, reg_lambda=5.0, scale_pos_weight=1.225, subsample=0.7;, score=0.598 total time=   0.7s\n",
      "[CV 2/5] END colsample_bylevel=1.0, colsample_bytree=0.6, gamma=0.1, learning_rate=0.01, max_depth=10, min_child_weight=5, n_estimators=1500, reg_alpha=1.0, reg_lambda=0.1, scale_pos_weight=1.225, subsample=1.0;, score=0.637 total time=   2.0s\n",
      "[CV 5/5] END colsample_bylevel=0.9, colsample_bytree=0.5, gamma=0.05, learning_rate=0.05, max_depth=4, min_child_weight=7, n_estimators=1500, reg_alpha=1.0, reg_lambda=5.0, scale_pos_weight=1.225, subsample=0.7;, score=0.626 total time=   0.8s\n"
     ]
    },
    {
     "name": "stderr",
     "output_type": "stream",
     "text": [
      "/Users/gab/Desktop/school/hec_w25/python/projet/.venv/lib/python3.11/site-packages/xgboost/training.py:183: UserWarning: [16:33:51] WARNING: /Users/runner/work/xgboost/xgboost/src/learner.cc:738: \n",
      "Parameters: { \"use_label_encoder\" } are not used.\n",
      "\n",
      "  bst.update(dtrain, iteration=i, fobj=obj)\n",
      "/Users/gab/Desktop/school/hec_w25/python/projet/.venv/lib/python3.11/site-packages/xgboost/training.py:183: UserWarning: [16:33:51] WARNING: /Users/runner/work/xgboost/xgboost/src/learner.cc:738: \n",
      "Parameters: { \"use_label_encoder\" } are not used.\n",
      "\n",
      "  bst.update(dtrain, iteration=i, fobj=obj)\n",
      "/Users/gab/Desktop/school/hec_w25/python/projet/.venv/lib/python3.11/site-packages/xgboost/training.py:183: UserWarning: [16:33:51] WARNING: /Users/runner/work/xgboost/xgboost/src/learner.cc:738: \n",
      "Parameters: { \"use_label_encoder\" } are not used.\n",
      "\n",
      "  bst.update(dtrain, iteration=i, fobj=obj)\n",
      "/Users/gab/Desktop/school/hec_w25/python/projet/.venv/lib/python3.11/site-packages/xgboost/training.py:183: UserWarning: [16:33:52] WARNING: /Users/runner/work/xgboost/xgboost/src/learner.cc:738: \n",
      "Parameters: { \"use_label_encoder\" } are not used.\n",
      "\n",
      "  bst.update(dtrain, iteration=i, fobj=obj)\n"
     ]
    },
    {
     "name": "stdout",
     "output_type": "stream",
     "text": [
      "[CV 4/5] END colsample_bylevel=1.0, colsample_bytree=0.6, gamma=0.1, learning_rate=0.01, max_depth=10, min_child_weight=5, n_estimators=1500, reg_alpha=1.0, reg_lambda=0.1, scale_pos_weight=1.225, subsample=1.0;, score=0.583 total time=   2.0s\n",
      "[CV 3/5] END colsample_bylevel=1.0, colsample_bytree=0.6, gamma=0.1, learning_rate=0.01, max_depth=10, min_child_weight=5, n_estimators=1500, reg_alpha=1.0, reg_lambda=0.1, scale_pos_weight=1.225, subsample=1.0;, score=0.521 total time=   2.2s\n",
      "[CV 1/5] END colsample_bylevel=1.0, colsample_bytree=0.5, gamma=0.05, learning_rate=0.03, max_depth=6, min_child_weight=1, n_estimators=1000, reg_alpha=0.1, reg_lambda=1.0, scale_pos_weight=1.0, subsample=0.8;, score=0.603 total time=   1.1s\n",
      "[CV 5/5] END colsample_bylevel=1.0, colsample_bytree=0.6, gamma=0.1, learning_rate=0.01, max_depth=10, min_child_weight=5, n_estimators=1500, reg_alpha=1.0, reg_lambda=0.1, scale_pos_weight=1.225, subsample=1.0;, score=0.645 total time=   2.1s\n"
     ]
    },
    {
     "name": "stderr",
     "output_type": "stream",
     "text": [
      "/Users/gab/Desktop/school/hec_w25/python/projet/.venv/lib/python3.11/site-packages/xgboost/training.py:183: UserWarning: [16:33:52] WARNING: /Users/runner/work/xgboost/xgboost/src/learner.cc:738: \n",
      "Parameters: { \"use_label_encoder\" } are not used.\n",
      "\n",
      "  bst.update(dtrain, iteration=i, fobj=obj)\n",
      "/Users/gab/Desktop/school/hec_w25/python/projet/.venv/lib/python3.11/site-packages/xgboost/training.py:183: UserWarning: [16:33:52] WARNING: /Users/runner/work/xgboost/xgboost/src/learner.cc:738: \n",
      "Parameters: { \"use_label_encoder\" } are not used.\n",
      "\n",
      "  bst.update(dtrain, iteration=i, fobj=obj)\n",
      "/Users/gab/Desktop/school/hec_w25/python/projet/.venv/lib/python3.11/site-packages/xgboost/training.py:183: UserWarning: [16:33:52] WARNING: /Users/runner/work/xgboost/xgboost/src/learner.cc:738: \n",
      "Parameters: { \"use_label_encoder\" } are not used.\n",
      "\n",
      "  bst.update(dtrain, iteration=i, fobj=obj)\n",
      "/Users/gab/Desktop/school/hec_w25/python/projet/.venv/lib/python3.11/site-packages/xgboost/training.py:183: UserWarning: [16:33:52] WARNING: /Users/runner/work/xgboost/xgboost/src/learner.cc:738: \n",
      "Parameters: { \"use_label_encoder\" } are not used.\n",
      "\n",
      "  bst.update(dtrain, iteration=i, fobj=obj)\n"
     ]
    },
    {
     "name": "stdout",
     "output_type": "stream",
     "text": [
      "[CV 3/5] END colsample_bylevel=1.0, colsample_bytree=0.5, gamma=0.05, learning_rate=0.03, max_depth=6, min_child_weight=1, n_estimators=1000, reg_alpha=0.1, reg_lambda=1.0, scale_pos_weight=1.0, subsample=0.8;, score=0.507 total time=   1.0s\n",
      "[CV 4/5] END colsample_bylevel=1.0, colsample_bytree=0.5, gamma=0.05, learning_rate=0.03, max_depth=6, min_child_weight=1, n_estimators=1000, reg_alpha=0.1, reg_lambda=1.0, scale_pos_weight=1.0, subsample=0.8;, score=0.570 total time=   1.0s\n",
      "[CV 2/5] END colsample_bylevel=1.0, colsample_bytree=0.5, gamma=0.05, learning_rate=0.03, max_depth=6, min_child_weight=1, n_estimators=1000, reg_alpha=0.1, reg_lambda=1.0, scale_pos_weight=1.0, subsample=0.8;, score=0.610 total time=   1.3s\n"
     ]
    },
    {
     "name": "stderr",
     "output_type": "stream",
     "text": [
      "/Users/gab/Desktop/school/hec_w25/python/projet/.venv/lib/python3.11/site-packages/xgboost/training.py:183: UserWarning: [16:33:52] WARNING: /Users/runner/work/xgboost/xgboost/src/learner.cc:738: \n",
      "Parameters: { \"use_label_encoder\" } are not used.\n",
      "\n",
      "  bst.update(dtrain, iteration=i, fobj=obj)\n",
      "/Users/gab/Desktop/school/hec_w25/python/projet/.venv/lib/python3.11/site-packages/xgboost/training.py:183: UserWarning: [16:33:53] WARNING: /Users/runner/work/xgboost/xgboost/src/learner.cc:738: \n",
      "Parameters: { \"use_label_encoder\" } are not used.\n",
      "\n",
      "  bst.update(dtrain, iteration=i, fobj=obj)\n",
      "/Users/gab/Desktop/school/hec_w25/python/projet/.venv/lib/python3.11/site-packages/xgboost/training.py:183: UserWarning: [16:33:53] WARNING: /Users/runner/work/xgboost/xgboost/src/learner.cc:738: \n",
      "Parameters: { \"use_label_encoder\" } are not used.\n",
      "\n",
      "  bst.update(dtrain, iteration=i, fobj=obj)\n"
     ]
    },
    {
     "name": "stdout",
     "output_type": "stream",
     "text": [
      "[CV 5/5] END colsample_bylevel=1.0, colsample_bytree=0.5, gamma=0.05, learning_rate=0.03, max_depth=6, min_child_weight=1, n_estimators=1000, reg_alpha=0.1, reg_lambda=1.0, scale_pos_weight=1.0, subsample=0.8;, score=0.640 total time=   1.1s\n"
     ]
    },
    {
     "name": "stderr",
     "output_type": "stream",
     "text": [
      "/Users/gab/Desktop/school/hec_w25/python/projet/.venv/lib/python3.11/site-packages/xgboost/training.py:183: UserWarning: [16:33:53] WARNING: /Users/runner/work/xgboost/xgboost/src/learner.cc:738: \n",
      "Parameters: { \"use_label_encoder\" } are not used.\n",
      "\n",
      "  bst.update(dtrain, iteration=i, fobj=obj)\n"
     ]
    },
    {
     "name": "stdout",
     "output_type": "stream",
     "text": [
      "[CV 1/5] END colsample_bylevel=0.8, colsample_bytree=0.5, gamma=0.05, learning_rate=0.05, max_depth=4, min_child_weight=1, n_estimators=2000, reg_alpha=0.1, reg_lambda=5.0, scale_pos_weight=1.225, subsample=0.9;, score=0.600 total time=   1.1s\n",
      "[CV 2/5] END colsample_bylevel=0.8, colsample_bytree=0.5, gamma=0.05, learning_rate=0.05, max_depth=4, min_child_weight=1, n_estimators=2000, reg_alpha=0.1, reg_lambda=5.0, scale_pos_weight=1.225, subsample=0.9;, score=0.599 total time=   1.1s\n",
      "[CV 3/5] END colsample_bylevel=0.8, colsample_bytree=0.5, gamma=0.05, learning_rate=0.05, max_depth=4, min_child_weight=1, n_estimators=2000, reg_alpha=0.1, reg_lambda=5.0, scale_pos_weight=1.225, subsample=0.9;, score=0.510 total time=   1.1s\n",
      "[CV 4/5] END colsample_bylevel=0.8, colsample_bytree=0.5, gamma=0.05, learning_rate=0.05, max_depth=4, min_child_weight=1, n_estimators=2000, reg_alpha=0.1, reg_lambda=5.0, scale_pos_weight=1.225, subsample=0.9;, score=0.578 total time=   1.1s\n"
     ]
    },
    {
     "name": "stderr",
     "output_type": "stream",
     "text": [
      "/Users/gab/Desktop/school/hec_w25/python/projet/.venv/lib/python3.11/site-packages/xgboost/training.py:183: UserWarning: [16:33:53] WARNING: /Users/runner/work/xgboost/xgboost/src/learner.cc:738: \n",
      "Parameters: { \"use_label_encoder\" } are not used.\n",
      "\n",
      "  bst.update(dtrain, iteration=i, fobj=obj)\n",
      "/Users/gab/Desktop/school/hec_w25/python/projet/.venv/lib/python3.11/site-packages/xgboost/training.py:183: UserWarning: [16:33:53] WARNING: /Users/runner/work/xgboost/xgboost/src/learner.cc:738: \n",
      "Parameters: { \"use_label_encoder\" } are not used.\n",
      "\n",
      "  bst.update(dtrain, iteration=i, fobj=obj)\n",
      "/Users/gab/Desktop/school/hec_w25/python/projet/.venv/lib/python3.11/site-packages/xgboost/training.py:183: UserWarning: [16:33:53] WARNING: /Users/runner/work/xgboost/xgboost/src/learner.cc:738: \n",
      "Parameters: { \"use_label_encoder\" } are not used.\n",
      "\n",
      "  bst.update(dtrain, iteration=i, fobj=obj)\n",
      "/Users/gab/Desktop/school/hec_w25/python/projet/.venv/lib/python3.11/site-packages/xgboost/training.py:183: UserWarning: [16:33:53] WARNING: /Users/runner/work/xgboost/xgboost/src/learner.cc:738: \n",
      "Parameters: { \"use_label_encoder\" } are not used.\n",
      "\n",
      "  bst.update(dtrain, iteration=i, fobj=obj)\n"
     ]
    },
    {
     "name": "stdout",
     "output_type": "stream",
     "text": [
      "[CV 1/5] END colsample_bylevel=0.8, colsample_bytree=0.5, gamma=0, learning_rate=0.1, max_depth=8, min_child_weight=3, n_estimators=500, reg_alpha=0, reg_lambda=10.0, scale_pos_weight=1.1, subsample=0.7;, score=0.603 total time=   0.7s\n",
      "[CV 2/5] END colsample_bylevel=0.8, colsample_bytree=0.5, gamma=0, learning_rate=0.1, max_depth=8, min_child_weight=3, n_estimators=500, reg_alpha=0, reg_lambda=10.0, scale_pos_weight=1.1, subsample=0.7;, score=0.609 total time=   0.6s\n"
     ]
    },
    {
     "name": "stderr",
     "output_type": "stream",
     "text": [
      "/Users/gab/Desktop/school/hec_w25/python/projet/.venv/lib/python3.11/site-packages/xgboost/training.py:183: UserWarning: [16:33:53] WARNING: /Users/runner/work/xgboost/xgboost/src/learner.cc:738: \n",
      "Parameters: { \"use_label_encoder\" } are not used.\n",
      "\n",
      "  bst.update(dtrain, iteration=i, fobj=obj)\n",
      "/Users/gab/Desktop/school/hec_w25/python/projet/.venv/lib/python3.11/site-packages/xgboost/training.py:183: UserWarning: [16:33:53] WARNING: /Users/runner/work/xgboost/xgboost/src/learner.cc:738: \n",
      "Parameters: { \"use_label_encoder\" } are not used.\n",
      "\n",
      "  bst.update(dtrain, iteration=i, fobj=obj)\n"
     ]
    },
    {
     "name": "stdout",
     "output_type": "stream",
     "text": [
      "[CV 3/5] END colsample_bylevel=0.8, colsample_bytree=0.5, gamma=0, learning_rate=0.1, max_depth=8, min_child_weight=3, n_estimators=500, reg_alpha=0, reg_lambda=10.0, scale_pos_weight=1.1, subsample=0.7;, score=0.527 total time=   0.8s\n",
      "[CV 5/5] END colsample_bylevel=0.8, colsample_bytree=0.5, gamma=0, learning_rate=0.1, max_depth=8, min_child_weight=3, n_estimators=500, reg_alpha=0, reg_lambda=10.0, scale_pos_weight=1.1, subsample=0.7;, score=0.627 total time=   0.6s\n",
      "[CV 4/5] END colsample_bylevel=0.8, colsample_bytree=0.5, gamma=0, learning_rate=0.1, max_depth=8, min_child_weight=3, n_estimators=500, reg_alpha=0, reg_lambda=10.0, scale_pos_weight=1.1, subsample=0.7;, score=0.591 total time=   0.7s\n",
      "[CV 5/5] END colsample_bylevel=0.8, colsample_bytree=0.5, gamma=0.05, learning_rate=0.05, max_depth=4, min_child_weight=1, n_estimators=2000, reg_alpha=0.1, reg_lambda=5.0, scale_pos_weight=1.225, subsample=0.9;, score=0.631 total time=   1.2s\n"
     ]
    },
    {
     "name": "stderr",
     "output_type": "stream",
     "text": [
      "/Users/gab/Desktop/school/hec_w25/python/projet/.venv/lib/python3.11/site-packages/xgboost/training.py:183: UserWarning: [16:33:54] WARNING: /Users/runner/work/xgboost/xgboost/src/learner.cc:738: \n",
      "Parameters: { \"use_label_encoder\" } are not used.\n",
      "\n",
      "  bst.update(dtrain, iteration=i, fobj=obj)\n",
      "/Users/gab/Desktop/school/hec_w25/python/projet/.venv/lib/python3.11/site-packages/xgboost/training.py:183: UserWarning: [16:33:54] WARNING: /Users/runner/work/xgboost/xgboost/src/learner.cc:738: \n",
      "Parameters: { \"use_label_encoder\" } are not used.\n",
      "\n",
      "  bst.update(dtrain, iteration=i, fobj=obj)\n",
      "/Users/gab/Desktop/school/hec_w25/python/projet/.venv/lib/python3.11/site-packages/xgboost/training.py:183: UserWarning: [16:33:54] WARNING: /Users/runner/work/xgboost/xgboost/src/learner.cc:738: \n",
      "Parameters: { \"use_label_encoder\" } are not used.\n",
      "\n",
      "  bst.update(dtrain, iteration=i, fobj=obj)\n",
      "/Users/gab/Desktop/school/hec_w25/python/projet/.venv/lib/python3.11/site-packages/xgboost/training.py:183: UserWarning: [16:33:54] WARNING: /Users/runner/work/xgboost/xgboost/src/learner.cc:738: \n",
      "Parameters: { \"use_label_encoder\" } are not used.\n",
      "\n",
      "  bst.update(dtrain, iteration=i, fobj=obj)\n"
     ]
    },
    {
     "name": "stdout",
     "output_type": "stream",
     "text": [
      "[CV 1/5] END colsample_bylevel=0.9, colsample_bytree=0.5, gamma=0.2, learning_rate=0.15, max_depth=6, min_child_weight=7, n_estimators=2000, reg_alpha=0.5, reg_lambda=1.0, scale_pos_weight=1.2, subsample=0.8;, score=0.588 total time=   0.8s\n",
      "[CV 2/5] END colsample_bylevel=0.9, colsample_bytree=0.5, gamma=0.2, learning_rate=0.15, max_depth=6, min_child_weight=7, n_estimators=2000, reg_alpha=0.5, reg_lambda=1.0, scale_pos_weight=1.2, subsample=0.8;, score=0.602 total time=   0.8s\n",
      "[CV 3/5] END colsample_bylevel=0.9, colsample_bytree=0.5, gamma=0.2, learning_rate=0.15, max_depth=6, min_child_weight=7, n_estimators=2000, reg_alpha=0.5, reg_lambda=1.0, scale_pos_weight=1.2, subsample=0.8;, score=0.519 total time=   0.8s\n"
     ]
    },
    {
     "name": "stderr",
     "output_type": "stream",
     "text": [
      "/Users/gab/Desktop/school/hec_w25/python/projet/.venv/lib/python3.11/site-packages/xgboost/training.py:183: UserWarning: [16:33:54] WARNING: /Users/runner/work/xgboost/xgboost/src/learner.cc:738: \n",
      "Parameters: { \"use_label_encoder\" } are not used.\n",
      "\n",
      "  bst.update(dtrain, iteration=i, fobj=obj)\n",
      "/Users/gab/Desktop/school/hec_w25/python/projet/.venv/lib/python3.11/site-packages/xgboost/training.py:183: UserWarning: [16:33:55] WARNING: /Users/runner/work/xgboost/xgboost/src/learner.cc:738: \n",
      "Parameters: { \"use_label_encoder\" } are not used.\n",
      "\n",
      "  bst.update(dtrain, iteration=i, fobj=obj)\n",
      "/Users/gab/Desktop/school/hec_w25/python/projet/.venv/lib/python3.11/site-packages/xgboost/training.py:183: UserWarning: [16:33:55] WARNING: /Users/runner/work/xgboost/xgboost/src/learner.cc:738: \n",
      "Parameters: { \"use_label_encoder\" } are not used.\n",
      "\n",
      "  bst.update(dtrain, iteration=i, fobj=obj)\n"
     ]
    },
    {
     "name": "stdout",
     "output_type": "stream",
     "text": [
      "[CV 1/5] END colsample_bylevel=0.7, colsample_bytree=0.8, gamma=0.1, learning_rate=0.03, max_depth=6, min_child_weight=5, n_estimators=500, reg_alpha=1.0, reg_lambda=1.0, scale_pos_weight=1.2, subsample=0.7;, score=0.598 total time=   0.5s\n",
      "[CV 4/5] END colsample_bylevel=0.9, colsample_bytree=0.5, gamma=0.2, learning_rate=0.15, max_depth=6, min_child_weight=7, n_estimators=2000, reg_alpha=0.5, reg_lambda=1.0, scale_pos_weight=1.2, subsample=0.8;, score=0.592 total time=   0.8s\n",
      "[CV 2/5] END colsample_bylevel=0.8, colsample_bytree=0.6, gamma=0.3, learning_rate=0.01, max_depth=10, min_child_weight=1, n_estimators=2000, reg_alpha=0, reg_lambda=1.0, scale_pos_weight=1.1, subsample=1.0;, score=0.634 total time=   2.1s\n"
     ]
    },
    {
     "name": "stderr",
     "output_type": "stream",
     "text": [
      "/Users/gab/Desktop/school/hec_w25/python/projet/.venv/lib/python3.11/site-packages/xgboost/training.py:183: UserWarning: [16:33:55] WARNING: /Users/runner/work/xgboost/xgboost/src/learner.cc:738: \n",
      "Parameters: { \"use_label_encoder\" } are not used.\n",
      "\n",
      "  bst.update(dtrain, iteration=i, fobj=obj)\n",
      "/Users/gab/Desktop/school/hec_w25/python/projet/.venv/lib/python3.11/site-packages/xgboost/training.py:183: UserWarning: [16:33:55] WARNING: /Users/runner/work/xgboost/xgboost/src/learner.cc:738: \n",
      "Parameters: { \"use_label_encoder\" } are not used.\n",
      "\n",
      "  bst.update(dtrain, iteration=i, fobj=obj)\n",
      "/Users/gab/Desktop/school/hec_w25/python/projet/.venv/lib/python3.11/site-packages/xgboost/training.py:183: UserWarning: [16:33:55] WARNING: /Users/runner/work/xgboost/xgboost/src/learner.cc:738: \n",
      "Parameters: { \"use_label_encoder\" } are not used.\n",
      "\n",
      "  bst.update(dtrain, iteration=i, fobj=obj)\n"
     ]
    },
    {
     "name": "stdout",
     "output_type": "stream",
     "text": [
      "[CV 1/5] END colsample_bylevel=0.8, colsample_bytree=0.6, gamma=0.3, learning_rate=0.01, max_depth=10, min_child_weight=1, n_estimators=2000, reg_alpha=0, reg_lambda=1.0, scale_pos_weight=1.1, subsample=1.0;, score=0.601 total time=   2.3s\n",
      "[CV 5/5] END colsample_bylevel=0.9, colsample_bytree=0.5, gamma=0.2, learning_rate=0.15, max_depth=6, min_child_weight=7, n_estimators=2000, reg_alpha=0.5, reg_lambda=1.0, scale_pos_weight=1.2, subsample=0.8;, score=0.625 total time=   0.9s\n",
      "[CV 3/5] END colsample_bylevel=0.8, colsample_bytree=0.6, gamma=0.3, learning_rate=0.01, max_depth=10, min_child_weight=1, n_estimators=2000, reg_alpha=0, reg_lambda=1.0, scale_pos_weight=1.1, subsample=1.0;, score=0.513 total time=   2.2s\n",
      "[CV 4/5] END colsample_bylevel=0.8, colsample_bytree=0.6, gamma=0.3, learning_rate=0.01, max_depth=10, min_child_weight=1, n_estimators=2000, reg_alpha=0, reg_lambda=1.0, scale_pos_weight=1.1, subsample=1.0;, score=0.562 total time=   2.2s\n"
     ]
    },
    {
     "name": "stderr",
     "output_type": "stream",
     "text": [
      "/Users/gab/Desktop/school/hec_w25/python/projet/.venv/lib/python3.11/site-packages/xgboost/training.py:183: UserWarning: [16:33:55] WARNING: /Users/runner/work/xgboost/xgboost/src/learner.cc:738: \n",
      "Parameters: { \"use_label_encoder\" } are not used.\n",
      "\n",
      "  bst.update(dtrain, iteration=i, fobj=obj)\n",
      "/Users/gab/Desktop/school/hec_w25/python/projet/.venv/lib/python3.11/site-packages/xgboost/training.py:183: UserWarning: [16:33:55] WARNING: /Users/runner/work/xgboost/xgboost/src/learner.cc:738: \n",
      "Parameters: { \"use_label_encoder\" } are not used.\n",
      "\n",
      "  bst.update(dtrain, iteration=i, fobj=obj)\n",
      "/Users/gab/Desktop/school/hec_w25/python/projet/.venv/lib/python3.11/site-packages/xgboost/training.py:183: UserWarning: [16:33:55] WARNING: /Users/runner/work/xgboost/xgboost/src/learner.cc:738: \n",
      "Parameters: { \"use_label_encoder\" } are not used.\n",
      "\n",
      "  bst.update(dtrain, iteration=i, fobj=obj)\n",
      "/Users/gab/Desktop/school/hec_w25/python/projet/.venv/lib/python3.11/site-packages/xgboost/training.py:183: UserWarning: [16:33:55] WARNING: /Users/runner/work/xgboost/xgboost/src/learner.cc:738: \n",
      "Parameters: { \"use_label_encoder\" } are not used.\n",
      "\n",
      "  bst.update(dtrain, iteration=i, fobj=obj)\n"
     ]
    },
    {
     "name": "stdout",
     "output_type": "stream",
     "text": [
      "[CV 2/5] END colsample_bylevel=0.7, colsample_bytree=0.8, gamma=0.1, learning_rate=0.03, max_depth=6, min_child_weight=5, n_estimators=500, reg_alpha=1.0, reg_lambda=1.0, scale_pos_weight=1.2, subsample=0.7;, score=0.630 total time=   0.5s\n",
      "[CV 3/5] END colsample_bylevel=0.7, colsample_bytree=0.8, gamma=0.1, learning_rate=0.03, max_depth=6, min_child_weight=5, n_estimators=500, reg_alpha=1.0, reg_lambda=1.0, scale_pos_weight=1.2, subsample=0.7;, score=0.533 total time=   0.5s\n"
     ]
    },
    {
     "name": "stderr",
     "output_type": "stream",
     "text": [
      "/Users/gab/Desktop/school/hec_w25/python/projet/.venv/lib/python3.11/site-packages/xgboost/training.py:183: UserWarning: [16:33:56] WARNING: /Users/runner/work/xgboost/xgboost/src/learner.cc:738: \n",
      "Parameters: { \"use_label_encoder\" } are not used.\n",
      "\n",
      "  bst.update(dtrain, iteration=i, fobj=obj)\n",
      "/Users/gab/Desktop/school/hec_w25/python/projet/.venv/lib/python3.11/site-packages/xgboost/training.py:183: UserWarning: [16:33:56] WARNING: /Users/runner/work/xgboost/xgboost/src/learner.cc:738: \n",
      "Parameters: { \"use_label_encoder\" } are not used.\n",
      "\n",
      "  bst.update(dtrain, iteration=i, fobj=obj)\n"
     ]
    },
    {
     "name": "stdout",
     "output_type": "stream",
     "text": [
      "[CV 4/5] END colsample_bylevel=0.7, colsample_bytree=0.8, gamma=0.1, learning_rate=0.03, max_depth=6, min_child_weight=5, n_estimators=500, reg_alpha=1.0, reg_lambda=1.0, scale_pos_weight=1.2, subsample=0.7;, score=0.594 total time=   0.5s\n",
      "[CV 5/5] END colsample_bylevel=0.8, colsample_bytree=0.6, gamma=0.3, learning_rate=0.01, max_depth=10, min_child_weight=1, n_estimators=2000, reg_alpha=0, reg_lambda=1.0, scale_pos_weight=1.1, subsample=1.0;, score=0.659 total time=   2.2s\n",
      "[CV 5/5] END colsample_bylevel=0.7, colsample_bytree=0.8, gamma=0.1, learning_rate=0.03, max_depth=6, min_child_weight=5, n_estimators=500, reg_alpha=1.0, reg_lambda=1.0, scale_pos_weight=1.2, subsample=0.7;, score=0.644 total time=   0.5s\n",
      "[CV 1/5] END colsample_bylevel=0.9, colsample_bytree=0.8, gamma=0, learning_rate=0.1, max_depth=6, min_child_weight=5, n_estimators=500, reg_alpha=0.5, reg_lambda=10.0, scale_pos_weight=1.2, subsample=1.0;, score=0.591 total time=   0.5s\n"
     ]
    },
    {
     "name": "stderr",
     "output_type": "stream",
     "text": [
      "/Users/gab/Desktop/school/hec_w25/python/projet/.venv/lib/python3.11/site-packages/xgboost/training.py:183: UserWarning: [16:33:56] WARNING: /Users/runner/work/xgboost/xgboost/src/learner.cc:738: \n",
      "Parameters: { \"use_label_encoder\" } are not used.\n",
      "\n",
      "  bst.update(dtrain, iteration=i, fobj=obj)\n",
      "/Users/gab/Desktop/school/hec_w25/python/projet/.venv/lib/python3.11/site-packages/xgboost/training.py:183: UserWarning: [16:33:56] WARNING: /Users/runner/work/xgboost/xgboost/src/learner.cc:738: \n",
      "Parameters: { \"use_label_encoder\" } are not used.\n",
      "\n",
      "  bst.update(dtrain, iteration=i, fobj=obj)\n",
      "/Users/gab/Desktop/school/hec_w25/python/projet/.venv/lib/python3.11/site-packages/xgboost/training.py:183: UserWarning: [16:33:56] WARNING: /Users/runner/work/xgboost/xgboost/src/learner.cc:738: \n",
      "Parameters: { \"use_label_encoder\" } are not used.\n",
      "\n",
      "  bst.update(dtrain, iteration=i, fobj=obj)\n",
      "/Users/gab/Desktop/school/hec_w25/python/projet/.venv/lib/python3.11/site-packages/xgboost/training.py:183: UserWarning: [16:33:56] WARNING: /Users/runner/work/xgboost/xgboost/src/learner.cc:738: \n",
      "Parameters: { \"use_label_encoder\" } are not used.\n",
      "\n",
      "  bst.update(dtrain, iteration=i, fobj=obj)\n"
     ]
    },
    {
     "name": "stdout",
     "output_type": "stream",
     "text": [
      "[CV 3/5] END colsample_bylevel=0.9, colsample_bytree=0.8, gamma=0, learning_rate=0.1, max_depth=6, min_child_weight=5, n_estimators=500, reg_alpha=0.5, reg_lambda=10.0, scale_pos_weight=1.2, subsample=1.0;, score=0.534 total time=   0.5s\n",
      "[CV 2/5] END colsample_bylevel=0.9, colsample_bytree=0.8, gamma=0, learning_rate=0.1, max_depth=6, min_child_weight=5, n_estimators=500, reg_alpha=0.5, reg_lambda=10.0, scale_pos_weight=1.2, subsample=1.0;, score=0.616 total time=   0.6s\n",
      "[CV 4/5] END colsample_bylevel=0.9, colsample_bytree=0.8, gamma=0, learning_rate=0.1, max_depth=6, min_child_weight=5, n_estimators=500, reg_alpha=0.5, reg_lambda=10.0, scale_pos_weight=1.2, subsample=1.0;, score=0.580 total time=   0.6s\n"
     ]
    },
    {
     "name": "stderr",
     "output_type": "stream",
     "text": [
      "/Users/gab/Desktop/school/hec_w25/python/projet/.venv/lib/python3.11/site-packages/xgboost/training.py:183: UserWarning: [16:33:56] WARNING: /Users/runner/work/xgboost/xgboost/src/learner.cc:738: \n",
      "Parameters: { \"use_label_encoder\" } are not used.\n",
      "\n",
      "  bst.update(dtrain, iteration=i, fobj=obj)\n",
      "/Users/gab/Desktop/school/hec_w25/python/projet/.venv/lib/python3.11/site-packages/xgboost/training.py:183: UserWarning: [16:33:56] WARNING: /Users/runner/work/xgboost/xgboost/src/learner.cc:738: \n",
      "Parameters: { \"use_label_encoder\" } are not used.\n",
      "\n",
      "  bst.update(dtrain, iteration=i, fobj=obj)\n",
      "/Users/gab/Desktop/school/hec_w25/python/projet/.venv/lib/python3.11/site-packages/xgboost/training.py:183: UserWarning: [16:33:56] WARNING: /Users/runner/work/xgboost/xgboost/src/learner.cc:738: \n",
      "Parameters: { \"use_label_encoder\" } are not used.\n",
      "\n",
      "  bst.update(dtrain, iteration=i, fobj=obj)\n"
     ]
    },
    {
     "name": "stdout",
     "output_type": "stream",
     "text": [
      "[CV 5/5] END colsample_bylevel=0.9, colsample_bytree=0.8, gamma=0, learning_rate=0.1, max_depth=6, min_child_weight=5, n_estimators=500, reg_alpha=0.5, reg_lambda=10.0, scale_pos_weight=1.2, subsample=1.0;, score=0.631 total time=   0.6s\n",
      "[CV 1/5] END colsample_bylevel=0.7, colsample_bytree=0.7, gamma=0.1, learning_rate=0.05, max_depth=10, min_child_weight=7, n_estimators=500, reg_alpha=0, reg_lambda=5.0, scale_pos_weight=1.2, subsample=0.7;, score=0.594 total time=   0.6s\n",
      "[CV 2/5] END colsample_bylevel=0.7, colsample_bytree=0.7, gamma=0.1, learning_rate=0.05, max_depth=10, min_child_weight=7, n_estimators=500, reg_alpha=0, reg_lambda=5.0, scale_pos_weight=1.2, subsample=0.7;, score=0.615 total time=   0.6s\n",
      "[CV 3/5] END colsample_bylevel=0.7, colsample_bytree=0.7, gamma=0.1, learning_rate=0.05, max_depth=10, min_child_weight=7, n_estimators=500, reg_alpha=0, reg_lambda=5.0, scale_pos_weight=1.2, subsample=0.7;, score=0.549 total time=   0.6s\n",
      "[CV 4/5] END colsample_bylevel=0.7, colsample_bytree=0.7, gamma=0.1, learning_rate=0.05, max_depth=10, min_child_weight=7, n_estimators=500, reg_alpha=0, reg_lambda=5.0, scale_pos_weight=1.2, subsample=0.7;, score=0.603 total time=   0.6s\n"
     ]
    },
    {
     "name": "stderr",
     "output_type": "stream",
     "text": [
      "/Users/gab/Desktop/school/hec_w25/python/projet/.venv/lib/python3.11/site-packages/xgboost/training.py:183: UserWarning: [16:33:56] WARNING: /Users/runner/work/xgboost/xgboost/src/learner.cc:738: \n",
      "Parameters: { \"use_label_encoder\" } are not used.\n",
      "\n",
      "  bst.update(dtrain, iteration=i, fobj=obj)\n",
      "/Users/gab/Desktop/school/hec_w25/python/projet/.venv/lib/python3.11/site-packages/xgboost/training.py:183: UserWarning: [16:33:56] WARNING: /Users/runner/work/xgboost/xgboost/src/learner.cc:738: \n",
      "Parameters: { \"use_label_encoder\" } are not used.\n",
      "\n",
      "  bst.update(dtrain, iteration=i, fobj=obj)\n",
      "/Users/gab/Desktop/school/hec_w25/python/projet/.venv/lib/python3.11/site-packages/xgboost/training.py:183: UserWarning: [16:33:56] WARNING: /Users/runner/work/xgboost/xgboost/src/learner.cc:738: \n",
      "Parameters: { \"use_label_encoder\" } are not used.\n",
      "\n",
      "  bst.update(dtrain, iteration=i, fobj=obj)\n",
      "/Users/gab/Desktop/school/hec_w25/python/projet/.venv/lib/python3.11/site-packages/xgboost/training.py:183: UserWarning: [16:33:57] WARNING: /Users/runner/work/xgboost/xgboost/src/learner.cc:738: \n",
      "Parameters: { \"use_label_encoder\" } are not used.\n",
      "\n",
      "  bst.update(dtrain, iteration=i, fobj=obj)\n",
      "/Users/gab/Desktop/school/hec_w25/python/projet/.venv/lib/python3.11/site-packages/xgboost/training.py:183: UserWarning: [16:33:57] WARNING: /Users/runner/work/xgboost/xgboost/src/learner.cc:738: \n",
      "Parameters: { \"use_label_encoder\" } are not used.\n",
      "\n",
      "  bst.update(dtrain, iteration=i, fobj=obj)\n"
     ]
    },
    {
     "name": "stdout",
     "output_type": "stream",
     "text": [
      "[CV 5/5] END colsample_bylevel=0.7, colsample_bytree=0.7, gamma=0.1, learning_rate=0.05, max_depth=10, min_child_weight=7, n_estimators=500, reg_alpha=0, reg_lambda=5.0, scale_pos_weight=1.2, subsample=0.7;, score=0.646 total time=   0.7s\n",
      "[CV 1/5] END colsample_bylevel=0.9, colsample_bytree=0.6, gamma=0.3, learning_rate=0.03, max_depth=12, min_child_weight=5, n_estimators=500, reg_alpha=0, reg_lambda=0.1, scale_pos_weight=1.225, subsample=0.9;, score=0.599 total time=   0.8s\n",
      "[CV 2/5] END colsample_bylevel=0.9, colsample_bytree=0.6, gamma=0.3, learning_rate=0.03, max_depth=12, min_child_weight=5, n_estimators=500, reg_alpha=0, reg_lambda=0.1, scale_pos_weight=1.225, subsample=0.9;, score=0.618 total time=   0.8s\n"
     ]
    },
    {
     "name": "stderr",
     "output_type": "stream",
     "text": [
      "/Users/gab/Desktop/school/hec_w25/python/projet/.venv/lib/python3.11/site-packages/xgboost/training.py:183: UserWarning: [16:33:57] WARNING: /Users/runner/work/xgboost/xgboost/src/learner.cc:738: \n",
      "Parameters: { \"use_label_encoder\" } are not used.\n",
      "\n",
      "  bst.update(dtrain, iteration=i, fobj=obj)\n",
      "/Users/gab/Desktop/school/hec_w25/python/projet/.venv/lib/python3.11/site-packages/xgboost/training.py:183: UserWarning: [16:33:57] WARNING: /Users/runner/work/xgboost/xgboost/src/learner.cc:738: \n",
      "Parameters: { \"use_label_encoder\" } are not used.\n",
      "\n",
      "  bst.update(dtrain, iteration=i, fobj=obj)\n",
      "/Users/gab/Desktop/school/hec_w25/python/projet/.venv/lib/python3.11/site-packages/xgboost/training.py:183: UserWarning: [16:33:57] WARNING: /Users/runner/work/xgboost/xgboost/src/learner.cc:738: \n",
      "Parameters: { \"use_label_encoder\" } are not used.\n",
      "\n",
      "  bst.update(dtrain, iteration=i, fobj=obj)\n"
     ]
    },
    {
     "name": "stdout",
     "output_type": "stream",
     "text": [
      "[CV 3/5] END colsample_bylevel=0.9, colsample_bytree=0.6, gamma=0.3, learning_rate=0.03, max_depth=12, min_child_weight=5, n_estimators=500, reg_alpha=0, reg_lambda=0.1, scale_pos_weight=1.225, subsample=0.9;, score=0.516 total time=   0.8s\n",
      "[CV 4/5] END colsample_bylevel=0.9, colsample_bytree=0.6, gamma=0.3, learning_rate=0.03, max_depth=12, min_child_weight=5, n_estimators=500, reg_alpha=0, reg_lambda=0.1, scale_pos_weight=1.225, subsample=0.9;, score=0.582 total time=   0.8s\n",
      "[CV 5/5] END colsample_bylevel=0.9, colsample_bytree=0.6, gamma=0.3, learning_rate=0.03, max_depth=12, min_child_weight=5, n_estimators=500, reg_alpha=0, reg_lambda=0.1, scale_pos_weight=1.225, subsample=0.9;, score=0.644 total time=   0.8s\n"
     ]
    },
    {
     "name": "stderr",
     "output_type": "stream",
     "text": [
      "/Users/gab/Desktop/school/hec_w25/python/projet/.venv/lib/python3.11/site-packages/xgboost/training.py:183: UserWarning: [16:33:57] WARNING: /Users/runner/work/xgboost/xgboost/src/learner.cc:738: \n",
      "Parameters: { \"use_label_encoder\" } are not used.\n",
      "\n",
      "  bst.update(dtrain, iteration=i, fobj=obj)\n",
      "/Users/gab/Desktop/school/hec_w25/python/projet/.venv/lib/python3.11/site-packages/xgboost/training.py:183: UserWarning: [16:33:57] WARNING: /Users/runner/work/xgboost/xgboost/src/learner.cc:738: \n",
      "Parameters: { \"use_label_encoder\" } are not used.\n",
      "\n",
      "  bst.update(dtrain, iteration=i, fobj=obj)\n",
      "/Users/gab/Desktop/school/hec_w25/python/projet/.venv/lib/python3.11/site-packages/xgboost/training.py:183: UserWarning: [16:33:57] WARNING: /Users/runner/work/xgboost/xgboost/src/learner.cc:738: \n",
      "Parameters: { \"use_label_encoder\" } are not used.\n",
      "\n",
      "  bst.update(dtrain, iteration=i, fobj=obj)\n"
     ]
    },
    {
     "name": "stdout",
     "output_type": "stream",
     "text": [
      "[CV 1/5] END colsample_bylevel=0.7, colsample_bytree=0.7, gamma=0.2, learning_rate=0.15, max_depth=10, min_child_weight=1, n_estimators=500, reg_alpha=0.1, reg_lambda=0.1, scale_pos_weight=1.0, subsample=0.7;, score=0.578 total time=   0.4s\n",
      "[CV 2/5] END colsample_bylevel=0.7, colsample_bytree=0.7, gamma=0.2, learning_rate=0.15, max_depth=10, min_child_weight=1, n_estimators=500, reg_alpha=0.1, reg_lambda=0.1, scale_pos_weight=1.0, subsample=0.7;, score=0.616 total time=   0.4s\n"
     ]
    },
    {
     "name": "stderr",
     "output_type": "stream",
     "text": [
      "/Users/gab/Desktop/school/hec_w25/python/projet/.venv/lib/python3.11/site-packages/xgboost/training.py:183: UserWarning: [16:33:57] WARNING: /Users/runner/work/xgboost/xgboost/src/learner.cc:738: \n",
      "Parameters: { \"use_label_encoder\" } are not used.\n",
      "\n",
      "  bst.update(dtrain, iteration=i, fobj=obj)\n",
      "/Users/gab/Desktop/school/hec_w25/python/projet/.venv/lib/python3.11/site-packages/xgboost/training.py:183: UserWarning: [16:33:58] WARNING: /Users/runner/work/xgboost/xgboost/src/learner.cc:738: \n",
      "Parameters: { \"use_label_encoder\" } are not used.\n",
      "\n",
      "  bst.update(dtrain, iteration=i, fobj=obj)\n"
     ]
    },
    {
     "name": "stdout",
     "output_type": "stream",
     "text": [
      "[CV 3/5] END colsample_bylevel=0.7, colsample_bytree=0.7, gamma=0.2, learning_rate=0.15, max_depth=10, min_child_weight=1, n_estimators=500, reg_alpha=0.1, reg_lambda=0.1, scale_pos_weight=1.0, subsample=0.7;, score=0.521 total time=   0.5s\n",
      "[CV 4/5] END colsample_bylevel=0.7, colsample_bytree=0.7, gamma=0.2, learning_rate=0.15, max_depth=10, min_child_weight=1, n_estimators=500, reg_alpha=0.1, reg_lambda=0.1, scale_pos_weight=1.0, subsample=0.7;, score=0.572 total time=   0.4s\n",
      "[CV 5/5] END colsample_bylevel=0.7, colsample_bytree=0.7, gamma=0.2, learning_rate=0.15, max_depth=10, min_child_weight=1, n_estimators=500, reg_alpha=0.1, reg_lambda=0.1, scale_pos_weight=1.0, subsample=0.7;, score=0.620 total time=   0.4s\n"
     ]
    },
    {
     "name": "stderr",
     "output_type": "stream",
     "text": [
      "/Users/gab/Desktop/school/hec_w25/python/projet/.venv/lib/python3.11/site-packages/xgboost/training.py:183: UserWarning: [16:33:58] WARNING: /Users/runner/work/xgboost/xgboost/src/learner.cc:738: \n",
      "Parameters: { \"use_label_encoder\" } are not used.\n",
      "\n",
      "  bst.update(dtrain, iteration=i, fobj=obj)\n",
      "/Users/gab/Desktop/school/hec_w25/python/projet/.venv/lib/python3.11/site-packages/xgboost/training.py:183: UserWarning: [16:33:58] WARNING: /Users/runner/work/xgboost/xgboost/src/learner.cc:738: \n",
      "Parameters: { \"use_label_encoder\" } are not used.\n",
      "\n",
      "  bst.update(dtrain, iteration=i, fobj=obj)\n",
      "/Users/gab/Desktop/school/hec_w25/python/projet/.venv/lib/python3.11/site-packages/xgboost/training.py:183: UserWarning: [16:33:58] WARNING: /Users/runner/work/xgboost/xgboost/src/learner.cc:738: \n",
      "Parameters: { \"use_label_encoder\" } are not used.\n",
      "\n",
      "  bst.update(dtrain, iteration=i, fobj=obj)\n"
     ]
    },
    {
     "name": "stdout",
     "output_type": "stream",
     "text": [
      "[CV 1/5] END colsample_bylevel=0.9, colsample_bytree=0.5, gamma=0, learning_rate=0.05, max_depth=8, min_child_weight=7, n_estimators=2000, reg_alpha=0, reg_lambda=5.0, scale_pos_weight=1.225, subsample=0.7;, score=0.591 total time=   1.6s\n",
      "[CV 2/5] END colsample_bylevel=0.9, colsample_bytree=0.5, gamma=0, learning_rate=0.05, max_depth=8, min_child_weight=7, n_estimators=2000, reg_alpha=0, reg_lambda=5.0, scale_pos_weight=1.225, subsample=0.7;, score=0.614 total time=   1.6s\n"
     ]
    },
    {
     "name": "stderr",
     "output_type": "stream",
     "text": [
      "/Users/gab/Desktop/school/hec_w25/python/projet/.venv/lib/python3.11/site-packages/xgboost/training.py:183: UserWarning: [16:33:58] WARNING: /Users/runner/work/xgboost/xgboost/src/learner.cc:738: \n",
      "Parameters: { \"use_label_encoder\" } are not used.\n",
      "\n",
      "  bst.update(dtrain, iteration=i, fobj=obj)\n",
      "/Users/gab/Desktop/school/hec_w25/python/projet/.venv/lib/python3.11/site-packages/xgboost/training.py:183: UserWarning: [16:33:58] WARNING: /Users/runner/work/xgboost/xgboost/src/learner.cc:738: \n",
      "Parameters: { \"use_label_encoder\" } are not used.\n",
      "\n",
      "  bst.update(dtrain, iteration=i, fobj=obj)\n"
     ]
    },
    {
     "name": "stdout",
     "output_type": "stream",
     "text": [
      "[CV 5/5] END colsample_bylevel=0.9, colsample_bytree=0.5, gamma=0, learning_rate=0.05, max_depth=8, min_child_weight=7, n_estimators=2000, reg_alpha=0, reg_lambda=5.0, scale_pos_weight=1.225, subsample=0.7;, score=0.625 total time=   1.4s\n",
      "[CV 3/5] END colsample_bylevel=0.9, colsample_bytree=0.5, gamma=0, learning_rate=0.05, max_depth=8, min_child_weight=7, n_estimators=2000, reg_alpha=0, reg_lambda=5.0, scale_pos_weight=1.225, subsample=0.7;, score=0.525 total time=   1.5s\n"
     ]
    },
    {
     "name": "stderr",
     "output_type": "stream",
     "text": [
      "/Users/gab/Desktop/school/hec_w25/python/projet/.venv/lib/python3.11/site-packages/xgboost/training.py:183: UserWarning: [16:33:58] WARNING: /Users/runner/work/xgboost/xgboost/src/learner.cc:738: \n",
      "Parameters: { \"use_label_encoder\" } are not used.\n",
      "\n",
      "  bst.update(dtrain, iteration=i, fobj=obj)\n",
      "/Users/gab/Desktop/school/hec_w25/python/projet/.venv/lib/python3.11/site-packages/xgboost/training.py:183: UserWarning: [16:33:58] WARNING: /Users/runner/work/xgboost/xgboost/src/learner.cc:738: \n",
      "Parameters: { \"use_label_encoder\" } are not used.\n",
      "\n",
      "  bst.update(dtrain, iteration=i, fobj=obj)\n"
     ]
    },
    {
     "name": "stdout",
     "output_type": "stream",
     "text": [
      "[CV 4/5] END colsample_bylevel=0.9, colsample_bytree=0.5, gamma=0, learning_rate=0.05, max_depth=8, min_child_weight=7, n_estimators=2000, reg_alpha=0, reg_lambda=5.0, scale_pos_weight=1.225, subsample=0.7;, score=0.605 total time=   1.6s\n"
     ]
    },
    {
     "name": "stderr",
     "output_type": "stream",
     "text": [
      "/Users/gab/Desktop/school/hec_w25/python/projet/.venv/lib/python3.11/site-packages/xgboost/training.py:183: UserWarning: [16:33:59] WARNING: /Users/runner/work/xgboost/xgboost/src/learner.cc:738: \n",
      "Parameters: { \"use_label_encoder\" } are not used.\n",
      "\n",
      "  bst.update(dtrain, iteration=i, fobj=obj)\n"
     ]
    },
    {
     "name": "stdout",
     "output_type": "stream",
     "text": [
      "[CV 1/5] END colsample_bylevel=0.7, colsample_bytree=0.5, gamma=0, learning_rate=0.05, max_depth=6, min_child_weight=7, n_estimators=2000, reg_alpha=0.1, reg_lambda=1.0, scale_pos_weight=1.2, subsample=0.7;, score=0.592 total time=   1.2s\n",
      "[CV 2/5] END colsample_bylevel=0.7, colsample_bytree=0.5, gamma=0, learning_rate=0.05, max_depth=6, min_child_weight=7, n_estimators=2000, reg_alpha=0.1, reg_lambda=1.0, scale_pos_weight=1.2, subsample=0.7;, score=0.599 total time=   1.2s\n",
      "[CV 3/5] END colsample_bylevel=0.7, colsample_bytree=0.5, gamma=0, learning_rate=0.05, max_depth=6, min_child_weight=7, n_estimators=2000, reg_alpha=0.1, reg_lambda=1.0, scale_pos_weight=1.2, subsample=0.7;, score=0.531 total time=   1.2s\n",
      "[CV 2/5] END colsample_bylevel=0.9, colsample_bytree=0.7, gamma=0.3, learning_rate=0.01, max_depth=4, min_child_weight=5, n_estimators=1500, reg_alpha=0, reg_lambda=0.1, scale_pos_weight=1.2, subsample=0.7;, score=0.634 total time=   0.9s\n"
     ]
    },
    {
     "name": "stderr",
     "output_type": "stream",
     "text": [
      "/Users/gab/Desktop/school/hec_w25/python/projet/.venv/lib/python3.11/site-packages/xgboost/training.py:183: UserWarning: [16:33:59] WARNING: /Users/runner/work/xgboost/xgboost/src/learner.cc:738: \n",
      "Parameters: { \"use_label_encoder\" } are not used.\n",
      "\n",
      "  bst.update(dtrain, iteration=i, fobj=obj)\n",
      "/Users/gab/Desktop/school/hec_w25/python/projet/.venv/lib/python3.11/site-packages/xgboost/training.py:183: UserWarning: [16:33:59] WARNING: /Users/runner/work/xgboost/xgboost/src/learner.cc:738: \n",
      "Parameters: { \"use_label_encoder\" } are not used.\n",
      "\n",
      "  bst.update(dtrain, iteration=i, fobj=obj)\n",
      "/Users/gab/Desktop/school/hec_w25/python/projet/.venv/lib/python3.11/site-packages/xgboost/training.py:183: UserWarning: [16:33:59] WARNING: /Users/runner/work/xgboost/xgboost/src/learner.cc:738: \n",
      "Parameters: { \"use_label_encoder\" } are not used.\n",
      "\n",
      "  bst.update(dtrain, iteration=i, fobj=obj)\n",
      "/Users/gab/Desktop/school/hec_w25/python/projet/.venv/lib/python3.11/site-packages/xgboost/training.py:183: UserWarning: [16:33:59] WARNING: /Users/runner/work/xgboost/xgboost/src/learner.cc:738: \n",
      "Parameters: { \"use_label_encoder\" } are not used.\n",
      "\n",
      "  bst.update(dtrain, iteration=i, fobj=obj)\n",
      "/Users/gab/Desktop/school/hec_w25/python/projet/.venv/lib/python3.11/site-packages/xgboost/training.py:183: UserWarning: [16:33:59] WARNING: /Users/runner/work/xgboost/xgboost/src/learner.cc:738: \n",
      "Parameters: { \"use_label_encoder\" } are not used.\n",
      "\n",
      "  bst.update(dtrain, iteration=i, fobj=obj)\n",
      "/Users/gab/Desktop/school/hec_w25/python/projet/.venv/lib/python3.11/site-packages/xgboost/training.py:183: UserWarning: [16:33:59] WARNING: /Users/runner/work/xgboost/xgboost/src/learner.cc:738: \n",
      "Parameters: { \"use_label_encoder\" } are not used.\n",
      "\n",
      "  bst.update(dtrain, iteration=i, fobj=obj)\n",
      "/Users/gab/Desktop/school/hec_w25/python/projet/.venv/lib/python3.11/site-packages/xgboost/training.py:183: UserWarning: [16:33:59] WARNING: /Users/runner/work/xgboost/xgboost/src/learner.cc:738: \n",
      "Parameters: { \"use_label_encoder\" } are not used.\n",
      "\n",
      "  bst.update(dtrain, iteration=i, fobj=obj)\n"
     ]
    },
    {
     "name": "stdout",
     "output_type": "stream",
     "text": [
      "[CV 1/5] END colsample_bylevel=0.9, colsample_bytree=0.7, gamma=0.3, learning_rate=0.01, max_depth=4, min_child_weight=5, n_estimators=1500, reg_alpha=0, reg_lambda=0.1, scale_pos_weight=1.2, subsample=0.7;, score=0.596 total time=   0.9s\n",
      "[CV 4/5] END colsample_bylevel=0.7, colsample_bytree=0.5, gamma=0, learning_rate=0.05, max_depth=6, min_child_weight=7, n_estimators=2000, reg_alpha=0.1, reg_lambda=1.0, scale_pos_weight=1.2, subsample=0.7;, score=0.607 total time=   1.2s\n",
      "[CV 5/5] END colsample_bylevel=0.7, colsample_bytree=0.5, gamma=0, learning_rate=0.05, max_depth=6, min_child_weight=7, n_estimators=2000, reg_alpha=0.1, reg_lambda=1.0, scale_pos_weight=1.2, subsample=0.7;, score=0.630 total time=   1.2s\n",
      "[CV 3/5] END colsample_bylevel=0.9, colsample_bytree=0.7, gamma=0.3, learning_rate=0.01, max_depth=4, min_child_weight=5, n_estimators=1500, reg_alpha=0, reg_lambda=0.1, scale_pos_weight=1.2, subsample=0.7;, score=0.534 total time=   0.9s\n"
     ]
    },
    {
     "name": "stderr",
     "output_type": "stream",
     "text": [
      "/Users/gab/Desktop/school/hec_w25/python/projet/.venv/lib/python3.11/site-packages/xgboost/training.py:183: UserWarning: [16:33:59] WARNING: /Users/runner/work/xgboost/xgboost/src/learner.cc:738: \n",
      "Parameters: { \"use_label_encoder\" } are not used.\n",
      "\n",
      "  bst.update(dtrain, iteration=i, fobj=obj)\n",
      "/Users/gab/Desktop/school/hec_w25/python/projet/.venv/lib/python3.11/site-packages/xgboost/training.py:183: UserWarning: [16:34:00] WARNING: /Users/runner/work/xgboost/xgboost/src/learner.cc:738: \n",
      "Parameters: { \"use_label_encoder\" } are not used.\n",
      "\n",
      "  bst.update(dtrain, iteration=i, fobj=obj)\n"
     ]
    },
    {
     "name": "stdout",
     "output_type": "stream",
     "text": [
      "[CV 1/5] END colsample_bylevel=0.7, colsample_bytree=0.7, gamma=0.3, learning_rate=0.1, max_depth=8, min_child_weight=3, n_estimators=500, reg_alpha=0.5, reg_lambda=0.1, scale_pos_weight=1.0, subsample=0.7;, score=0.600 total time=   0.5s\n",
      "[CV 2/5] END colsample_bylevel=0.7, colsample_bytree=0.7, gamma=0.3, learning_rate=0.1, max_depth=8, min_child_weight=3, n_estimators=500, reg_alpha=0.5, reg_lambda=0.1, scale_pos_weight=1.0, subsample=0.7;, score=0.600 total time=   0.5s\n",
      "[CV 3/5] END colsample_bylevel=0.7, colsample_bytree=0.7, gamma=0.3, learning_rate=0.1, max_depth=8, min_child_weight=3, n_estimators=500, reg_alpha=0.5, reg_lambda=0.1, scale_pos_weight=1.0, subsample=0.7;, score=0.535 total time=   0.4s\n",
      "[CV 5/5] END colsample_bylevel=0.7, colsample_bytree=0.7, gamma=0.3, learning_rate=0.1, max_depth=8, min_child_weight=3, n_estimators=500, reg_alpha=0.5, reg_lambda=0.1, scale_pos_weight=1.0, subsample=0.7;, score=0.634 total time=   0.4s\n"
     ]
    },
    {
     "name": "stderr",
     "output_type": "stream",
     "text": [
      "/Users/gab/Desktop/school/hec_w25/python/projet/.venv/lib/python3.11/site-packages/xgboost/training.py:183: UserWarning: [16:34:00] WARNING: /Users/runner/work/xgboost/xgboost/src/learner.cc:738: \n",
      "Parameters: { \"use_label_encoder\" } are not used.\n",
      "\n",
      "  bst.update(dtrain, iteration=i, fobj=obj)\n",
      "/Users/gab/Desktop/school/hec_w25/python/projet/.venv/lib/python3.11/site-packages/xgboost/training.py:183: UserWarning: [16:34:00] WARNING: /Users/runner/work/xgboost/xgboost/src/learner.cc:738: \n",
      "Parameters: { \"use_label_encoder\" } are not used.\n",
      "\n",
      "  bst.update(dtrain, iteration=i, fobj=obj)\n",
      "/Users/gab/Desktop/school/hec_w25/python/projet/.venv/lib/python3.11/site-packages/xgboost/training.py:183: UserWarning: [16:34:00] WARNING: /Users/runner/work/xgboost/xgboost/src/learner.cc:738: \n",
      "Parameters: { \"use_label_encoder\" } are not used.\n",
      "\n",
      "  bst.update(dtrain, iteration=i, fobj=obj)\n"
     ]
    },
    {
     "name": "stdout",
     "output_type": "stream",
     "text": [
      "[CV 4/5] END colsample_bylevel=0.7, colsample_bytree=0.7, gamma=0.3, learning_rate=0.1, max_depth=8, min_child_weight=3, n_estimators=500, reg_alpha=0.5, reg_lambda=0.1, scale_pos_weight=1.0, subsample=0.7;, score=0.574 total time=   0.6s\n",
      "[CV 4/5] END colsample_bylevel=0.9, colsample_bytree=0.7, gamma=0.3, learning_rate=0.01, max_depth=4, min_child_weight=5, n_estimators=1500, reg_alpha=0, reg_lambda=0.1, scale_pos_weight=1.2, subsample=0.7;, score=0.578 total time=   0.9s\n",
      "[CV 1/5] END colsample_bylevel=0.7, colsample_bytree=0.9, gamma=0.05, learning_rate=0.1, max_depth=12, min_child_weight=5, n_estimators=1500, reg_alpha=0.5, reg_lambda=0.1, scale_pos_weight=1.1, subsample=1.0;, score=0.593 total time=   0.6s\n",
      "[CV 5/5] END colsample_bylevel=0.9, colsample_bytree=0.7, gamma=0.3, learning_rate=0.01, max_depth=4, min_child_weight=5, n_estimators=1500, reg_alpha=0, reg_lambda=0.1, scale_pos_weight=1.2, subsample=0.7;, score=0.655 total time=   0.9s\n"
     ]
    },
    {
     "name": "stderr",
     "output_type": "stream",
     "text": [
      "/Users/gab/Desktop/school/hec_w25/python/projet/.venv/lib/python3.11/site-packages/xgboost/training.py:183: UserWarning: [16:34:00] WARNING: /Users/runner/work/xgboost/xgboost/src/learner.cc:738: \n",
      "Parameters: { \"use_label_encoder\" } are not used.\n",
      "\n",
      "  bst.update(dtrain, iteration=i, fobj=obj)\n",
      "/Users/gab/Desktop/school/hec_w25/python/projet/.venv/lib/python3.11/site-packages/xgboost/training.py:183: UserWarning: [16:34:00] WARNING: /Users/runner/work/xgboost/xgboost/src/learner.cc:738: \n",
      "Parameters: { \"use_label_encoder\" } are not used.\n",
      "\n",
      "  bst.update(dtrain, iteration=i, fobj=obj)\n",
      "/Users/gab/Desktop/school/hec_w25/python/projet/.venv/lib/python3.11/site-packages/xgboost/training.py:183: UserWarning: [16:34:00] WARNING: /Users/runner/work/xgboost/xgboost/src/learner.cc:738: \n",
      "Parameters: { \"use_label_encoder\" } are not used.\n",
      "\n",
      "  bst.update(dtrain, iteration=i, fobj=obj)\n",
      "/Users/gab/Desktop/school/hec_w25/python/projet/.venv/lib/python3.11/site-packages/xgboost/training.py:183: UserWarning: [16:34:00] WARNING: /Users/runner/work/xgboost/xgboost/src/learner.cc:738: \n",
      "Parameters: { \"use_label_encoder\" } are not used.\n",
      "\n",
      "  bst.update(dtrain, iteration=i, fobj=obj)\n"
     ]
    },
    {
     "name": "stdout",
     "output_type": "stream",
     "text": [
      "[CV 2/5] END colsample_bylevel=0.7, colsample_bytree=0.9, gamma=0.05, learning_rate=0.1, max_depth=12, min_child_weight=5, n_estimators=1500, reg_alpha=0.5, reg_lambda=0.1, scale_pos_weight=1.1, subsample=1.0;, score=0.596 total time=   0.5s\n",
      "[CV 3/5] END colsample_bylevel=0.7, colsample_bytree=0.9, gamma=0.05, learning_rate=0.1, max_depth=12, min_child_weight=5, n_estimators=1500, reg_alpha=0.5, reg_lambda=0.1, scale_pos_weight=1.1, subsample=1.0;, score=0.530 total time=   0.6s\n",
      "[CV 4/5] END colsample_bylevel=0.7, colsample_bytree=0.9, gamma=0.05, learning_rate=0.1, max_depth=12, min_child_weight=5, n_estimators=1500, reg_alpha=0.5, reg_lambda=0.1, scale_pos_weight=1.1, subsample=1.0;, score=0.585 total time=   0.6s\n"
     ]
    },
    {
     "name": "stderr",
     "output_type": "stream",
     "text": [
      "/Users/gab/Desktop/school/hec_w25/python/projet/.venv/lib/python3.11/site-packages/xgboost/training.py:183: UserWarning: [16:34:00] WARNING: /Users/runner/work/xgboost/xgboost/src/learner.cc:738: \n",
      "Parameters: { \"use_label_encoder\" } are not used.\n",
      "\n",
      "  bst.update(dtrain, iteration=i, fobj=obj)\n",
      "/Users/gab/Desktop/school/hec_w25/python/projet/.venv/lib/python3.11/site-packages/xgboost/training.py:183: UserWarning: [16:34:00] WARNING: /Users/runner/work/xgboost/xgboost/src/learner.cc:738: \n",
      "Parameters: { \"use_label_encoder\" } are not used.\n",
      "\n",
      "  bst.update(dtrain, iteration=i, fobj=obj)\n",
      "/Users/gab/Desktop/school/hec_w25/python/projet/.venv/lib/python3.11/site-packages/xgboost/training.py:183: UserWarning: [16:34:00] WARNING: /Users/runner/work/xgboost/xgboost/src/learner.cc:738: \n",
      "Parameters: { \"use_label_encoder\" } are not used.\n",
      "\n",
      "  bst.update(dtrain, iteration=i, fobj=obj)\n"
     ]
    },
    {
     "name": "stdout",
     "output_type": "stream",
     "text": [
      "[CV 1/5] END colsample_bylevel=0.9, colsample_bytree=0.8, gamma=0.1, learning_rate=0.1, max_depth=12, min_child_weight=3, n_estimators=1000, reg_alpha=1.0, reg_lambda=1.0, scale_pos_weight=1.1, subsample=1.0;, score=0.595 total time=   0.5s\n",
      "[CV 5/5] END colsample_bylevel=0.7, colsample_bytree=0.9, gamma=0.05, learning_rate=0.1, max_depth=12, min_child_weight=5, n_estimators=1500, reg_alpha=0.5, reg_lambda=0.1, scale_pos_weight=1.1, subsample=1.0;, score=0.617 total time=   0.6s\n",
      "[CV 4/5] END colsample_bylevel=0.9, colsample_bytree=0.8, gamma=0.1, learning_rate=0.1, max_depth=12, min_child_weight=3, n_estimators=1000, reg_alpha=1.0, reg_lambda=1.0, scale_pos_weight=1.1, subsample=1.0;, score=0.570 total time=   0.4s\n",
      "[CV 2/5] END colsample_bylevel=0.9, colsample_bytree=0.8, gamma=0.1, learning_rate=0.1, max_depth=12, min_child_weight=3, n_estimators=1000, reg_alpha=1.0, reg_lambda=1.0, scale_pos_weight=1.1, subsample=1.0;, score=0.620 total time=   0.5s\n",
      "[CV 1/5] END colsample_bylevel=1.0, colsample_bytree=0.9, gamma=0.3, learning_rate=0.01, max_depth=4, min_child_weight=7, n_estimators=500, reg_alpha=0, reg_lambda=10.0, scale_pos_weight=1.225, subsample=0.9;, score=0.602 total time=   0.3s\n",
      "[CV 3/5] END colsample_bylevel=0.9, colsample_bytree=0.8, gamma=0.1, learning_rate=0.1, max_depth=12, min_child_weight=3, n_estimators=1000, reg_alpha=1.0, reg_lambda=1.0, scale_pos_weight=1.1, subsample=1.0;, score=0.521 total time=   0.5s\n"
     ]
    },
    {
     "name": "stderr",
     "output_type": "stream",
     "text": [
      "/Users/gab/Desktop/school/hec_w25/python/projet/.venv/lib/python3.11/site-packages/xgboost/training.py:183: UserWarning: [16:34:00] WARNING: /Users/runner/work/xgboost/xgboost/src/learner.cc:738: \n",
      "Parameters: { \"use_label_encoder\" } are not used.\n",
      "\n",
      "  bst.update(dtrain, iteration=i, fobj=obj)\n",
      "/Users/gab/Desktop/school/hec_w25/python/projet/.venv/lib/python3.11/site-packages/xgboost/training.py:183: UserWarning: [16:34:00] WARNING: /Users/runner/work/xgboost/xgboost/src/learner.cc:738: \n",
      "Parameters: { \"use_label_encoder\" } are not used.\n",
      "\n",
      "  bst.update(dtrain, iteration=i, fobj=obj)\n",
      "/Users/gab/Desktop/school/hec_w25/python/projet/.venv/lib/python3.11/site-packages/xgboost/training.py:183: UserWarning: [16:34:00] WARNING: /Users/runner/work/xgboost/xgboost/src/learner.cc:738: \n",
      "Parameters: { \"use_label_encoder\" } are not used.\n",
      "\n",
      "  bst.update(dtrain, iteration=i, fobj=obj)\n",
      "/Users/gab/Desktop/school/hec_w25/python/projet/.venv/lib/python3.11/site-packages/xgboost/training.py:183: UserWarning: [16:34:00] WARNING: /Users/runner/work/xgboost/xgboost/src/learner.cc:738: \n",
      "Parameters: { \"use_label_encoder\" } are not used.\n",
      "\n",
      "  bst.update(dtrain, iteration=i, fobj=obj)\n",
      "/Users/gab/Desktop/school/hec_w25/python/projet/.venv/lib/python3.11/site-packages/xgboost/training.py:183: UserWarning: [16:34:01] WARNING: /Users/runner/work/xgboost/xgboost/src/learner.cc:738: \n",
      "Parameters: { \"use_label_encoder\" } are not used.\n",
      "\n",
      "  bst.update(dtrain, iteration=i, fobj=obj)\n",
      "/Users/gab/Desktop/school/hec_w25/python/projet/.venv/lib/python3.11/site-packages/xgboost/training.py:183: UserWarning: [16:34:01] WARNING: /Users/runner/work/xgboost/xgboost/src/learner.cc:738: \n",
      "Parameters: { \"use_label_encoder\" } are not used.\n",
      "\n",
      "  bst.update(dtrain, iteration=i, fobj=obj)\n"
     ]
    },
    {
     "name": "stdout",
     "output_type": "stream",
     "text": [
      "[CV 2/5] END colsample_bylevel=1.0, colsample_bytree=0.9, gamma=0.3, learning_rate=0.01, max_depth=4, min_child_weight=7, n_estimators=500, reg_alpha=0, reg_lambda=10.0, scale_pos_weight=1.225, subsample=0.9;, score=0.650 total time=   0.4s\n",
      "[CV 5/5] END colsample_bylevel=0.9, colsample_bytree=0.8, gamma=0.1, learning_rate=0.1, max_depth=12, min_child_weight=3, n_estimators=1000, reg_alpha=1.0, reg_lambda=1.0, scale_pos_weight=1.1, subsample=1.0;, score=0.630 total time=   0.6s\n",
      "[CV 5/5] END colsample_bylevel=1.0, colsample_bytree=0.9, gamma=0.3, learning_rate=0.01, max_depth=4, min_child_weight=7, n_estimators=500, reg_alpha=0, reg_lambda=10.0, scale_pos_weight=1.225, subsample=0.9;, score=0.666 total time=   0.3s\n",
      "[CV 3/5] END colsample_bylevel=1.0, colsample_bytree=0.9, gamma=0.3, learning_rate=0.01, max_depth=4, min_child_weight=7, n_estimators=500, reg_alpha=0, reg_lambda=10.0, scale_pos_weight=1.225, subsample=0.9;, score=0.538 total time=   0.4s\n",
      "[CV 4/5] END colsample_bylevel=1.0, colsample_bytree=0.9, gamma=0.3, learning_rate=0.01, max_depth=4, min_child_weight=7, n_estimators=500, reg_alpha=0, reg_lambda=10.0, scale_pos_weight=1.225, subsample=0.9;, score=0.578 total time=   0.4s\n"
     ]
    },
    {
     "name": "stderr",
     "output_type": "stream",
     "text": [
      "/Users/gab/Desktop/school/hec_w25/python/projet/.venv/lib/python3.11/site-packages/xgboost/training.py:183: UserWarning: [16:34:01] WARNING: /Users/runner/work/xgboost/xgboost/src/learner.cc:738: \n",
      "Parameters: { \"use_label_encoder\" } are not used.\n",
      "\n",
      "  bst.update(dtrain, iteration=i, fobj=obj)\n",
      "/Users/gab/Desktop/school/hec_w25/python/projet/.venv/lib/python3.11/site-packages/xgboost/training.py:183: UserWarning: [16:34:01] WARNING: /Users/runner/work/xgboost/xgboost/src/learner.cc:738: \n",
      "Parameters: { \"use_label_encoder\" } are not used.\n",
      "\n",
      "  bst.update(dtrain, iteration=i, fobj=obj)\n",
      "/Users/gab/Desktop/school/hec_w25/python/projet/.venv/lib/python3.11/site-packages/xgboost/training.py:183: UserWarning: [16:34:01] WARNING: /Users/runner/work/xgboost/xgboost/src/learner.cc:738: \n",
      "Parameters: { \"use_label_encoder\" } are not used.\n",
      "\n",
      "  bst.update(dtrain, iteration=i, fobj=obj)\n",
      "/Users/gab/Desktop/school/hec_w25/python/projet/.venv/lib/python3.11/site-packages/xgboost/training.py:183: UserWarning: [16:34:01] WARNING: /Users/runner/work/xgboost/xgboost/src/learner.cc:738: \n",
      "Parameters: { \"use_label_encoder\" } are not used.\n",
      "\n",
      "  bst.update(dtrain, iteration=i, fobj=obj)\n",
      "/Users/gab/Desktop/school/hec_w25/python/projet/.venv/lib/python3.11/site-packages/xgboost/training.py:183: UserWarning: [16:34:01] WARNING: /Users/runner/work/xgboost/xgboost/src/learner.cc:738: \n",
      "Parameters: { \"use_label_encoder\" } are not used.\n",
      "\n",
      "  bst.update(dtrain, iteration=i, fobj=obj)\n"
     ]
    },
    {
     "name": "stdout",
     "output_type": "stream",
     "text": [
      "[CV 1/5] END colsample_bylevel=0.7, colsample_bytree=0.8, gamma=0.05, learning_rate=0.15, max_depth=12, min_child_weight=1, n_estimators=1000, reg_alpha=0.5, reg_lambda=0.1, scale_pos_weight=1.1, subsample=1.0;, score=0.593 total time=   0.5s\n",
      "[CV 2/5] END colsample_bylevel=0.7, colsample_bytree=0.8, gamma=0.05, learning_rate=0.15, max_depth=12, min_child_weight=1, n_estimators=1000, reg_alpha=0.5, reg_lambda=0.1, scale_pos_weight=1.1, subsample=1.0;, score=0.612 total time=   0.5s\n",
      "[CV 3/5] END colsample_bylevel=0.7, colsample_bytree=0.8, gamma=0.05, learning_rate=0.15, max_depth=12, min_child_weight=1, n_estimators=1000, reg_alpha=0.5, reg_lambda=0.1, scale_pos_weight=1.1, subsample=1.0;, score=0.499 total time=   0.5s\n",
      "[CV 4/5] END colsample_bylevel=0.7, colsample_bytree=0.8, gamma=0.05, learning_rate=0.15, max_depth=12, min_child_weight=1, n_estimators=1000, reg_alpha=0.5, reg_lambda=0.1, scale_pos_weight=1.1, subsample=1.0;, score=0.588 total time=   0.5s\n"
     ]
    },
    {
     "name": "stderr",
     "output_type": "stream",
     "text": [
      "/Users/gab/Desktop/school/hec_w25/python/projet/.venv/lib/python3.11/site-packages/xgboost/training.py:183: UserWarning: [16:34:01] WARNING: /Users/runner/work/xgboost/xgboost/src/learner.cc:738: \n",
      "Parameters: { \"use_label_encoder\" } are not used.\n",
      "\n",
      "  bst.update(dtrain, iteration=i, fobj=obj)\n",
      "/Users/gab/Desktop/school/hec_w25/python/projet/.venv/lib/python3.11/site-packages/xgboost/training.py:183: UserWarning: [16:34:01] WARNING: /Users/runner/work/xgboost/xgboost/src/learner.cc:738: \n",
      "Parameters: { \"use_label_encoder\" } are not used.\n",
      "\n",
      "  bst.update(dtrain, iteration=i, fobj=obj)\n",
      "/Users/gab/Desktop/school/hec_w25/python/projet/.venv/lib/python3.11/site-packages/xgboost/training.py:183: UserWarning: [16:34:01] WARNING: /Users/runner/work/xgboost/xgboost/src/learner.cc:738: \n",
      "Parameters: { \"use_label_encoder\" } are not used.\n",
      "\n",
      "  bst.update(dtrain, iteration=i, fobj=obj)\n",
      "/Users/gab/Desktop/school/hec_w25/python/projet/.venv/lib/python3.11/site-packages/xgboost/training.py:183: UserWarning: [16:34:01] WARNING: /Users/runner/work/xgboost/xgboost/src/learner.cc:738: \n",
      "Parameters: { \"use_label_encoder\" } are not used.\n",
      "\n",
      "  bst.update(dtrain, iteration=i, fobj=obj)\n"
     ]
    },
    {
     "name": "stdout",
     "output_type": "stream",
     "text": [
      "[CV 5/5] END colsample_bylevel=0.7, colsample_bytree=0.8, gamma=0.05, learning_rate=0.15, max_depth=12, min_child_weight=1, n_estimators=1000, reg_alpha=0.5, reg_lambda=0.1, scale_pos_weight=1.1, subsample=1.0;, score=0.650 total time=   0.5s\n"
     ]
    },
    {
     "name": "stderr",
     "output_type": "stream",
     "text": [
      "/Users/gab/Desktop/school/hec_w25/python/projet/.venv/lib/python3.11/site-packages/xgboost/training.py:183: UserWarning: [16:34:01] WARNING: /Users/runner/work/xgboost/xgboost/src/learner.cc:738: \n",
      "Parameters: { \"use_label_encoder\" } are not used.\n",
      "\n",
      "  bst.update(dtrain, iteration=i, fobj=obj)\n"
     ]
    },
    {
     "name": "stdout",
     "output_type": "stream",
     "text": [
      "[CV 3/5] END colsample_bylevel=0.8, colsample_bytree=0.9, gamma=0.05, learning_rate=0.1, max_depth=8, min_child_weight=1, n_estimators=1000, reg_alpha=0.5, reg_lambda=5.0, scale_pos_weight=1.0, subsample=0.9;, score=0.527 total time=   1.1s\n",
      "[CV 1/5] END colsample_bylevel=0.9, colsample_bytree=0.9, gamma=0.1, learning_rate=0.15, max_depth=10, min_child_weight=5, n_estimators=1000, reg_alpha=0, reg_lambda=5.0, scale_pos_weight=1.0, subsample=0.7;, score=0.585 total time=   0.9s\n",
      "[CV 2/5] END colsample_bylevel=0.8, colsample_bytree=0.9, gamma=0.05, learning_rate=0.1, max_depth=8, min_child_weight=1, n_estimators=1000, reg_alpha=0.5, reg_lambda=5.0, scale_pos_weight=1.0, subsample=0.9;, score=0.608 total time=   1.2s\n",
      "[CV 1/5] END colsample_bylevel=0.8, colsample_bytree=0.9, gamma=0.05, learning_rate=0.1, max_depth=8, min_child_weight=1, n_estimators=1000, reg_alpha=0.5, reg_lambda=5.0, scale_pos_weight=1.0, subsample=0.9;, score=0.588 total time=   1.3s\n",
      "[CV 3/5] END colsample_bylevel=0.9, colsample_bytree=0.9, gamma=0.1, learning_rate=0.15, max_depth=10, min_child_weight=5, n_estimators=1000, reg_alpha=0, reg_lambda=5.0, scale_pos_weight=1.0, subsample=0.7;, score=0.534 total time=   0.9s\n"
     ]
    },
    {
     "name": "stderr",
     "output_type": "stream",
     "text": [
      "/Users/gab/Desktop/school/hec_w25/python/projet/.venv/lib/python3.11/site-packages/xgboost/training.py:183: UserWarning: [16:34:02] WARNING: /Users/runner/work/xgboost/xgboost/src/learner.cc:738: \n",
      "Parameters: { \"use_label_encoder\" } are not used.\n",
      "\n",
      "  bst.update(dtrain, iteration=i, fobj=obj)\n",
      "/Users/gab/Desktop/school/hec_w25/python/projet/.venv/lib/python3.11/site-packages/xgboost/training.py:183: UserWarning: [16:34:02] WARNING: /Users/runner/work/xgboost/xgboost/src/learner.cc:738: \n",
      "Parameters: { \"use_label_encoder\" } are not used.\n",
      "\n",
      "  bst.update(dtrain, iteration=i, fobj=obj)\n",
      "/Users/gab/Desktop/school/hec_w25/python/projet/.venv/lib/python3.11/site-packages/xgboost/training.py:183: UserWarning: [16:34:02] WARNING: /Users/runner/work/xgboost/xgboost/src/learner.cc:738: \n",
      "Parameters: { \"use_label_encoder\" } are not used.\n",
      "\n",
      "  bst.update(dtrain, iteration=i, fobj=obj)\n",
      "/Users/gab/Desktop/school/hec_w25/python/projet/.venv/lib/python3.11/site-packages/xgboost/training.py:183: UserWarning: [16:34:02] WARNING: /Users/runner/work/xgboost/xgboost/src/learner.cc:738: \n",
      "Parameters: { \"use_label_encoder\" } are not used.\n",
      "\n",
      "  bst.update(dtrain, iteration=i, fobj=obj)\n",
      "/Users/gab/Desktop/school/hec_w25/python/projet/.venv/lib/python3.11/site-packages/xgboost/training.py:183: UserWarning: [16:34:02] WARNING: /Users/runner/work/xgboost/xgboost/src/learner.cc:738: \n",
      "Parameters: { \"use_label_encoder\" } are not used.\n",
      "\n",
      "  bst.update(dtrain, iteration=i, fobj=obj)\n",
      "/Users/gab/Desktop/school/hec_w25/python/projet/.venv/lib/python3.11/site-packages/xgboost/training.py:183: UserWarning: [16:34:02] WARNING: /Users/runner/work/xgboost/xgboost/src/learner.cc:738: \n",
      "Parameters: { \"use_label_encoder\" } are not used.\n",
      "\n",
      "  bst.update(dtrain, iteration=i, fobj=obj)\n",
      "/Users/gab/Desktop/school/hec_w25/python/projet/.venv/lib/python3.11/site-packages/xgboost/training.py:183: UserWarning: [16:34:02] WARNING: /Users/runner/work/xgboost/xgboost/src/learner.cc:738: \n",
      "Parameters: { \"use_label_encoder\" } are not used.\n",
      "\n",
      "  bst.update(dtrain, iteration=i, fobj=obj)\n"
     ]
    },
    {
     "name": "stdout",
     "output_type": "stream",
     "text": [
      "[CV 2/5] END colsample_bylevel=0.9, colsample_bytree=0.9, gamma=0.1, learning_rate=0.15, max_depth=10, min_child_weight=5, n_estimators=1000, reg_alpha=0, reg_lambda=5.0, scale_pos_weight=1.0, subsample=0.7;, score=0.610 total time=   1.0s\n",
      "[CV 4/5] END colsample_bylevel=0.8, colsample_bytree=0.9, gamma=0.05, learning_rate=0.1, max_depth=8, min_child_weight=1, n_estimators=1000, reg_alpha=0.5, reg_lambda=5.0, scale_pos_weight=1.0, subsample=0.9;, score=0.585 total time=   1.3s\n",
      "[CV 5/5] END colsample_bylevel=0.8, colsample_bytree=0.9, gamma=0.05, learning_rate=0.1, max_depth=8, min_child_weight=1, n_estimators=1000, reg_alpha=0.5, reg_lambda=5.0, scale_pos_weight=1.0, subsample=0.9;, score=0.637 total time=   1.4s\n"
     ]
    },
    {
     "name": "stderr",
     "output_type": "stream",
     "text": [
      "/Users/gab/Desktop/school/hec_w25/python/projet/.venv/lib/python3.11/site-packages/xgboost/training.py:183: UserWarning: [16:34:02] WARNING: /Users/runner/work/xgboost/xgboost/src/learner.cc:738: \n",
      "Parameters: { \"use_label_encoder\" } are not used.\n",
      "\n",
      "  bst.update(dtrain, iteration=i, fobj=obj)\n"
     ]
    },
    {
     "name": "stdout",
     "output_type": "stream",
     "text": [
      "[CV 1/5] END colsample_bylevel=0.7, colsample_bytree=0.9, gamma=0, learning_rate=0.1, max_depth=4, min_child_weight=1, n_estimators=1000, reg_alpha=0.1, reg_lambda=10.0, scale_pos_weight=1.2, subsample=0.9;, score=0.597 total time=   0.6s\n",
      "[CV 2/5] END colsample_bylevel=0.7, colsample_bytree=0.9, gamma=0, learning_rate=0.1, max_depth=4, min_child_weight=1, n_estimators=1000, reg_alpha=0.1, reg_lambda=10.0, scale_pos_weight=1.2, subsample=0.9;, score=0.611 total time=   0.6s\n",
      "[CV 4/5] END colsample_bylevel=0.9, colsample_bytree=0.9, gamma=0.1, learning_rate=0.15, max_depth=10, min_child_weight=5, n_estimators=1000, reg_alpha=0, reg_lambda=5.0, scale_pos_weight=1.0, subsample=0.7;, score=0.605 total time=   0.9s\n"
     ]
    },
    {
     "name": "stderr",
     "output_type": "stream",
     "text": [
      "/Users/gab/Desktop/school/hec_w25/python/projet/.venv/lib/python3.11/site-packages/xgboost/training.py:183: UserWarning: [16:34:03] WARNING: /Users/runner/work/xgboost/xgboost/src/learner.cc:738: \n",
      "Parameters: { \"use_label_encoder\" } are not used.\n",
      "\n",
      "  bst.update(dtrain, iteration=i, fobj=obj)\n",
      "/Users/gab/Desktop/school/hec_w25/python/projet/.venv/lib/python3.11/site-packages/xgboost/training.py:183: UserWarning: [16:34:03] WARNING: /Users/runner/work/xgboost/xgboost/src/learner.cc:738: \n",
      "Parameters: { \"use_label_encoder\" } are not used.\n",
      "\n",
      "  bst.update(dtrain, iteration=i, fobj=obj)\n",
      "/Users/gab/Desktop/school/hec_w25/python/projet/.venv/lib/python3.11/site-packages/xgboost/training.py:183: UserWarning: [16:34:03] WARNING: /Users/runner/work/xgboost/xgboost/src/learner.cc:738: \n",
      "Parameters: { \"use_label_encoder\" } are not used.\n",
      "\n",
      "  bst.update(dtrain, iteration=i, fobj=obj)\n"
     ]
    },
    {
     "name": "stdout",
     "output_type": "stream",
     "text": [
      "[CV 3/5] END colsample_bylevel=0.7, colsample_bytree=0.9, gamma=0, learning_rate=0.1, max_depth=4, min_child_weight=1, n_estimators=1000, reg_alpha=0.1, reg_lambda=10.0, scale_pos_weight=1.2, subsample=0.9;, score=0.518 total time=   0.7s\n",
      "[CV 5/5] END colsample_bylevel=0.9, colsample_bytree=0.9, gamma=0.1, learning_rate=0.15, max_depth=10, min_child_weight=5, n_estimators=1000, reg_alpha=0, reg_lambda=5.0, scale_pos_weight=1.0, subsample=0.7;, score=0.612 total time=   0.9s\n",
      "[CV 4/5] END colsample_bylevel=0.7, colsample_bytree=0.9, gamma=0, learning_rate=0.1, max_depth=4, min_child_weight=1, n_estimators=1000, reg_alpha=0.1, reg_lambda=10.0, scale_pos_weight=1.2, subsample=0.9;, score=0.580 total time=   0.7s\n",
      "[CV 5/5] END colsample_bylevel=0.7, colsample_bytree=0.9, gamma=0, learning_rate=0.1, max_depth=4, min_child_weight=1, n_estimators=1000, reg_alpha=0.1, reg_lambda=10.0, scale_pos_weight=1.2, subsample=0.9;, score=0.632 total time=   0.6s\n"
     ]
    },
    {
     "name": "stderr",
     "output_type": "stream",
     "text": [
      "/Users/gab/Desktop/school/hec_w25/python/projet/.venv/lib/python3.11/site-packages/xgboost/training.py:183: UserWarning: [16:34:03] WARNING: /Users/runner/work/xgboost/xgboost/src/learner.cc:738: \n",
      "Parameters: { \"use_label_encoder\" } are not used.\n",
      "\n",
      "  bst.update(dtrain, iteration=i, fobj=obj)\n",
      "/Users/gab/Desktop/school/hec_w25/python/projet/.venv/lib/python3.11/site-packages/xgboost/training.py:183: UserWarning: [16:34:03] WARNING: /Users/runner/work/xgboost/xgboost/src/learner.cc:738: \n",
      "Parameters: { \"use_label_encoder\" } are not used.\n",
      "\n",
      "  bst.update(dtrain, iteration=i, fobj=obj)\n",
      "/Users/gab/Desktop/school/hec_w25/python/projet/.venv/lib/python3.11/site-packages/xgboost/training.py:183: UserWarning: [16:34:03] WARNING: /Users/runner/work/xgboost/xgboost/src/learner.cc:738: \n",
      "Parameters: { \"use_label_encoder\" } are not used.\n",
      "\n",
      "  bst.update(dtrain, iteration=i, fobj=obj)\n",
      "/Users/gab/Desktop/school/hec_w25/python/projet/.venv/lib/python3.11/site-packages/xgboost/training.py:183: UserWarning: [16:34:03] WARNING: /Users/runner/work/xgboost/xgboost/src/learner.cc:738: \n",
      "Parameters: { \"use_label_encoder\" } are not used.\n",
      "\n",
      "  bst.update(dtrain, iteration=i, fobj=obj)\n"
     ]
    },
    {
     "name": "stdout",
     "output_type": "stream",
     "text": [
      "[CV 1/5] END colsample_bylevel=0.8, colsample_bytree=0.7, gamma=0.1, learning_rate=0.1, max_depth=4, min_child_weight=7, n_estimators=500, reg_alpha=0, reg_lambda=1.0, scale_pos_weight=1.2, subsample=1.0;, score=0.602 total time=   0.3s\n",
      "[CV 3/5] END colsample_bylevel=0.8, colsample_bytree=0.7, gamma=0.1, learning_rate=0.1, max_depth=4, min_child_weight=7, n_estimators=500, reg_alpha=0, reg_lambda=1.0, scale_pos_weight=1.2, subsample=1.0;, score=0.515 total time=   0.2s\n",
      "[CV 2/5] END colsample_bylevel=0.8, colsample_bytree=0.7, gamma=0.1, learning_rate=0.1, max_depth=4, min_child_weight=7, n_estimators=500, reg_alpha=0, reg_lambda=1.0, scale_pos_weight=1.2, subsample=1.0;, score=0.599 total time=   0.3s\n"
     ]
    },
    {
     "name": "stderr",
     "output_type": "stream",
     "text": [
      "/Users/gab/Desktop/school/hec_w25/python/projet/.venv/lib/python3.11/site-packages/xgboost/training.py:183: UserWarning: [16:34:03] WARNING: /Users/runner/work/xgboost/xgboost/src/learner.cc:738: \n",
      "Parameters: { \"use_label_encoder\" } are not used.\n",
      "\n",
      "  bst.update(dtrain, iteration=i, fobj=obj)\n",
      "/Users/gab/Desktop/school/hec_w25/python/projet/.venv/lib/python3.11/site-packages/xgboost/training.py:183: UserWarning: [16:34:03] WARNING: /Users/runner/work/xgboost/xgboost/src/learner.cc:738: \n",
      "Parameters: { \"use_label_encoder\" } are not used.\n",
      "\n",
      "  bst.update(dtrain, iteration=i, fobj=obj)\n"
     ]
    },
    {
     "name": "stdout",
     "output_type": "stream",
     "text": [
      "[CV 2/5] END colsample_bylevel=0.7, colsample_bytree=0.9, gamma=0.05, learning_rate=0.1, max_depth=12, min_child_weight=7, n_estimators=1000, reg_alpha=1.0, reg_lambda=5.0, scale_pos_weight=1.2, subsample=0.8;, score=0.622 total time=   0.7s\n",
      "[CV 1/5] END colsample_bylevel=0.7, colsample_bytree=0.9, gamma=0.05, learning_rate=0.1, max_depth=12, min_child_weight=7, n_estimators=1000, reg_alpha=1.0, reg_lambda=5.0, scale_pos_weight=1.2, subsample=0.8;, score=0.579 total time=   1.0s\n",
      "[CV 4/5] END colsample_bylevel=0.8, colsample_bytree=0.7, gamma=0.1, learning_rate=0.1, max_depth=4, min_child_weight=7, n_estimators=500, reg_alpha=0, reg_lambda=1.0, scale_pos_weight=1.2, subsample=1.0;, score=0.575 total time=   0.2s\n",
      "[CV 5/5] END colsample_bylevel=0.8, colsample_bytree=0.7, gamma=0.1, learning_rate=0.1, max_depth=4, min_child_weight=7, n_estimators=500, reg_alpha=0, reg_lambda=1.0, scale_pos_weight=1.2, subsample=1.0;, score=0.631 total time=   0.2s\n",
      "[CV 3/5] END colsample_bylevel=0.7, colsample_bytree=0.9, gamma=0.05, learning_rate=0.1, max_depth=12, min_child_weight=7, n_estimators=1000, reg_alpha=1.0, reg_lambda=5.0, scale_pos_weight=1.2, subsample=0.8;, score=0.535 total time=   0.9s\n",
      "[CV 4/5] END colsample_bylevel=0.7, colsample_bytree=0.9, gamma=0.05, learning_rate=0.1, max_depth=12, min_child_weight=7, n_estimators=1000, reg_alpha=1.0, reg_lambda=5.0, scale_pos_weight=1.2, subsample=0.8;, score=0.598 total time=   0.8s\n",
      "[CV 5/5] END colsample_bylevel=0.7, colsample_bytree=0.9, gamma=0.05, learning_rate=0.1, max_depth=12, min_child_weight=7, n_estimators=1000, reg_alpha=1.0, reg_lambda=5.0, scale_pos_weight=1.2, subsample=0.8;, score=0.622 total time=   0.8s\n"
     ]
    },
    {
     "name": "stderr",
     "output_type": "stream",
     "text": [
      "/Users/gab/Desktop/school/hec_w25/python/projet/.venv/lib/python3.11/site-packages/xgboost/training.py:183: UserWarning: [16:34:04] WARNING: /Users/runner/work/xgboost/xgboost/src/learner.cc:738: \n",
      "Parameters: { \"use_label_encoder\" } are not used.\n",
      "\n",
      "  bst.update(dtrain, iteration=i, fobj=obj)\n"
     ]
    },
    {
     "data": {
      "text/html": [
       "<style>#sk-container-id-3 {\n",
       "  /* Definition of color scheme common for light and dark mode */\n",
       "  --sklearn-color-text: #000;\n",
       "  --sklearn-color-text-muted: #666;\n",
       "  --sklearn-color-line: gray;\n",
       "  /* Definition of color scheme for unfitted estimators */\n",
       "  --sklearn-color-unfitted-level-0: #fff5e6;\n",
       "  --sklearn-color-unfitted-level-1: #f6e4d2;\n",
       "  --sklearn-color-unfitted-level-2: #ffe0b3;\n",
       "  --sklearn-color-unfitted-level-3: chocolate;\n",
       "  /* Definition of color scheme for fitted estimators */\n",
       "  --sklearn-color-fitted-level-0: #f0f8ff;\n",
       "  --sklearn-color-fitted-level-1: #d4ebff;\n",
       "  --sklearn-color-fitted-level-2: #b3dbfd;\n",
       "  --sklearn-color-fitted-level-3: cornflowerblue;\n",
       "\n",
       "  /* Specific color for light theme */\n",
       "  --sklearn-color-text-on-default-background: var(--sg-text-color, var(--theme-code-foreground, var(--jp-content-font-color1, black)));\n",
       "  --sklearn-color-background: var(--sg-background-color, var(--theme-background, var(--jp-layout-color0, white)));\n",
       "  --sklearn-color-border-box: var(--sg-text-color, var(--theme-code-foreground, var(--jp-content-font-color1, black)));\n",
       "  --sklearn-color-icon: #696969;\n",
       "\n",
       "  @media (prefers-color-scheme: dark) {\n",
       "    /* Redefinition of color scheme for dark theme */\n",
       "    --sklearn-color-text-on-default-background: var(--sg-text-color, var(--theme-code-foreground, var(--jp-content-font-color1, white)));\n",
       "    --sklearn-color-background: var(--sg-background-color, var(--theme-background, var(--jp-layout-color0, #111)));\n",
       "    --sklearn-color-border-box: var(--sg-text-color, var(--theme-code-foreground, var(--jp-content-font-color1, white)));\n",
       "    --sklearn-color-icon: #878787;\n",
       "  }\n",
       "}\n",
       "\n",
       "#sk-container-id-3 {\n",
       "  color: var(--sklearn-color-text);\n",
       "}\n",
       "\n",
       "#sk-container-id-3 pre {\n",
       "  padding: 0;\n",
       "}\n",
       "\n",
       "#sk-container-id-3 input.sk-hidden--visually {\n",
       "  border: 0;\n",
       "  clip: rect(1px 1px 1px 1px);\n",
       "  clip: rect(1px, 1px, 1px, 1px);\n",
       "  height: 1px;\n",
       "  margin: -1px;\n",
       "  overflow: hidden;\n",
       "  padding: 0;\n",
       "  position: absolute;\n",
       "  width: 1px;\n",
       "}\n",
       "\n",
       "#sk-container-id-3 div.sk-dashed-wrapped {\n",
       "  border: 1px dashed var(--sklearn-color-line);\n",
       "  margin: 0 0.4em 0.5em 0.4em;\n",
       "  box-sizing: border-box;\n",
       "  padding-bottom: 0.4em;\n",
       "  background-color: var(--sklearn-color-background);\n",
       "}\n",
       "\n",
       "#sk-container-id-3 div.sk-container {\n",
       "  /* jupyter's `normalize.less` sets `[hidden] { display: none; }`\n",
       "     but bootstrap.min.css set `[hidden] { display: none !important; }`\n",
       "     so we also need the `!important` here to be able to override the\n",
       "     default hidden behavior on the sphinx rendered scikit-learn.org.\n",
       "     See: https://github.com/scikit-learn/scikit-learn/issues/21755 */\n",
       "  display: inline-block !important;\n",
       "  position: relative;\n",
       "}\n",
       "\n",
       "#sk-container-id-3 div.sk-text-repr-fallback {\n",
       "  display: none;\n",
       "}\n",
       "\n",
       "div.sk-parallel-item,\n",
       "div.sk-serial,\n",
       "div.sk-item {\n",
       "  /* draw centered vertical line to link estimators */\n",
       "  background-image: linear-gradient(var(--sklearn-color-text-on-default-background), var(--sklearn-color-text-on-default-background));\n",
       "  background-size: 2px 100%;\n",
       "  background-repeat: no-repeat;\n",
       "  background-position: center center;\n",
       "}\n",
       "\n",
       "/* Parallel-specific style estimator block */\n",
       "\n",
       "#sk-container-id-3 div.sk-parallel-item::after {\n",
       "  content: \"\";\n",
       "  width: 100%;\n",
       "  border-bottom: 2px solid var(--sklearn-color-text-on-default-background);\n",
       "  flex-grow: 1;\n",
       "}\n",
       "\n",
       "#sk-container-id-3 div.sk-parallel {\n",
       "  display: flex;\n",
       "  align-items: stretch;\n",
       "  justify-content: center;\n",
       "  background-color: var(--sklearn-color-background);\n",
       "  position: relative;\n",
       "}\n",
       "\n",
       "#sk-container-id-3 div.sk-parallel-item {\n",
       "  display: flex;\n",
       "  flex-direction: column;\n",
       "}\n",
       "\n",
       "#sk-container-id-3 div.sk-parallel-item:first-child::after {\n",
       "  align-self: flex-end;\n",
       "  width: 50%;\n",
       "}\n",
       "\n",
       "#sk-container-id-3 div.sk-parallel-item:last-child::after {\n",
       "  align-self: flex-start;\n",
       "  width: 50%;\n",
       "}\n",
       "\n",
       "#sk-container-id-3 div.sk-parallel-item:only-child::after {\n",
       "  width: 0;\n",
       "}\n",
       "\n",
       "/* Serial-specific style estimator block */\n",
       "\n",
       "#sk-container-id-3 div.sk-serial {\n",
       "  display: flex;\n",
       "  flex-direction: column;\n",
       "  align-items: center;\n",
       "  background-color: var(--sklearn-color-background);\n",
       "  padding-right: 1em;\n",
       "  padding-left: 1em;\n",
       "}\n",
       "\n",
       "\n",
       "/* Toggleable style: style used for estimator/Pipeline/ColumnTransformer box that is\n",
       "clickable and can be expanded/collapsed.\n",
       "- Pipeline and ColumnTransformer use this feature and define the default style\n",
       "- Estimators will overwrite some part of the style using the `sk-estimator` class\n",
       "*/\n",
       "\n",
       "/* Pipeline and ColumnTransformer style (default) */\n",
       "\n",
       "#sk-container-id-3 div.sk-toggleable {\n",
       "  /* Default theme specific background. It is overwritten whether we have a\n",
       "  specific estimator or a Pipeline/ColumnTransformer */\n",
       "  background-color: var(--sklearn-color-background);\n",
       "}\n",
       "\n",
       "/* Toggleable label */\n",
       "#sk-container-id-3 label.sk-toggleable__label {\n",
       "  cursor: pointer;\n",
       "  display: flex;\n",
       "  width: 100%;\n",
       "  margin-bottom: 0;\n",
       "  padding: 0.5em;\n",
       "  box-sizing: border-box;\n",
       "  text-align: center;\n",
       "  align-items: start;\n",
       "  justify-content: space-between;\n",
       "  gap: 0.5em;\n",
       "}\n",
       "\n",
       "#sk-container-id-3 label.sk-toggleable__label .caption {\n",
       "  font-size: 0.6rem;\n",
       "  font-weight: lighter;\n",
       "  color: var(--sklearn-color-text-muted);\n",
       "}\n",
       "\n",
       "#sk-container-id-3 label.sk-toggleable__label-arrow:before {\n",
       "  /* Arrow on the left of the label */\n",
       "  content: \"▸\";\n",
       "  float: left;\n",
       "  margin-right: 0.25em;\n",
       "  color: var(--sklearn-color-icon);\n",
       "}\n",
       "\n",
       "#sk-container-id-3 label.sk-toggleable__label-arrow:hover:before {\n",
       "  color: var(--sklearn-color-text);\n",
       "}\n",
       "\n",
       "/* Toggleable content - dropdown */\n",
       "\n",
       "#sk-container-id-3 div.sk-toggleable__content {\n",
       "  max-height: 0;\n",
       "  max-width: 0;\n",
       "  overflow: hidden;\n",
       "  text-align: left;\n",
       "  /* unfitted */\n",
       "  background-color: var(--sklearn-color-unfitted-level-0);\n",
       "}\n",
       "\n",
       "#sk-container-id-3 div.sk-toggleable__content.fitted {\n",
       "  /* fitted */\n",
       "  background-color: var(--sklearn-color-fitted-level-0);\n",
       "}\n",
       "\n",
       "#sk-container-id-3 div.sk-toggleable__content pre {\n",
       "  margin: 0.2em;\n",
       "  border-radius: 0.25em;\n",
       "  color: var(--sklearn-color-text);\n",
       "  /* unfitted */\n",
       "  background-color: var(--sklearn-color-unfitted-level-0);\n",
       "}\n",
       "\n",
       "#sk-container-id-3 div.sk-toggleable__content.fitted pre {\n",
       "  /* unfitted */\n",
       "  background-color: var(--sklearn-color-fitted-level-0);\n",
       "}\n",
       "\n",
       "#sk-container-id-3 input.sk-toggleable__control:checked~div.sk-toggleable__content {\n",
       "  /* Expand drop-down */\n",
       "  max-height: 200px;\n",
       "  max-width: 100%;\n",
       "  overflow: auto;\n",
       "}\n",
       "\n",
       "#sk-container-id-3 input.sk-toggleable__control:checked~label.sk-toggleable__label-arrow:before {\n",
       "  content: \"▾\";\n",
       "}\n",
       "\n",
       "/* Pipeline/ColumnTransformer-specific style */\n",
       "\n",
       "#sk-container-id-3 div.sk-label input.sk-toggleable__control:checked~label.sk-toggleable__label {\n",
       "  color: var(--sklearn-color-text);\n",
       "  background-color: var(--sklearn-color-unfitted-level-2);\n",
       "}\n",
       "\n",
       "#sk-container-id-3 div.sk-label.fitted input.sk-toggleable__control:checked~label.sk-toggleable__label {\n",
       "  background-color: var(--sklearn-color-fitted-level-2);\n",
       "}\n",
       "\n",
       "/* Estimator-specific style */\n",
       "\n",
       "/* Colorize estimator box */\n",
       "#sk-container-id-3 div.sk-estimator input.sk-toggleable__control:checked~label.sk-toggleable__label {\n",
       "  /* unfitted */\n",
       "  background-color: var(--sklearn-color-unfitted-level-2);\n",
       "}\n",
       "\n",
       "#sk-container-id-3 div.sk-estimator.fitted input.sk-toggleable__control:checked~label.sk-toggleable__label {\n",
       "  /* fitted */\n",
       "  background-color: var(--sklearn-color-fitted-level-2);\n",
       "}\n",
       "\n",
       "#sk-container-id-3 div.sk-label label.sk-toggleable__label,\n",
       "#sk-container-id-3 div.sk-label label {\n",
       "  /* The background is the default theme color */\n",
       "  color: var(--sklearn-color-text-on-default-background);\n",
       "}\n",
       "\n",
       "/* On hover, darken the color of the background */\n",
       "#sk-container-id-3 div.sk-label:hover label.sk-toggleable__label {\n",
       "  color: var(--sklearn-color-text);\n",
       "  background-color: var(--sklearn-color-unfitted-level-2);\n",
       "}\n",
       "\n",
       "/* Label box, darken color on hover, fitted */\n",
       "#sk-container-id-3 div.sk-label.fitted:hover label.sk-toggleable__label.fitted {\n",
       "  color: var(--sklearn-color-text);\n",
       "  background-color: var(--sklearn-color-fitted-level-2);\n",
       "}\n",
       "\n",
       "/* Estimator label */\n",
       "\n",
       "#sk-container-id-3 div.sk-label label {\n",
       "  font-family: monospace;\n",
       "  font-weight: bold;\n",
       "  display: inline-block;\n",
       "  line-height: 1.2em;\n",
       "}\n",
       "\n",
       "#sk-container-id-3 div.sk-label-container {\n",
       "  text-align: center;\n",
       "}\n",
       "\n",
       "/* Estimator-specific */\n",
       "#sk-container-id-3 div.sk-estimator {\n",
       "  font-family: monospace;\n",
       "  border: 1px dotted var(--sklearn-color-border-box);\n",
       "  border-radius: 0.25em;\n",
       "  box-sizing: border-box;\n",
       "  margin-bottom: 0.5em;\n",
       "  /* unfitted */\n",
       "  background-color: var(--sklearn-color-unfitted-level-0);\n",
       "}\n",
       "\n",
       "#sk-container-id-3 div.sk-estimator.fitted {\n",
       "  /* fitted */\n",
       "  background-color: var(--sklearn-color-fitted-level-0);\n",
       "}\n",
       "\n",
       "/* on hover */\n",
       "#sk-container-id-3 div.sk-estimator:hover {\n",
       "  /* unfitted */\n",
       "  background-color: var(--sklearn-color-unfitted-level-2);\n",
       "}\n",
       "\n",
       "#sk-container-id-3 div.sk-estimator.fitted:hover {\n",
       "  /* fitted */\n",
       "  background-color: var(--sklearn-color-fitted-level-2);\n",
       "}\n",
       "\n",
       "/* Specification for estimator info (e.g. \"i\" and \"?\") */\n",
       "\n",
       "/* Common style for \"i\" and \"?\" */\n",
       "\n",
       ".sk-estimator-doc-link,\n",
       "a:link.sk-estimator-doc-link,\n",
       "a:visited.sk-estimator-doc-link {\n",
       "  float: right;\n",
       "  font-size: smaller;\n",
       "  line-height: 1em;\n",
       "  font-family: monospace;\n",
       "  background-color: var(--sklearn-color-background);\n",
       "  border-radius: 1em;\n",
       "  height: 1em;\n",
       "  width: 1em;\n",
       "  text-decoration: none !important;\n",
       "  margin-left: 0.5em;\n",
       "  text-align: center;\n",
       "  /* unfitted */\n",
       "  border: var(--sklearn-color-unfitted-level-1) 1pt solid;\n",
       "  color: var(--sklearn-color-unfitted-level-1);\n",
       "}\n",
       "\n",
       ".sk-estimator-doc-link.fitted,\n",
       "a:link.sk-estimator-doc-link.fitted,\n",
       "a:visited.sk-estimator-doc-link.fitted {\n",
       "  /* fitted */\n",
       "  border: var(--sklearn-color-fitted-level-1) 1pt solid;\n",
       "  color: var(--sklearn-color-fitted-level-1);\n",
       "}\n",
       "\n",
       "/* On hover */\n",
       "div.sk-estimator:hover .sk-estimator-doc-link:hover,\n",
       ".sk-estimator-doc-link:hover,\n",
       "div.sk-label-container:hover .sk-estimator-doc-link:hover,\n",
       ".sk-estimator-doc-link:hover {\n",
       "  /* unfitted */\n",
       "  background-color: var(--sklearn-color-unfitted-level-3);\n",
       "  color: var(--sklearn-color-background);\n",
       "  text-decoration: none;\n",
       "}\n",
       "\n",
       "div.sk-estimator.fitted:hover .sk-estimator-doc-link.fitted:hover,\n",
       ".sk-estimator-doc-link.fitted:hover,\n",
       "div.sk-label-container:hover .sk-estimator-doc-link.fitted:hover,\n",
       ".sk-estimator-doc-link.fitted:hover {\n",
       "  /* fitted */\n",
       "  background-color: var(--sklearn-color-fitted-level-3);\n",
       "  color: var(--sklearn-color-background);\n",
       "  text-decoration: none;\n",
       "}\n",
       "\n",
       "/* Span, style for the box shown on hovering the info icon */\n",
       ".sk-estimator-doc-link span {\n",
       "  display: none;\n",
       "  z-index: 9999;\n",
       "  position: relative;\n",
       "  font-weight: normal;\n",
       "  right: .2ex;\n",
       "  padding: .5ex;\n",
       "  margin: .5ex;\n",
       "  width: min-content;\n",
       "  min-width: 20ex;\n",
       "  max-width: 50ex;\n",
       "  color: var(--sklearn-color-text);\n",
       "  box-shadow: 2pt 2pt 4pt #999;\n",
       "  /* unfitted */\n",
       "  background: var(--sklearn-color-unfitted-level-0);\n",
       "  border: .5pt solid var(--sklearn-color-unfitted-level-3);\n",
       "}\n",
       "\n",
       ".sk-estimator-doc-link.fitted span {\n",
       "  /* fitted */\n",
       "  background: var(--sklearn-color-fitted-level-0);\n",
       "  border: var(--sklearn-color-fitted-level-3);\n",
       "}\n",
       "\n",
       ".sk-estimator-doc-link:hover span {\n",
       "  display: block;\n",
       "}\n",
       "\n",
       "/* \"?\"-specific style due to the `<a>` HTML tag */\n",
       "\n",
       "#sk-container-id-3 a.estimator_doc_link {\n",
       "  float: right;\n",
       "  font-size: 1rem;\n",
       "  line-height: 1em;\n",
       "  font-family: monospace;\n",
       "  background-color: var(--sklearn-color-background);\n",
       "  border-radius: 1rem;\n",
       "  height: 1rem;\n",
       "  width: 1rem;\n",
       "  text-decoration: none;\n",
       "  /* unfitted */\n",
       "  color: var(--sklearn-color-unfitted-level-1);\n",
       "  border: var(--sklearn-color-unfitted-level-1) 1pt solid;\n",
       "}\n",
       "\n",
       "#sk-container-id-3 a.estimator_doc_link.fitted {\n",
       "  /* fitted */\n",
       "  border: var(--sklearn-color-fitted-level-1) 1pt solid;\n",
       "  color: var(--sklearn-color-fitted-level-1);\n",
       "}\n",
       "\n",
       "/* On hover */\n",
       "#sk-container-id-3 a.estimator_doc_link:hover {\n",
       "  /* unfitted */\n",
       "  background-color: var(--sklearn-color-unfitted-level-3);\n",
       "  color: var(--sklearn-color-background);\n",
       "  text-decoration: none;\n",
       "}\n",
       "\n",
       "#sk-container-id-3 a.estimator_doc_link.fitted:hover {\n",
       "  /* fitted */\n",
       "  background-color: var(--sklearn-color-fitted-level-3);\n",
       "}\n",
       "</style><div id=\"sk-container-id-3\" class=\"sk-top-container\"><div class=\"sk-text-repr-fallback\"><pre>RandomizedSearchCV(cv=5,\n",
       "                   estimator=XGBClassifier(base_score=None, booster=None,\n",
       "                                           callbacks=None,\n",
       "                                           colsample_bylevel=None,\n",
       "                                           colsample_bynode=None,\n",
       "                                           colsample_bytree=None, device=None,\n",
       "                                           early_stopping_rounds=None,\n",
       "                                           enable_categorical=False,\n",
       "                                           eval_metric=&#x27;auc&#x27;,\n",
       "                                           feature_types=None,\n",
       "                                           feature_weights=None, gamma=None,\n",
       "                                           grow_policy=None,\n",
       "                                           importance_type=None,\n",
       "                                           interaction_constrai...\n",
       "                                        &#x27;colsample_bytree&#x27;: [0.5, 0.6, 0.7, 0.8,\n",
       "                                                             0.9],\n",
       "                                        &#x27;gamma&#x27;: [0, 0.05, 0.1, 0.2, 0.3],\n",
       "                                        &#x27;learning_rate&#x27;: [0.01, 0.03, 0.05, 0.1,\n",
       "                                                          0.15],\n",
       "                                        &#x27;max_depth&#x27;: [4, 6, 8, 10, 12],\n",
       "                                        &#x27;min_child_weight&#x27;: [1, 3, 5, 7],\n",
       "                                        &#x27;n_estimators&#x27;: [500, 1000, 1500, 2000],\n",
       "                                        &#x27;reg_alpha&#x27;: [0, 0.1, 0.5, 1.0],\n",
       "                                        &#x27;reg_lambda&#x27;: [0.1, 1.0, 5.0, 10.0],\n",
       "                                        &#x27;scale_pos_weight&#x27;: [1.0, 1.1, 1.2,\n",
       "                                                             1.225],\n",
       "                                        &#x27;subsample&#x27;: [0.7, 0.8, 0.9, 1.0]},\n",
       "                   random_state=42, scoring=&#x27;roc_auc&#x27;, verbose=3)</pre><b>In a Jupyter environment, please rerun this cell to show the HTML representation or trust the notebook. <br />On GitHub, the HTML representation is unable to render, please try loading this page with nbviewer.org.</b></div><div class=\"sk-container\" hidden><div class=\"sk-item sk-dashed-wrapped\"><div class=\"sk-label-container\"><div class=\"sk-label fitted sk-toggleable\"><input class=\"sk-toggleable__control sk-hidden--visually\" id=\"sk-estimator-id-5\" type=\"checkbox\" ><label for=\"sk-estimator-id-5\" class=\"sk-toggleable__label fitted sk-toggleable__label-arrow\"><div><div>RandomizedSearchCV</div></div><div><a class=\"sk-estimator-doc-link fitted\" rel=\"noreferrer\" target=\"_blank\" href=\"https://scikit-learn.org/1.6/modules/generated/sklearn.model_selection.RandomizedSearchCV.html\">?<span>Documentation for RandomizedSearchCV</span></a><span class=\"sk-estimator-doc-link fitted\">i<span>Fitted</span></span></div></label><div class=\"sk-toggleable__content fitted\"><pre>RandomizedSearchCV(cv=5,\n",
       "                   estimator=XGBClassifier(base_score=None, booster=None,\n",
       "                                           callbacks=None,\n",
       "                                           colsample_bylevel=None,\n",
       "                                           colsample_bynode=None,\n",
       "                                           colsample_bytree=None, device=None,\n",
       "                                           early_stopping_rounds=None,\n",
       "                                           enable_categorical=False,\n",
       "                                           eval_metric=&#x27;auc&#x27;,\n",
       "                                           feature_types=None,\n",
       "                                           feature_weights=None, gamma=None,\n",
       "                                           grow_policy=None,\n",
       "                                           importance_type=None,\n",
       "                                           interaction_constrai...\n",
       "                                        &#x27;colsample_bytree&#x27;: [0.5, 0.6, 0.7, 0.8,\n",
       "                                                             0.9],\n",
       "                                        &#x27;gamma&#x27;: [0, 0.05, 0.1, 0.2, 0.3],\n",
       "                                        &#x27;learning_rate&#x27;: [0.01, 0.03, 0.05, 0.1,\n",
       "                                                          0.15],\n",
       "                                        &#x27;max_depth&#x27;: [4, 6, 8, 10, 12],\n",
       "                                        &#x27;min_child_weight&#x27;: [1, 3, 5, 7],\n",
       "                                        &#x27;n_estimators&#x27;: [500, 1000, 1500, 2000],\n",
       "                                        &#x27;reg_alpha&#x27;: [0, 0.1, 0.5, 1.0],\n",
       "                                        &#x27;reg_lambda&#x27;: [0.1, 1.0, 5.0, 10.0],\n",
       "                                        &#x27;scale_pos_weight&#x27;: [1.0, 1.1, 1.2,\n",
       "                                                             1.225],\n",
       "                                        &#x27;subsample&#x27;: [0.7, 0.8, 0.9, 1.0]},\n",
       "                   random_state=42, scoring=&#x27;roc_auc&#x27;, verbose=3)</pre></div> </div></div><div class=\"sk-parallel\"><div class=\"sk-parallel-item\"><div class=\"sk-item\"><div class=\"sk-label-container\"><div class=\"sk-label fitted sk-toggleable\"><input class=\"sk-toggleable__control sk-hidden--visually\" id=\"sk-estimator-id-6\" type=\"checkbox\" ><label for=\"sk-estimator-id-6\" class=\"sk-toggleable__label fitted sk-toggleable__label-arrow\"><div><div>best_estimator_: XGBClassifier</div></div></label><div class=\"sk-toggleable__content fitted\"><pre>XGBClassifier(base_score=None, booster=None, callbacks=None,\n",
       "              colsample_bylevel=0.8, colsample_bynode=None,\n",
       "              colsample_bytree=0.8, device=None, early_stopping_rounds=None,\n",
       "              enable_categorical=False, eval_metric=&#x27;auc&#x27;, feature_types=None,\n",
       "              feature_weights=None, gamma=0.1, grow_policy=None,\n",
       "              importance_type=None, interaction_constraints=None,\n",
       "              learning_rate=0.01, max_bin=None, max_cat_threshold=None,\n",
       "              max_cat_to_onehot=None, max_delta_step=None, max_depth=4,\n",
       "              max_leaves=None, min_child_weight=7, missing=nan,\n",
       "              monotone_constraints=None, multi_strategy=None, n_estimators=1500,\n",
       "              n_jobs=None, num_parallel_tree=None, ...)</pre></div> </div></div><div class=\"sk-serial\"><div class=\"sk-item\"><div class=\"sk-estimator fitted sk-toggleable\"><input class=\"sk-toggleable__control sk-hidden--visually\" id=\"sk-estimator-id-7\" type=\"checkbox\" ><label for=\"sk-estimator-id-7\" class=\"sk-toggleable__label fitted sk-toggleable__label-arrow\"><div><div>XGBClassifier</div></div><div><a class=\"sk-estimator-doc-link fitted\" rel=\"noreferrer\" target=\"_blank\" href=\"https://xgboost.readthedocs.io/en/release_3.0.0/python/python_api.html#xgboost.XGBClassifier\">?<span>Documentation for XGBClassifier</span></a></div></label><div class=\"sk-toggleable__content fitted\"><pre>XGBClassifier(base_score=None, booster=None, callbacks=None,\n",
       "              colsample_bylevel=0.8, colsample_bynode=None,\n",
       "              colsample_bytree=0.8, device=None, early_stopping_rounds=None,\n",
       "              enable_categorical=False, eval_metric=&#x27;auc&#x27;, feature_types=None,\n",
       "              feature_weights=None, gamma=0.1, grow_policy=None,\n",
       "              importance_type=None, interaction_constraints=None,\n",
       "              learning_rate=0.01, max_bin=None, max_cat_threshold=None,\n",
       "              max_cat_to_onehot=None, max_delta_step=None, max_depth=4,\n",
       "              max_leaves=None, min_child_weight=7, missing=nan,\n",
       "              monotone_constraints=None, multi_strategy=None, n_estimators=1500,\n",
       "              n_jobs=None, num_parallel_tree=None, ...)</pre></div> </div></div></div></div></div></div></div></div></div>"
      ],
      "text/plain": [
       "RandomizedSearchCV(cv=5,\n",
       "                   estimator=XGBClassifier(base_score=None, booster=None,\n",
       "                                           callbacks=None,\n",
       "                                           colsample_bylevel=None,\n",
       "                                           colsample_bynode=None,\n",
       "                                           colsample_bytree=None, device=None,\n",
       "                                           early_stopping_rounds=None,\n",
       "                                           enable_categorical=False,\n",
       "                                           eval_metric='auc',\n",
       "                                           feature_types=None,\n",
       "                                           feature_weights=None, gamma=None,\n",
       "                                           grow_policy=None,\n",
       "                                           importance_type=None,\n",
       "                                           interaction_constrai...\n",
       "                                        'colsample_bytree': [0.5, 0.6, 0.7, 0.8,\n",
       "                                                             0.9],\n",
       "                                        'gamma': [0, 0.05, 0.1, 0.2, 0.3],\n",
       "                                        'learning_rate': [0.01, 0.03, 0.05, 0.1,\n",
       "                                                          0.15],\n",
       "                                        'max_depth': [4, 6, 8, 10, 12],\n",
       "                                        'min_child_weight': [1, 3, 5, 7],\n",
       "                                        'n_estimators': [500, 1000, 1500, 2000],\n",
       "                                        'reg_alpha': [0, 0.1, 0.5, 1.0],\n",
       "                                        'reg_lambda': [0.1, 1.0, 5.0, 10.0],\n",
       "                                        'scale_pos_weight': [1.0, 1.1, 1.2,\n",
       "                                                             1.225],\n",
       "                                        'subsample': [0.7, 0.8, 0.9, 1.0]},\n",
       "                   random_state=42, scoring='roc_auc', verbose=3)"
      ]
     },
     "execution_count": 74,
     "metadata": {},
     "output_type": "execute_result"
    }
   ],
   "source": [
    "# model = xgb.XGBClassifier(**fixed_params)\n",
    "\n",
    "# # Number of iterations - increase for better coverage\n",
    "# n_iter = 100\n",
    "\n",
    "# random_search = RandomizedSearchCV(\n",
    "#     model, \n",
    "#     param_distributions=param_distribution,\n",
    "#     n_iter=n_iter,\n",
    "#     scoring='roc_auc',  \n",
    "#     cv=5,               # 5-fold cross-validation\n",
    "#     verbose=3,\n",
    "#     random_state=42,\n",
    "#     n_jobs=-1           # Use all available cores\n",
    "# )\n",
    "\n",
    "# random_search.fit(X_train, y_train)"
   ]
  },
  {
   "cell_type": "markdown",
   "metadata": {},
   "source": [
    "Une fois le random search complété, on peut visualiser le score et les paramètres retenus avec `.best_score_` et `.best_params_`"
   ]
  },
  {
   "cell_type": "code",
   "execution_count": 135,
   "metadata": {},
   "outputs": [
    {
     "name": "stdout",
     "output_type": "stream",
     "text": [
      "Best score: 0.6153489930378215\n",
      "Best params: {'subsample': 0.7, 'scale_pos_weight': 1.225, 'reg_lambda': 10.0, 'reg_alpha': 0.5, 'n_estimators': 1500, 'min_child_weight': 7, 'max_depth': 4, 'learning_rate': 0.01, 'gamma': 0.1, 'colsample_bytree': 0.8, 'colsample_bylevel': 0.8}\n"
     ]
    }
   ],
   "source": [
    "print(f'Best score: {random_search.best_score_}')\n",
    "\n",
    "best_params = random_search.best_params_\n",
    "print(f'Best params: {best_params}')"
   ]
  },
  {
   "cell_type": "markdown",
   "metadata": {},
   "source": [
    "On est maintenant en mesure d'utiliser ces mêmes paramètres, maintenant adaptés à notre jeu de données pour notre modèle XGBoost. On store ces paramètres dans la fonction `best_params`"
   ]
  },
  {
   "cell_type": "markdown",
   "metadata": {},
   "source": [
    "### Entraîner le modèle XGBoost"
   ]
  },
  {
   "cell_type": "markdown",
   "metadata": {},
   "source": [
    "On spécifie maintenant les paramètres `best_params` du modèle `xgb_model` en précisant l'objectif d'optimisation qui dans ce cas est une tâche logitstique binaire puisqu'on souhaite prédire une variable cible étant soit $0$ ou $1$"
   ]
  },
  {
   "cell_type": "code",
   "execution_count": 132,
   "metadata": {},
   "outputs": [
    {
     "data": {
      "text/plain": [
       "{'subsample': 0.7,\n",
       " 'scale_pos_weight': 1.225,\n",
       " 'reg_lambda': 10.0,\n",
       " 'reg_alpha': 0.5,\n",
       " 'n_estimators': 1500,\n",
       " 'min_child_weight': 7,\n",
       " 'max_depth': 4,\n",
       " 'learning_rate': 0.01,\n",
       " 'gamma': 0.1,\n",
       " 'colsample_bytree': 0.8,\n",
       " 'colsample_bylevel': 0.8}"
      ]
     },
     "execution_count": 132,
     "metadata": {},
     "output_type": "execute_result"
    }
   ],
   "source": [
    "best_params"
   ]
  },
  {
   "cell_type": "code",
   "execution_count": 76,
   "metadata": {},
   "outputs": [],
   "source": [
    "xgb_model = xgb.XGBClassifier(**best_params, objective='binary:logistic')"
   ]
  },
  {
   "cell_type": "markdown",
   "metadata": {},
   "source": [
    "On peut lancer l'entraînement en spécifiant nos groupes de données d'entraînement à la fonction `.fit`"
   ]
  },
  {
   "cell_type": "code",
   "execution_count": 77,
   "metadata": {},
   "outputs": [
    {
     "data": {
      "text/html": [
       "<style>#sk-container-id-4 {\n",
       "  /* Definition of color scheme common for light and dark mode */\n",
       "  --sklearn-color-text: #000;\n",
       "  --sklearn-color-text-muted: #666;\n",
       "  --sklearn-color-line: gray;\n",
       "  /* Definition of color scheme for unfitted estimators */\n",
       "  --sklearn-color-unfitted-level-0: #fff5e6;\n",
       "  --sklearn-color-unfitted-level-1: #f6e4d2;\n",
       "  --sklearn-color-unfitted-level-2: #ffe0b3;\n",
       "  --sklearn-color-unfitted-level-3: chocolate;\n",
       "  /* Definition of color scheme for fitted estimators */\n",
       "  --sklearn-color-fitted-level-0: #f0f8ff;\n",
       "  --sklearn-color-fitted-level-1: #d4ebff;\n",
       "  --sklearn-color-fitted-level-2: #b3dbfd;\n",
       "  --sklearn-color-fitted-level-3: cornflowerblue;\n",
       "\n",
       "  /* Specific color for light theme */\n",
       "  --sklearn-color-text-on-default-background: var(--sg-text-color, var(--theme-code-foreground, var(--jp-content-font-color1, black)));\n",
       "  --sklearn-color-background: var(--sg-background-color, var(--theme-background, var(--jp-layout-color0, white)));\n",
       "  --sklearn-color-border-box: var(--sg-text-color, var(--theme-code-foreground, var(--jp-content-font-color1, black)));\n",
       "  --sklearn-color-icon: #696969;\n",
       "\n",
       "  @media (prefers-color-scheme: dark) {\n",
       "    /* Redefinition of color scheme for dark theme */\n",
       "    --sklearn-color-text-on-default-background: var(--sg-text-color, var(--theme-code-foreground, var(--jp-content-font-color1, white)));\n",
       "    --sklearn-color-background: var(--sg-background-color, var(--theme-background, var(--jp-layout-color0, #111)));\n",
       "    --sklearn-color-border-box: var(--sg-text-color, var(--theme-code-foreground, var(--jp-content-font-color1, white)));\n",
       "    --sklearn-color-icon: #878787;\n",
       "  }\n",
       "}\n",
       "\n",
       "#sk-container-id-4 {\n",
       "  color: var(--sklearn-color-text);\n",
       "}\n",
       "\n",
       "#sk-container-id-4 pre {\n",
       "  padding: 0;\n",
       "}\n",
       "\n",
       "#sk-container-id-4 input.sk-hidden--visually {\n",
       "  border: 0;\n",
       "  clip: rect(1px 1px 1px 1px);\n",
       "  clip: rect(1px, 1px, 1px, 1px);\n",
       "  height: 1px;\n",
       "  margin: -1px;\n",
       "  overflow: hidden;\n",
       "  padding: 0;\n",
       "  position: absolute;\n",
       "  width: 1px;\n",
       "}\n",
       "\n",
       "#sk-container-id-4 div.sk-dashed-wrapped {\n",
       "  border: 1px dashed var(--sklearn-color-line);\n",
       "  margin: 0 0.4em 0.5em 0.4em;\n",
       "  box-sizing: border-box;\n",
       "  padding-bottom: 0.4em;\n",
       "  background-color: var(--sklearn-color-background);\n",
       "}\n",
       "\n",
       "#sk-container-id-4 div.sk-container {\n",
       "  /* jupyter's `normalize.less` sets `[hidden] { display: none; }`\n",
       "     but bootstrap.min.css set `[hidden] { display: none !important; }`\n",
       "     so we also need the `!important` here to be able to override the\n",
       "     default hidden behavior on the sphinx rendered scikit-learn.org.\n",
       "     See: https://github.com/scikit-learn/scikit-learn/issues/21755 */\n",
       "  display: inline-block !important;\n",
       "  position: relative;\n",
       "}\n",
       "\n",
       "#sk-container-id-4 div.sk-text-repr-fallback {\n",
       "  display: none;\n",
       "}\n",
       "\n",
       "div.sk-parallel-item,\n",
       "div.sk-serial,\n",
       "div.sk-item {\n",
       "  /* draw centered vertical line to link estimators */\n",
       "  background-image: linear-gradient(var(--sklearn-color-text-on-default-background), var(--sklearn-color-text-on-default-background));\n",
       "  background-size: 2px 100%;\n",
       "  background-repeat: no-repeat;\n",
       "  background-position: center center;\n",
       "}\n",
       "\n",
       "/* Parallel-specific style estimator block */\n",
       "\n",
       "#sk-container-id-4 div.sk-parallel-item::after {\n",
       "  content: \"\";\n",
       "  width: 100%;\n",
       "  border-bottom: 2px solid var(--sklearn-color-text-on-default-background);\n",
       "  flex-grow: 1;\n",
       "}\n",
       "\n",
       "#sk-container-id-4 div.sk-parallel {\n",
       "  display: flex;\n",
       "  align-items: stretch;\n",
       "  justify-content: center;\n",
       "  background-color: var(--sklearn-color-background);\n",
       "  position: relative;\n",
       "}\n",
       "\n",
       "#sk-container-id-4 div.sk-parallel-item {\n",
       "  display: flex;\n",
       "  flex-direction: column;\n",
       "}\n",
       "\n",
       "#sk-container-id-4 div.sk-parallel-item:first-child::after {\n",
       "  align-self: flex-end;\n",
       "  width: 50%;\n",
       "}\n",
       "\n",
       "#sk-container-id-4 div.sk-parallel-item:last-child::after {\n",
       "  align-self: flex-start;\n",
       "  width: 50%;\n",
       "}\n",
       "\n",
       "#sk-container-id-4 div.sk-parallel-item:only-child::after {\n",
       "  width: 0;\n",
       "}\n",
       "\n",
       "/* Serial-specific style estimator block */\n",
       "\n",
       "#sk-container-id-4 div.sk-serial {\n",
       "  display: flex;\n",
       "  flex-direction: column;\n",
       "  align-items: center;\n",
       "  background-color: var(--sklearn-color-background);\n",
       "  padding-right: 1em;\n",
       "  padding-left: 1em;\n",
       "}\n",
       "\n",
       "\n",
       "/* Toggleable style: style used for estimator/Pipeline/ColumnTransformer box that is\n",
       "clickable and can be expanded/collapsed.\n",
       "- Pipeline and ColumnTransformer use this feature and define the default style\n",
       "- Estimators will overwrite some part of the style using the `sk-estimator` class\n",
       "*/\n",
       "\n",
       "/* Pipeline and ColumnTransformer style (default) */\n",
       "\n",
       "#sk-container-id-4 div.sk-toggleable {\n",
       "  /* Default theme specific background. It is overwritten whether we have a\n",
       "  specific estimator or a Pipeline/ColumnTransformer */\n",
       "  background-color: var(--sklearn-color-background);\n",
       "}\n",
       "\n",
       "/* Toggleable label */\n",
       "#sk-container-id-4 label.sk-toggleable__label {\n",
       "  cursor: pointer;\n",
       "  display: flex;\n",
       "  width: 100%;\n",
       "  margin-bottom: 0;\n",
       "  padding: 0.5em;\n",
       "  box-sizing: border-box;\n",
       "  text-align: center;\n",
       "  align-items: start;\n",
       "  justify-content: space-between;\n",
       "  gap: 0.5em;\n",
       "}\n",
       "\n",
       "#sk-container-id-4 label.sk-toggleable__label .caption {\n",
       "  font-size: 0.6rem;\n",
       "  font-weight: lighter;\n",
       "  color: var(--sklearn-color-text-muted);\n",
       "}\n",
       "\n",
       "#sk-container-id-4 label.sk-toggleable__label-arrow:before {\n",
       "  /* Arrow on the left of the label */\n",
       "  content: \"▸\";\n",
       "  float: left;\n",
       "  margin-right: 0.25em;\n",
       "  color: var(--sklearn-color-icon);\n",
       "}\n",
       "\n",
       "#sk-container-id-4 label.sk-toggleable__label-arrow:hover:before {\n",
       "  color: var(--sklearn-color-text);\n",
       "}\n",
       "\n",
       "/* Toggleable content - dropdown */\n",
       "\n",
       "#sk-container-id-4 div.sk-toggleable__content {\n",
       "  max-height: 0;\n",
       "  max-width: 0;\n",
       "  overflow: hidden;\n",
       "  text-align: left;\n",
       "  /* unfitted */\n",
       "  background-color: var(--sklearn-color-unfitted-level-0);\n",
       "}\n",
       "\n",
       "#sk-container-id-4 div.sk-toggleable__content.fitted {\n",
       "  /* fitted */\n",
       "  background-color: var(--sklearn-color-fitted-level-0);\n",
       "}\n",
       "\n",
       "#sk-container-id-4 div.sk-toggleable__content pre {\n",
       "  margin: 0.2em;\n",
       "  border-radius: 0.25em;\n",
       "  color: var(--sklearn-color-text);\n",
       "  /* unfitted */\n",
       "  background-color: var(--sklearn-color-unfitted-level-0);\n",
       "}\n",
       "\n",
       "#sk-container-id-4 div.sk-toggleable__content.fitted pre {\n",
       "  /* unfitted */\n",
       "  background-color: var(--sklearn-color-fitted-level-0);\n",
       "}\n",
       "\n",
       "#sk-container-id-4 input.sk-toggleable__control:checked~div.sk-toggleable__content {\n",
       "  /* Expand drop-down */\n",
       "  max-height: 200px;\n",
       "  max-width: 100%;\n",
       "  overflow: auto;\n",
       "}\n",
       "\n",
       "#sk-container-id-4 input.sk-toggleable__control:checked~label.sk-toggleable__label-arrow:before {\n",
       "  content: \"▾\";\n",
       "}\n",
       "\n",
       "/* Pipeline/ColumnTransformer-specific style */\n",
       "\n",
       "#sk-container-id-4 div.sk-label input.sk-toggleable__control:checked~label.sk-toggleable__label {\n",
       "  color: var(--sklearn-color-text);\n",
       "  background-color: var(--sklearn-color-unfitted-level-2);\n",
       "}\n",
       "\n",
       "#sk-container-id-4 div.sk-label.fitted input.sk-toggleable__control:checked~label.sk-toggleable__label {\n",
       "  background-color: var(--sklearn-color-fitted-level-2);\n",
       "}\n",
       "\n",
       "/* Estimator-specific style */\n",
       "\n",
       "/* Colorize estimator box */\n",
       "#sk-container-id-4 div.sk-estimator input.sk-toggleable__control:checked~label.sk-toggleable__label {\n",
       "  /* unfitted */\n",
       "  background-color: var(--sklearn-color-unfitted-level-2);\n",
       "}\n",
       "\n",
       "#sk-container-id-4 div.sk-estimator.fitted input.sk-toggleable__control:checked~label.sk-toggleable__label {\n",
       "  /* fitted */\n",
       "  background-color: var(--sklearn-color-fitted-level-2);\n",
       "}\n",
       "\n",
       "#sk-container-id-4 div.sk-label label.sk-toggleable__label,\n",
       "#sk-container-id-4 div.sk-label label {\n",
       "  /* The background is the default theme color */\n",
       "  color: var(--sklearn-color-text-on-default-background);\n",
       "}\n",
       "\n",
       "/* On hover, darken the color of the background */\n",
       "#sk-container-id-4 div.sk-label:hover label.sk-toggleable__label {\n",
       "  color: var(--sklearn-color-text);\n",
       "  background-color: var(--sklearn-color-unfitted-level-2);\n",
       "}\n",
       "\n",
       "/* Label box, darken color on hover, fitted */\n",
       "#sk-container-id-4 div.sk-label.fitted:hover label.sk-toggleable__label.fitted {\n",
       "  color: var(--sklearn-color-text);\n",
       "  background-color: var(--sklearn-color-fitted-level-2);\n",
       "}\n",
       "\n",
       "/* Estimator label */\n",
       "\n",
       "#sk-container-id-4 div.sk-label label {\n",
       "  font-family: monospace;\n",
       "  font-weight: bold;\n",
       "  display: inline-block;\n",
       "  line-height: 1.2em;\n",
       "}\n",
       "\n",
       "#sk-container-id-4 div.sk-label-container {\n",
       "  text-align: center;\n",
       "}\n",
       "\n",
       "/* Estimator-specific */\n",
       "#sk-container-id-4 div.sk-estimator {\n",
       "  font-family: monospace;\n",
       "  border: 1px dotted var(--sklearn-color-border-box);\n",
       "  border-radius: 0.25em;\n",
       "  box-sizing: border-box;\n",
       "  margin-bottom: 0.5em;\n",
       "  /* unfitted */\n",
       "  background-color: var(--sklearn-color-unfitted-level-0);\n",
       "}\n",
       "\n",
       "#sk-container-id-4 div.sk-estimator.fitted {\n",
       "  /* fitted */\n",
       "  background-color: var(--sklearn-color-fitted-level-0);\n",
       "}\n",
       "\n",
       "/* on hover */\n",
       "#sk-container-id-4 div.sk-estimator:hover {\n",
       "  /* unfitted */\n",
       "  background-color: var(--sklearn-color-unfitted-level-2);\n",
       "}\n",
       "\n",
       "#sk-container-id-4 div.sk-estimator.fitted:hover {\n",
       "  /* fitted */\n",
       "  background-color: var(--sklearn-color-fitted-level-2);\n",
       "}\n",
       "\n",
       "/* Specification for estimator info (e.g. \"i\" and \"?\") */\n",
       "\n",
       "/* Common style for \"i\" and \"?\" */\n",
       "\n",
       ".sk-estimator-doc-link,\n",
       "a:link.sk-estimator-doc-link,\n",
       "a:visited.sk-estimator-doc-link {\n",
       "  float: right;\n",
       "  font-size: smaller;\n",
       "  line-height: 1em;\n",
       "  font-family: monospace;\n",
       "  background-color: var(--sklearn-color-background);\n",
       "  border-radius: 1em;\n",
       "  height: 1em;\n",
       "  width: 1em;\n",
       "  text-decoration: none !important;\n",
       "  margin-left: 0.5em;\n",
       "  text-align: center;\n",
       "  /* unfitted */\n",
       "  border: var(--sklearn-color-unfitted-level-1) 1pt solid;\n",
       "  color: var(--sklearn-color-unfitted-level-1);\n",
       "}\n",
       "\n",
       ".sk-estimator-doc-link.fitted,\n",
       "a:link.sk-estimator-doc-link.fitted,\n",
       "a:visited.sk-estimator-doc-link.fitted {\n",
       "  /* fitted */\n",
       "  border: var(--sklearn-color-fitted-level-1) 1pt solid;\n",
       "  color: var(--sklearn-color-fitted-level-1);\n",
       "}\n",
       "\n",
       "/* On hover */\n",
       "div.sk-estimator:hover .sk-estimator-doc-link:hover,\n",
       ".sk-estimator-doc-link:hover,\n",
       "div.sk-label-container:hover .sk-estimator-doc-link:hover,\n",
       ".sk-estimator-doc-link:hover {\n",
       "  /* unfitted */\n",
       "  background-color: var(--sklearn-color-unfitted-level-3);\n",
       "  color: var(--sklearn-color-background);\n",
       "  text-decoration: none;\n",
       "}\n",
       "\n",
       "div.sk-estimator.fitted:hover .sk-estimator-doc-link.fitted:hover,\n",
       ".sk-estimator-doc-link.fitted:hover,\n",
       "div.sk-label-container:hover .sk-estimator-doc-link.fitted:hover,\n",
       ".sk-estimator-doc-link.fitted:hover {\n",
       "  /* fitted */\n",
       "  background-color: var(--sklearn-color-fitted-level-3);\n",
       "  color: var(--sklearn-color-background);\n",
       "  text-decoration: none;\n",
       "}\n",
       "\n",
       "/* Span, style for the box shown on hovering the info icon */\n",
       ".sk-estimator-doc-link span {\n",
       "  display: none;\n",
       "  z-index: 9999;\n",
       "  position: relative;\n",
       "  font-weight: normal;\n",
       "  right: .2ex;\n",
       "  padding: .5ex;\n",
       "  margin: .5ex;\n",
       "  width: min-content;\n",
       "  min-width: 20ex;\n",
       "  max-width: 50ex;\n",
       "  color: var(--sklearn-color-text);\n",
       "  box-shadow: 2pt 2pt 4pt #999;\n",
       "  /* unfitted */\n",
       "  background: var(--sklearn-color-unfitted-level-0);\n",
       "  border: .5pt solid var(--sklearn-color-unfitted-level-3);\n",
       "}\n",
       "\n",
       ".sk-estimator-doc-link.fitted span {\n",
       "  /* fitted */\n",
       "  background: var(--sklearn-color-fitted-level-0);\n",
       "  border: var(--sklearn-color-fitted-level-3);\n",
       "}\n",
       "\n",
       ".sk-estimator-doc-link:hover span {\n",
       "  display: block;\n",
       "}\n",
       "\n",
       "/* \"?\"-specific style due to the `<a>` HTML tag */\n",
       "\n",
       "#sk-container-id-4 a.estimator_doc_link {\n",
       "  float: right;\n",
       "  font-size: 1rem;\n",
       "  line-height: 1em;\n",
       "  font-family: monospace;\n",
       "  background-color: var(--sklearn-color-background);\n",
       "  border-radius: 1rem;\n",
       "  height: 1rem;\n",
       "  width: 1rem;\n",
       "  text-decoration: none;\n",
       "  /* unfitted */\n",
       "  color: var(--sklearn-color-unfitted-level-1);\n",
       "  border: var(--sklearn-color-unfitted-level-1) 1pt solid;\n",
       "}\n",
       "\n",
       "#sk-container-id-4 a.estimator_doc_link.fitted {\n",
       "  /* fitted */\n",
       "  border: var(--sklearn-color-fitted-level-1) 1pt solid;\n",
       "  color: var(--sklearn-color-fitted-level-1);\n",
       "}\n",
       "\n",
       "/* On hover */\n",
       "#sk-container-id-4 a.estimator_doc_link:hover {\n",
       "  /* unfitted */\n",
       "  background-color: var(--sklearn-color-unfitted-level-3);\n",
       "  color: var(--sklearn-color-background);\n",
       "  text-decoration: none;\n",
       "}\n",
       "\n",
       "#sk-container-id-4 a.estimator_doc_link.fitted:hover {\n",
       "  /* fitted */\n",
       "  background-color: var(--sklearn-color-fitted-level-3);\n",
       "}\n",
       "</style><div id=\"sk-container-id-4\" class=\"sk-top-container\"><div class=\"sk-text-repr-fallback\"><pre>XGBClassifier(base_score=None, booster=None, callbacks=None,\n",
       "              colsample_bylevel=0.8, colsample_bynode=None,\n",
       "              colsample_bytree=0.8, device=None, early_stopping_rounds=None,\n",
       "              enable_categorical=False, eval_metric=None, feature_types=None,\n",
       "              feature_weights=None, gamma=0.1, grow_policy=None,\n",
       "              importance_type=None, interaction_constraints=None,\n",
       "              learning_rate=0.01, max_bin=None, max_cat_threshold=None,\n",
       "              max_cat_to_onehot=None, max_delta_step=None, max_depth=4,\n",
       "              max_leaves=None, min_child_weight=7, missing=nan,\n",
       "              monotone_constraints=None, multi_strategy=None, n_estimators=1500,\n",
       "              n_jobs=None, num_parallel_tree=None, ...)</pre><b>In a Jupyter environment, please rerun this cell to show the HTML representation or trust the notebook. <br />On GitHub, the HTML representation is unable to render, please try loading this page with nbviewer.org.</b></div><div class=\"sk-container\" hidden><div class=\"sk-item\"><div class=\"sk-estimator fitted sk-toggleable\"><input class=\"sk-toggleable__control sk-hidden--visually\" id=\"sk-estimator-id-8\" type=\"checkbox\" checked><label for=\"sk-estimator-id-8\" class=\"sk-toggleable__label fitted sk-toggleable__label-arrow\"><div><div>XGBClassifier</div></div><div><a class=\"sk-estimator-doc-link fitted\" rel=\"noreferrer\" target=\"_blank\" href=\"https://xgboost.readthedocs.io/en/release_3.0.0/python/python_api.html#xgboost.XGBClassifier\">?<span>Documentation for XGBClassifier</span></a><span class=\"sk-estimator-doc-link fitted\">i<span>Fitted</span></span></div></label><div class=\"sk-toggleable__content fitted\"><pre>XGBClassifier(base_score=None, booster=None, callbacks=None,\n",
       "              colsample_bylevel=0.8, colsample_bynode=None,\n",
       "              colsample_bytree=0.8, device=None, early_stopping_rounds=None,\n",
       "              enable_categorical=False, eval_metric=None, feature_types=None,\n",
       "              feature_weights=None, gamma=0.1, grow_policy=None,\n",
       "              importance_type=None, interaction_constraints=None,\n",
       "              learning_rate=0.01, max_bin=None, max_cat_threshold=None,\n",
       "              max_cat_to_onehot=None, max_delta_step=None, max_depth=4,\n",
       "              max_leaves=None, min_child_weight=7, missing=nan,\n",
       "              monotone_constraints=None, multi_strategy=None, n_estimators=1500,\n",
       "              n_jobs=None, num_parallel_tree=None, ...)</pre></div> </div></div></div></div>"
      ],
      "text/plain": [
       "XGBClassifier(base_score=None, booster=None, callbacks=None,\n",
       "              colsample_bylevel=0.8, colsample_bynode=None,\n",
       "              colsample_bytree=0.8, device=None, early_stopping_rounds=None,\n",
       "              enable_categorical=False, eval_metric=None, feature_types=None,\n",
       "              feature_weights=None, gamma=0.1, grow_policy=None,\n",
       "              importance_type=None, interaction_constraints=None,\n",
       "              learning_rate=0.01, max_bin=None, max_cat_threshold=None,\n",
       "              max_cat_to_onehot=None, max_delta_step=None, max_depth=4,\n",
       "              max_leaves=None, min_child_weight=7, missing=nan,\n",
       "              monotone_constraints=None, multi_strategy=None, n_estimators=1500,\n",
       "              n_jobs=None, num_parallel_tree=None, ...)"
      ]
     },
     "execution_count": 77,
     "metadata": {},
     "output_type": "execute_result"
    }
   ],
   "source": [
    "xgb_model.fit(X_train, y_train)"
   ]
  },
  {
   "cell_type": "markdown",
   "metadata": {},
   "source": [
    "### Tester le modèle prédictif"
   ]
  },
  {
   "cell_type": "markdown",
   "metadata": {},
   "source": [
    "On peut maintenant tester le modèle en associant les prédictions à `y_pred` et en obtenant le score ainsi que le rapport de classification\n",
    "\n",
    "Pour ce faire, on importe les librairies `classification_report`, `confusion_matrix` et `accuracy_score` depuis `sklearn`"
   ]
  },
  {
   "cell_type": "code",
   "execution_count": 78,
   "metadata": {},
   "outputs": [],
   "source": [
    "from sklearn.metrics import classification_report, confusion_matrix, accuracy_score\n",
    "import matplotlib.pyplot as plt\n",
    "import seaborn as sns"
   ]
  },
  {
   "cell_type": "markdown",
   "metadata": {},
   "source": [
    "On peut maintenant prédire les résultat du modèle sur les données de test en appellant la méthode `.predict` sur le modèle que nous avons configuré précédemment. On stocke par la suite les résultats dans `y_pred_xgb` pour pouvoir les comparer avec les données de test et obtenir des statistiques sur la performance du modèle"
   ]
  },
  {
   "cell_type": "code",
   "execution_count": 79,
   "metadata": {},
   "outputs": [],
   "source": [
    "y_pred_xgb = xgb_model.predict(X_test)"
   ]
  },
  {
   "cell_type": "markdown",
   "metadata": {},
   "source": [
    "On stocke dans différentes variables la prédiction du modèle, sa performance globale, son rapport de classification ainsi qu'une matrice de confusion pour illustrer sa performance\n",
    "\n",
    "Afin de visualiser les performance du modèle, on imprime sa performance ainsi que le rapport rapport de classification en utilisant les fonctions importées plus tôt depuis la librairie `scikit-learn`\n",
    "\n",
    "Afin de visualiser la matrice de confusion, on utilise la fonction `heatmap` de la librairie `seaborn`"
   ]
  },
  {
   "cell_type": "code",
   "execution_count": 80,
   "metadata": {},
   "outputs": [
    {
     "name": "stdout",
     "output_type": "stream",
     "text": [
      "Exactitude du modèle XGBoost: 0.6029\n",
      "\n",
      "Rapport de classification:\n",
      "                    precision    recall  f1-score   support\n",
      "\n",
      " Victoire domicile       0.65      0.62      0.64       390\n",
      "Victoire extérieur       0.55      0.58      0.56       310\n",
      "\n",
      "          accuracy                           0.60       700\n",
      "         macro avg       0.60      0.60      0.60       700\n",
      "      weighted avg       0.61      0.60      0.60       700\n",
      "\n"
     ]
    },
    {
     "data": {
      "image/png": "[encoded data removed]",
      "text/plain": [
       "<Figure size 600x400 with 2 Axes>"
      ]
     },
     "metadata": {},
     "output_type": "display_data"
    }
   ],
   "source": [
    "# on crée des étiquettes pour la identifier la variable cible (0,1)\n",
    "class_labels = ['Victoire domicile', 'Victoire extérieur']                 \n",
    "\n",
    "# on calcule les différentes métriques de performance à partir des variables cibles calculées et des données de test\n",
    "accuracy_xgb = accuracy_score(y_test, y_pred_xgb)            \n",
    "class_report_xgb = classification_report(y_test, y_pred_xgb, target_names=class_labels)\n",
    "cm = confusion_matrix(y_test, y_pred_xgb)\n",
    "\n",
    "print(f\"Exactitude du modèle XGBoost: {accuracy_xgb:.4f}\")\n",
    "\n",
    "print(\"\\nRapport de classification:\")\n",
    "print(class_report_xgb)\n",
    "\n",
    "# on crée un heatmap pour visualiser la matrice de confusion créée plus haut en associant aux valeurs x et y les étiquettes identifiées\n",
    "plt.figure(figsize=(6, 4))\n",
    "sns.heatmap(cm, annot=True, fmt='d', cmap='Blues', \n",
    "            xticklabels=class_labels, \n",
    "            yticklabels=class_labels)\n",
    "plt.title('Matrice de confusion - XGBoost')\n",
    "plt.xlabel('Prédiction')\n",
    "plt.ylabel('Réalité')\n",
    "plt.tight_layout()\n",
    "plt.show()"
   ]
  },
  {
   "cell_type": "markdown",
   "metadata": {},
   "source": [
    "Afin de savoir quelles variables explicatives ont le plus d'importance pour le model on peut utiliser la fonction `feature_importances_`"
   ]
  },
  {
   "cell_type": "code",
   "execution_count": 81,
   "metadata": {},
   "outputs": [
    {
     "name": "stdout",
     "output_type": "stream",
     "text": [
      "Importance des variables explicatives - XGBoost:\n",
      "                                Importance\n",
      "DiffButsGlobal                    0.080833\n",
      "DomicileCode                      0.064874\n",
      "DiffForme                         0.060480\n",
      "ExterieurCode                     0.059552\n",
      "ExterieurAvgButsMarques_Home      0.049013\n",
      "DiffButsDomicile                  0.047286\n",
      "DomicileAvgButsMarques_Home       0.046698\n",
      "FAF_VictoiresDomicile             0.046342\n",
      "ExterieurAvgButsMarques_Away      0.045072\n",
      "DiffButsExterieur                 0.044052\n",
      "DomicileAvgButsMarques_Away       0.043988\n",
      "ExterieurAvgButsEncaisses_Home    0.043315\n",
      "SemaineSaison                     0.043235\n",
      "FAF_VictoiresExterieur            0.043126\n",
      "AnneeSaison                       0.042654\n",
      "Mois                              0.041915\n",
      "DomicileAvgButsEncaisses_Home     0.041656\n",
      "DomicileAvgButsEncaisses_Away     0.040809\n",
      "ExterieurAvgButsEncaisses_Away    0.040213\n",
      "DomicileForme                     0.038468\n",
      "ExterieurForme                    0.036420\n"
     ]
    },
    {
     "data": {
      "text/plain": [
       "<Figure size 1000x600 with 0 Axes>"
      ]
     },
     "metadata": {},
     "output_type": "display_data"
    },
    {
     "data": {
      "image/png": "[encoded data removed]",
      "text/plain": [
       "<Figure size 640x480 with 1 Axes>"
      ]
     },
     "metadata": {},
     "output_type": "display_data"
    }
   ],
   "source": [
    "feature_importance = pd.DataFrame({\n",
    "    'Importance': xgb_model.feature_importances_\n",
    "}, index=features).sort_values('Importance', ascending=False)\n",
    "\n",
    "print(\"Importance des variables explicatives - XGBoost:\")\n",
    "print(feature_importance)\n",
    "\n",
    "plt.figure(figsize=(10, 6))\n",
    "feature_importance.plot(kind='barh', legend=False)\n",
    "plt.gca().invert_yaxis()  \n",
    "plt.xlabel('Importance')\n",
    "plt.title('Importance des variables explicatives - XGBoost')\n",
    "plt.tight_layout()\n",
    "plt.show()"
   ]
  },
  {
   "cell_type": "markdown",
   "metadata": {},
   "source": [
    "On peut également visualiser les différents arbres décisionnels utilisés par le modèle pour mieux expliquer sa prise de décision en utilisant la méthode `.plot_tree`"
   ]
  },
  {
   "cell_type": "code",
   "execution_count": 82,
   "metadata": {},
   "outputs": [
    {
     "name": "stderr",
     "output_type": "stream",
     "text": [
      "/Users/gab/Desktop/school/hec_w25/python/projet/.venv/lib/python3.11/site-packages/xgboost/plotting.py:267: FutureWarning: The `num_trees` parameter is deprecated, use `tree_idx` insetad. \n",
      "  warnings.warn(\n"
     ]
    },
    {
     "data": {
      "image/png": "[encoded data removed]",
      "text/plain": [
       "<Figure size 2000x1000 with 1 Axes>"
      ]
     },
     "metadata": {},
     "output_type": "display_data"
    }
   ],
   "source": [
    "fig, ax = plt.subplots(figsize=(20, 10))\n",
    "num_trees = 0\n",
    "xgb.plot_tree(xgb_model, num_trees=num_trees, ax=ax)\n",
    "fig.savefig(f'xgboost_tree_{num_trees}.png', dpi=300, bbox_inches='tight')"
   ]
  },
  {
   "cell_type": "markdown",
   "metadata": {},
   "source": [
    "## Utiliser le modèle pour prédire des matchs futurs"
   ]
  },
  {
   "cell_type": "code",
   "execution_count": 136,
   "metadata": {},
   "outputs": [],
   "source": [
    "xgb_model.save_model('xgb_model.json')"
   ]
  },
  {
   "cell_type": "code",
   "execution_count": 110,
   "metadata": {},
   "outputs": [
    {
     "data": {
      "text/plain": [
       "3690   2025-02-27\n",
       "3689   2025-02-26\n",
       "3688   2025-02-26\n",
       "3687   2025-02-26\n",
       "3686   2025-02-26\n",
       "          ...    \n",
       "2      2015-08-08\n",
       "1      2015-08-08\n",
       "4      2015-08-08\n",
       "5      2015-08-08\n",
       "0      2015-08-08\n",
       "Name: Date, Length: 3691, dtype: datetime64[ns]"
      ]
     },
     "execution_count": 110,
     "metadata": {},
     "output_type": "execute_result"
    }
   ],
   "source": [
    "matchs['Date'].sort_values(ascending=False)"
   ]
  },
  {
   "cell_type": "code",
   "execution_count": 129,
   "metadata": {},
   "outputs": [],
   "source": [
    "def predire_matchs(domicile, exterieur, date):\n",
    "\n",
    "    predire_df = matchs\n",
    "\n",
    "    features = [\n",
    "        'DomicileCode', 'ExterieurCode', 'DomicileForme',\n",
    "        'ExterieurForme', 'DiffForme', 'FAF_VictoiresDomicile', \n",
    "        'FAF_VictoiresExterieur', 'SemaineSaison', 'Mois', 'AnneeSaison',\n",
    "        'DomicileAvgButsMarques_Home', 'DomicileAvgButsEncaisses_Home',\n",
    "        'DomicileAvgButsMarques_Away', 'DomicileAvgButsEncaisses_Away',\n",
    "        'ExterieurAvgButsMarques_Home', 'ExterieurAvgButsEncaisses_Home',\n",
    "        'ExterieurAvgButsMarques_Away', 'ExterieurAvgButsEncaisses_Away',\n",
    "        'DiffButsDomicile', 'DiffButsExterieur', 'DiffButsGlobal'\n",
    "        #'DiffButs',\n",
    "    ]\n",
    "    \n",
    "    new_row = {col: 0 for col in features if col in predire_df.columns}\n",
    "    date = pd.to_datetime(date)\n",
    "    new_row['Date'] = date\n",
    "    new_row['DomicileCode'] = code_equipe.get(domicile)\n",
    "    new_row['ExterieurCode'] = code_equipe.get(exterieur)\n",
    "    new_row['Mois'] = date.month\n",
    "    if date > pd.Timestamp(date.year, month=8, day=5):\n",
    "        new_row['AnneeSaison'] = date.year - 1\n",
    "    else:\n",
    "        new_row['AnneeSaison'] = date.year\n",
    "    new_row['SemaineSaison'] = ((date - pd.Timestamp(date.year, month=8, day=5)).days // 7) + 1\n",
    "    \n",
    "    matchs.loc[len(predire_df)] = new_row\n",
    "\n",
    "    predire_df = stats_equipe(predire_df)\n",
    "    predire_df = faf_equipes(predire_df)\n",
    "\n",
    "    X_pred = predire_df.sort_values('Date', ascending=False).head(1)[features]\n",
    "    y_pred = xgb_model.predict(X_pred)\n",
    "\n",
    "    if y_pred == 0:\n",
    "        prediction = print(f\"Victoire de {exterieur}!\")\n",
    "    elif y_pred == 1:\n",
    "        prediction = print(f\"Victoire de {domicile}!\")\n",
    "\n",
    "    return prediction"
   ]
  },
  {
   "cell_type": "code",
   "execution_count": 134,
   "metadata": {},
   "outputs": [
    {
     "data": {
      "text/plain": [
       "array(['Bournemouth', 'Chelsea', 'Everton', 'Leicester', 'Man United',\n",
       "       'Norwich', 'Arsenal', 'Newcastle', 'Stoke', 'West Brom',\n",
       "       'Aston Villa', 'Southampton', 'Sunderland', 'Swansea', 'Tottenham',\n",
       "       'Watford', 'West Ham', 'Crystal Palace', 'Man City', 'Liverpool',\n",
       "       'Burnley', 'Hull', 'Middlesbrough', 'Brighton', 'Huddersfield',\n",
       "       'Fulham', 'Wolves', 'Cardiff', 'Sheffield United', 'Leeds',\n",
       "       'Brentford', \"Nott'm Forest\", 'Luton', 'Ipswich'], dtype=object)"
      ]
     },
     "execution_count": 134,
     "metadata": {},
     "output_type": "execute_result"
    }
   ],
   "source": [
    "equipes"
   ]
  },
  {
   "cell_type": "code",
   "execution_count": 131,
   "metadata": {},
   "outputs": [
    {
     "name": "stdout",
     "output_type": "stream",
     "text": [
      "Victoire de Tottenham!\n"
     ]
    }
   ],
   "source": [
    "predire_matchs('Southampton', 'Tottenham', '2025-03-20')"
   ]
  }
 ],
 "metadata": {
  "kernelspec": {
   "display_name": "Python 3",
   "language": "python",
   "name": "python3"
  },
  "language_info": {
   "codemirror_mode": {
    "name": "ipython",
    "version": 3
   },
   "file_extension": ".py",
   "mimetype": "text/x-python",
   "name": "python",
   "nbconvert_exporter": "python",
   "pygments_lexer": "ipython3",
   "version": "3.11.7"
  }
 },
 "nbformat": 4,
 "nbformat_minor": 2
}
